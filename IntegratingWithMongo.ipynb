{
 "cells": [
  {
   "cell_type": "code",
   "execution_count": 1,
   "metadata": {
    "scrolled": true
   },
   "outputs": [],
   "source": [
    "import numpy as np\n",
    "import pandas as pd\n",
    "import re\n",
    "import pickle\n",
    "from pprint import pprint\n",
    "import datetime\n",
    "import math\n",
    "import time\n",
    "pd.set_option('display.max_rows', 500)\n",
    "pd.set_option('display.max_columns', 500)\n",
    "pd.set_option('display.width', 1000)\n",
    "\n",
    "import json\n",
    "from bson import json_util\n",
    "\n",
    "from mongoengine import *"
   ]
  },
  {
   "cell_type": "code",
   "execution_count": 2,
   "metadata": {},
   "outputs": [],
   "source": [
    "from flask import Flask,jsonify, request, send_from_directory, url_for\n",
    "app = Flask(__name__)\n",
    "import pickle\n",
    "import numpy as np\n",
    "from itertools import chain"
   ]
  },
  {
   "cell_type": "code",
   "execution_count": 100,
   "metadata": {},
   "outputs": [],
   "source": [
    "if(0):\n",
    "    conn = connect(\"local\",host=\"mongodb://localhost:27017\",alias='default')\n",
    "\n",
    "if(0):\n",
    "    disconnect('mongo://mongo:27017')"
   ]
  },
  {
   "cell_type": "code",
   "execution_count": 3,
   "metadata": {},
   "outputs": [],
   "source": [
    "if(1):\n",
    "    conn_aws = connect(\"local\",host=\"mongodb://ec2-13-232-202-63.ap-south-1.compute.amazonaws.com:27017\",alias='default')\n",
    "\n",
    "if(0):\n",
    "    disconnect('mongo://mongo:27017')"
   ]
  },
  {
   "cell_type": "code",
   "execution_count": 4,
   "metadata": {},
   "outputs": [],
   "source": [
    "str_menu=pickle.load(open('full_menu_main.pkl','rb'))\n",
    "if(0):\n",
    "    pickle.dump(str_menu,open('half_menu_main.pkl','wb'))\n",
    "restautant_id = 'BNGHSR0001'\n",
    "\n",
    "final_list_json=[]"
   ]
  },
  {
   "cell_type": "code",
   "execution_count": 5,
   "metadata": {},
   "outputs": [],
   "source": [
    "bar_str_menu=pickle.load(open('partial_bar_menu.pkl','rb'))\n",
    "if(0):\n",
    "    pickle.dump(str_menu,open('half_menu_main.pkl','wb'))\n",
    "restautant_id = 'BNGHSR0001'\n",
    "\n",
    "bar_final_json=[]\n",
    "\n",
    "bar_final_json=[]\n",
    "for n,cat_name in enumerate(bar_str_menu.loc[:,'category'].unique()):\n",
    "    bar_final_json.append({})\n",
    "    bar_final_json[n]['name']=cat_name\n",
    "    bar_final_json[n]['description'] = ''\n",
    "    bar_final_json[n]['priority']=''\n",
    "    bar_final_json[n]['food_list'] = []\n",
    "    for p,food_dict in enumerate(bar_str_menu[bar_str_menu['category']==cat_name].iterrows()):\n",
    "        bar_final_json[n]['food_list'].append({})\n",
    "        bar_final_json[n]['food_list'][p]['name']= food_dict[1]['name']\n",
    "        bar_final_json[n]['food_list'][p]['description']=food_dict[1]['description']\n",
    "        bar_final_json[n]['food_list'][p]['price']=food_dict[1]['price']\n",
    "        \n",
    "        "
   ]
  },
  {
   "cell_type": "markdown",
   "metadata": {},
   "source": [
    "str_menu['price']=str_menu['price'].apply(lambda x: x.split('/')[0])"
   ]
  },
  {
   "cell_type": "code",
   "execution_count": 6,
   "metadata": {},
   "outputs": [],
   "source": [
    "def chainer(string):\n",
    "    return list(chain.from_iterable(string.str.split('/')))\n",
    "\n",
    "def str_2(number):\n",
    "    string = str(number)\n",
    "    if(len(string)==1):\n",
    "        return '0'+string\n",
    "    else:\n",
    "        return string"
   ]
  },
  {
   "cell_type": "code",
   "execution_count": 7,
   "metadata": {
    "code_folding": []
   },
   "outputs": [],
   "source": [
    "final_list_json=[]\n",
    "for n,cat_name in enumerate(str_menu.loc[:,'category'].unique()):\n",
    "    final_list_json.append({})\n",
    "    final_list_json[n]['name']=cat_name\n",
    "    final_list_json[n]['description'] = ''\n",
    "    final_list_json[n]['priority']=''\n",
    "    final_list_json[n]['food_list'] = []\n",
    "    for p,food_dict in enumerate(str_menu[str_menu['category']==cat_name].iterrows()):\n",
    "        final_list_json[n]['food_list'].append({})\n",
    "        final_list_json[n]['food_list'][p]['name']= food_dict[1]['name']\n",
    "        final_list_json[n]['food_list'][p]['description']=food_dict[1]['description']\n",
    "        final_list_json[n]['food_list'][p]['price']=food_dict[1]['price']\n",
    "        \n",
    "        "
   ]
  },
  {
   "cell_type": "code",
   "execution_count": 10,
   "metadata": {},
   "outputs": [],
   "source": [
    "# pickle.dump(final_list_json,open('final_usable_json.pkl','wb'))\n",
    "\n",
    "final_list_json=pickle.load(open('final_usable_json.pkl','rb'))"
   ]
  },
  {
   "cell_type": "code",
   "execution_count": 11,
   "metadata": {},
   "outputs": [],
   "source": [
    "# pickle.dump(bar_final_json,open('bar_final_json.pkl','wb'))\n",
    "\n",
    "bar_final_json=pickle.load(open('bar_final_json.pkl','rb'))"
   ]
  },
  {
   "cell_type": "markdown",
   "metadata": {},
   "source": [
    "# All Mongo Classes"
   ]
  },
  {
   "cell_type": "code",
   "execution_count": 89,
   "metadata": {
    "code_folding": [
     1,
     5,
     12,
     16,
     23,
     28,
     32,
     43,
     66,
     71,
     82,
     94,
     117,
     142,
     147,
     170,
     183,
     190,
     216
    ]
   },
   "outputs": [],
   "source": [
    "\n",
    "class TableOrder(Document):\n",
    "    pass\n",
    "\n",
    "\n",
    "class User(Document):\n",
    "    dine_in_history = DynamicField()\n",
    "    current_table_id = StringField()\n",
    "    personal_cart = ListField(ReferenceField(TableOrder))\n",
    "    meta = {'allow_inheritance': True}\n",
    "\n",
    "\n",
    "class TempUser(User):\n",
    "    pass\n",
    "\n",
    "\n",
    "class RegisteredUser(User):\n",
    "    name = StringField(required=True)\n",
    "    email_id = StringField(required=True)\n",
    "    phone_no = StringField()\n",
    "    tempuser_ob = ReferenceField(TempUser)\n",
    "\n",
    "\n",
    "class TempUser(User):\n",
    "    unique_id = StringField(required=True)\n",
    "    reguser_ob = ReferenceField(RegisteredUser)\n",
    "\n",
    "\n",
    "class Assistance(Document):\n",
    "    pass\n",
    "\n",
    "\n",
    "class Staff(Document):\n",
    "    name = StringField()\n",
    "    assistance_history = MapField(ListField(ReferenceField(Assistance)))\n",
    "    order_history = MapField(ListField(ReferenceField(TableOrder)))\n",
    "\n",
    "    def to_my_mongo(self):\n",
    "        data = self.to_mongo()\n",
    "\n",
    "        return data\n",
    "\n",
    "\n",
    "class Assistance(Document):\n",
    "    types = ['water', 'help', 'cutlery', 'tissue', 'cleaning', 'menu', 'ketchup']\n",
    "    table = StringField()\n",
    "    user = ReferenceField(User)\n",
    "    assistance_type = StringField(choices=types)\n",
    "    timestamp = DateTimeField()\n",
    "    accepted_by = ReferenceField(Staff, default=None)\n",
    "    meta = {'strict': False}\n",
    "\n",
    "    def to_my_mongo(self):\n",
    "        data = self.to_mongo()\n",
    "        data['timestamp'] = str(data['timestamp'])\n",
    "        data['table'] = Table.objects(assistance_reqs__in=[self.id])[0].name\n",
    "\n",
    "        return data\n",
    "\n",
    "    def to_json(self):\n",
    "        data = self.to_mongo()\n",
    "        data['timestamp'] = str(data['timestamp'])\n",
    "        data['table'] = Table.objects(assistance_reqs__in=[self.id])[0].name\n",
    "        return json_util.dumps(data)\n",
    "\n",
    "\n",
    "class FoodOptionsMod(EmbeddedDocument):\n",
    "    options = DictField()\n",
    "    choices = ListField()\n",
    "\n",
    "\n",
    "class FoodItemMod(EmbeddedDocument):\n",
    "    food_id = StringField()\n",
    "    name = StringField()\n",
    "    description = StringField()\n",
    "    price = StringField()\n",
    "    instructions = StringField()\n",
    "    quantity = IntField()\n",
    "    status = StringField(choices=['queued', 'cooking', 'completed'])\n",
    "    food_options = EmbeddedDocumentField(FoodOptionsMod)\n",
    "\n",
    "\n",
    "class Order(Document):\n",
    "    placed_by = ReferenceField(User)\n",
    "    food_list = ListField(EmbeddedDocumentField(FoodItemMod))\n",
    "    status = StringField(choices=['queued', 'juststarted', 'cooking', 'almostdone', 'completed'], default='queued')\n",
    "\n",
    "    def fetch_food_item(self, food_id):\n",
    "        for food_item in self.food_list:\n",
    "            if food_item.food_id == food_id:\n",
    "                return food_item.to_json()\n",
    "        return \"Food item not found\"\n",
    "\n",
    "\n",
    "class TableOrder(Document):\n",
    "    table = StringField()\n",
    "    table_id = StringField()\n",
    "    orders = ListField(ReferenceField(Order))\n",
    "    status = StringField(choices=['queued', 'juststarted', 'cooking', 'almostdone', 'completed'], default='queued')\n",
    "    timestamp = DateTimeField(default=datetime.datetime.now())\n",
    "\n",
    "    def to_my_mongo(self):\n",
    "        data = self.to_mongo()\n",
    "        data['timestamp'] = str(data['timestamp'])\n",
    "        for key, order in enumerate(self.orders):\n",
    "            data['orders'][key] = json_util.loads(self.orders[key].to_json())\n",
    "\n",
    "        return data\n",
    "\n",
    "    def to_json(self):\n",
    "        data = self.to_mongo()\n",
    "        data['timestamp'] = str(data['timestamp'])\n",
    "        for key, order in enumerate(self.orders):\n",
    "            data['orders'][key] = json_util.loads(self.orders[key].to_json())\n",
    "        return json_util.dumps(data)\n",
    "\n",
    "\n",
    "class Table(Document):\n",
    "    name = StringField(required=True)\n",
    "    seats = IntField(required=True)\n",
    "    staff = ListField(ReferenceField(Staff,reverse_delete_rule=PULL))\n",
    "    users = ListField(ReferenceField(User))\n",
    "    no_of_users = IntField()\n",
    "    table_orders = ListField(ReferenceField(TableOrder))\n",
    "    assistance_reqs = ListField(ReferenceField(Assistance))\n",
    "    meta = {'strict': False}\n",
    "\n",
    "    def to_my_mongo(self):\n",
    "        data = self.to_mongo()\n",
    "        for key, table_order in enumerate(self.table_orders):\n",
    "            data['table_orders'][key] = self.table_orders[key].to_my_mongo()\n",
    "        for key, ass_req in enumerate(self.assistance_reqs):\n",
    "            data['assistance_reqs'][key] = self.assistance_reqs[key].to_my_mongo()\n",
    "\n",
    "        return data\n",
    "    \n",
    "    def remove_staff(self,staff_id):\n",
    "        for staff_ob in self.staff:\n",
    "            print(staff_ob.id)\n",
    "            self.staff.pop()\n",
    "\n",
    "\n",
    "class FoodOptions(EmbeddedDocument):\n",
    "    options = DictField()\n",
    "    choices = ListField()\n",
    "\n",
    "\n",
    "class FoodItem(Document):\n",
    "    name = StringField(required=True)\n",
    "    description = StringField(required=True)\n",
    "    price = StringField(required=True)\n",
    "    tags = ListField(StringField())\n",
    "    food_options = EmbeddedDocumentField(FoodOptions)\n",
    "    restaurant = StringField()\n",
    "\n",
    "    def to_my_mongo(self):\n",
    "        data = self.to_mongo()\n",
    "        if self.food_options:\n",
    "            data['food_options'] = self.food_options.to_mongo()\n",
    "\n",
    "        return data\n",
    "\n",
    "    def to_json(self):\n",
    "        data = self.to_mongo()\n",
    "        if self.food_options:\n",
    "            data['food_options'] = self.food_options.to_mongo()\n",
    "\n",
    "        return json_util.dumps(data)\n",
    "\n",
    "\n",
    "class Category(Document):\n",
    "    name = StringField(required=True)\n",
    "    description = StringField()\n",
    "    food_list = ListField(ReferenceField(FoodItem,reverse_delete_rule=PULL))\n",
    "\n",
    "    def to_my_mongo(self):\n",
    "        data = self.to_mongo()\n",
    "        for key, food_item in enumerate(self.food_list):\n",
    "            data['food_list'][key] = self.food_list[key].to_my_mongo()\n",
    "\n",
    "        return data\n",
    "\n",
    "\n",
    "def check_exists(order_id, order_list):\n",
    "    for n, order in enumerate(order_list):\n",
    "        if order_id == order['_id']:\n",
    "            return n\n",
    "    return -1\n",
    "\n",
    "\n",
    "class Restaurant(Document):\n",
    "    name = StringField(required=True)\n",
    "    restaurant_id = StringField(required=True)\n",
    "    food_menu = ListField(ReferenceField(Category,reverse_delete_rule=PULL))\n",
    "    bar_menu = ListField(ReferenceField(Category,reverse_delete_rule=PULL))\n",
    "    address = StringField()\n",
    "    tables = ListField(ReferenceField(Table,reverse_delete_rule=PULL))\n",
    "    staff = ListField(ReferenceField(Staff,reverse_delete_rule=PULL))\n",
    "    table_orders = ListField(ReferenceField(TableOrder))\n",
    "    assistance_reqs = ListField(ReferenceField(Assistance))\n",
    "\n",
    "    def to_json(self):\n",
    "        data = self.to_mongo()\n",
    "        for key, sub_cat in enumerate(self.food_menu):\n",
    "            data['food_menu'][key] = self.food_menu[key].to_my_mongo()\n",
    "        for key, sub_cat in enumerate(self.bar_menu):\n",
    "            data['bar_menu'][key] = self.bar_menu[key].to_my_mongo()\n",
    "        for key, staff in enumerate(self.staff):\n",
    "            data['staff'][key] = self.staff[key].to_my_mongo()\n",
    "        for key, table in enumerate(self.tables):\n",
    "            data['tables'][key] = self.tables[key].to_my_mongo()\n",
    "        for key, table_order in enumerate(self.table_orders):\n",
    "            data['table_orders'][key] = self.table_orders[key].to_my_mongo()\n",
    "\n",
    "        return json_util.dumps(data)\n",
    "\n",
    "    def fetch_order_lists(self):\n",
    "        q_list = []\n",
    "        cook_list = []\n",
    "        comp_list = []\n",
    "        for table_order_ob in self.table_orders:\n",
    "            tabord_dict = json_util.loads(table_order_ob.to_json())\n",
    "            if tabord_dict['status'] == 'completed':\n",
    "                comp_list.append(tabord_dict)\n",
    "                continue\n",
    "            for order in tabord_dict['orders']:\n",
    "                for food_item in order['food_list']:\n",
    "                    if food_item['status'] == 'queued':\n",
    "                        update_list = q_list\n",
    "                        index = check_exists(tabord_dict['_id'], update_list)\n",
    "                        if index >= 0:\n",
    "                            order_index = check_exists(order['_id'], update_list[index]['orders'])\n",
    "                            if order_index >= 0:\n",
    "                                update_list[index]['orders'][order_index]['food_list'].append(food_item)\n",
    "                            else:\n",
    "                                o_app_dict = {k: order[k] for k in ['_id', 'placed_by', 'status']}\n",
    "                                o_app_dict['food_list'] = []\n",
    "                                o_app_dict['food_list'].append(food_item)\n",
    "                                update_list[index]['orders'].append(o_app_dict)\n",
    "\n",
    "                        else:\n",
    "                            t_app_dict = {k: tabord_dict[k] for k in ['_id', 'table', 'table_id', 'status', 'timestamp']}\n",
    "                            o_app_dict = {k: order[k] for k in ['_id', 'placed_by', 'status']}\n",
    "                            o_app_dict['food_list'] = []\n",
    "                            o_app_dict['food_list'].append(food_item)\n",
    "                            t_app_dict['orders'] = []\n",
    "                            t_app_dict['orders'].append(o_app_dict)\n",
    "                            update_list.append(t_app_dict)\n",
    "                    elif food_item['status'] == 'cooking':\n",
    "                        update_list = cook_list\n",
    "                        index = check_exists(tabord_dict['_id'], update_list)\n",
    "                        if index >= 0:\n",
    "                            order_index = check_exists(order['_id'], update_list[index]['orders'])\n",
    "                            if order_index >= 0:\n",
    "                                update_list[index]['orders'][order_index]['food_list'].append(food_item)\n",
    "                            else:\n",
    "                                o_app_dict = {k: order[k] for k in ['_id', 'placed_by', 'status']}\n",
    "                                o_app_dict['food_list'] = []\n",
    "                                o_app_dict['food_list'].append(food_item)\n",
    "                                update_list[index]['orders'].append(o_app_dict)\n",
    "\n",
    "                        else:\n",
    "                            t_app_dict = {k: tabord_dict[k] for k in ['_id', 'table', 'table_id', 'status', 'timestamp']}\n",
    "                            o_app_dict = {k: order[k] for k in ['_id', 'placed_by', 'status']}\n",
    "                            o_app_dict['food_list'] = []\n",
    "                            o_app_dict['food_list'].append(food_item)\n",
    "                            t_app_dict['orders'] = []\n",
    "                            t_app_dict['orders'].append(o_app_dict)\n",
    "                            update_list.append(t_app_dict)\n",
    "                    elif food_item['status'] == 'completed':\n",
    "                        update_list = comp_list\n",
    "                        index = check_exists(tabord_dict['_id'], update_list)\n",
    "                        if index >= 0:\n",
    "                            order_index = check_exists(order['_id'], update_list[index]['orders'])\n",
    "                            if order_index >= 0:\n",
    "                                update_list[index]['orders'][order_index]['food_list'].append(food_item)\n",
    "                            else:\n",
    "                                o_app_dict = {k: order[k] for k in ['_id', 'placed_by', 'status']}\n",
    "                                o_app_dict['food_list'] = []\n",
    "                                o_app_dict['food_list'].append(food_item)\n",
    "                                update_list[index]['orders'].append(o_app_dict)\n",
    "\n",
    "                        else:\n",
    "                            t_app_dict = {k: tabord_dict[k] for k in ['_id', 'table', 'table_id', 'status', 'timestamp']}\n",
    "                            o_app_dict = {k: order[k] for k in ['_id', 'placed_by', 'status']}\n",
    "                            o_app_dict['food_list'] = []\n",
    "                            o_app_dict['food_list'].append(food_item)\n",
    "                            t_app_dict['orders'] = []\n",
    "                            t_app_dict['orders'].append(o_app_dict)\n",
    "                            update_list.append(t_app_dict)\n",
    "        return json_util.dumps({\"queue\": q_list, \"cooking\": cook_list, \"completed\": comp_list})"
   ]
  },
  {
   "cell_type": "markdown",
   "metadata": {},
   "source": [
    "# Generating data"
   ]
  },
  {
   "cell_type": "code",
   "execution_count": 23,
   "metadata": {},
   "outputs": [],
   "source": [
    "# pickle.dump(final_list_json,open('final_usable_json.pkl','wb'))\n",
    "\n",
    "final_list_json=pickle.load(open('final_usable_json.pkl','rb'))"
   ]
  },
  {
   "cell_type": "code",
   "execution_count": 94,
   "metadata": {
    "code_folding": [
     7
    ]
   },
   "outputs": [],
   "source": [
    "#RANDOM Functions\n",
    "def random_table():\n",
    "    return all_table_list[np.random.randint(len(all_table_list))]\n",
    "def random_user():\n",
    "    return user_list[np.random.randint(len(user_list))]\n",
    "def random_food():\n",
    "    return all_food_list[np.random.randint(len(all_food_list))]\n",
    "def random_food_list():\n",
    "    randomfl=[]\n",
    "    for i in range(np.random.randint(2,9)):\n",
    "        randomfl.append(random_food())\n",
    "    return list(set(randomfl))"
   ]
  },
  {
   "cell_type": "code",
   "execution_count": 91,
   "metadata": {
    "code_folding": [
     0
    ]
   },
   "outputs": [],
   "source": [
    "def user_scan(table_id, unique_id, email_id='dud'):\n",
    "    scanned_table = Table.objects.get(id=table_id)\n",
    "    if email_id == 'dud':\n",
    "        temp_user = TempUser.objects.filter(unique_id=unique_id)\n",
    "        if len(temp_user) > 0:\n",
    "            temp_user[0].update(set__current_table_id=str(scanned_table.id))\n",
    "            scanned_table.update(push__users=temp_user[0].to_dbref())\n",
    "            return temp_user[0].id\n",
    "        else:\n",
    "            temp_user = TempUser(unique_id=unique_id, current_table_id=str(scanned_table.id)).save()\n",
    "            scanned_table.update(push__users=temp_user.to_dbref())\n",
    "            return temp_user.id\n",
    "    else:\n",
    "        reg_user = RegisteredUser.objects.filter(email_id=email_id)[0]\n",
    "        scanned_table.update(push__users=reg_user)\n",
    "        reg_user.update(set__current_table_id=str(scanned_table.id))\n",
    "        scanned_table.update(inc__no_of_users=1)"
   ]
  },
  {
   "cell_type": "code",
   "execution_count": 92,
   "metadata": {
    "code_folding": [
     0
    ],
    "scrolled": false
   },
   "outputs": [],
   "source": [
    "def custom_splitter(text):\n",
    "    types = []\n",
    "    full_splits = re.split('[/]',text)\n",
    "    for n,spl in enumerate(full_splits):\n",
    "        if(n==0):\n",
    "            types.append(re.search('[a-zA-Z]+',spl.strip().split()[-1]).group())\n",
    "        elif(n==len(full_splits)-1):\n",
    "            types.append(re.search('[a-zA-Z]+',spl.strip().split()[0]).group())\n",
    "        else:\n",
    "            types.append(re.search('[a-zA-Z]+',spl).group())\n",
    "    return types"
   ]
  },
  {
   "cell_type": "code",
   "execution_count": 104,
   "metadata": {
    "code_folding": [],
    "scrolled": false
   },
   "outputs": [],
   "source": [
    "#House of commons\n",
    "if(1):\n",
    "    FoodItem.drop_collection()\n",
    "    Category.drop_collection()\n",
    "    Restaurant.drop_collection()\n",
    "    Table.drop_collection()\n",
    "    TempUser.drop_collection()\n",
    "    RegisteredUser.drop_collection()\n",
    "    Staff.drop_collection()\n",
    "    Assistance.drop_collection()\n",
    "    TableOrder.drop_collection()\n",
    "    Order.drop_collection()\n",
    "    User.drop_collection()\n",
    "    \n",
    "    house_of_commons=Restaurant(name = 'House of Commons',restaurant_id='BNGHSR0001').save()\n",
    "    \n",
    "    cat_list = []\n",
    "    for p,category in enumerate(final_list_json):\n",
    "        food_list = []\n",
    "        for r,food in enumerate(category['food_list']):\n",
    "            food_list.append(FoodItem(name=food['name'],description = food['description'],price=food['price'],restaurant=str(house_of_commons.id)).save())\n",
    "        cat_list.append(Category(name=category['name'],description=category['description'],food_list = food_list).save())\n",
    "    \n",
    "    bar_cat_list = []\n",
    "    for p,category in enumerate(bar_final_json):\n",
    "        food_list = []\n",
    "        for r,food in enumerate(category['food_list']):\n",
    "            food_list.append(FoodItem(name=food['name'],description = food['description'],price=food['price'],restaurant=str(house_of_commons.id)).save())\n",
    "        bar_cat_list.append(Category(name=category['name'],description=category['description'],food_list = food_list).save())\n",
    "\n",
    "    \n",
    "    \n",
    "    house_of_commons.update(set__food_menu=cat_list)\n",
    "    house_of_commons.update(set__bar_menu=bar_cat_list)\n",
    "\n",
    "    table_list=[]\n",
    "    for n in range(1,16):\n",
    "        table_list.append(Table(name='table'+str(n),seats = 6,no_of_users=0).save().to_dbref())\n",
    "\n",
    "    Restaurant.objects[0].update(set__tables=table_list)\n",
    "    akshay = TempUser(unique_id = \"hfirnivnhhwocn34534no34n34r\")\n",
    "\n",
    "    akshay.save()\n",
    "\n",
    "    RegisteredUser(name='Akshay',email_id='akshay.dn5@gmail.com',phone_no='8660961089').save()\n",
    "\n",
    "    RegisteredUser.objects(name='Akshay',email_id='akshay.dn5@gmail.com',phone_no='8660961089').update(set__tempuser_ob=akshay.to_dbref())\n",
    "\n",
    "    user_scan(str(table_list[2].id),'hidnfvidfkvmsdmv')\n",
    "\n",
    "    user_scan(str(table_list[2].id),'hidnfvidvdff1kvmsadmv')\n",
    "\n",
    "    user_scan(str(table_list[2].id),'hidnfvidvdffaskvmsadmv')\n",
    "\n",
    "    user_scan(str(table_list[2].id),'hidnfvidvdffvf1kvmsadmv')\n",
    "\n",
    "    user_scan(str(table_list[2].id),'',email_id='akshay.dn5@gmail.com')"
   ]
  },
  {
   "cell_type": "code",
   "execution_count": 105,
   "metadata": {
    "code_folding": [
     1
    ],
    "scrolled": false
   },
   "outputs": [],
   "source": [
    "#Craeting INDIGO XP\n",
    "if(0):\n",
    "    cat_list = []\n",
    "    for p,category in enumerate(final_list_json):\n",
    "        food_list = []\n",
    "        for r,food in enumerate(category['food_list']):\n",
    "            food_list.append(FoodItem(name=food['name'],description = food['description'],price=food['price']).save())\n",
    "        cat_list.append(Category(name=category['name'],description=category['description'],food_list = food_list).save())\n",
    "\n",
    "    Restaurant(name='Indigo XP',restaurant_id=\"BNGHSR0002\",food_menu = cat_list).save()"
   ]
  },
  {
   "cell_type": "code",
   "execution_count": 106,
   "metadata": {
    "code_folding": []
   },
   "outputs": [
    {
     "data": {
      "text/plain": [
       "1"
      ]
     },
     "execution_count": 106,
     "metadata": {},
     "output_type": "execute_result"
    }
   ],
   "source": [
    "for food_ob in FoodItem.objects:\n",
    "    if re.search('/', food_ob.price):\n",
    "        if re.search('/', food_ob.name):\n",
    "            options = custom_splitter(food_ob.name)\n",
    "\n",
    "        elif re.search('/', food_ob.description):\n",
    "            options = custom_splitter(food_ob.description)\n",
    "        prices = food_ob.price.split('/')\n",
    "        if len(options) == len(prices):\n",
    "            options = {k: v for k, v in zip(options, prices)}\n",
    "            FoodItem.objects.get(id=food_ob.id).update(set__food_options=FoodOptions(options=options))\n",
    "        else:\n",
    "            left_out = food_ob.id\n",
    "left_out_options = {k: v for k, v in\n",
    "                    zip(custom_splitter(' Vegetables/chicken/prawns, Served'), '250/280/300'.split('/'))}\n",
    "FoodItem.objects.get(id=left_out).update(\n",
    "    set__food_options=FoodOptions(options=left_out_options, choices=['Red', 'Green']))\n"
   ]
  },
  {
   "cell_type": "code",
   "execution_count": 107,
   "metadata": {},
   "outputs": [],
   "source": [
    "user_list=[]\n",
    "for obj in User.objects:\n",
    "    user_list.append(str(obj.id))\n",
    "\n",
    "all_table_list=[]\n",
    "for obj in Table.objects:\n",
    "    all_table_list.append(str(obj.id))\n",
    "    \n",
    "all_food_list=[]\n",
    "for obj in FoodItem.objects:\n",
    "    all_food_list.append(str(obj.id))"
   ]
  },
  {
   "cell_type": "code",
   "execution_count": 108,
   "metadata": {
    "code_folding": []
   },
   "outputs": [],
   "source": [
    "try:\n",
    "    if(names):\n",
    "        pass\n",
    "except NameError:\n",
    "    names=pickle.load(open('indian_names.pkl','rb'))\n",
    "    girls_name=names[0]\n",
    "    boys_name=names[1]"
   ]
  },
  {
   "cell_type": "code",
   "execution_count": 109,
   "metadata": {
    "code_folding": []
   },
   "outputs": [],
   "source": [
    "if(1):\n",
    "    total = {}\n",
    "    sers=[]\n",
    "    tabs=[]\n",
    "    for n,table in enumerate(Table.objects):\n",
    "    #     print(math.floor(n/1.5))\n",
    "        sers.append(math.floor(n/1.5))\n",
    "        tabs.append(n)\n",
    "        if((n+1)%3==0):\n",
    "            total[tuple(set(sers))]=tabs\n",
    "            sers=[]\n",
    "            tabs=[]\n",
    "\n",
    "\n",
    "    if(1):#assiging tables to servers\n",
    "        for i in range(10):\n",
    "            if(i<5):\n",
    "                staff=Staff(name=girls_name[np.random.randint(len(girls_name))]).save()\n",
    "                Restaurant.objects[0].update(push__staff=staff.to_dbref())\n",
    "            else:\n",
    "                staff=Staff(name=boys_name[np.random.randint(len(boys_name))]).save()\n",
    "                Restaurant.objects[0].update(push__staff=staff.to_dbref())\n",
    "\n",
    "    for key in total.keys():\n",
    "        for tab in total[key]:\n",
    "            Table.objects[tab].update(push__staff=Staff.objects[key[0]].to_dbref())\n",
    "\n",
    "        for tab in total[key]:\n",
    "            Table.objects[tab].update(push__staff=Staff.objects[key[1]].to_dbref())"
   ]
  },
  {
   "cell_type": "markdown",
   "metadata": {},
   "source": [
    "# Ordering updating and assistance requests"
   ]
  },
  {
   "cell_type": "code",
   "execution_count": 14,
   "metadata": {
    "collapsed": true
   },
   "outputs": [
    {
     "data": {
      "text/plain": [
       "{'queue': [{'_id': ObjectId('5e8ec76846ccda8577ff0d88'),\n",
       "   'table': 'table6',\n",
       "   'status': 'queued',\n",
       "   'timestamp': '2020-04-09 12:27:44.977000',\n",
       "   'orders': [{'_id': ObjectId('5e8ec76846ccda8577ff0d87'),\n",
       "     'placed_by': ObjectId('5e8e10bfd3b24ec580fd82f4'),\n",
       "     'status': 'queued',\n",
       "     'food_list': [{'food_id': '5e8e10ced3b24ec580fd834f',\n",
       "       'name': 'H.O.C FISH FINGERS',\n",
       "       'description': 'Classic Crumb fried Served with Tartar Sauce',\n",
       "       'price': '330',\n",
       "       'instructions': 'Cook with love',\n",
       "       'quantity': 2,\n",
       "       'status': 'queued'}]},\n",
       "    {'_id': ObjectId('5e8ec76846ccda8577ff0d89'),\n",
       "     'placed_by': ObjectId('5e8e10bfd3b24ec580fd82f3'),\n",
       "     'status': 'queued',\n",
       "     'food_list': [{'food_id': '5e8e10c7d3b24ec580fd82f8#chicken',\n",
       "       'name': 'NACHOS (Veg/Chicken)',\n",
       "       'description': 'Crispy Corn Tortillas Topped With Spicy Baked Bean Salsa and Sour Cream',\n",
       "       'price': '190/230',\n",
       "       'instructions': 'Cook with love',\n",
       "       'quantity': 1,\n",
       "       'status': 'queued',\n",
       "       'food_options': {'options': {'Chicken': '230'}, 'choices': []}},\n",
       "      {'food_id': '5e8e10ced3b24ec580fd8368',\n",
       "       'name': 'MEDITERRANEAN GARDEN',\n",
       "       'description': 'Organic Greens With Imported FETA Cheese, Bell Peppers, Zucchini, Asparagus Spears, Artichokes & Sun Dried Tomatoes',\n",
       "       'price': '360',\n",
       "       'instructions': 'Cook with love',\n",
       "       'quantity': 1,\n",
       "       'status': 'queued'}]},\n",
       "    {'_id': ObjectId('5e8ec76846ccda8577ff0d8a'),\n",
       "     'placed_by': ObjectId('5e8e10bfd3b24ec580fd82f4'),\n",
       "     'status': 'queued',\n",
       "     'food_list': [{'food_id': '5e8e10bed3b24ec580fd8267',\n",
       "       'name': 'SESAME CHILLI PANEER',\n",
       "       'description': 'Cottage Cheese Cubes Tossed In A Sweet & Spicy Sauce, Finished With Sesame Seeds',\n",
       "       'price': '270',\n",
       "       'instructions': 'no',\n",
       "       'quantity': 1,\n",
       "       'status': 'queued'},\n",
       "      {'food_id': '5e8e10bed3b24ec580fd82d0#prawns',\n",
       "       'name': 'SICHUAN FRIED RICE',\n",
       "       'description': '(veg/egg/chicken/prawns)',\n",
       "       'price': '200/220/250/280',\n",
       "       'instructions': 'no',\n",
       "       'quantity': 1,\n",
       "       'status': 'queued',\n",
       "       'food_options': {'options': {'prawns': '280'}, 'choices': []}},\n",
       "      {'food_id': '5e8e10ced3b24ec580fd8320',\n",
       "       'name': 'ANGARI PANEER TIKKA',\n",
       "       'description': 'Clay Oven Roasted Spicy Morsels Of Cottage Cheese',\n",
       "       'price': '270',\n",
       "       'instructions': 'Cook with love',\n",
       "       'quantity': 2,\n",
       "       'status': 'queued'},\n",
       "      {'food_id': '5e8e10bed3b24ec580fd826b',\n",
       "       'name': 'MAKHMALI PANEER TIKKA',\n",
       "       'description': 'Mouth Melting Paneer Cubes Marinated With A Cheese Curd Mixture, Cream And Mild Spices',\n",
       "       'price': '270',\n",
       "       'instructions': 'no',\n",
       "       'quantity': 1,\n",
       "       'status': 'queued'},\n",
       "      {'food_id': '5e8e10bed3b24ec580fd82a1',\n",
       "       'name': 'HOC BURGER- THE BIG ONE',\n",
       "       'description': 'Double Chicken, Double Cheese And Topped With A Sunny Side Up Fried Egg, Served With Fries',\n",
       "       'price': '350',\n",
       "       'instructions': 'no',\n",
       "       'quantity': 1,\n",
       "       'status': 'queued'},\n",
       "      {'food_id': '5e8e10ced3b24ec580fd833d',\n",
       "       'name': 'ANDHRA LAMB PEPPER FRY',\n",
       "       'description': 'Tender Mutton Pieces Tossed In South Indian Spices',\n",
       "       'price': '350',\n",
       "       'instructions': 'no',\n",
       "       'quantity': 1,\n",
       "       'status': 'queued'},\n",
       "      {'food_id': '5e8e10bed3b24ec580fd8256',\n",
       "       'name': 'WATERMELON & FETA',\n",
       "       'description': 'An All Time Classic - With Balsamic Glaze',\n",
       "       'price': '210',\n",
       "       'instructions': 'Cook with love',\n",
       "       'quantity': 1,\n",
       "       'status': 'queued'}]}]},\n",
       "  {'_id': ObjectId('5e8ec83046ccda8577ff0d8c'),\n",
       "   'table': 'table9',\n",
       "   'status': 'queued',\n",
       "   'timestamp': '2020-04-09 12:31:04.010000',\n",
       "   'orders': [{'_id': ObjectId('5e8ec83046ccda8577ff0d8b'),\n",
       "     'placed_by': ObjectId('5e8e10bfd3b24ec580fd82f4'),\n",
       "     'status': 'queued',\n",
       "     'food_list': [{'food_id': '5e8e10cfd3b24ec580fd837f',\n",
       "       'name': 'MURGH METHI KHAS',\n",
       "       'description': 'Tender Chicken Cooked In Cream Based Onion And Tomato Gravy With Aromatic Spices And Flavor',\n",
       "       'price': '280',\n",
       "       'instructions': 'no',\n",
       "       'quantity': 1,\n",
       "       'status': 'queued'},\n",
       "      {'food_id': '5e8e10ced3b24ec580fd8318',\n",
       "       'name': 'CRISPY CHILLY BABY CORN',\n",
       "       'description': 'Crispy Fried Babycom Tossed With Oriental Spices',\n",
       "       'price': '190',\n",
       "       'instructions': 'Cook with love',\n",
       "       'quantity': 2,\n",
       "       'status': 'queued'},\n",
       "      {'food_id': '5e8e10c7d3b24ec580fd82fd',\n",
       "       'name': 'TANDOORI CHICKEN CHAAT',\n",
       "       'description': 'Clay Oven Roasted Chicken Blended With Classic Spices',\n",
       "       'price': '220',\n",
       "       'instructions': 'Cook with love',\n",
       "       'quantity': 1,\n",
       "       'status': 'queued'},\n",
       "      {'food_id': '5e8e10ced3b24ec580fd8367',\n",
       "       'name': 'PANEER TIKKA & CHARRED PEPPERS',\n",
       "       'description': 'Tandoori Paneer Mirch Tikka With Green Bell Peppers, Onion roundels, Spring Greens & Mint Coulis',\n",
       "       'price': '350',\n",
       "       'instructions': 'no',\n",
       "       'quantity': 1,\n",
       "       'status': 'queued'}]},\n",
       "    {'_id': ObjectId('5e8ec83046ccda8577ff0d8d'),\n",
       "     'placed_by': ObjectId('5e8e10bfd3b24ec580fd82f5'),\n",
       "     'status': 'queued',\n",
       "     'food_list': [{'food_id': '5e8e10ced3b24ec580fd831a',\n",
       "       'name': 'HONEY CHILLY POTATO',\n",
       "       'description': 'Crispy Fried Potatoes Tossed With Chilli And Honey',\n",
       "       'price': '190',\n",
       "       'instructions': 'no',\n",
       "       'quantity': 1,\n",
       "       'status': 'queued'},\n",
       "      {'food_id': '5e8e10ced3b24ec580fd8334',\n",
       "       'name': 'AMRITSAR FISH TIKKA',\n",
       "       'description': 'Spicy Fish Tikka Marinated In Traditional Spices And Char Grilled',\n",
       "       'price': '320',\n",
       "       'instructions': 'Cook with love',\n",
       "       'quantity': 1,\n",
       "       'status': 'queued'},\n",
       "      {'food_id': '5e8e10bed3b24ec580fd828c',\n",
       "       'name': 'RAILWAY MUTTON DRY',\n",
       "       'description': 'With Bone Mutton Cooked In Rich Indian Spices, As Served In The Railway Canteen Of The British Raj',\n",
       "       'price': '350',\n",
       "       'instructions': 'no',\n",
       "       'quantity': 1,\n",
       "       'status': 'queued'},\n",
       "      {'food_id': '5e8e10cfd3b24ec580fd8385#prawns',\n",
       "       'name': 'SICHUAN FRIED NOODLES',\n",
       "       'description': '(veg/egg/chicken/prawns)',\n",
       "       'price': '200/220/250/280',\n",
       "       'instructions': 'Cook with love',\n",
       "       'quantity': 1,\n",
       "       'status': 'queued',\n",
       "       'food_options': {'options': {'prawns': '280'}, 'choices': []}}]},\n",
       "    {'_id': ObjectId('5e8ec83046ccda8577ff0d8e'),\n",
       "     'placed_by': ObjectId('5e8e10bfd3b24ec580fd82f2'),\n",
       "     'status': 'queued',\n",
       "     'food_list': [{'food_id': '5e8e10bdd3b24ec580fd8250',\n",
       "       'name': 'TANDOORI CHICKEN CHAAT',\n",
       "       'description': 'Clay Oven Roasted Chicken Blended With Classic Spices',\n",
       "       'price': '220',\n",
       "       'instructions': 'no',\n",
       "       'quantity': 1,\n",
       "       'status': 'queued'},\n",
       "      {'food_id': '5e8e10bed3b24ec580fd82c8',\n",
       "       'name': 'DAL TADKA',\n",
       "       'description': 'Yellow Lentil Tempered With Garlic And Cumin Seeds, Punished With Chopped Onion And Tomato',\n",
       "       'price': '190',\n",
       "       'instructions': 'no',\n",
       "       'quantity': 2,\n",
       "       'status': 'queued'},\n",
       "      {'food_id': '5e8e10bed3b24ec580fd82b8',\n",
       "       'name': 'FRUITS OF THE SEA',\n",
       "       'description': 'Fruits Of The Sea - Calamari, Shrimps, Sea Bream Dices Served With Maple Butter & Fresh Red Chile',\n",
       "       'price': '390',\n",
       "       'instructions': 'Cook with love',\n",
       "       'quantity': 1,\n",
       "       'status': 'queued'}]}]}],\n",
       " 'cooking': [{'_id': ObjectId('5e8eb80713d727138edc63c2'),\n",
       "   'table': 'table2',\n",
       "   'status': 'cooking',\n",
       "   'timestamp': '2020-04-09 11:22:07.379000',\n",
       "   'orders': [{'_id': ObjectId('5e8eb80713d727138edc63c1'),\n",
       "     'placed_by': ObjectId('5e8e10bfd3b24ec580fd82f4'),\n",
       "     'status': 'cooking',\n",
       "     'food_list': [{'food_id': '5e8e10bed3b24ec580fd829e',\n",
       "       'name': 'TOASTED VEG CLUB SANDWICH',\n",
       "       'description': 'Double Decker Layered With Lettuce, Cucumber, Cheese, Tomato And Served With Fries',\n",
       "       'price': '240',\n",
       "       'instructions': 'no',\n",
       "       'quantity': 2,\n",
       "       'status': 'cooking'},\n",
       "      {'food_id': '5e8e10ced3b24ec580fd8357',\n",
       "       'name': 'MIXED VEGETABLE SIZZLER',\n",
       "       'description': 'Grilled Vegetable Patties, Cottage Cheese And English Vegetables, Served With French Fries',\n",
       "       'price': '350',\n",
       "       'instructions': 'Cook with love',\n",
       "       'quantity': 3,\n",
       "       'status': 'cooking'},\n",
       "      {'food_id': '5e8e10bed3b24ec580fd82c8',\n",
       "       'name': 'DAL TADKA',\n",
       "       'description': 'Yellow Lentil Tempered With Garlic And Cumin Seeds, Punished With Chopped Onion And Tomato',\n",
       "       'price': '190',\n",
       "       'instructions': 'Cook with love',\n",
       "       'quantity': 2,\n",
       "       'status': 'cooking'}]},\n",
       "    {'_id': ObjectId('5e8eb80713d727138edc63c3'),\n",
       "     'placed_by': ObjectId('5e8e10bfd3b24ec580fd82f3'),\n",
       "     'status': 'cooking',\n",
       "     'food_list': [{'food_id': '5e8e10bed3b24ec580fd82b3',\n",
       "       'name': 'PANEER TIKKA & CHARRED PEPPERS',\n",
       "       'description': 'Tandoori Paneer Mirch Tikka With Green Bell Peppers, Onion roundels, Spring Greens & Mint Coulis',\n",
       "       'price': '350',\n",
       "       'instructions': 'Cook with love',\n",
       "       'quantity': 1,\n",
       "       'status': 'cooking'},\n",
       "      {'food_id': '5e8e10ced3b24ec580fd8378',\n",
       "       'name': 'PALAK PANEER',\n",
       "       'description': 'Cottage Cheese Cooked In Spinach Puree, Tempered Cumin And Ginger Garlic Paste',\n",
       "       'price': '260',\n",
       "       'instructions': 'no',\n",
       "       'quantity': 2,\n",
       "       'status': 'cooking'},\n",
       "      {'food_id': '5e8e10bed3b24ec580fd8264',\n",
       "       'name': 'CRISPY CHILLY BABY CORN',\n",
       "       'description': 'Crispy Fried Babycom Tossed With Oriental Spices',\n",
       "       'price': '190',\n",
       "       'instructions': 'Cook with love',\n",
       "       'quantity': 1,\n",
       "       'status': 'cooking'},\n",
       "      {'food_id': '5e8e10bed3b24ec580fd827c',\n",
       "       'name': 'JAIPURI MURGH KA SOOLA',\n",
       "       'description': 'Succulent Pieces Of Chicken Zapped With Red Spices, Cinnamon Flavour & Finished In Tandoor',\n",
       "       'price': '270',\n",
       "       'instructions': 'Cook with love',\n",
       "       'quantity': 2,\n",
       "       'status': 'cooking'}]},\n",
       "    {'_id': ObjectId('5e8eb80713d727138edc63c4'),\n",
       "     'placed_by': ObjectId('5e8e10bfd3b24ec580fd82f3'),\n",
       "     'status': 'cooking',\n",
       "     'food_list': [{'food_id': '5e8e10bed3b24ec580fd829c',\n",
       "       'name': 'ASIAN STYLE JUMBO PRAWNS',\n",
       "       'description': 'Tsing Hol Style / Singapore Chilli Garlic Style',\n",
       "       'price': '499',\n",
       "       'instructions': 'no',\n",
       "       'quantity': 2,\n",
       "       'status': 'cooking'},\n",
       "      {'food_id': '5e8e10bed3b24ec580fd8298',\n",
       "       'name': 'PAN FRIED CHILLY FISH',\n",
       "       'description': 'Pan Fried Fish Tossed With Shredded, Onion, Capsicum And Green Chilli',\n",
       "       'price': '330',\n",
       "       'instructions': 'Cook with love',\n",
       "       'quantity': 2,\n",
       "       'status': 'cooking'},\n",
       "      {'food_id': '5e8e10ced3b24ec580fd8327',\n",
       "       'name': 'HOC SIGNATURE CHICKEN WINGS',\n",
       "       'description': 'Sweet Chilly / Spiced Szechuan',\n",
       "       'price': '260',\n",
       "       'instructions': 'no',\n",
       "       'quantity': 2,\n",
       "       'status': 'cooking'},\n",
       "      {'food_id': '5e8e10ced3b24ec580fd834f',\n",
       "       'name': 'H.O.C FISH FINGERS',\n",
       "       'description': 'Classic Crumb fried Served with Tartar Sauce',\n",
       "       'price': '330',\n",
       "       'instructions': 'Cook with love',\n",
       "       'quantity': 1,\n",
       "       'status': 'cooking'},\n",
       "      {'food_id': '5e8e10bed3b24ec580fd825a',\n",
       "       'name': 'CHEESE & CORN TRIANGLE (new)',\n",
       "       'description': 'Shredded Cheese, Corn & Seasonings Wrapped In Wonton Sheet & Deep Fried',\n",
       "       'price': '220',\n",
       "       'instructions': 'Cook with love',\n",
       "       'quantity': 3,\n",
       "       'status': 'cooking'}]}]},\n",
       "  {'_id': ObjectId('5e8ebb3497b24a334bb709da'),\n",
       "   'table': 'table8',\n",
       "   'status': 'cooking',\n",
       "   'timestamp': '2020-04-09 11:35:40.923000',\n",
       "   'orders': [{'_id': ObjectId('5e8ebb3497b24a334bb709d9'),\n",
       "     'placed_by': ObjectId('5e8e10bfd3b24ec580fd82f2'),\n",
       "     'status': 'cooking',\n",
       "     'food_list': [{'food_id': '5e8e10bed3b24ec580fd82d2#chiden',\n",
       "       'name': 'CHILLY GARLIC NOODLES',\n",
       "       'description': '(veg/egg/chiden/prawns)',\n",
       "       'price': '230/250/270/290',\n",
       "       'instructions': 'no',\n",
       "       'quantity': 1,\n",
       "       'status': 'cooking',\n",
       "       'food_options': {'options': {'chiden': '270'}, 'choices': []}},\n",
       "      {'food_id': '5e8e10bed3b24ec580fd82a3',\n",
       "       'name': 'MIXED VEGETABLE SIZZLER',\n",
       "       'description': 'Grilled Vegetable Patties, Cottage Cheese And English Vegetables, Served With French Fries',\n",
       "       'price': '350',\n",
       "       'instructions': 'no',\n",
       "       'quantity': 1,\n",
       "       'status': 'cooking'},\n",
       "      {'food_id': '5e8e10ced3b24ec580fd8365',\n",
       "       'name': 'MARGHERITA',\n",
       "       'description': 'An All-Time Favourite Of Pomodoro, Water Buffalo Mozzarella And Basil Chiffonade',\n",
       "       'price': '290',\n",
       "       'instructions': 'Cook with love',\n",
       "       'quantity': 2,\n",
       "       'status': 'cooking'},\n",
       "      {'food_id': '5e8e10bed3b24ec580fd8257#veg',\n",
       "       'name': 'CAESAR SALAD (Veg/Chicken)',\n",
       "       'description': 'Crunchy Ice Berg Lettuce, Parmesan With the Classic Caesar Dressing',\n",
       "       'price': '190/230',\n",
       "       'instructions': 'Cook with love',\n",
       "       'quantity': 3,\n",
       "       'status': 'cooking',\n",
       "       'food_options': {'options': {'Veg': '190'}, 'choices': []}}]},\n",
       "    {'_id': ObjectId('5e8ebb3497b24a334bb709db'),\n",
       "     'placed_by': ObjectId('5e8e10bfd3b24ec580fd82f4'),\n",
       "     'status': 'cooking',\n",
       "     'food_list': [{'food_id': '5e8e10bed3b24ec580fd82c3#paneer',\n",
       "       'name': 'TIKKA MASALA GRAVY',\n",
       "       'description': 'Paneer/chicken Cooked In A Spicy Onion Tomato Base Gravy',\n",
       "       'price': '250/280',\n",
       "       'instructions': 'Cook with love',\n",
       "       'quantity': 1,\n",
       "       'status': 'cooking',\n",
       "       'food_options': {'options': {'Paneer': '250'}, 'choices': []}},\n",
       "      {'food_id': '5e8e10bed3b24ec580fd82b1',\n",
       "       'name': 'MARGHERITA',\n",
       "       'description': 'An All-Time Favourite Of Pomodoro, Water Buffalo Mozzarella And Basil Chiffonade',\n",
       "       'price': '290',\n",
       "       'instructions': 'no',\n",
       "       'quantity': 1,\n",
       "       'status': 'cooking'},\n",
       "      {'food_id': '5e8e10ced3b24ec580fd8340',\n",
       "       'name': 'RAILWAY MUTTON DRY',\n",
       "       'description': 'With Bone Mutton Cooked In Rich Indian Spices, As Served In The Railway Canteen Of The British Raj',\n",
       "       'price': '350',\n",
       "       'instructions': 'Cook with love',\n",
       "       'quantity': 1,\n",
       "       'status': 'cooking'},\n",
       "      {'food_id': '5e8e10bed3b24ec580fd8284',\n",
       "       'name': 'MURGH MALAI TIKKA',\n",
       "       'description': 'Clay Oven Roasted Creamy Chunks Of Chicken',\n",
       "       'price': '260',\n",
       "       'instructions': 'no',\n",
       "       'quantity': 1,\n",
       "       'status': 'cooking'}]},\n",
       "    {'_id': ObjectId('5e8ebb3497b24a334bb709dc'),\n",
       "     'placed_by': ObjectId('5e8e10bfd3b24ec580fd82f5'),\n",
       "     'status': 'cooking',\n",
       "     'food_list': [{'food_id': '5e8e10ced3b24ec580fd833e',\n",
       "       'name': 'MUTTON GHEE ROAST',\n",
       "       'description': 'Mutton Roasted With A Fiery Red And Spicy With The Flavour Of Ghee',\n",
       "       'price': '370',\n",
       "       'instructions': 'Cook with love',\n",
       "       'quantity': 1,\n",
       "       'status': 'cooking'},\n",
       "      {'food_id': '5e8e10cfd3b24ec580fd838c#plain',\n",
       "       'name': 'NAAN PLAIN/BUTTER',\n",
       "       'description': 'NA',\n",
       "       'price': '40/45',\n",
       "       'instructions': 'Cook with love',\n",
       "       'quantity': 2,\n",
       "       'status': 'cooking',\n",
       "       'food_options': {'options': {'PLAIN': '40'}, 'choices': []}},\n",
       "      {'food_id': '5e8e10cfd3b24ec580fd8393',\n",
       "       'name': 'CHOICE OF ICE CREAMS-2 Scoops',\n",
       "       'description': 'Ask for the Flavours',\n",
       "       'price': '90',\n",
       "       'instructions': 'no',\n",
       "       'quantity': 1,\n",
       "       'status': 'cooking'},\n",
       "      {'food_id': '5e8e10bed3b24ec580fd82be#chicken',\n",
       "       'name': 'CHINESE CHOPSUEY',\n",
       "       'description': 'Vegetables/chicken Tossed In Celery Sauce, Served On A Bed Of Crispy Noodles',\n",
       "       'price': '280/300',\n",
       "       'instructions': 'no',\n",
       "       'quantity': 2,\n",
       "       'status': 'cooking',\n",
       "       'food_options': {'options': {'chicken': '300'}, 'choices': []}},\n",
       "      {'food_id': '5e8e10bed3b24ec580fd8254',\n",
       "       'name': 'GREEN SALAD',\n",
       "       'description': 'Traditional Green Cuts With Mint Yoghurt Dip',\n",
       "       'price': '170',\n",
       "       'instructions': 'Cook with love',\n",
       "       'quantity': 1,\n",
       "       'status': 'cooking'},\n",
       "      {'food_id': '5e8e10ced3b24ec580fd8377#chicken',\n",
       "       'name': 'TIKKA MASALA GRAVY',\n",
       "       'description': 'Paneer/chicken Cooked In A Spicy Onion Tomato Base Gravy',\n",
       "       'price': '250/280',\n",
       "       'instructions': 'Cook with love',\n",
       "       'quantity': 1,\n",
       "       'status': 'cooking',\n",
       "       'food_options': {'options': {'chicken': '280'}, 'choices': []}}]},\n",
       "    {'_id': ObjectId('5e8ebb3497b24a334bb709dd'),\n",
       "     'placed_by': ObjectId('5e8e10bfd3b24ec580fd82f4'),\n",
       "     'status': 'cooking',\n",
       "     'food_list': [{'food_id': '5e8e10ced3b24ec580fd8309#chicken',\n",
       "       'name': 'HOC SALAD (Veg/Chicken)',\n",
       "       'description': 'Melange Of Crunchy Lettuce, Bell Peppers And Olives With Our Homemade Dressing',\n",
       "       'price': '180/210',\n",
       "       'instructions': 'no',\n",
       "       'quantity': 1,\n",
       "       'status': 'cooking',\n",
       "       'food_options': {'options': {'Chicken': '210'}, 'choices': []}},\n",
       "      {'food_id': '5e8e10ced3b24ec580fd836d',\n",
       "       'name': 'MIXED MEAT MAGIC',\n",
       "       'description': 'Age Old English Cheddar Topped With Roast Chicken Slvers, Apple Glazed Chicken Ham, Lamb Mince, Calamari & Shrimps',\n",
       "       'price': '420',\n",
       "       'instructions': 'no',\n",
       "       'quantity': 2,\n",
       "       'status': 'cooking'},\n",
       "      {'food_id': '5e8e10ced3b24ec580fd836b',\n",
       "       'name': 'MUTTON MASALA KEEMA PIZZA',\n",
       "       'description': 'Minced Mutton Cooked In Indian Spices & Herbs Topped With Chillies & Assorted Bell peppers',\n",
       "       'price': '390',\n",
       "       'instructions': 'no',\n",
       "       'quantity': 3,\n",
       "       'status': 'cooking'}]}]},\n",
       "  {'_id': ObjectId('5e8ec76846ccda8577ff0d88'),\n",
       "   'table': 'table6',\n",
       "   'status': 'queued',\n",
       "   'timestamp': '2020-04-09 12:27:44.977000',\n",
       "   'orders': [{'_id': ObjectId('5e8ec76846ccda8577ff0d87'),\n",
       "     'placed_by': ObjectId('5e8e10bfd3b24ec580fd82f4'),\n",
       "     'status': 'queued',\n",
       "     'food_list': [{'food_id': '5e8e10bed3b24ec580fd82bb',\n",
       "       'name': 'FISH AND CHIPS',\n",
       "       'description': 'Crumb Fried Fish In Hoc Signature Marination, Served With French Fries',\n",
       "       'price': '350',\n",
       "       'instructions': 'Cook with love',\n",
       "       'quantity': 1,\n",
       "       'status': 'cooking'},\n",
       "      {'food_id': '5e8e10ced3b24ec580fd8343',\n",
       "       'name': 'SPICY MASALA OMELETTE',\n",
       "       'description': 'Slow Cooked Egg Omlet With Masala',\n",
       "       'price': '180',\n",
       "       'instructions': 'Cook with love',\n",
       "       'quantity': 1,\n",
       "       'status': 'cooking'},\n",
       "      {'food_id': '5e8e10ced3b24ec580fd8358',\n",
       "       'name': 'ROSEMARY SCENTED COTTAGE CHEESE STEAKS',\n",
       "       'description': 'Cottage Cheese Steaks Wth Bell Peppers, Sage Pilaf With Grilled Vegetables & Jalapeno Tomato Coulis',\n",
       "       'price': '380',\n",
       "       'instructions': 'Cook with love',\n",
       "       'quantity': 3,\n",
       "       'status': 'cooking'},\n",
       "      {'food_id': '5e8e10ced3b24ec580fd833a',\n",
       "       'name': 'TANDOORI CHICKEN MOMOS',\n",
       "       'description': 'Soft And Juicy Chicken Momos Marinated With Tandoori Masala And Char Grilled',\n",
       "       'price': '260',\n",
       "       'instructions': 'no',\n",
       "       'quantity': 3,\n",
       "       'status': 'cooking'},\n",
       "      {'food_id': '5e8e10bed3b24ec580fd82c5',\n",
       "       'name': 'DAL MAKHANI',\n",
       "       'description': 'Slow Cooked Lentils Finished With White Butter',\n",
       "       'price': '240',\n",
       "       'instructions': 'no',\n",
       "       'quantity': 1,\n",
       "       'status': 'cooking'}]},\n",
       "    {'_id': ObjectId('5e8ec76846ccda8577ff0d89'),\n",
       "     'placed_by': ObjectId('5e8e10bfd3b24ec580fd82f3'),\n",
       "     'status': 'queued',\n",
       "     'food_list': [{'food_id': '5e8e10ced3b24ec580fd8302',\n",
       "       'name': 'SPICY TRICOLOUR CHAAT',\n",
       "       'description': 'Fresh Peas, Corn Kernels & Black Gram Tossed With Chillies & Sirka onions',\n",
       "       'price': '180',\n",
       "       'instructions': 'Cook with love',\n",
       "       'quantity': 2,\n",
       "       'status': 'cooking'},\n",
       "      {'food_id': '5e8e10ced3b24ec580fd8332',\n",
       "       'name': 'TANDOORI POMFRET',\n",
       "       'description': 'Indian Spices Marinated Whole Pomfret Skewered And Finished In Clay Oven',\n",
       "       'price': '590',\n",
       "       'instructions': 'no',\n",
       "       'quantity': 2,\n",
       "       'status': 'cooking'}]},\n",
       "    {'_id': ObjectId('5e8ec76846ccda8577ff0d8a'),\n",
       "     'placed_by': ObjectId('5e8e10bfd3b24ec580fd82f4'),\n",
       "     'status': 'queued',\n",
       "     'food_list': [{'food_id': '5e8e10ced3b24ec580fd8339',\n",
       "       'name': 'MURGH KASTURI KEBAB',\n",
       "       'description': 'Boneless Charcoal Smoked Chicken Tikka With Kasturi Methi Flavoured',\n",
       "       'price': '260',\n",
       "       'instructions': 'no',\n",
       "       'quantity': 2,\n",
       "       'status': 'cooking'}]}]},\n",
       "  {'_id': ObjectId('5e8ec83046ccda8577ff0d8c'),\n",
       "   'table': 'table9',\n",
       "   'status': 'queued',\n",
       "   'timestamp': '2020-04-09 12:31:04.010000',\n",
       "   'orders': [{'_id': ObjectId('5e8ec83046ccda8577ff0d8b'),\n",
       "     'placed_by': ObjectId('5e8e10bfd3b24ec580fd82f4'),\n",
       "     'status': 'queued',\n",
       "     'food_list': [{'food_id': '5e8e10ced3b24ec580fd8305',\n",
       "       'name': 'CHEESE DYNABITES',\n",
       "       'description': 'Classic Cheese Balls Served with New Orleans Dip',\n",
       "       'price': '220',\n",
       "       'instructions': 'Cook with love',\n",
       "       'quantity': 2,\n",
       "       'status': 'cooking'}]}]}],\n",
       " 'completed': [{'_id': ObjectId('5e8e1593d3b24ec580fd83a2'),\n",
       "   'table': 'table6',\n",
       "   'table_id': 'table6',\n",
       "   'orders': [{'_id': ObjectId('5e8e1592d3b24ec580fd83a1'),\n",
       "     'placed_by': ObjectId('5e8e10bfd3b24ec580fd82f7'),\n",
       "     'food_list': [{'food_id': '5e8e10bed3b24ec580fd828a',\n",
       "       'name': 'MUTTON GHEE ROAST',\n",
       "       'description': 'Mutton Roasted With A Fiery Red And Spicy With The Flavour Of Ghee',\n",
       "       'price': '370',\n",
       "       'instructions': 'Cook with love',\n",
       "       'quantity': 1,\n",
       "       'status': 'completed'},\n",
       "      {'food_id': '5e8e10ced3b24ec580fd831a',\n",
       "       'name': 'HONEY CHILLY POTATO',\n",
       "       'description': 'Crispy Fried Potatoes Tossed With Chilli And Honey',\n",
       "       'price': '190',\n",
       "       'instructions': 'no',\n",
       "       'quantity': 1,\n",
       "       'status': 'completed'},\n",
       "      {'food_id': '5e8e10bed3b24ec580fd82ad#chicken',\n",
       "       'name': 'FIERY PENNE PASTA (VEG/ CHICKEN / SHRIMPS)',\n",
       "       'description': 'NA',\n",
       "       'price': '300/340/380',\n",
       "       'instructions': 'no',\n",
       "       'quantity': 2,\n",
       "       'status': 'completed',\n",
       "       'food_options': {'options': {'CHICKEN': '340'}, 'choices': []}},\n",
       "      {'food_id': '5e8e10bed3b24ec580fd82c5',\n",
       "       'name': 'DAL MAKHANI',\n",
       "       'description': 'Slow Cooked Lentils Finished With White Butter',\n",
       "       'price': '240',\n",
       "       'instructions': 'Cook with love',\n",
       "       'quantity': 2,\n",
       "       'status': 'completed'}],\n",
       "     'status': 'completed'}],\n",
       "   'status': 'completed',\n",
       "   'timestamp': '2020-04-08 23:48:59.165000'},\n",
       "  {'_id': ObjectId('5e8e972513d727138edc63c0'),\n",
       "   'table': 'table10',\n",
       "   'table_id': 'table10',\n",
       "   'orders': [{'_id': ObjectId('5e8e972513d727138edc63bf'),\n",
       "     'placed_by': ObjectId('5e8e10bfd3b24ec580fd82f2'),\n",
       "     'food_list': [{'food_id': '5e8e10bed3b24ec580fd8277',\n",
       "       'name': 'LEMON PEPPER CHICKEN',\n",
       "       'description': 'Slice Chicken Wok Tossed, Finished With Pepper Garlic & Lime',\n",
       "       'price': '260',\n",
       "       'instructions': 'Cook with love',\n",
       "       'quantity': 1,\n",
       "       'status': 'completed'},\n",
       "      {'food_id': '5e8e10ced3b24ec580fd836b',\n",
       "       'name': 'MUTTON MASALA KEEMA PIZZA',\n",
       "       'description': 'Minced Mutton Cooked In Indian Spices & Herbs Topped With Chillies & Assorted Bell peppers',\n",
       "       'price': '390',\n",
       "       'instructions': 'no',\n",
       "       'quantity': 1,\n",
       "       'status': 'completed'},\n",
       "      {'food_id': '5e8e10bed3b24ec580fd8272',\n",
       "       'name': 'SHANG DONG CHICKEN LOLLY POP',\n",
       "       'description': 'Crispy Lolly pops Crunched To Perfection & Tossed in our Signature Shang Dong Drip',\n",
       "       'price': '260',\n",
       "       'instructions': 'no',\n",
       "       'quantity': 2,\n",
       "       'status': 'completed'},\n",
       "      {'food_id': '5e8e10ced3b24ec580fd8344',\n",
       "       'name': 'EGG CHILLI',\n",
       "       'description': 'Spicy Boiled Egg With Chilli Fry',\n",
       "       'price': '210',\n",
       "       'instructions': 'Cook with love',\n",
       "       'quantity': 2,\n",
       "       'status': 'completed'},\n",
       "      {'food_id': '5e8e10cfd3b24ec580fd838e',\n",
       "       'name': 'LACCHA PARATHA',\n",
       "       'description': 'NA',\n",
       "       'price': '45',\n",
       "       'instructions': 'no',\n",
       "       'quantity': 1,\n",
       "       'status': 'completed'},\n",
       "      {'food_id': '5e8e10ced3b24ec580fd8368',\n",
       "       'name': 'MEDITERRANEAN GARDEN',\n",
       "       'description': 'Organic Greens With Imported FETA Cheese, Bell Peppers, Zucchini, Asparagus Spears, Artichokes & Sun Dried Tomatoes',\n",
       "       'price': '360',\n",
       "       'instructions': 'Cook with love',\n",
       "       'quantity': 3,\n",
       "       'status': 'completed'},\n",
       "      {'food_id': '5e8e10c7d3b24ec580fd82fc',\n",
       "       'name': 'CHATPATA CHANA CHAAT',\n",
       "       'description': 'A Delectable Blend Of Bengal Gram And A Tangy Mixture',\n",
       "       'price': '160',\n",
       "       'instructions': 'Cook with love',\n",
       "       'quantity': 1,\n",
       "       'status': 'completed'}],\n",
       "     'status': 'completed'}],\n",
       "   'status': 'completed',\n",
       "   'timestamp': '2020-04-09 09:01:49.746000'}]}"
      ]
     },
     "execution_count": 14,
     "metadata": {},
     "output_type": "execute_result"
    }
   ],
   "source": [
    "json_util.loads(Restaurant.objects[0].fetch_order_lists())"
   ]
  },
  {
   "cell_type": "code",
   "execution_count": 119,
   "metadata": {
    "code_folding": [
     29,
     35
    ],
    "scrolled": false
   },
   "outputs": [],
   "source": [
    "def food_embed(food_dict):\n",
    "    json_dict = json_util.loads(FoodItem.objects(id=food_dict['food_id']).exclude('id').exclude('restaurant')[0].to_json())\n",
    "    json_dict.pop('tags')\n",
    "    json_dict['food_id'] = food_dict['food_id']\n",
    "    json_dict['quantity'] = food_dict['quantity']\n",
    "    json_dict['instructions'] = food_dict['instructions']\n",
    "    json_dict['status'] = 'queued'\n",
    "    option_id = choice_id = ''\n",
    "    try:\n",
    "        option = np.random.choice(list(json_dict['food_options']['options'].keys()))\n",
    "        option_pair = {option: json_dict['food_options']['options'][option]}\n",
    "        json_dict['food_options']['options'] = option_pair\n",
    "        option_id = option.lower()\n",
    "    except:\n",
    "        pass\n",
    "    try:\n",
    "        choice = np.random.choice(list(json_dict['food_options']['choices']))\n",
    "        json_dict['food_options']['choices'] = [choice]\n",
    "        choice_id = choice.lower()\n",
    "    except:\n",
    "        pass\n",
    "    if option_id != '':\n",
    "        if choice_id != '':\n",
    "            json_dict['food_id'] = food_dict['food_id'] + \"#\" + option_id + \"_\" + choice_id\n",
    "        else:\n",
    "            json_dict['food_id'] = food_dict['food_id'] + \"#\" + option_id\n",
    "    return json_dict\n",
    "\n",
    "\n",
    "def c_food_dict(food_id):\n",
    "    f_dict = {}\n",
    "    f_dict['food_id']=str(food_id)\n",
    "    f_dict['quantity']=int(np.random.choice([1,1,1,1,2,2,3]))\n",
    "    f_dict['instructions'] = ['Cook with love' if np.random.randint(2) else 'no'][0]\n",
    "    return f_dict\n",
    "def nprand(a,b=-1):\n",
    "    if(b==-1):\n",
    "        return np.random.randint(a)\n",
    "    else:\n",
    "        return np.random.randint(a,b)"
   ]
  },
  {
   "cell_type": "code",
   "execution_count": 120,
   "metadata": {},
   "outputs": [
    {
     "data": {
      "text/plain": [
       "{'name': 'NACHOS (Veg/Chicken)',\n",
       " 'description': 'Crispy Corn Tortillas Topped With Spicy Baked Bean Salsa and Sour Cream',\n",
       " 'price': '190/230',\n",
       " 'food_options': {'options': {'Veg': '190'}, 'choices': []},\n",
       " 'food_id': '5e9aa5ca0c582ce29987bae6#veg',\n",
       " 'quantity': 1,\n",
       " 'instructions': 'Cook with love',\n",
       " 'status': 'queued'}"
      ]
     },
     "execution_count": 120,
     "metadata": {},
     "output_type": "execute_result"
    }
   ],
   "source": [
    "food_embed(c_food_dict(FoodItem.objects[0].id))"
   ]
  },
  {
   "cell_type": "code",
   "execution_count": 141,
   "metadata": {
    "collapsed": true
   },
   "outputs": [
    {
     "data": {
      "text/plain": [
       "'{\"_id\": {\"$oid\": \"5e8f66bacc53c3a81920eda5\"}, \"table\": \"table2\", \"table_id\": \"table2\", \"orders\": [{\"_id\": {\"$oid\": \"5e8f66bacc53c3a81920eda4\"}, \"placed_by\": {\"$oid\": \"5e8f647acc53c3a81920ed06\"}, \"food_list\": [{\"food_id\": \"5e8f6479cc53c3a81920ecd0\", \"name\": \"EXOTIC VEGETABLES WITH SAUCE OF YOUR CHOICE\", \"description\": \"Hot Garlic, Chili Basil, Sichuan\", \"price\": \"250\", \"instructions\": \"Cook with love\", \"quantity\": 2, \"status\": \"queued\"}, {\"food_id\": \"5e8f6479cc53c3a81920ec7b\", \"name\": \"MEZZE BASKET\", \"description\": \"A Combination Of Hummus, Mutabal & Labneh, Served With Pita Bread\", \"price\": \"340\", \"instructions\": \"no\", \"quantity\": 2, \"status\": \"queued\"}, {\"food_id\": \"5e8f647bcc53c3a81920ed92\", \"name\": \"LACCHA PARATHA\", \"description\": \"NA\", \"price\": \"45\", \"instructions\": \"no\", \"quantity\": 1, \"status\": \"queued\"}, {\"food_id\": \"5e8f647bcc53c3a81920ed45\", \"name\": \"RAILWAY MUTTON DRY\", \"description\": \"With Bone Mutton Cooked In Rich Indian Spices, As Served In The Railway Canteen Of The British Raj\", \"price\": \"350\", \"instructions\": \"no\", \"quantity\": 1, \"status\": \"queued\"}, {\"food_id\": \"5e8f6479cc53c3a81920ecea\", \"name\": \"LACCHA PARATHA\", \"description\": \"NA\", \"price\": \"45\", \"instructions\": \"Cook with love\", \"quantity\": 3, \"status\": \"queued\"}, {\"food_id\": \"5e8f6479cc53c3a81920ec93\", \"name\": \"ANGARI MURGH TIKKA\", \"description\": \"Clay Oven Roasted Spicy Morsels Of Chicken\", \"price\": \"260\", \"instructions\": \"Cook with love\", \"quantity\": 1, \"status\": \"queued\"}], \"status\": \"queued\"}, {\"_id\": {\"$oid\": \"5e8f66bacc53c3a81920eda6\"}, \"placed_by\": {\"$oid\": \"5e8f647acc53c3a81920ed04\"}, \"food_list\": [{\"food_id\": \"5e8f647bcc53c3a81920ed4d\", \"name\": \"HARISSA GRILLED FISH\", \"description\": \"Fish Marinated In A Spicy Tunisian Harissa Sauce And Grilled To Perfection\", \"price\": \"330\", \"instructions\": \"no\", \"quantity\": 1, \"status\": \"queued\"}, {\"food_id\": \"5e8f6479cc53c3a81920ecea\", \"name\": \"LACCHA PARATHA\", \"description\": \"NA\", \"price\": \"45\", \"instructions\": \"no\", \"quantity\": 3, \"status\": \"queued\"}], \"status\": \"queued\"}, {\"_id\": {\"$oid\": \"5e8f66bacc53c3a81920eda7\"}, \"placed_by\": {\"$oid\": \"5e8f647acc53c3a81920ed03\"}, \"food_list\": [{\"food_id\": \"5e8f647bcc53c3a81920ed63\", \"name\": \"BAKED CHEESE MACARONI\", \"description\": \"All Time Favourite In A Cheesy Cream Sauce And Baked in The Oven\", \"price\": \"300\", \"instructions\": \"Cook with love\", \"quantity\": 1, \"status\": \"queued\"}, {\"food_id\": \"5e8f6479cc53c3a81920ec8e#full\", \"name\": \"TANDOORI MURGH (HALF/FULL)\", \"description\": \"Chicken Marinated In Aromatic Indian Spices & Then Cooked In Tandoor\", \"price\": \"250/480\", \"instructions\": \"Cook with love\", \"quantity\": 1, \"status\": \"queued\", \"food_options\": {\"options\": {\"FULL\": \"480\"}, \"choices\": []}}, {\"food_id\": \"5e8f6479cc53c3a81920ec93\", \"name\": \"ANGARI MURGH TIKKA\", \"description\": \"Clay Oven Roasted Spicy Morsels Of Chicken\", \"price\": \"260\", \"instructions\": \"no\", \"quantity\": 1, \"status\": \"queued\"}], \"status\": \"queued\"}], \"status\": \"queued\", \"timestamp\": \"2020-04-09 23:47:30.906000\"}'"
      ]
     },
     "execution_count": 141,
     "metadata": {},
     "output_type": "execute_result"
    }
   ],
   "source": [
    "order_placement(generate_order())"
   ]
  },
  {
   "cell_type": "code",
   "execution_count": 141,
   "metadata": {
    "code_folding": [
     0,
     23,
     27,
     36
    ]
   },
   "outputs": [],
   "source": [
    "def generate_order():\n",
    "    input_order = {'table': random_table(), 'orders': []}\n",
    "    for n in range(np.random.randint(1, 5)):\n",
    "        input_order['orders'].append({})\n",
    "        input_order['orders'][n]['placed_by'] = random_user()\n",
    "        input_order['orders'][n]['food_list'] = [food_embed(c_food_dict(v)) for v in random_food_list()]\n",
    "    return input_order\n",
    "\n",
    "def order_placement(input_order):\n",
    "    ordered_table = Table.objects.get(id=input_order['table'])\n",
    "    table_order = TableOrder(table=str(ordered_table.name), table_id=str(ordered_table.id),\n",
    "                             timestamp=datetime.datetime.now())\n",
    "    for order in input_order['orders']:\n",
    "        food_list = [FoodItemMod.from_json(json_util.dumps(food_dict)) for food_dict in order['food_list']]\n",
    "        table_order.orders.append(\n",
    "            Order(placed_by=User.objects.get(id=order['placed_by']).to_dbref(), food_list=food_list).save().to_dbref())\n",
    "        table_order.timestamp = datetime.datetime.now()\n",
    "        table_order.save()\n",
    "    ordered_table.update(push__table_orders=table_order.to_dbref())\n",
    "    Restaurant.objects(tables__in=[str(ordered_table.id)]).update(push__table_orders=table_order.to_dbref())\n",
    "    return TableOrder.objects.get(id=table_order.id).to_json()\n",
    "\n",
    "\n",
    "def generate_asstype():\n",
    "    assist_input = {'table': random_table(), 'user': random_user(),'assistance_type': Assistance.types[np.random.randint(len(Assistance.types))]}\n",
    "    return assist_input\n",
    "\n",
    "def assistance_req(assist_input):\n",
    "    curr_table = Table.objects.get(id=assist_input['table'])\n",
    "    curr_ass = Assistance(user=User.objects.get(id=assist_input['user']).to_dbref())\n",
    "    curr_ass.assistance_type = assist_input['assistance_type']\n",
    "    curr_ass.timestamp = datetime.datetime.now()\n",
    "    curr_ass.save()\n",
    "    curr_table.update(push__assistance_reqs=curr_ass.to_dbref())\n",
    "    return curr_ass\n",
    "\n",
    "def send_assistance_req(assist_id):\n",
    "    table = Table.objects(assistance_reqs__in=[assist_id])[0]\n",
    "    for staff in table.staff:\n",
    "        if np.random.randint(3):\n",
    "            time.sleep(1)\n",
    "            Assistance.objects.get(id=assist_id).update(set__accepted_by=staff.to_dbref())\n",
    "            return staff.name\n",
    "    time.sleep(3)\n",
    "    for staff in Staff.objects:\n",
    "        if np.random.randint(3):\n",
    "            time.sleep(1)\n",
    "            Assistance.objects.get(id=assist_id).update(set__accepted_by=staff.to_dbref())\n",
    "            return staff.name"
   ]
  },
  {
   "cell_type": "code",
   "execution_count": 138,
   "metadata": {},
   "outputs": [
    {
     "data": {
      "text/plain": [
       "'{\"_id\": {\"$oid\": \"5e8e1593d3b24ec580fd83a2\"}, \"table\": \"table6\", \"table_id\": \"table6\", \"orders\": [{\"_id\": {\"$oid\": \"5e8e1592d3b24ec580fd83a1\"}, \"placed_by\": {\"$oid\": \"5e8e10bfd3b24ec580fd82f7\"}, \"food_list\": [{\"food_id\": \"5e8e10bed3b24ec580fd828a\", \"name\": \"MUTTON GHEE ROAST\", \"description\": \"Mutton Roasted With A Fiery Red And Spicy With The Flavour Of Ghee\", \"price\": \"370\", \"instructions\": \"Cook with love\", \"quantity\": 1, \"status\": \"queued\"}, {\"food_id\": \"5e8e10ced3b24ec580fd831a\", \"name\": \"HONEY CHILLY POTATO\", \"description\": \"Crispy Fried Potatoes Tossed With Chilli And Honey\", \"price\": \"190\", \"instructions\": \"no\", \"quantity\": 1, \"status\": \"queued\"}, {\"food_id\": \"5e8e10bed3b24ec580fd82ad#chicken\", \"name\": \"FIERY PENNE PASTA (VEG/ CHICKEN / SHRIMPS)\", \"description\": \"NA\", \"price\": \"300/340/380\", \"instructions\": \"no\", \"quantity\": 2, \"status\": \"queued\", \"food_options\": {\"options\": {\"CHICKEN\": \"340\"}, \"choices\": []}}, {\"food_id\": \"5e8e10bed3b24ec580fd82c5\", \"name\": \"DAL MAKHANI\", \"description\": \"Slow Cooked Lentils Finished With White Butter\", \"price\": \"240\", \"instructions\": \"Cook with love\", \"quantity\": 2, \"status\": \"queued\"}], \"status\": \"queued\"}], \"status\": \"queued\", \"timestamp\": \"2020-04-08 23:48:59.165000\"}'"
      ]
     },
     "execution_count": 138,
     "metadata": {},
     "output_type": "execute_result"
    }
   ],
   "source": [
    "order_placement(generate_order())"
   ]
  },
  {
   "cell_type": "code",
   "execution_count": 141,
   "metadata": {
    "code_folding": [
     1,
     22,
     33,
     44,
     63
    ]
   },
   "outputs": [],
   "source": [
    "\n",
    "def non_completed(class_objects, cooking, skip=0):\n",
    "    if cooking:\n",
    "        for obj in class_objects:\n",
    "            if obj.status == 'queued':\n",
    "                if skip == 0:\n",
    "                    return obj\n",
    "                else:\n",
    "                    skip = 0\n",
    "                    continue\n",
    "        return 'all_cooking'\n",
    "    else:\n",
    "        for obj in class_objects:\n",
    "            if obj.status == 'cooking':\n",
    "                if skip == 0:\n",
    "                    return obj\n",
    "                else:\n",
    "                    skip = 0\n",
    "                    continue\n",
    "        return 'all_completed'\n",
    "\n",
    "\n",
    "def food_status_check(class_objects, skip=0):\n",
    "    for obj in class_objects:\n",
    "        if obj.status == 'queued':\n",
    "            if skip == 0:\n",
    "                return obj\n",
    "            else:\n",
    "                skip = 0\n",
    "                continue\n",
    "    return 'all_cooking'\n",
    "\n",
    "\n",
    "def food_status_check_cook(class_objects, skip=0):\n",
    "    for obj in class_objects:\n",
    "        if obj.status == 'cooking':\n",
    "            if skip == 0:\n",
    "                return obj\n",
    "            else:\n",
    "                skip = 0\n",
    "                continue\n",
    "    return 'all_completed'\n",
    "\n",
    "\n",
    "def pick_order():\n",
    "    if True:\n",
    "        table_order = non_completed(TableOrder.objects, True)\n",
    "        order = non_completed(table_order.orders, True)\n",
    "        if not isinstance(order, Order):\n",
    "            TableOrder.objects.get(id=table_order.id).update(set__status='cooking')\n",
    "            print('changing table order status')\n",
    "            return pick_order()\n",
    "\n",
    "        food_ob = food_status_check(order.food_list)\n",
    "        if isinstance(food_ob, FoodItemMod):\n",
    "            food_id = food_ob.food_id\n",
    "            return (str(table_order.id), str(order.id), food_id)\n",
    "        elif food_ob == 'all_cooking':\n",
    "            Order.objects.get(id=order.id).update(set__status='cooking')\n",
    "            print('changing order status')\n",
    "            return pick_order()\n",
    "\n",
    "\n",
    "def pick_order2():\n",
    "    if True:\n",
    "        table_order = non_completed(TableOrder.objects, False)\n",
    "        order = non_completed(table_order.orders, False)\n",
    "        if not isinstance(order, Order):\n",
    "            TableOrder.objects.get(id=table_order.id).update(set__status='completed')\n",
    "            return pick_order()\n",
    "\n",
    "        food_ob = food_status_check_cook(order.food_list)\n",
    "        if isinstance(food_ob, FoodItemMod):\n",
    "            food_id = food_ob.food_id\n",
    "            return (str(table_order.id), str(order.id), food_id)\n",
    "        elif food_ob == 'all_completed':\n",
    "            Order.objects.get(id=order.id).update(set__status='completed')\n",
    "            return pick_order()"
   ]
  },
  {
   "cell_type": "code",
   "execution_count": 143,
   "metadata": {
    "code_folding": [
     1,
     18,
     48
    ]
   },
   "outputs": [],
   "source": [
    "\n",
    "def validate_for_order(order_id, cooking=True):\n",
    "    if cooking:\n",
    "        for food_item in Order.objects.get(id=order_id).food_list:\n",
    "            if food_item.status == 'cooking':\n",
    "                continue\n",
    "            else:\n",
    "                return False\n",
    "        return True\n",
    "    else:\n",
    "        for food_item in Order.objects.get(id=order_id).food_list:\n",
    "            if food_item.status == 'completed':\n",
    "                continue\n",
    "            else:\n",
    "                return False\n",
    "        return True\n",
    "\n",
    "\n",
    "def validate_for_table_order(order_id, cooking=True):\n",
    "    if cooking:\n",
    "        for order in TableOrder.objects.get(id=order_id).orders:\n",
    "            if order.status == 'cooking':\n",
    "                continue\n",
    "            else:\n",
    "                return False\n",
    "        return True\n",
    "    else:\n",
    "        for order in TableOrder.objects.get(id=order_id).orders:\n",
    "            if order.status == 'completed':\n",
    "                continue\n",
    "            else:\n",
    "                return False\n",
    "        return True\n",
    "\n",
    "\n",
    "def order_status_cooking(status_tuple):\n",
    "    order = Order.objects.get(id=status_tuple[1])\n",
    "    food_json_dict = json_util.loads(order.fetch_food_item(status_tuple[2]))\n",
    "    food_json_dict['status'] = 'cooking'\n",
    "    Order.objects.get(id=status_tuple[1]).update(pull__food_list__food_id=FoodItemMod(food_id=status_tuple[2]).food_id)\n",
    "    Order.objects.get(id=status_tuple[1]).update(push__food_list=FoodItemMod.from_json(json_util.dumps(food_json_dict)))\n",
    "    if validate_for_order(status_tuple[1], True):\n",
    "        Order.objects.get(id=status_tuple[1]).update(set__status='cooking')\n",
    "    if validate_for_table_order(status_tuple[0], True):\n",
    "        TableOrder.objects.get(id=status_tuple[0]).update(set__status='cooking')\n",
    "    return \"Done\"\n",
    "\n",
    "\n",
    "def order_status_completed(status_tuple):\n",
    "    order = Order.objects.get(id=status_tuple[1])\n",
    "    food_json_dict = json_util.loads(order.fetch_food_item(status_tuple[2]))\n",
    "    food_json_dict['status'] = 'completed'\n",
    "    Order.objects.get(id=status_tuple[1]).update(pull__food_list__food_id=FoodItemMod(food_id=status_tuple[2]).food_id)\n",
    "    Order.objects.get(id=status_tuple[1]).update(push__food_list=FoodItemMod.from_json(json_util.dumps(food_json_dict)))\n",
    "    if validate_for_order(status_tuple[1], False):\n",
    "        Order.objects.get(id=status_tuple[1]).update(set__status='completed')\n",
    "    if validate_for_table_order(status_tuple[0], False):\n",
    "        TableOrder.objects.get(id=status_tuple[0]).update(set__status='completed')\n",
    "    return \"Done\"\n"
   ]
  },
  {
   "cell_type": "code",
   "execution_count": 17,
   "metadata": {
    "collapsed": true
   },
   "outputs": [
    {
     "data": {
      "text/plain": [
       "{'table': '5e8d98739c69d718046f4acf',\n",
       " 'orders': [{'placedby': '5e8d98739c69d718046f4ae1',\n",
       "   'foodlist': ['{\"name\": \"MARGHERITA\", \"description\": \"An All-Time Favourite Of Pomodoro, Water Buffalo Mozzarella And Basil Chiffonade\", \"price\": \"290\", \"food_id\": \"5e8d98729c69d718046f4a9c\", \"quantity\": 1, \"instructions\": \"no\", \"status\": \"queued\"}',\n",
       "    '{\"name\": \"GARLIC NAAN\", \"description\": \"NA\", \"price\": \"50\", \"food_id\": \"5e8d987f9c69d718046f4b7b\", \"quantity\": 1, \"instructions\": \"Cook with love\", \"status\": \"queued\"}']}]}"
      ]
     },
     "execution_count": 17,
     "metadata": {},
     "output_type": "execute_result"
    }
   ],
   "source": [
    "generate_order()"
   ]
  },
  {
   "cell_type": "code",
   "execution_count": 139,
   "metadata": {
    "collapsed": true
   },
   "outputs": [
    {
     "ename": "TypeError",
     "evalue": "tuple expected at most 1 arguments, got 3",
     "output_type": "error",
     "traceback": [
      "\u001b[0;31m---------------------------------------------------------------------------\u001b[0m",
      "\u001b[0;31mTypeError\u001b[0m                                 Traceback (most recent call last)",
      "\u001b[0;32m<ipython-input-139-c3b52b1d1209>\u001b[0m in \u001b[0;36m<module>\u001b[0;34m\u001b[0m\n\u001b[0;32m----> 1\u001b[0;31m \u001b[0mpick_order\u001b[0m\u001b[0;34m(\u001b[0m\u001b[0;34m)\u001b[0m\u001b[0;34m\u001b[0m\u001b[0;34m\u001b[0m\u001b[0m\n\u001b[0m",
      "\u001b[0;32m<ipython-input-121-43dda5d6565e>\u001b[0m in \u001b[0;36mpick_order\u001b[0;34m()\u001b[0m\n\u001b[1;32m     54\u001b[0m         \u001b[0;32mif\u001b[0m \u001b[0misinstance\u001b[0m\u001b[0;34m(\u001b[0m\u001b[0mfood_ob\u001b[0m\u001b[0;34m,\u001b[0m \u001b[0mFoodItemMod\u001b[0m\u001b[0;34m)\u001b[0m\u001b[0;34m:\u001b[0m\u001b[0;34m\u001b[0m\u001b[0;34m\u001b[0m\u001b[0m\n\u001b[1;32m     55\u001b[0m             \u001b[0mfood_id\u001b[0m \u001b[0;34m=\u001b[0m \u001b[0mfood_ob\u001b[0m\u001b[0;34m.\u001b[0m\u001b[0mfood_id\u001b[0m\u001b[0;34m\u001b[0m\u001b[0;34m\u001b[0m\u001b[0m\n\u001b[0;32m---> 56\u001b[0;31m             \u001b[0;32mreturn\u001b[0m \u001b[0mtuple\u001b[0m\u001b[0;34m(\u001b[0m\u001b[0mstr\u001b[0m\u001b[0;34m(\u001b[0m\u001b[0mtable_order\u001b[0m\u001b[0;34m.\u001b[0m\u001b[0mid\u001b[0m\u001b[0;34m)\u001b[0m\u001b[0;34m,\u001b[0m \u001b[0mstr\u001b[0m\u001b[0;34m(\u001b[0m\u001b[0morder\u001b[0m\u001b[0;34m.\u001b[0m\u001b[0mid\u001b[0m\u001b[0;34m)\u001b[0m\u001b[0;34m,\u001b[0m \u001b[0mfood_id\u001b[0m\u001b[0;34m)\u001b[0m\u001b[0;34m\u001b[0m\u001b[0;34m\u001b[0m\u001b[0m\n\u001b[0m\u001b[1;32m     57\u001b[0m         \u001b[0;32melif\u001b[0m \u001b[0mfood_ob\u001b[0m \u001b[0;34m==\u001b[0m \u001b[0;34m'all_cooking'\u001b[0m\u001b[0;34m:\u001b[0m\u001b[0;34m\u001b[0m\u001b[0;34m\u001b[0m\u001b[0m\n\u001b[1;32m     58\u001b[0m             \u001b[0mOrder\u001b[0m\u001b[0;34m.\u001b[0m\u001b[0mobjects\u001b[0m\u001b[0;34m.\u001b[0m\u001b[0mget\u001b[0m\u001b[0;34m(\u001b[0m\u001b[0mid\u001b[0m\u001b[0;34m=\u001b[0m\u001b[0morder\u001b[0m\u001b[0;34m.\u001b[0m\u001b[0mid\u001b[0m\u001b[0;34m)\u001b[0m\u001b[0;34m.\u001b[0m\u001b[0mupdate\u001b[0m\u001b[0;34m(\u001b[0m\u001b[0mset__status\u001b[0m\u001b[0;34m=\u001b[0m\u001b[0;34m'cooking'\u001b[0m\u001b[0;34m)\u001b[0m\u001b[0;34m\u001b[0m\u001b[0;34m\u001b[0m\u001b[0m\n",
      "\u001b[0;31mTypeError\u001b[0m: tuple expected at most 1 arguments, got 3"
     ]
    }
   ],
   "source": [
    "pick_order()"
   ]
  },
  {
   "cell_type": "code",
   "execution_count": 290,
   "metadata": {
    "scrolled": true
   },
   "outputs": [
    {
     "data": {
      "text/plain": [
       "1"
      ]
     },
     "execution_count": 290,
     "metadata": {},
     "output_type": "execute_result"
    }
   ],
   "source": [
    "TableOrder.drop_collection()\n",
    "\n",
    "Order.drop_collection()\n",
    "\n",
    "Restaurant.objects[0].update(set__tableorders=[])"
   ]
  },
  {
   "cell_type": "code",
   "execution_count": 197,
   "metadata": {
    "scrolled": false
   },
   "outputs": [
    {
     "data": {
      "text/plain": [
       "'Mohini'"
      ]
     },
     "execution_count": 197,
     "metadata": {},
     "output_type": "execute_result"
    }
   ],
   "source": [
    "send_assistance_req(str(assistance_req(generate_asstype()).id))"
   ]
  },
  {
   "cell_type": "code",
   "execution_count": 118,
   "metadata": {
    "collapsed": true
   },
   "outputs": [
    {
     "ename": "ValueError",
     "evalue": "The source SON object needs to be of type 'dict' but a '<class 'str'>' was found",
     "output_type": "error",
     "traceback": [
      "\u001b[0;31m---------------------------------------------------------------------------\u001b[0m",
      "\u001b[0;31mValueError\u001b[0m                                Traceback (most recent call last)",
      "\u001b[0;32m<ipython-input-118-1f69a89530d8>\u001b[0m in \u001b[0;36m<module>\u001b[0;34m\u001b[0m\n\u001b[0;32m----> 1\u001b[0;31m \u001b[0morder_placement\u001b[0m\u001b[0;34m(\u001b[0m\u001b[0mgenerate_order\u001b[0m\u001b[0;34m(\u001b[0m\u001b[0;34m)\u001b[0m\u001b[0;34m)\u001b[0m\u001b[0;34m\u001b[0m\u001b[0;34m\u001b[0m\u001b[0m\n\u001b[0m",
      "\u001b[0;32m<ipython-input-79-f80b6d6ec76a>\u001b[0m in \u001b[0;36morder_placement\u001b[0;34m(input_order)\u001b[0m\n\u001b[1;32m     13\u001b[0m     \u001b[0mtableorder\u001b[0m \u001b[0;34m=\u001b[0m \u001b[0mTableOrder\u001b[0m\u001b[0;34m(\u001b[0m\u001b[0mtable\u001b[0m\u001b[0;34m=\u001b[0m\u001b[0mstr\u001b[0m\u001b[0;34m(\u001b[0m\u001b[0mordered_table\u001b[0m\u001b[0;34m.\u001b[0m\u001b[0mname\u001b[0m\u001b[0;34m)\u001b[0m\u001b[0;34m,\u001b[0m\u001b[0mtable_id\u001b[0m\u001b[0;34m=\u001b[0m\u001b[0mstr\u001b[0m\u001b[0;34m(\u001b[0m\u001b[0mordered_table\u001b[0m\u001b[0;34m.\u001b[0m\u001b[0mname\u001b[0m\u001b[0;34m)\u001b[0m\u001b[0;34m,\u001b[0m\u001b[0mtimestamp\u001b[0m\u001b[0;34m=\u001b[0m\u001b[0mdatetime\u001b[0m\u001b[0;34m.\u001b[0m\u001b[0mdatetime\u001b[0m\u001b[0;34m.\u001b[0m\u001b[0mnow\u001b[0m\u001b[0;34m(\u001b[0m\u001b[0;34m)\u001b[0m\u001b[0;34m)\u001b[0m\u001b[0;34m\u001b[0m\u001b[0;34m\u001b[0m\u001b[0m\n\u001b[1;32m     14\u001b[0m     \u001b[0;32mfor\u001b[0m \u001b[0morder\u001b[0m \u001b[0;32min\u001b[0m \u001b[0minput_order\u001b[0m\u001b[0;34m[\u001b[0m\u001b[0;34m'orders'\u001b[0m\u001b[0;34m]\u001b[0m\u001b[0;34m:\u001b[0m\u001b[0;34m\u001b[0m\u001b[0;34m\u001b[0m\u001b[0m\n\u001b[0;32m---> 15\u001b[0;31m         \u001b[0mfoodlist\u001b[0m\u001b[0;34m=\u001b[0m\u001b[0;34m[\u001b[0m\u001b[0mFoodItemMod\u001b[0m\u001b[0;34m.\u001b[0m\u001b[0mfrom_json\u001b[0m\u001b[0;34m(\u001b[0m\u001b[0mjson_util\u001b[0m\u001b[0;34m.\u001b[0m\u001b[0mdumps\u001b[0m\u001b[0;34m(\u001b[0m\u001b[0mfood_dict\u001b[0m\u001b[0;34m)\u001b[0m\u001b[0;34m)\u001b[0m \u001b[0;32mfor\u001b[0m \u001b[0mfood_dict\u001b[0m \u001b[0;32min\u001b[0m \u001b[0morder\u001b[0m\u001b[0;34m[\u001b[0m\u001b[0;34m'foodlist'\u001b[0m\u001b[0;34m]\u001b[0m\u001b[0;34m]\u001b[0m\u001b[0;34m\u001b[0m\u001b[0;34m\u001b[0m\u001b[0m\n\u001b[0m\u001b[1;32m     16\u001b[0m         \u001b[0mtableorder\u001b[0m\u001b[0;34m.\u001b[0m\u001b[0morders\u001b[0m\u001b[0;34m.\u001b[0m\u001b[0mappend\u001b[0m\u001b[0;34m(\u001b[0m\u001b[0mOrder\u001b[0m\u001b[0;34m(\u001b[0m\u001b[0mplacedby\u001b[0m\u001b[0;34m=\u001b[0m\u001b[0mUser\u001b[0m\u001b[0;34m.\u001b[0m\u001b[0mobjects\u001b[0m\u001b[0;34m.\u001b[0m\u001b[0mget\u001b[0m\u001b[0;34m(\u001b[0m\u001b[0mid\u001b[0m\u001b[0;34m=\u001b[0m\u001b[0morder\u001b[0m\u001b[0;34m[\u001b[0m\u001b[0;34m'placedby'\u001b[0m\u001b[0;34m]\u001b[0m\u001b[0;34m)\u001b[0m\u001b[0;34m.\u001b[0m\u001b[0mto_dbref\u001b[0m\u001b[0;34m(\u001b[0m\u001b[0;34m)\u001b[0m\u001b[0;34m,\u001b[0m\u001b[0mfoodlist\u001b[0m\u001b[0;34m=\u001b[0m\u001b[0mfoodlist\u001b[0m\u001b[0;34m)\u001b[0m\u001b[0;34m.\u001b[0m\u001b[0msave\u001b[0m\u001b[0;34m(\u001b[0m\u001b[0;34m)\u001b[0m\u001b[0;34m.\u001b[0m\u001b[0mto_dbref\u001b[0m\u001b[0;34m(\u001b[0m\u001b[0;34m)\u001b[0m\u001b[0;34m)\u001b[0m\u001b[0;34m\u001b[0m\u001b[0;34m\u001b[0m\u001b[0m\n\u001b[1;32m     17\u001b[0m         \u001b[0mtableorder\u001b[0m\u001b[0;34m.\u001b[0m\u001b[0mtimestamp\u001b[0m\u001b[0;34m=\u001b[0m\u001b[0mdatetime\u001b[0m\u001b[0;34m.\u001b[0m\u001b[0mdatetime\u001b[0m\u001b[0;34m.\u001b[0m\u001b[0mnow\u001b[0m\u001b[0;34m(\u001b[0m\u001b[0;34m)\u001b[0m\u001b[0;34m\u001b[0m\u001b[0;34m\u001b[0m\u001b[0m\n",
      "\u001b[0;32m<ipython-input-79-f80b6d6ec76a>\u001b[0m in \u001b[0;36m<listcomp>\u001b[0;34m(.0)\u001b[0m\n\u001b[1;32m     13\u001b[0m     \u001b[0mtableorder\u001b[0m \u001b[0;34m=\u001b[0m \u001b[0mTableOrder\u001b[0m\u001b[0;34m(\u001b[0m\u001b[0mtable\u001b[0m\u001b[0;34m=\u001b[0m\u001b[0mstr\u001b[0m\u001b[0;34m(\u001b[0m\u001b[0mordered_table\u001b[0m\u001b[0;34m.\u001b[0m\u001b[0mname\u001b[0m\u001b[0;34m)\u001b[0m\u001b[0;34m,\u001b[0m\u001b[0mtable_id\u001b[0m\u001b[0;34m=\u001b[0m\u001b[0mstr\u001b[0m\u001b[0;34m(\u001b[0m\u001b[0mordered_table\u001b[0m\u001b[0;34m.\u001b[0m\u001b[0mname\u001b[0m\u001b[0;34m)\u001b[0m\u001b[0;34m,\u001b[0m\u001b[0mtimestamp\u001b[0m\u001b[0;34m=\u001b[0m\u001b[0mdatetime\u001b[0m\u001b[0;34m.\u001b[0m\u001b[0mdatetime\u001b[0m\u001b[0;34m.\u001b[0m\u001b[0mnow\u001b[0m\u001b[0;34m(\u001b[0m\u001b[0;34m)\u001b[0m\u001b[0;34m)\u001b[0m\u001b[0;34m\u001b[0m\u001b[0;34m\u001b[0m\u001b[0m\n\u001b[1;32m     14\u001b[0m     \u001b[0;32mfor\u001b[0m \u001b[0morder\u001b[0m \u001b[0;32min\u001b[0m \u001b[0minput_order\u001b[0m\u001b[0;34m[\u001b[0m\u001b[0;34m'orders'\u001b[0m\u001b[0;34m]\u001b[0m\u001b[0;34m:\u001b[0m\u001b[0;34m\u001b[0m\u001b[0;34m\u001b[0m\u001b[0m\n\u001b[0;32m---> 15\u001b[0;31m         \u001b[0mfoodlist\u001b[0m\u001b[0;34m=\u001b[0m\u001b[0;34m[\u001b[0m\u001b[0mFoodItemMod\u001b[0m\u001b[0;34m.\u001b[0m\u001b[0mfrom_json\u001b[0m\u001b[0;34m(\u001b[0m\u001b[0mjson_util\u001b[0m\u001b[0;34m.\u001b[0m\u001b[0mdumps\u001b[0m\u001b[0;34m(\u001b[0m\u001b[0mfood_dict\u001b[0m\u001b[0;34m)\u001b[0m\u001b[0;34m)\u001b[0m \u001b[0;32mfor\u001b[0m \u001b[0mfood_dict\u001b[0m \u001b[0;32min\u001b[0m \u001b[0morder\u001b[0m\u001b[0;34m[\u001b[0m\u001b[0;34m'foodlist'\u001b[0m\u001b[0;34m]\u001b[0m\u001b[0;34m]\u001b[0m\u001b[0;34m\u001b[0m\u001b[0;34m\u001b[0m\u001b[0m\n\u001b[0m\u001b[1;32m     16\u001b[0m         \u001b[0mtableorder\u001b[0m\u001b[0;34m.\u001b[0m\u001b[0morders\u001b[0m\u001b[0;34m.\u001b[0m\u001b[0mappend\u001b[0m\u001b[0;34m(\u001b[0m\u001b[0mOrder\u001b[0m\u001b[0;34m(\u001b[0m\u001b[0mplacedby\u001b[0m\u001b[0;34m=\u001b[0m\u001b[0mUser\u001b[0m\u001b[0;34m.\u001b[0m\u001b[0mobjects\u001b[0m\u001b[0;34m.\u001b[0m\u001b[0mget\u001b[0m\u001b[0;34m(\u001b[0m\u001b[0mid\u001b[0m\u001b[0;34m=\u001b[0m\u001b[0morder\u001b[0m\u001b[0;34m[\u001b[0m\u001b[0;34m'placedby'\u001b[0m\u001b[0;34m]\u001b[0m\u001b[0;34m)\u001b[0m\u001b[0;34m.\u001b[0m\u001b[0mto_dbref\u001b[0m\u001b[0;34m(\u001b[0m\u001b[0;34m)\u001b[0m\u001b[0;34m,\u001b[0m\u001b[0mfoodlist\u001b[0m\u001b[0;34m=\u001b[0m\u001b[0mfoodlist\u001b[0m\u001b[0;34m)\u001b[0m\u001b[0;34m.\u001b[0m\u001b[0msave\u001b[0m\u001b[0;34m(\u001b[0m\u001b[0;34m)\u001b[0m\u001b[0;34m.\u001b[0m\u001b[0mto_dbref\u001b[0m\u001b[0;34m(\u001b[0m\u001b[0;34m)\u001b[0m\u001b[0;34m)\u001b[0m\u001b[0;34m\u001b[0m\u001b[0;34m\u001b[0m\u001b[0m\n\u001b[1;32m     17\u001b[0m         \u001b[0mtableorder\u001b[0m\u001b[0;34m.\u001b[0m\u001b[0mtimestamp\u001b[0m\u001b[0;34m=\u001b[0m\u001b[0mdatetime\u001b[0m\u001b[0;34m.\u001b[0m\u001b[0mdatetime\u001b[0m\u001b[0;34m.\u001b[0m\u001b[0mnow\u001b[0m\u001b[0;34m(\u001b[0m\u001b[0;34m)\u001b[0m\u001b[0;34m\u001b[0m\u001b[0;34m\u001b[0m\u001b[0m\n",
      "\u001b[0;32m~/miniconda3/lib/python3.7/site-packages/mongoengine/base/document.py\u001b[0m in \u001b[0;36mfrom_json\u001b[0;34m(cls, json_data, created)\u001b[0m\n\u001b[1;32m    479\u001b[0m         \u001b[0;31m# in the DB, you would likely retrieve it from MongoDB itself through\u001b[0m\u001b[0;34m\u001b[0m\u001b[0;34m\u001b[0m\u001b[0;34m\u001b[0m\u001b[0m\n\u001b[1;32m    480\u001b[0m         \u001b[0;31m# a query, not load it from JSON data.\u001b[0m\u001b[0;34m\u001b[0m\u001b[0;34m\u001b[0m\u001b[0;34m\u001b[0m\u001b[0m\n\u001b[0;32m--> 481\u001b[0;31m         \u001b[0;32mreturn\u001b[0m \u001b[0mcls\u001b[0m\u001b[0;34m.\u001b[0m\u001b[0m_from_son\u001b[0m\u001b[0;34m(\u001b[0m\u001b[0mjson_util\u001b[0m\u001b[0;34m.\u001b[0m\u001b[0mloads\u001b[0m\u001b[0;34m(\u001b[0m\u001b[0mjson_data\u001b[0m\u001b[0;34m)\u001b[0m\u001b[0;34m,\u001b[0m \u001b[0mcreated\u001b[0m\u001b[0;34m=\u001b[0m\u001b[0mcreated\u001b[0m\u001b[0;34m)\u001b[0m\u001b[0;34m\u001b[0m\u001b[0;34m\u001b[0m\u001b[0m\n\u001b[0m\u001b[1;32m    482\u001b[0m \u001b[0;34m\u001b[0m\u001b[0m\n\u001b[1;32m    483\u001b[0m     \u001b[0;32mdef\u001b[0m \u001b[0m__expand_dynamic_values\u001b[0m\u001b[0;34m(\u001b[0m\u001b[0mself\u001b[0m\u001b[0;34m,\u001b[0m \u001b[0mname\u001b[0m\u001b[0;34m,\u001b[0m \u001b[0mvalue\u001b[0m\u001b[0;34m)\u001b[0m\u001b[0;34m:\u001b[0m\u001b[0;34m\u001b[0m\u001b[0;34m\u001b[0m\u001b[0m\n",
      "\u001b[0;32m~/miniconda3/lib/python3.7/site-packages/mongoengine/base/document.py\u001b[0m in \u001b[0;36m_from_son\u001b[0;34m(cls, son, _auto_dereference, only_fields, created)\u001b[0m\n\u001b[1;32m    735\u001b[0m             raise ValueError(\n\u001b[1;32m    736\u001b[0m                 \u001b[0;34m\"The source SON object needs to be of type 'dict' but a '%s' was found\"\u001b[0m\u001b[0;34m\u001b[0m\u001b[0;34m\u001b[0m\u001b[0m\n\u001b[0;32m--> 737\u001b[0;31m                 \u001b[0;34m%\u001b[0m \u001b[0mtype\u001b[0m\u001b[0;34m(\u001b[0m\u001b[0mson\u001b[0m\u001b[0;34m)\u001b[0m\u001b[0;34m\u001b[0m\u001b[0;34m\u001b[0m\u001b[0m\n\u001b[0m\u001b[1;32m    738\u001b[0m             )\n\u001b[1;32m    739\u001b[0m \u001b[0;34m\u001b[0m\u001b[0m\n",
      "\u001b[0;31mValueError\u001b[0m: The source SON object needs to be of type 'dict' but a '<class 'str'>' was found"
     ]
    }
   ],
   "source": [
    "order_placement(generate_order())"
   ]
  },
  {
   "cell_type": "code",
   "execution_count": 144,
   "metadata": {},
   "outputs": [
    {
     "data": {
      "text/plain": [
       "'Done'"
      ]
     },
     "execution_count": 144,
     "metadata": {},
     "output_type": "execute_result"
    }
   ],
   "source": [
    "status_tuple=pick_order()\n",
    "\n",
    "order_status_cooking(status_tuple)"
   ]
  },
  {
   "cell_type": "code",
   "execution_count": 264,
   "metadata": {
    "scrolled": false
   },
   "outputs": [
    {
     "data": {
      "text/plain": [
       "'Done'"
      ]
     },
     "execution_count": 264,
     "metadata": {},
     "output_type": "execute_result"
    }
   ],
   "source": [
    "status_tuple=pick_order2()\n",
    "\n",
    "order_status_completed(status_tuple)"
   ]
  },
  {
   "cell_type": "markdown",
   "metadata": {
    "heading_collapsed": true
   },
   "source": [
    "# Configuring Restaurant"
   ]
  },
  {
   "cell_type": "code",
   "execution_count": 134,
   "metadata": {
    "code_folding": [
     3,
     5,
     7,
     9,
     11,
     16,
     26,
     33,
     43,
     47,
     51,
     57,
     62,
     68,
     73,
     79,
     88,
     96,
     97,
     106,
     110,
     119,
     123,
     127,
     131,
     136,
     141,
     146
    ],
    "hidden": true
   },
   "outputs": [],
   "source": [
    "def configuring_restaurant(message):\n",
    "    [request_type, element_type] = message['type'].split('_', 1)\n",
    "\n",
    "    if element_type == 'tables':\n",
    "        return configuring_tables(request_type, message)\n",
    "    elif element_type == 'staff':\n",
    "        return configuring_staff(request_type, message)\n",
    "    elif element_type == 'food_menu':\n",
    "        return configuring_food_menu(request_type, message)\n",
    "    elif element_type == 'bar_menu':\n",
    "        return configuring_bar_menu(request_type, message)\n",
    "    elif element_type == 'food_item':\n",
    "        return configuring_food_item(request_type, message)\n",
    "\n",
    "\n",
    "def configuring_tables(request_type, message):\n",
    "    if request_type == 'add':\n",
    "        table_objects = []\n",
    "        table_dict_list = []\n",
    "        for table_pair in message['tables']:\n",
    "            new_table = Table(name=table_pair['table_name'], seats=table_pair['seats']).save()\n",
    "            table_objects.append(new_table.to_dbref())\n",
    "            table_dict_list.append({**{'table_id': str(new_table.id)}, **table_pair})\n",
    "        Restaurant.objects(restaurant_id=message['restaurant_id'])[0].update(push_all__tables=table_objects)\n",
    "        message['tables'] = table_dict_list\n",
    "        return message\n",
    "    elif request_type == 'delete':\n",
    "        Table.objects.get(id=message['table_id']).delete()\n",
    "        message['status'] = \"Table Deleted\"\n",
    "        return message\n",
    "\n",
    "\n",
    "def configuring_staff(request_type, message):\n",
    "    if request_type == 'add':\n",
    "        staff_objects = []\n",
    "        staff_dict_list = []\n",
    "        for staff_pair in message['staff']:\n",
    "            new_staff = Staff(name=staff_pair['staff_name']).save()\n",
    "            staff_objects.append(new_staff.to_dbref())\n",
    "            staff_dict_list.append({**{'staff_id': str(new_staff.id)}, **staff_pair})\n",
    "        Restaurant.objects(restaurant_id=message['restaurant_id'])[0].update(push_all__staff=staff_objects)\n",
    "        message['staff'] = staff_dict_list\n",
    "        return message\n",
    "    elif request_type == 'delete':\n",
    "        Staff.objects.get(id=message['staff_id']).delete()\n",
    "        message['status'] = \"Staff Deleted\"\n",
    "        return message\n",
    "    elif request_type == 'assign':\n",
    "        for staff_id in message['assigned_staff']:\n",
    "            Table.objects.get(id=message['table_id']).update(push__staff=Staff.objects.get(id=staff_id))\n",
    "        return {**message,**{'status':'Staff Assigned'}}\n",
    "    elif request_type == 'withdraw':\n",
    "        for staff_id in message['remove_staff_list']:\n",
    "            Table.objects.get(id=message['table_id']).update(pull__staff=Staff.objects.get(id=staff_id))\n",
    "        return {**message,**{'status':'Staff Removed'}}\n",
    "\n",
    "def configuring_food_menu(request_type,message):\n",
    "    if request_type=='add':\n",
    "        category_object = Category.from_json(json_util.dumps(message['category'])).save()\n",
    "        Restaurant.objects(restaurant_id=message['restaurant_id'])[0].update(push__food_menu=category_object.to_dbref())\n",
    "        message['category']['category_id'] = str(category_object.id)\n",
    "        return message\n",
    "    elif request_type=='delete':\n",
    "        Category.objects.get(id=message['category_id']).delete()\n",
    "        message['status'] = \"Food Menu Deleted\"\n",
    "        return message\n",
    "\n",
    "def configuring_bar_menu(request_type, message):\n",
    "    if request_type=='add':\n",
    "        category_object = Category.from_json(json_util.dumps(message['category'])).save()\n",
    "        Restaurant.objects(restaurant_id=message['restaurant_id'])[0].update(push__bar_menu=category_object.to_dbref())\n",
    "        message['category']['category_id'] = str(category_object.id)\n",
    "        return message\n",
    "    elif request_type=='delete':\n",
    "        Category.objects.get(id=message['category_id']).delete()\n",
    "        message['status'] = \"Bar Menu Deleted\"\n",
    "        return message\n",
    "    \n",
    "def configuring_food_item(request_type,message):\n",
    "    if request_type=='add':\n",
    "        options = {}\n",
    "        for dictionary in message['food_dict']['food_options']['options']:\n",
    "            options = {**options, **dictionary}\n",
    "        message['food_dict']['food_options']['options'] = options\n",
    "        food_object = FoodItem.from_json(json_util.dumps(message['food_dict'])).save()\n",
    "        Category.objects(id=message['category_id'])[0].update(push__food_list=food_object.to_dbref())\n",
    "        message['food_dict']['food_id'] = str(food_object.id)\n",
    "        return message\n",
    "    elif request_type=='delete':\n",
    "        FoodItem.objects.get(id=message['food_id']).delete()\n",
    "        message['status'] = \"Food Item Deleted\"\n",
    "        return message\n",
    "    \n",
    "    \n",
    "    \n",
    "#Old functions\n",
    "if(0):\n",
    "    if message['type'] == 'add_tables':\n",
    "        table_objects = []\n",
    "        table_dict_list = []\n",
    "        for table_pair in message['tables']:\n",
    "            new_table = Table(name=table_pair['table_name'], seats=table_pair['seats']).save()\n",
    "            table_objects.append(new_table.to_dbref())\n",
    "            table_dict_list.append({**{'table_id': str(new_table.id)}, **table_pair})\n",
    "        Restaurant.objects(restaurant_id=message['restaurant_id'])[0].update(push_all__tables=table_objects)\n",
    "        return {\"restaurant_id\": message['restaurant_id'], \"type\": \"add_tables\", \"tables\": table_dict_list}\n",
    "    elif message['type'] == 'delete_tables':\n",
    "        Table.objects.get(id=message['table_id']).delete()\n",
    "        message['status'] = \"Table Deleted\"\n",
    "        return message\n",
    "    elif message['type'] == 'add_staff':\n",
    "        staff_objects = []\n",
    "        staff_dict_list = []\n",
    "        for staff_pair in message['staff']:\n",
    "            new_staff = Staff(name=staff_pair['staff_name']).save()\n",
    "            staff_objects.append(new_staff.to_dbref())\n",
    "            staff_dict_list.append({**{'staff_id': str(new_staff.id)}, **staff_pair})\n",
    "        Restaurant.objects(restaurant_id=message['restaurant_id'])[0].update(push_all__staff=staff_objects)\n",
    "        return {\"restaurant_id\": message['restaurant_id'], \"type\": \"add_staff\", \"staff\": staff_dict_list}\n",
    "    elif message['type'] == 'delete_staff':\n",
    "        Staff.objects.get(id=message['staff_id']).delete()\n",
    "        message['status'] = \"Staff Deleted\"\n",
    "        return message\n",
    "    elif message['type'] == 'assign_staff':\n",
    "        for staff_id in message['assigned_staff']:\n",
    "            Table.objects.get(id=message['table_id']).update(push__staff=Staff.objects.get(id=staff_id))\n",
    "        return {**message,**{'status':'Staff Assigned'}}\n",
    "    elif message['type'] == 'withdraw_staff':\n",
    "        for staff_id in message['remove_staff_list']:\n",
    "            Table.objects.get(id=message['table_id']).update(pull__staff=Staff.objects.get(id=staff_id))\n",
    "        return {**message,**{'status':'Staff Removed'}}\n",
    "    elif message['type'] == 'add_food_menu':\n",
    "        category_object = Category.from_json(json_util.dumps(message['category'])).save()\n",
    "        Restaurant.objects(restaurant_id=message['restaurant_id'])[0].update(push__food_menu=category_object.to_dbref())\n",
    "        message['category']['category_id'] = str(category_object.id)\n",
    "        return message\n",
    "    elif message['type'] == 'delete_food_menu':\n",
    "        category_object = Category.from_json(json_util.dumps(message['category'])).save()\n",
    "        Restaurant.objects(restaurant_id=message['restaurant_id'])[0].update(push__food_menu=category_object.to_dbref())\n",
    "        message['category']['category_id'] = str(category_object.id)\n",
    "        return message\n",
    "    elif message['type'] == 'add_bar_menu':\n",
    "        category_object = Category.from_json(json_util.dumps(message['category'])).save()\n",
    "        Restaurant.objects(restaurant_id=message['restaurant_id'])[0].update(push__bar_menu=category_object.to_dbref())\n",
    "        message['category']['category_id'] = str(category_object.id)\n",
    "        return message\n",
    "    elif message['type'] == 'add_food_item':\n",
    "        options = {}\n",
    "        for dictionary in message['food_dict']['food_options']['options']:\n",
    "            options = {**options, **dictionary}\n",
    "        message['food_dict']['food_options']['options'] = options\n",
    "        food_object = FoodItem.from_json(json_util.dumps(message['food_dict'])).save()\n",
    "        Category.objects(id=message['category_id'])[0].update(push__food_list=food_object.to_dbref())\n",
    "        message['food_dict']['food_id'] = str(food_object.id)\n",
    "        return message\n"
   ]
  },
  {
   "cell_type": "code",
   "execution_count": 94,
   "metadata": {
    "hidden": true
   },
   "outputs": [],
   "source": [
    "staff_id_list=['5e901a7ccc53c3a81920f325','5e901a7ccc53c3a81920f326']"
   ]
  },
  {
   "cell_type": "code",
   "execution_count": 101,
   "metadata": {
    "hidden": true,
    "scrolled": false
   },
   "outputs": [
    {
     "data": {
      "text/plain": [
       "1"
      ]
     },
     "execution_count": 101,
     "metadata": {},
     "output_type": "execute_result"
    }
   ],
   "source": [
    "Table.objects.get(id=Restaurant.objects[0].tables[8].id).update(pull__staff=Staff.objects.get(id='5e901a7ccc53c3a81920f325'))\n"
   ]
  },
  {
   "cell_type": "code",
   "execution_count": 115,
   "metadata": {
    "hidden": true
   },
   "outputs": [],
   "source": [
    "message={'restaurant_id' : 'BNGHSR0002',\"type\":\"withdraw_staff\",\"table_id\":\"5e901a75cc53c3a81920f282\",\"remove_staff_list\":['5e901a7ccc53c3a81920f328']}"
   ]
  },
  {
   "cell_type": "code",
   "execution_count": 131,
   "metadata": {
    "hidden": true
   },
   "outputs": [
    {
     "data": {
      "text/plain": [
       "['remove', 'staff']"
      ]
     },
     "execution_count": 131,
     "metadata": {},
     "output_type": "execute_result"
    }
   ],
   "source": [
    "configuring_restaurant(message)"
   ]
  },
  {
   "cell_type": "code",
   "execution_count": 191,
   "metadata": {
    "hidden": true
   },
   "outputs": [],
   "source": [
    "message={'restaurant_id' : 'BNGHSR0002',\"type\":\"add_food_item\",\"category_id\":\"5e8f6b30cc53c3a81920eeee\",\"food_dict\":{\"name\":\"Budweiser Magnum\", \"description\":\"Budweiser, the king of beers. Be a king, drink Budweiser\",\"price\":\"180/210\",\"food_options\":{\"options\":[{\"Large\":\"210\"},{\"Small\":\"180\"},{\"Medium\":\"210\"},{\"XL\":\"180\"}],\"choices\":[\"Magnum\",\"Premium\"]}}}"
   ]
  },
  {
   "cell_type": "code",
   "execution_count": 242,
   "metadata": {
    "hidden": true,
    "scrolled": true
   },
   "outputs": [
    {
     "data": {
      "text/plain": [
       "{'restaurant_id': 'BNGHSR0002',\n",
       " 'type': 'add_food_menu',\n",
       " 'category': {'name': 'Yenda', 'category_id': '5e93eafacc53c3a81920f32b'}}"
      ]
     },
     "execution_count": 242,
     "metadata": {},
     "output_type": "execute_result"
    }
   ],
   "source": [
    "configuring_restaurant(message)"
   ]
  },
  {
   "cell_type": "code",
   "execution_count": 127,
   "metadata": {
    "hidden": true,
    "scrolled": true
   },
   "outputs": [
    {
     "data": {
      "text/plain": [
       "1"
      ]
     },
     "execution_count": 127,
     "metadata": {},
     "output_type": "execute_result"
    }
   ],
   "source": [
    "Restaurant.objects(restaurant_id='BNGHSR0002')[0].update(push__bar_menu=Category(name='Cat Bites').save())\n"
   ]
  },
  {
   "cell_type": "code",
   "execution_count": 128,
   "metadata": {
    "hidden": true
   },
   "outputs": [
    {
     "data": {
      "text/plain": [
       "[<Category: Category object>, <Category: Category object>]"
      ]
     },
     "execution_count": 128,
     "metadata": {},
     "output_type": "execute_result"
    }
   ],
   "source": [
    "Restaurant.objects[1].bar_menu"
   ]
  },
  {
   "cell_type": "code",
   "execution_count": 46,
   "metadata": {
    "hidden": true,
    "scrolled": true
   },
   "outputs": [
    {
     "name": "stdout",
     "output_type": "stream",
     "text": [
      "5e8e111a5aec4edf9748b6af\n",
      "5e8eb87213d727138edc63c5\n"
     ]
    }
   ],
   "source": [
    "for staff in Restaurant.objects[1].tables:\n",
    "    print(staff.id)"
   ]
  },
  {
   "cell_type": "code",
   "execution_count": 51,
   "metadata": {
    "hidden": true,
    "scrolled": false
   },
   "outputs": [
    {
     "name": "stdout",
     "output_type": "stream",
     "text": [
      "5e8e11255aec4edf9748b6b0\n",
      "5e8eb87b13d727138edc63c6\n"
     ]
    }
   ],
   "source": [
    "for staff in Restaurant.objects[1].staff:\n",
    "    print(staff.id)"
   ]
  },
  {
   "cell_type": "code",
   "execution_count": 408,
   "metadata": {
    "hidden": true,
    "scrolled": true
   },
   "outputs": [
    {
     "data": {
      "text/plain": [
       "{'restaurant_id': 'BNGHSR0002',\n",
       " 'type': 'add_servers',\n",
       " 'servers': [{'name': 'Chikka'}]}"
      ]
     },
     "execution_count": 408,
     "metadata": {},
     "output_type": "execute_result"
    }
   ],
   "source": [
    "message"
   ]
  },
  {
   "cell_type": "code",
   "execution_count": 390,
   "metadata": {
    "hidden": true,
    "scrolled": false
   },
   "outputs": [
    {
     "data": {
      "text/plain": [
       "[{'table_id': '5e8cb9539c69d718046f4a1f', 'table_name': 'Table 6', 'seats': 6},\n",
       " {'table_id': '5e8cb9539c69d718046f4a20', 'table_name': 'Table 5', 'seats': 6},\n",
       " {'table_id': '5e8cb9539c69d718046f4a21', 'table_name': 'Table 3', 'seats': 6}]"
      ]
     },
     "execution_count": 390,
     "metadata": {},
     "output_type": "execute_result"
    }
   ],
   "source": [
    "configuring_restaurant({\n",
    "    'restaurant_id' : 'BNGHSR0002',\n",
    "    'type':'add_tables',\n",
    "    'tables':[{'table_name':'Table 6','seats':6},{'table_name':'Table 5','seats':6},{'table_name':'Table 3','seats':6}]\n",
    "})"
   ]
  },
  {
   "cell_type": "code",
   "execution_count": 147,
   "metadata": {
    "code_folding": [
     4,
     6,
     32,
     35,
     45,
     53,
     56,
     66
    ],
    "collapsed": true,
    "hidden": true
   },
   "outputs": [
    {
     "ename": "KeyError",
     "evalue": "'placedby'",
     "output_type": "error",
     "traceback": [
      "\u001b[0;31m---------------------------------------------------------------------------\u001b[0m",
      "\u001b[0;31mKeyError\u001b[0m                                  Traceback (most recent call last)",
      "\u001b[0;32m<ipython-input-147-0c269d2cf795>\u001b[0m in \u001b[0;36m<module>\u001b[0;34m\u001b[0m\n\u001b[1;32m     46\u001b[0m                 \u001b[0;32melse\u001b[0m\u001b[0;34m:\u001b[0m\u001b[0;34m\u001b[0m\u001b[0;34m\u001b[0m\u001b[0m\n\u001b[1;32m     47\u001b[0m                     \u001b[0mt_app_dict\u001b[0m\u001b[0;34m=\u001b[0m\u001b[0;34m{\u001b[0m\u001b[0mk\u001b[0m\u001b[0;34m:\u001b[0m\u001b[0mtabord_dict\u001b[0m\u001b[0;34m[\u001b[0m\u001b[0mk\u001b[0m\u001b[0;34m]\u001b[0m \u001b[0;32mfor\u001b[0m \u001b[0mk\u001b[0m \u001b[0;32min\u001b[0m \u001b[0;34m[\u001b[0m\u001b[0;34m'_id'\u001b[0m\u001b[0;34m,\u001b[0m \u001b[0;34m'table'\u001b[0m\u001b[0;34m,\u001b[0m \u001b[0;34m'status'\u001b[0m\u001b[0;34m,\u001b[0m \u001b[0;34m'timestamp'\u001b[0m\u001b[0;34m]\u001b[0m\u001b[0;34m}\u001b[0m\u001b[0;34m\u001b[0m\u001b[0;34m\u001b[0m\u001b[0m\n\u001b[0;32m---> 48\u001b[0;31m                     \u001b[0mo_app_dict\u001b[0m\u001b[0;34m=\u001b[0m\u001b[0;34m{\u001b[0m\u001b[0mk\u001b[0m\u001b[0;34m:\u001b[0m\u001b[0morder\u001b[0m\u001b[0;34m[\u001b[0m\u001b[0mk\u001b[0m\u001b[0;34m]\u001b[0m \u001b[0;32mfor\u001b[0m \u001b[0mk\u001b[0m \u001b[0;32min\u001b[0m \u001b[0;34m[\u001b[0m\u001b[0;34m'_id'\u001b[0m\u001b[0;34m,\u001b[0m \u001b[0;34m'placedby'\u001b[0m\u001b[0;34m,\u001b[0m \u001b[0;34m'status'\u001b[0m\u001b[0;34m]\u001b[0m\u001b[0;34m}\u001b[0m\u001b[0;34m\u001b[0m\u001b[0;34m\u001b[0m\u001b[0m\n\u001b[0m\u001b[1;32m     49\u001b[0m                     \u001b[0mo_app_dict\u001b[0m\u001b[0;34m[\u001b[0m\u001b[0;34m'foodlist'\u001b[0m\u001b[0;34m]\u001b[0m\u001b[0;34m=\u001b[0m\u001b[0;34m[\u001b[0m\u001b[0;34m]\u001b[0m\u001b[0;34m\u001b[0m\u001b[0;34m\u001b[0m\u001b[0m\n\u001b[1;32m     50\u001b[0m                     \u001b[0mo_app_dict\u001b[0m\u001b[0;34m[\u001b[0m\u001b[0;34m'foodlist'\u001b[0m\u001b[0;34m]\u001b[0m\u001b[0;34m.\u001b[0m\u001b[0mappend\u001b[0m\u001b[0;34m(\u001b[0m\u001b[0mfood_item\u001b[0m\u001b[0;34m)\u001b[0m\u001b[0;34m\u001b[0m\u001b[0;34m\u001b[0m\u001b[0m\n",
      "\u001b[0;32m<ipython-input-147-0c269d2cf795>\u001b[0m in \u001b[0;36m<dictcomp>\u001b[0;34m(.0)\u001b[0m\n\u001b[1;32m     46\u001b[0m                 \u001b[0;32melse\u001b[0m\u001b[0;34m:\u001b[0m\u001b[0;34m\u001b[0m\u001b[0;34m\u001b[0m\u001b[0m\n\u001b[1;32m     47\u001b[0m                     \u001b[0mt_app_dict\u001b[0m\u001b[0;34m=\u001b[0m\u001b[0;34m{\u001b[0m\u001b[0mk\u001b[0m\u001b[0;34m:\u001b[0m\u001b[0mtabord_dict\u001b[0m\u001b[0;34m[\u001b[0m\u001b[0mk\u001b[0m\u001b[0;34m]\u001b[0m \u001b[0;32mfor\u001b[0m \u001b[0mk\u001b[0m \u001b[0;32min\u001b[0m \u001b[0;34m[\u001b[0m\u001b[0;34m'_id'\u001b[0m\u001b[0;34m,\u001b[0m \u001b[0;34m'table'\u001b[0m\u001b[0;34m,\u001b[0m \u001b[0;34m'status'\u001b[0m\u001b[0;34m,\u001b[0m \u001b[0;34m'timestamp'\u001b[0m\u001b[0;34m]\u001b[0m\u001b[0;34m}\u001b[0m\u001b[0;34m\u001b[0m\u001b[0;34m\u001b[0m\u001b[0m\n\u001b[0;32m---> 48\u001b[0;31m                     \u001b[0mo_app_dict\u001b[0m\u001b[0;34m=\u001b[0m\u001b[0;34m{\u001b[0m\u001b[0mk\u001b[0m\u001b[0;34m:\u001b[0m\u001b[0morder\u001b[0m\u001b[0;34m[\u001b[0m\u001b[0mk\u001b[0m\u001b[0;34m]\u001b[0m \u001b[0;32mfor\u001b[0m \u001b[0mk\u001b[0m \u001b[0;32min\u001b[0m \u001b[0;34m[\u001b[0m\u001b[0;34m'_id'\u001b[0m\u001b[0;34m,\u001b[0m \u001b[0;34m'placedby'\u001b[0m\u001b[0;34m,\u001b[0m \u001b[0;34m'status'\u001b[0m\u001b[0;34m]\u001b[0m\u001b[0;34m}\u001b[0m\u001b[0;34m\u001b[0m\u001b[0;34m\u001b[0m\u001b[0m\n\u001b[0m\u001b[1;32m     49\u001b[0m                     \u001b[0mo_app_dict\u001b[0m\u001b[0;34m[\u001b[0m\u001b[0;34m'foodlist'\u001b[0m\u001b[0;34m]\u001b[0m\u001b[0;34m=\u001b[0m\u001b[0;34m[\u001b[0m\u001b[0;34m]\u001b[0m\u001b[0;34m\u001b[0m\u001b[0;34m\u001b[0m\u001b[0m\n\u001b[1;32m     50\u001b[0m                     \u001b[0mo_app_dict\u001b[0m\u001b[0;34m[\u001b[0m\u001b[0;34m'foodlist'\u001b[0m\u001b[0;34m]\u001b[0m\u001b[0;34m.\u001b[0m\u001b[0mappend\u001b[0m\u001b[0;34m(\u001b[0m\u001b[0mfood_item\u001b[0m\u001b[0;34m)\u001b[0m\u001b[0;34m\u001b[0m\u001b[0;34m\u001b[0m\u001b[0m\n",
      "\u001b[0;31mKeyError\u001b[0m: 'placedby'"
     ]
    }
   ],
   "source": [
    "#Returning queue, cooking and completed lists\n",
    "q_list = []\n",
    "cook_list=[]\n",
    "comp_list =[] \n",
    "for table_order_ob in TableOrder.objects:\n",
    "    tabord_dict=json_util.loads(table_order_ob.to_json())\n",
    "    if(tabord_dict['status']=='completed'):\n",
    "        comp_dict.append(tabord_dict)\n",
    "        break\n",
    "    for order in tabord_dict['orders']:\n",
    "        for food_item in order['food_list']:\n",
    "            if(food_item['status']=='queued'):\n",
    "                update_list = q_list\n",
    "                index = check_exists(tabord_dict['_id'],update_list)\n",
    "                if(index>=0):\n",
    "                    order_index=check_exists(order['_id'],update_list[index]['orders'])\n",
    "                    if(order_index>=0):\n",
    "                        update_list[index]['orders'][order_index]['foodlist'].append(food_item)\n",
    "                    else:\n",
    "                        o_app_dict={k:order[k] for k in ['_id', 'placed_by', 'status']}\n",
    "                        o_app_dict['foodlist']=[]\n",
    "                        o_app_dict['foodlist'].append(food_item)\n",
    "                        update_list[index]['orders'].append(o_app_dict)\n",
    "                        \n",
    "                else:\n",
    "                    t_app_dict={k:tabord_dict[k] for k in ['_id', 'table', 'status', 'timestamp']}\n",
    "                    o_app_dict={k:order[k] for k in ['_id', 'placed_by', 'status']}\n",
    "                    o_app_dict['foodlist']=[]\n",
    "                    o_app_dict['foodlist'].append(food_item)\n",
    "                    t_app_dict['orders']=[]\n",
    "                    t_app_dict['orders'].append(o_app_dict)\n",
    "                    update_list.append(t_app_dict)\n",
    "            elif(food_item['status']=='cooking'):\n",
    "                update_list = cook_list\n",
    "                index = check_exists(tabord_dict['_id'],update_list)\n",
    "                if(index>=0):\n",
    "                    order_index=check_exists(order['_id'],update_list[index]['orders'])\n",
    "                    if(order_index>=0):\n",
    "                        update_list[index]['orders'][order_index]['foodlist'].append(food_item)\n",
    "                    else:\n",
    "                        o_app_dict={k:order[k] for k in ['_id', 'placedby', 'status']}\n",
    "                        o_app_dict['foodlist']=[]\n",
    "                        o_app_dict['foodlist'].append(food_item)\n",
    "                        update_list[index]['orders'].append(o_app_dict)\n",
    "                        \n",
    "                else:\n",
    "                    t_app_dict={k:tabord_dict[k] for k in ['_id', 'table', 'status', 'timestamp']}\n",
    "                    o_app_dict={k:order[k] for k in ['_id', 'placedby', 'status']}\n",
    "                    o_app_dict['foodlist']=[]\n",
    "                    o_app_dict['foodlist'].append(food_item)\n",
    "                    t_app_dict['orders']=[]\n",
    "                    t_app_dict['orders'].append(o_app_dict)\n",
    "                    update_list.append(t_app_dict)\n",
    "            elif(food_item['status']=='completed'):\n",
    "                update_list = comp_list\n",
    "                index = check_exists(tabord_dict['_id'],update_list)\n",
    "                if(index>=0):\n",
    "                    order_index=check_exists(order['_id'],update_list[index]['orders'])\n",
    "                    if(order_index>=0):\n",
    "                        update_list[index]['orders'][order_index]['foodlist'].append(food_item)\n",
    "                    else:\n",
    "                        o_app_dict={k:order[k] for k in ['_id', 'placedby', 'status']}\n",
    "                        o_app_dict['foodlist']=[]\n",
    "                        o_app_dict['foodlist'].append(food_item)\n",
    "                        update_list[index]['orders'].append(o_app_dict)\n",
    "                        \n",
    "                else:\n",
    "                    t_app_dict={k:tabord_dict[k] for k in ['_id', 'table', 'status', 'timestamp']}\n",
    "                    o_app_dict={k:order[k] for k in ['_id', 'placedby', 'status']}\n",
    "                    o_app_dict['foodlist']=[]\n",
    "                    o_app_dict['foodlist'].append(food_item)\n",
    "                    t_app_dict['orders']=[]\n",
    "                    t_app_dict['orders'].append(o_app_dict)\n",
    "                    update_list.append(t_app_dict)"
   ]
  },
  {
   "cell_type": "markdown",
   "metadata": {
    "heading_collapsed": true
   },
   "source": [
    "# Returning restaurant object"
   ]
  },
  {
   "cell_type": "code",
   "execution_count": 140,
   "metadata": {
    "collapsed": true,
    "hidden": true
   },
   "outputs": [
    {
     "name": "stdout",
     "output_type": "stream",
     "text": [
      "{'_id': ObjectId('5e901a74cc53c3a81920f278'),\n",
      " 'assistance_reqs': [],\n",
      " 'bar_menu': [],\n",
      " 'food_menu': [],\n",
      " 'name': 'House of Commons',\n",
      " 'restaurant_id': 'BNGHSR0001',\n",
      " 'staff': [],\n",
      " 'table_orders': [{'_id': ObjectId('5e90848f4584a1d3d9e641d9'),\n",
      "                   'orders': [{'_id': ObjectId('5e90848f4584a1d3d9e641d8'),\n",
      "                               'food_list': [{'description': 'Tender Mutton '\n",
      "                                                             'Pieces Tossed In '\n",
      "                                                             'South Indian '\n",
      "                                                             'Spices',\n",
      "                                              'food_id': '5e901a74cc53c3a81920f1f4',\n",
      "                                              'instructions': 'no',\n",
      "                                              'name': 'ANDHRA LAMB PEPPER FRY',\n",
      "                                              'price': '350',\n",
      "                                              'quantity': 1,\n",
      "                                              'status': 'cooking'},\n",
      "                                             {'description': 'Fred Undi '\n",
      "                                                             'Lightly Crispy & '\n",
      "                                                             'Seasoned With '\n",
      "                                                             'Lime Juice, '\n",
      "                                                             'Salt, Chilli & '\n",
      "                                                             'Pepper',\n",
      "                                              'food_id': '5e901a74cc53c3a81920f1d1',\n",
      "                                              'instructions': 'Cook with love',\n",
      "                                              'name': 'CRISPY CORN CHILLY '\n",
      "                                                      'PEPPER',\n",
      "                                              'price': '240',\n",
      "                                              'quantity': 3,\n",
      "                                              'status': 'cooking'}],\n",
      "                               'placed_by': ObjectId('5e901a75cc53c3a81920f28d'),\n",
      "                               'status': 'cooking'},\n",
      "                              {'_id': ObjectId('5e90848f4584a1d3d9e641da'),\n",
      "                               'food_list': [{'description': 'Extra Crispy '\n",
      "                                                             'Onion Rings With '\n",
      "                                                             'A Spicy Salsa',\n",
      "                                              'food_id': '5e901a77cc53c3a81920f2a0',\n",
      "                                              'instructions': 'Cook with love',\n",
      "                                              'name': 'ONION RINGS',\n",
      "                                              'price': '190',\n",
      "                                              'quantity': 1,\n",
      "                                              'status': 'cooking'},\n",
      "                                             {'description': 'Rum Infused '\n",
      "                                                             'Caribbean Lamb & '\n",
      "                                                             'Pine Nut Patty '\n",
      "                                                             'With A Centred '\n",
      "                                                             'Egg, Charred '\n",
      "                                                             'Peppers, '\n",
      "                                                             'Jalapeno Aloll, '\n",
      "                                                             'Smoked Onion '\n",
      "                                                             'Marmalade, '\n",
      "                                                             'English Cheddar '\n",
      "                                                             'Melt, French '\n",
      "                                                             'Fries With A '\n",
      "                                                             'Sage & Onion',\n",
      "                                              'food_id': '5e901a77cc53c3a81920f2e8',\n",
      "                                              'instructions': 'no',\n",
      "                                              'name': 'CAPTAIN MORGAN FLAMED '\n",
      "                                                      'LAMB',\n",
      "                                              'price': '440',\n",
      "                                              'quantity': 2,\n",
      "                                              'status': 'cooking'}],\n",
      "                               'placed_by': ObjectId('5e901a75cc53c3a81920f288'),\n",
      "                               'status': 'cooking'}],\n",
      "                   'status': 'cooking',\n",
      "                   'table': 'table11',\n",
      "                   'table_id': 'table11',\n",
      "                   'timestamp': '2020-04-10 20:07:03.517000'},\n",
      "                  {'_id': ObjectId('5e9321577a95219fa9620bb8'),\n",
      "                   'orders': [{'_id': ObjectId('5e9321577a95219fa9620bb7'),\n",
      "                               'food_list': [{'description': 'Tandoori Paneer '\n",
      "                                                             'Mirch Tikka With '\n",
      "                                                             'Green Bell '\n",
      "                                                             'Peppers, Onion '\n",
      "                                                             'roundels, Spring '\n",
      "                                                             'Greens & Mint '\n",
      "                                                             'Coulis',\n",
      "                                              'food_id': '5e901a77cc53c3a81920f2f2',\n",
      "                                              'instructions': 'no',\n",
      "                                              'name': 'PANEER TIKKA & CHARRED '\n",
      "                                                      'PEPPERS',\n",
      "                                              'price': '350',\n",
      "                                              'quantity': 1,\n",
      "                                              'status': 'queued'},\n",
      "                                             {'description': 'Cottage Cheese '\n",
      "                                                             'Cubes Tossed In '\n",
      "                                                             'A Sweet & Spicy '\n",
      "                                                             'Sauce, Finished '\n",
      "                                                             'With Sesame '\n",
      "                                                             'Seeds',\n",
      "                                              'food_id': '5e901a74cc53c3a81920f1d3',\n",
      "                                              'instructions': 'no',\n",
      "                                              'name': 'SESAME CHILLI PANEER',\n",
      "                                              'price': '270',\n",
      "                                              'quantity': 1,\n",
      "                                              'status': 'queued'},\n",
      "                                             {'description': 'Soft And Juicy '\n",
      "                                                             'Chicken Momos '\n",
      "                                                             'Marinated With '\n",
      "                                                             'Tandoori Masala '\n",
      "                                                             'And Char Grilled',\n",
      "                                              'food_id': '5e901a74cc53c3a81920f1f1',\n",
      "                                              'instructions': 'Cook with love',\n",
      "                                              'name': 'TANDOORI CHICKEN MOMOS',\n",
      "                                              'price': '260',\n",
      "                                              'quantity': 1,\n",
      "                                              'status': 'queued'},\n",
      "                                             {'description': 'Clay Oven '\n",
      "                                                             'Roasted Chicken '\n",
      "                                                             'Drumsticks',\n",
      "                                              'food_id': '5e901a74cc53c3a81920f1ec',\n",
      "                                              'instructions': 'no',\n",
      "                                              'name': 'KALMI KEBAB (3pcs)',\n",
      "                                              'price': '260',\n",
      "                                              'quantity': 1,\n",
      "                                              'status': 'queued'},\n",
      "                                             {'description': 'ASK FOR YOUR '\n",
      "                                                             'FLAVOUR. WHITE '\n",
      "                                                             'RUM, FRESH MINT, '\n",
      "                                                             'SUGAR FRESH LIME '\n",
      "                                                             '& SODA',\n",
      "                                              'food_id': '5e901a74cc53c3a81920f25d',\n",
      "                                              'instructions': 'no',\n",
      "                                              'name': 'MOJITO ',\n",
      "                                              'price': '370',\n",
      "                                              'quantity': 2,\n",
      "                                              'status': 'queued'},\n",
      "                                             {'description': 'VODKA ,TRIPLE '\n",
      "                                                             'SEC & CRANBERRY '\n",
      "                                                             'JUICE',\n",
      "                                              'food_id': '5e901a74cc53c3a81920f254',\n",
      "                                              'instructions': 'Cook with love',\n",
      "                                              'name': 'COSMOPOLITAN ',\n",
      "                                              'price': '350',\n",
      "                                              'quantity': 1,\n",
      "                                              'status': 'queued'},\n",
      "                                             {'description': 'VODKA, RUM,GIN, '\n",
      "                                                             'TEQUILA, RED '\n",
      "                                                             'WINE, PEACH, '\n",
      "                                                             'LEMONADE',\n",
      "                                              'food_id': '5e901a74cc53c3a81920f26f',\n",
      "                                              'instructions': 'no',\n",
      "                                              'name': 'HOC SUNSET PITCHER',\n",
      "                                              'price': '1190',\n",
      "                                              'quantity': 1,\n",
      "                                              'status': 'cooking'}],\n",
      "                               'placed_by': ObjectId('5e901a75cc53c3a81920f28a'),\n",
      "                               'status': 'queued'},\n",
      "                              {'_id': ObjectId('5e9321577a95219fa9620bb9'),\n",
      "                               'food_list': [{'description': 'Melange Of '\n",
      "                                                             'Crunchy Lettuce, '\n",
      "                                                             'Bell Peppers And '\n",
      "                                                             'Olives With Our '\n",
      "                                                             'Homemade '\n",
      "                                                             'Dressing',\n",
      "                                              'food_id': '5e901a77cc53c3a81920f297#veg',\n",
      "                                              'food_options': {'choices': [],\n",
      "                                                               'options': {'Veg': '180'}},\n",
      "                                              'instructions': 'no',\n",
      "                                              'name': 'HOC SALAD (Veg/Chicken)',\n",
      "                                              'price': '180/210',\n",
      "                                              'quantity': 1,\n",
      "                                              'status': 'queued'},\n",
      "                                             {'description': 'Pan Fried Fish '\n",
      "                                                             'Tossed With '\n",
      "                                                             'Shredded, Onion, '\n",
      "                                                             'Capsicum And '\n",
      "                                                             'Green Chilli',\n",
      "                                              'food_id': '5e901a77cc53c3a81920f2d7',\n",
      "                                              'instructions': 'no',\n",
      "                                              'name': 'PAN FRIED CHILLY FISH',\n",
      "                                              'price': '330',\n",
      "                                              'quantity': 3,\n",
      "                                              'status': 'queued'},\n",
      "                                             {'description': 'WHITE RUM, '\n",
      "                                                             'COCONUT & '\n",
      "                                                             'PINEAPPLE',\n",
      "                                              'food_id': '5e901a74cc53c3a81920f257',\n",
      "                                              'instructions': 'no',\n",
      "                                              'name': 'PINA COLADA ',\n",
      "                                              'price': '350',\n",
      "                                              'quantity': 1,\n",
      "                                              'status': 'queued'},\n",
      "                                             {'description': 'Slow Cooked '\n",
      "                                                             'Lentils Finished '\n",
      "                                                             'With White '\n",
      "                                                             'Butter',\n",
      "                                              'food_id': '5e901a74cc53c3a81920f22f',\n",
      "                                              'instructions': 'Cook with love',\n",
      "                                              'name': 'DAL MAKHANI',\n",
      "                                              'price': '240',\n",
      "                                              'quantity': 2,\n",
      "                                              'status': 'queued'},\n",
      "                                             {'description': 'VODKA, GIN, RUM, '\n",
      "                                                             'TEQUILA, TRIPLE '\n",
      "                                                             'SEC & COKE',\n",
      "                                              'food_id': '5e901a74cc53c3a81920f25b#butter',\n",
      "                                              'food_options': {'choices': [],\n",
      "                                                               'options': {'BUTTER': '620'}},\n",
      "                                              'instructions': 'no',\n",
      "                                              'name': 'LONG ISLAND ICED TEA ',\n",
      "                                              'price': '420/620',\n",
      "                                              'quantity': 1,\n",
      "                                              'status': 'queued'},\n",
      "                                             {'description': 'NA',\n",
      "                                              'food_id': '5e901a77cc53c3a81920f2ee#shrimps',\n",
      "                                              'food_options': {'choices': [],\n",
      "                                                               'options': {'SHRIMPS': '380'}},\n",
      "                                              'instructions': 'no',\n",
      "                                              'name': 'PENNE WITH PESTO (VEG/ '\n",
      "                                                      'CHICKEN / SHRIMPS)',\n",
      "                                              'price': '300/340/380',\n",
      "                                              'quantity': 3,\n",
      "                                              'status': 'queued'},\n",
      "                                             {'description': 'ASK FOR YOUR '\n",
      "                                                             'FLAVOUR. VODKA, '\n",
      "                                                             'FRESH LIME & '\n",
      "                                                             'SUGAR',\n",
      "                                              'food_id': '5e901a74cc53c3a81920f25e',\n",
      "                                              'instructions': 'no',\n",
      "                                              'name': 'CAIPIROSKA ',\n",
      "                                              'price': '350',\n",
      "                                              'quantity': 1,\n",
      "                                              'status': 'queued'}],\n",
      "                               'placed_by': ObjectId('5e901a75cc53c3a81920f28d'),\n",
      "                               'status': 'queued'},\n",
      "                              {'_id': ObjectId('5e9321577a95219fa9620bba'),\n",
      "                               'food_list': [{'description': 'Sweet Chilly / '\n",
      "                                                             'Spiced Szechuan',\n",
      "                                              'food_id': '5e901a77cc53c3a81920f2b3',\n",
      "                                              'instructions': 'Cook with love',\n",
      "                                              'name': 'HOC SIGNATURE CHICKEN '\n",
      "                                                      'WINGS',\n",
      "                                              'price': '260',\n",
      "                                              'quantity': 3,\n",
      "                                              'status': 'queued'},\n",
      "                                             {'description': '(veg/egg/chicken/prawns)',\n",
      "                                              'food_id': '5e901a74cc53c3a81920f238#egg',\n",
      "                                              'food_options': {'choices': [],\n",
      "                                                               'options': {'egg': '220'}},\n",
      "                                              'instructions': 'Cook with love',\n",
      "                                              'name': 'STIR FRIED RICE',\n",
      "                                              'price': '200/220/250/280',\n",
      "                                              'quantity': 1,\n",
      "                                              'status': 'queued'},\n",
      "                                             {'description': 'NA',\n",
      "                                              'food_id': '5e901a77cc53c3a81920f319',\n",
      "                                              'instructions': 'no',\n",
      "                                              'name': 'LACCHA PARATHA',\n",
      "                                              'price': '45',\n",
      "                                              'quantity': 1,\n",
      "                                              'status': 'queued'}],\n",
      "                               'placed_by': ObjectId('5e901a75cc53c3a81920f28d'),\n",
      "                               'status': 'queued'}],\n",
      "                   'status': 'queued',\n",
      "                   'table': 'table13',\n",
      "                   'table_id': 'table13',\n",
      "                   'timestamp': '2020-04-12 19:40:31.725000'},\n",
      "                  {'_id': ObjectId('5e945595758d01d5f567c8c4'),\n",
      "                   'orders': [{'_id': ObjectId('5e945595758d01d5f567c8c3'),\n",
      "                               'food_list': [{'description': 'Mushrooms Filled '\n",
      "                                                             'With A Blend Of '\n",
      "                                                             'Indian Spices '\n",
      "                                                             'And Tangy '\n",
      "                                                             'Stuffing Mix, '\n",
      "                                                             'Adding A Unique '\n",
      "                                                             'Taste On The '\n",
      "                                                             'Bite',\n",
      "                                              'food_id': '5e901a74cc53c3a81920f1d9',\n",
      "                                              'instructions': 'Cook with love',\n",
      "                                              'name': 'TANDOORI STUFFED '\n",
      "                                                      'MUSHROOMS',\n",
      "                                              'price': '250',\n",
      "                                              'quantity': 2,\n",
      "                                              'status': 'queued'},\n",
      "                                             {'description': 'Grilled Fish '\n",
      "                                                             'Fillet, With '\n",
      "                                                             'Lemon butter '\n",
      "                                                             'sauce Served '\n",
      "                                                             'With Herb Rice & '\n",
      "                                                             'saute vegetables',\n",
      "                                              'food_id': '5e901a77cc53c3a81920f2e7',\n",
      "                                              'instructions': 'no',\n",
      "                                              'name': 'GRILLED FISH',\n",
      "                                              'price': '400',\n",
      "                                              'quantity': 2,\n",
      "                                              'status': 'queued'},\n",
      "                                             {'description': 'Slow Cooked '\n",
      "                                                             'Mutton In A '\n",
      "                                                             'Spicy Onion & '\n",
      "                                                             'Tomato Gravy',\n",
      "                                              'food_id': '5e901a74cc53c3a81920f236',\n",
      "                                              'instructions': 'no',\n",
      "                                              'name': 'DUM KA GHOST',\n",
      "                                              'price': '330',\n",
      "                                              'quantity': 1,\n",
      "                                              'status': 'queued'},\n",
      "                                             {'description': 'Tandoori Paneer '\n",
      "                                                             'Mirch Tikka With '\n",
      "                                                             'Green Bell '\n",
      "                                                             'Peppers, Onion '\n",
      "                                                             'roundels, Spring '\n",
      "                                                             'Greens & Mint '\n",
      "                                                             'Coulis',\n",
      "                                              'food_id': '5e901a77cc53c3a81920f2f2',\n",
      "                                              'instructions': 'no',\n",
      "                                              'name': 'PANEER TIKKA & CHARRED '\n",
      "                                                      'PEPPERS',\n",
      "                                              'price': '350',\n",
      "                                              'quantity': 1,\n",
      "                                              'status': 'queued'},\n",
      "                                             {'description': '(veg/egg/chicken/prawns)',\n",
      "                                              'food_id': '5e901a77cc53c3a81920f30d#prawns',\n",
      "                                              'food_options': {'choices': [],\n",
      "                                                               'options': {'prawns': '280'}},\n",
      "                                              'instructions': 'no',\n",
      "                                              'name': 'STIR FRIED RICE',\n",
      "                                              'price': '200/220/250/280',\n",
      "                                              'quantity': 3,\n",
      "                                              'status': 'queued'},\n",
      "                                             {'description': 'Sauteed Button '\n",
      "                                                             'Mushroom Stuffed '\n",
      "                                                             'With Cheese & '\n",
      "                                                             'Herbs',\n",
      "                                              'food_id': '5e901a77cc53c3a81920f29c',\n",
      "                                              'instructions': 'Cook with love',\n",
      "                                              'name': 'CHAMPIGNONS FARCIS '\n",
      "                                                      '(new)',\n",
      "                                              'price': '230',\n",
      "                                              'quantity': 2,\n",
      "                                              'status': 'queued'},\n",
      "                                             {'description': 'Deep Fried Rolls '\n",
      "                                                             'With Cheese, '\n",
      "                                                             'Chill & Herbs',\n",
      "                                              'food_id': '5e901a77cc53c3a81920f29d',\n",
      "                                              'instructions': 'Cook with love',\n",
      "                                              'name': 'CHILLI CHEESE CIGARA '\n",
      "                                                      '(new)',\n",
      "                                              'price': '220',\n",
      "                                              'quantity': 1,\n",
      "                                              'status': 'queued'}],\n",
      "                               'placed_by': ObjectId('5e901a75cc53c3a81920f28a'),\n",
      "                               'status': 'queued'}],\n",
      "                   'status': 'queued',\n",
      "                   'table': 'table8',\n",
      "                   'table_id': 'table8',\n",
      "                   'timestamp': '2020-04-13 17:35:41.997000'},\n",
      "                  {'_id': ObjectId('5e95940593de14339fd74848'),\n",
      "                   'orders': [{'_id': ObjectId('5e95940593de14339fd74847'),\n",
      "                               'food_list': [{'description': 'Warm Chocolate '\n",
      "                                                             'Brownie Served '\n",
      "                                                             'With Vanilla ice '\n",
      "                                                             'cream',\n",
      "                                              'food_id': '5e901a77cc53c3a81920f31c',\n",
      "                                              'instructions': 'no',\n",
      "                                              'name': 'WALNUT BROWNIE',\n",
      "                                              'price': '170',\n",
      "                                              'quantity': 2,\n",
      "                                              'status': 'queued'},\n",
      "                                             {'description': 'Tender And Juicy '\n",
      "                                                             'Veg, Chicken Or '\n",
      "                                                             'Lamb Patties, '\n",
      "                                                             'Grilled And '\n",
      "                                                             'Served Fries '\n",
      "                                                             'With',\n",
      "                                              'food_id': '5e901a77cc53c3a81920f2df#lamb',\n",
      "                                              'food_options': {'choices': [],\n",
      "                                                               'options': {'LAMB': '300'}},\n",
      "                                              'instructions': 'Cook with love',\n",
      "                                              'name': 'CLASSIC BURGERS (VEG / '\n",
      "                                                      'CHICKEN / LAMB)',\n",
      "                                              'price': '250/280/300',\n",
      "                                              'quantity': 1,\n",
      "                                              'status': 'queued'},\n",
      "                                             {'description': 'Fish Marinated '\n",
      "                                                             'In A Spicy '\n",
      "                                                             'Tunisian Harissa '\n",
      "                                                             'Sauce And '\n",
      "                                                             'Grilled To '\n",
      "                                                             'Perfection',\n",
      "                                              'food_id': '5e901a74cc53c3a81920f1ff',\n",
      "                                              'instructions': 'no',\n",
      "                                              'name': 'HARISSA GRILLED FISH',\n",
      "                                              'price': '330',\n",
      "                                              'quantity': 1,\n",
      "                                              'status': 'queued'},\n",
      "                                             {'description': 'Ginger Chilli, '\n",
      "                                                             'Sichuan, Pepper '\n",
      "                                                             'Garlic',\n",
      "                                              'food_id': '5e901a74cc53c3a81920f22c#fish',\n",
      "                                              'food_options': {'choices': [],\n",
      "                                                               'options': {'FISH': '270'}},\n",
      "                                              'instructions': 'no',\n",
      "                                              'name': 'BASA FISH/PRAWNS WITH '\n",
      "                                                      'CHOICE OF YOUR CHOICE',\n",
      "                                              'price': '270/300',\n",
      "                                              'quantity': 1,\n",
      "                                              'status': 'queued'}],\n",
      "                               'placed_by': ObjectId('5e901a75cc53c3a81920f288'),\n",
      "                               'status': 'queued'},\n",
      "                              {'_id': ObjectId('5e95940593de14339fd74849'),\n",
      "                               'food_list': [{'description': 'Age Old English '\n",
      "                                                             'Cheddar Topped '\n",
      "                                                             'With Roast '\n",
      "                                                             'Chicken Slvers, '\n",
      "                                                             'Apple Glazed '\n",
      "                                                             'Chicken Ham, '\n",
      "                                                             'Lamb Mince, '\n",
      "                                                             'Calamari & '\n",
      "                                                             'Shrimps',\n",
      "                                              'food_id': '5e901a74cc53c3a81920f223',\n",
      "                                              'instructions': 'no',\n",
      "                                              'name': 'MIXED MEAT MAGIC',\n",
      "                                              'price': '420',\n",
      "                                              'quantity': 3,\n",
      "                                              'status': 'queued'},\n",
      "                                             {'description': 'Crumb Fried '\n",
      "                                                             'Chicken Supreme '\n",
      "                                                             'In Hoc Signature '\n",
      "                                                             'Marination, '\n",
      "                                                             'Served With '\n",
      "                                                             'French Fries',\n",
      "                                              'food_id': '5e901a74cc53c3a81920f226',\n",
      "                                              'instructions': 'Cook with love',\n",
      "                                              'name': 'CHICKEN BASKET',\n",
      "                                              'price': '350',\n",
      "                                              'quantity': 1,\n",
      "                                              'status': 'queued'},\n",
      "                                             {'description': 'Fred Undi '\n",
      "                                                             'Lightly Crispy & '\n",
      "                                                             'Seasoned With '\n",
      "                                                             'Lime Juice, '\n",
      "                                                             'Salt, Chilli & '\n",
      "                                                             'Pepper',\n",
      "                                              'food_id': '5e901a74cc53c3a81920f1d1',\n",
      "                                              'instructions': 'Cook with love',\n",
      "                                              'name': 'CRISPY CORN CHILLY '\n",
      "                                                      'PEPPER',\n",
      "                                              'price': '240',\n",
      "                                              'quantity': 1,\n",
      "                                              'status': 'queued'},\n",
      "                                             {'description': 'Flesh Flamed '\n",
      "                                                             'Tequila '\n",
      "                                                             'Marinated Lime & '\n",
      "                                                             'Chilli Chicken '\n",
      "                                                             'With Herbed '\n",
      "                                                             'Country Mash, '\n",
      "                                                             'Garden Grilled '\n",
      "                                                             'Vegetables Cumin '\n",
      "                                                             'Coffee Scented '\n",
      "                                                             'Jus',\n",
      "                                              'food_id': '5e901a74cc53c3a81920f211',\n",
      "                                              'instructions': 'no',\n",
      "                                              'name': 'TEQUILA LIME GRILLED '\n",
      "                                                      'CHICKEN',\n",
      "                                              'price': '400',\n",
      "                                              'quantity': 1,\n",
      "                                              'status': 'queued'}],\n",
      "                               'placed_by': ObjectId('5e901a75cc53c3a81920f288'),\n",
      "                               'status': 'queued'},\n",
      "                              {'_id': ObjectId('5e95940593de14339fd7484a'),\n",
      "                               'food_list': [{'description': 'Grilled '\n",
      "                                                             'Vegetable '\n",
      "                                                             'Patties, Cottage '\n",
      "                                                             'Cheese And '\n",
      "                                                             'English '\n",
      "                                                             'Vegetables, '\n",
      "                                                             'Served With '\n",
      "                                                             'French Fries',\n",
      "                                              'food_id': '5e901a77cc53c3a81920f2e2',\n",
      "                                              'instructions': 'Cook with love',\n",
      "                                              'name': 'MIXED VEGETABLE SIZZLER',\n",
      "                                              'price': '350',\n",
      "                                              'quantity': 3,\n",
      "                                              'status': 'queued'},\n",
      "                                             {'description': '(veg/egg/chicken/prawns)',\n",
      "                                              'food_id': '5e901a74cc53c3a81920f238#prawns',\n",
      "                                              'food_options': {'choices': [],\n",
      "                                                               'options': {'prawns': '280'}},\n",
      "                                              'instructions': 'no',\n",
      "                                              'name': 'STIR FRIED RICE',\n",
      "                                              'price': '200/220/250/280',\n",
      "                                              'quantity': 2,\n",
      "                                              'status': 'queued'},\n",
      "                                             {'description': 'Crumb Fried Fish '\n",
      "                                                             'In Hoc Signature '\n",
      "                                                             'Marination, '\n",
      "                                                             'Served With '\n",
      "                                                             'French Fries',\n",
      "                                              'food_id': '5e901a74cc53c3a81920f225',\n",
      "                                              'instructions': 'no',\n",
      "                                              'name': 'FISH AND CHIPS',\n",
      "                                              'price': '350',\n",
      "                                              'quantity': 1,\n",
      "                                              'status': 'queued'},\n",
      "                                             {'description': 'Classic Cheese '\n",
      "                                                             'Balls Served '\n",
      "                                                             'with New Orleans '\n",
      "                                                             'Dip',\n",
      "                                              'food_id': '5e901a77cc53c3a81920f294',\n",
      "                                              'instructions': 'no',\n",
      "                                              'name': 'CHEESE DYNABITES',\n",
      "                                              'price': '220',\n",
      "                                              'quantity': 1,\n",
      "                                              'status': 'queued'},\n",
      "                                             {'description': 'VODKA, RUM, GIN, '\n",
      "                                                             'TEQUILA, RED '\n",
      "                                                             'WINE, PEACH, '\n",
      "                                                             'LEMONADE',\n",
      "                                              'food_id': '5e901a74cc53c3a81920f263#white',\n",
      "                                              'food_options': {'choices': [],\n",
      "                                                               'options': {'WHITE': '620 '}},\n",
      "                                              'instructions': 'no',\n",
      "                                              'name': 'BANGALORE SUNSET ',\n",
      "                                              'price': '420/620 ',\n",
      "                                              'quantity': 1,\n",
      "                                              'status': 'queued'}],\n",
      "                               'placed_by': ObjectId('5e901a75cc53c3a81920f28d'),\n",
      "                               'status': 'queued'}],\n",
      "                   'status': 'queued',\n",
      "                   'table': 'table14',\n",
      "                   'table_id': 'table14',\n",
      "                   'timestamp': '2020-04-14 16:14:21.856000'},\n",
      "                  {'_id': ObjectId('5e98146fa718c99b385e212f'),\n",
      "                   'orders': [{'_id': ObjectId('5e98146fa718c99b385e212e'),\n",
      "                               'food_list': [{'description': 'Slice Chicken '\n",
      "                                                             'Wok Tossed, '\n",
      "                                                             'Finished With '\n",
      "                                                             'Pepper Garlic & '\n",
      "                                                             'Lime',\n",
      "                                              'food_id': '5e95b099cc53c3a81920f3ed',\n",
      "                                              'instructions': 'no',\n",
      "                                              'name': 'LEMON PEPPER CHICKEN',\n",
      "                                              'price': '260',\n",
      "                                              'quantity': 1,\n",
      "                                              'status': 'queued'},\n",
      "                                             {'description': 'Organic Greens '\n",
      "                                                             'With Imported '\n",
      "                                                             'FETA Cheese, '\n",
      "                                                             'Bell Peppers, '\n",
      "                                                             'Zucchini, '\n",
      "                                                             'Asparagus '\n",
      "                                                             'Spears, '\n",
      "                                                             'Artichokes & Sun '\n",
      "                                                             'Dried Tomatoes',\n",
      "                                              'food_id': '5e901a77cc53c3a81920f2f3',\n",
      "                                              'instructions': 'Cook with love',\n",
      "                                              'name': 'MEDITERRANEAN GARDEN',\n",
      "                                              'price': '360',\n",
      "                                              'quantity': 3,\n",
      "                                              'status': 'queued'},\n",
      "                                             {'description': 'Tender And Juicy '\n",
      "                                                             'Veg, Chicken Or '\n",
      "                                                             'Lamb Patties, '\n",
      "                                                             'Grilled And '\n",
      "                                                             'Served Fries '\n",
      "                                                             'With',\n",
      "                                              'food_id': '5e95b293a0e53b7335a9dd78',\n",
      "                                              'instructions': 'Cook with love',\n",
      "                                              'name': 'CLASSIC BURGERS (VEG / '\n",
      "                                                      'CHICKEN / LAMB)',\n",
      "                                              'price': '250/280/300',\n",
      "                                              'quantity': 2,\n",
      "                                              'status': 'queued'}],\n",
      "                               'placed_by': ObjectId('5e901a75cc53c3a81920f28b'),\n",
      "                               'status': 'queued'}],\n",
      "                   'status': 'queued',\n",
      "                   'table': 'table5',\n",
      "                   'table_id': 'table5',\n",
      "                   'timestamp': '2020-04-16 13:46:47.503000'},\n",
      "                  {'_id': ObjectId('5e982bce3da621eca69de525'),\n",
      "                   'orders': [{'_id': ObjectId('5e982bce3da621eca69de524'),\n",
      "                               'food_list': [{'description': 'Vegetables/chicken '\n",
      "                                                             'Tossed In A '\n",
      "                                                             'Sweet & Sour '\n",
      "                                                             'Sauce, Served On '\n",
      "                                                             'A Bed Of Crispy '\n",
      "                                                             'Noodles',\n",
      "                                              'food_id': '5e95b099cc53c3a81920f434',\n",
      "                                              'instructions': 'no',\n",
      "                                              'name': 'AMERICAN CHOPSUEY',\n",
      "                                              'price': '280/300',\n",
      "                                              'quantity': 1,\n",
      "                                              'status': 'queued'},\n",
      "                                             {'description': 'Melange Of '\n",
      "                                                             'Crunchy Lettuce, '\n",
      "                                                             'Bell Peppers And '\n",
      "                                                             'Olives With Our '\n",
      "                                                             'Homemade '\n",
      "                                                             'Dressing',\n",
      "                                              'food_id': '5e901a77cc53c3a81920f297#veg',\n",
      "                                              'food_options': {'choices': [],\n",
      "                                                               'options': {'Veg': '180'}},\n",
      "                                              'instructions': 'no',\n",
      "                                              'name': 'HOC SALAD (Veg/Chicken)',\n",
      "                                              'price': '180/210',\n",
      "                                              'quantity': 2,\n",
      "                                              'status': 'queued'},\n",
      "                                             {'description': 'Cottage Cheese '\n",
      "                                                             'Cooked In '\n",
      "                                                             'Spinach Puree, '\n",
      "                                                             'Tempered Cumin '\n",
      "                                                             'And Ginger '\n",
      "                                                             'Garlic Paste',\n",
      "                                              'food_id': '5e901a74cc53c3a81920f22e',\n",
      "                                              'instructions': 'Cook with love',\n",
      "                                              'name': 'PALAK PANEER',\n",
      "                                              'price': '260',\n",
      "                                              'quantity': 1,\n",
      "                                              'status': 'queued'},\n",
      "                                             {'description': 'Tender Mutton '\n",
      "                                                             'Pieces Tossed In '\n",
      "                                                             'South Indian '\n",
      "                                                             'Spices',\n",
      "                                              'food_id': '5e95b293a0e53b7335a9dd62',\n",
      "                                              'instructions': 'no',\n",
      "                                              'name': 'ANDHRA LAMB PEPPER FRY',\n",
      "                                              'price': '350',\n",
      "                                              'quantity': 1,\n",
      "                                              'status': 'queued'},\n",
      "                                             {'description': 'Rum Infused '\n",
      "                                                             'Caribbean Lamb & '\n",
      "                                                             'Pine Nut Patty '\n",
      "                                                             'With A Centred '\n",
      "                                                             'Egg, Charred '\n",
      "                                                             'Peppers, '\n",
      "                                                             'Jalapeno Aloll, '\n",
      "                                                             'Smoked Onion '\n",
      "                                                             'Marmalade, '\n",
      "                                                             'English Cheddar '\n",
      "                                                             'Melt, French '\n",
      "                                                             'Fries With A '\n",
      "                                                             'Sage & Onion',\n",
      "                                              'food_id': '5e901a74cc53c3a81920f213',\n",
      "                                              'instructions': 'Cook with love',\n",
      "                                              'name': 'CAPTAIN MORGAN FLAMED '\n",
      "                                                      'LAMB',\n",
      "                                              'price': '440',\n",
      "                                              'quantity': 2,\n",
      "                                              'status': 'queued'},\n",
      "                                             {'description': 'Flesh Flamed '\n",
      "                                                             'Tequila '\n",
      "                                                             'Marinated Lime & '\n",
      "                                                             'Chilli Chicken '\n",
      "                                                             'With Herbed '\n",
      "                                                             'Country Mash, '\n",
      "                                                             'Garden Grilled '\n",
      "                                                             'Vegetables Cumin '\n",
      "                                                             'Coffee Scented '\n",
      "                                                             'Jus',\n",
      "                                              'food_id': '5e95b293a0e53b7335a9dd7f',\n",
      "                                              'instructions': 'no',\n",
      "                                              'name': 'TEQUILA LIME GRILLED '\n",
      "                                                      'CHICKEN',\n",
      "                                              'price': '400',\n",
      "                                              'quantity': 1,\n",
      "                                              'status': 'queued'},\n",
      "                                             {'description': 'Vegetables/chicken '\n",
      "                                                             'Tossed In A '\n",
      "                                                             'Sweet & Sour '\n",
      "                                                             'Sauce, Served On '\n",
      "                                                             'A Bed Of Crispy '\n",
      "                                                             'Noodles',\n",
      "                                              'food_id': '5e95b052cc53c3a81920f3a1',\n",
      "                                              'instructions': 'no',\n",
      "                                              'name': 'AMERICAN CHOPSUEY',\n",
      "                                              'price': '280/300',\n",
      "                                              'quantity': 1,\n",
      "                                              'status': 'queued'}],\n",
      "                               'placed_by': ObjectId('5e901a75cc53c3a81920f28b'),\n",
      "                               'status': 'queued'},\n",
      "                              {'_id': ObjectId('5e982bce3da621eca69de526'),\n",
      "                               'food_list': [{'description': 'Double Decker '\n",
      "                                                             'Layered With '\n",
      "                                                             'Lettuce, '\n",
      "                                                             'Cucumber, '\n",
      "                                                             'Cheese, Tomato '\n",
      "                                                             'And Served With '\n",
      "                                                             'Fries',\n",
      "                                              'food_id': '5e95b099cc53c3a81920f413',\n",
      "                                              'instructions': 'Cook with love',\n",
      "                                              'name': 'TOASTED VEG CLUB '\n",
      "                                                      'SANDWICH',\n",
      "                                              'price': '240',\n",
      "                                              'quantity': 1,\n",
      "                                              'status': 'queued'},\n",
      "                                             {'description': 'Age Old English '\n",
      "                                                             'Cheddar Topped '\n",
      "                                                             'With Roast '\n",
      "                                                             'Chicken Slvers, '\n",
      "                                                             'Apple Glazed '\n",
      "                                                             'Chicken Ham, '\n",
      "                                                             'Lamb Mince, '\n",
      "                                                             'Calamari & '\n",
      "                                                             'Shrimps',\n",
      "                                              'food_id': '5e95b099cc53c3a81920f42e',\n",
      "                                              'instructions': 'no',\n",
      "                                              'name': 'MIXED MEAT MAGIC',\n",
      "                                              'price': '420',\n",
      "                                              'quantity': 1,\n",
      "                                              'status': 'queued'}],\n",
      "                               'placed_by': ObjectId('5e901a75cc53c3a81920f28a'),\n",
      "                               'status': 'queued'},\n",
      "                              {'_id': ObjectId('5e982bce3da621eca69de527'),\n",
      "                               'food_list': [{'description': 'Soft And Juicy '\n",
      "                                                             'Vegetable Momos '\n",
      "                                                             'Marinated With '\n",
      "                                                             'Tandoori Masala '\n",
      "                                                             'And Char Grilled',\n",
      "                                              'food_id': '5e95b293a0e53b7335a9dd48',\n",
      "                                              'instructions': 'no',\n",
      "                                              'name': 'TANDOORI VEG MOMOS',\n",
      "                                              'price': '220',\n",
      "                                              'quantity': 1,\n",
      "                                              'status': 'queued'},\n",
      "                                             {'description': 'Mouth Melting '\n",
      "                                                             'Paneer Cubes '\n"
     ]
    },
    {
     "name": "stdout",
     "output_type": "stream",
     "text": [
      "                                                             'Marinated With A '\n",
      "                                                             'Cheese Curd '\n",
      "                                                             'Mixture, Cream '\n",
      "                                                             'And Mild Spices',\n",
      "                                              'food_id': '5e95b293a0e53b7335a9dd45',\n",
      "                                              'instructions': 'no',\n",
      "                                              'name': 'MAKHMALI PANEER TIKKA',\n",
      "                                              'price': '270',\n",
      "                                              'quantity': 1,\n",
      "                                              'status': 'queued'},\n",
      "                                             {'description': 'Wok Tossed '\n",
      "                                                             'Prawns Cooked '\n",
      "                                                             'With Roasted '\n",
      "                                                             'Chilli Paste And '\n",
      "                                                             'Seasonings',\n",
      "                                              'food_id': '5e901a74cc53c3a81920f204',\n",
      "                                              'instructions': 'Cook with love',\n",
      "                                              'name': 'PRAWNS IN RCP SAUCE',\n",
      "                                              'price': '380',\n",
      "                                              'quantity': 1,\n",
      "                                              'status': 'queued'},\n",
      "                                             {'description': 'Crumb Fried Fish '\n",
      "                                                             'In Hoc Signature '\n",
      "                                                             'Marination, '\n",
      "                                                             'Served With '\n",
      "                                                             'French Fries',\n",
      "                                              'food_id': '5e95b052cc53c3a81920f39d',\n",
      "                                              'instructions': 'no',\n",
      "                                              'name': 'FISH AND CHIPS',\n",
      "                                              'price': '350',\n",
      "                                              'quantity': 2,\n",
      "                                              'status': 'queued'}],\n",
      "                               'placed_by': ObjectId('5e901a75cc53c3a81920f28d'),\n",
      "                               'status': 'queued'},\n",
      "                              {'_id': ObjectId('5e982bce3da621eca69de528'),\n",
      "                               'food_list': [{'description': 'VODKA GREEN '\n",
      "                                                             'APPLE & CUCUMBER',\n",
      "                                              'food_id': '5e901a74cc53c3a81920f24c',\n",
      "                                              'instructions': 'no',\n",
      "                                              'name': 'APPLE & CUCUMBER '\n",
      "                                                      'MARTINI ',\n",
      "                                              'price': '290 ',\n",
      "                                              'quantity': 1,\n",
      "                                              'status': 'queued'},\n",
      "                                             {'description': 'NA',\n",
      "                                              'food_id': '5e95b099cc53c3a81920f422',\n",
      "                                              'instructions': 'no',\n",
      "                                              'name': 'FIERY PENNE PASTA (VEG/ '\n",
      "                                                      'CHICKEN / SHRIMPS)',\n",
      "                                              'price': '300/340/380',\n",
      "                                              'quantity': 1,\n",
      "                                              'status': 'queued'},\n",
      "                                             {'description': 'Crumb Fried '\n",
      "                                                             'Chicken Supreme '\n",
      "                                                             'In Hoc Signature '\n",
      "                                                             'Marination, '\n",
      "                                                             'Served With '\n",
      "                                                             'French Fries',\n",
      "                                              'food_id': '5e95b052cc53c3a81920f39e',\n",
      "                                              'instructions': 'no',\n",
      "                                              'name': 'CHICKEN BASKET',\n",
      "                                              'price': '350',\n",
      "                                              'quantity': 1,\n",
      "                                              'status': 'queued'},\n",
      "                                             {'description': 'Indian Spices '\n",
      "                                                             'Marinated Whole '\n",
      "                                                             'Pomfret Skewered '\n",
      "                                                             'And Finished In '\n",
      "                                                             'Clay Oven',\n",
      "                                              'food_id': '5e95b293a0e53b7335a9dd57',\n",
      "                                              'instructions': 'Cook with love',\n",
      "                                              'name': 'TANDOORI POMFRET',\n",
      "                                              'price': '590',\n",
      "                                              'quantity': 1,\n",
      "                                              'status': 'queued'},\n",
      "                                             {'description': 'Prawns Prepared '\n",
      "                                                             'In Thai Style '\n",
      "                                                             'With A Flavour '\n",
      "                                                             'Of Lemon Grass',\n",
      "                                              'food_id': '5e901a77cc53c3a81920f2d8',\n",
      "                                              'instructions': 'Cook with love',\n",
      "                                              'name': 'THAI PEPPER GARLIC '\n",
      "                                                      'PRAWNS',\n",
      "                                              'price': '380',\n",
      "                                              'quantity': 1,\n",
      "                                              'status': 'queued'},\n",
      "                                             {'description': 'Vegetables/chicken '\n",
      "                                                             'Tossed In A '\n",
      "                                                             'Sweet & Sour '\n",
      "                                                             'Sauce, Served On '\n",
      "                                                             'A Bed Of Crispy '\n",
      "                                                             'Noodles',\n",
      "                                              'food_id': '5e95b293a0e53b7335a9dd97',\n",
      "                                              'instructions': 'Cook with love',\n",
      "                                              'name': 'AMERICAN CHOPSUEY',\n",
      "                                              'price': '280/300',\n",
      "                                              'quantity': 1,\n",
      "                                              'status': 'queued'}],\n",
      "                               'placed_by': ObjectId('5e901a75cc53c3a81920f28c'),\n",
      "                               'status': 'queued'}],\n",
      "                   'status': 'queued',\n",
      "                   'table': 'table11',\n",
      "                   'table_id': 'table11',\n",
      "                   'timestamp': '2020-04-16 15:26:30.964000'}],\n",
      " 'tables': []}\n"
     ]
    }
   ],
   "source": [
    "pprint(json_util.loads(Restaurant.objects.exclude('staff').exclude('tables').exclude('food_menu').exclude('bar_menu')[0].to_json()))"
   ]
  },
  {
   "cell_type": "code",
   "execution_count": 217,
   "metadata": {
    "hidden": true,
    "scrolled": true
   },
   "outputs": [
    {
     "data": {
      "text/plain": [
       "[<Restaurant: Restaurant object>]"
      ]
     },
     "execution_count": 217,
     "metadata": {},
     "output_type": "execute_result"
    }
   ],
   "source": [
    "Restaurant.objects.exclude('menu')"
   ]
  },
  {
   "cell_type": "code",
   "execution_count": 45,
   "metadata": {
    "collapsed": true,
    "hidden": true
   },
   "outputs": [
    {
     "name": "stdout",
     "output_type": "stream",
     "text": [
      "{'_id': ObjectId('5e89cfb20806f415e7b830b9'),\n",
      " 'orders': [{'_id': ObjectId('5e89cfb10806f415e7b830b8'),\n",
      "             'foodlist': [{'description': 'Cottage Cheese Cooked In Spinach '\n",
      "                                          'Puree, Tempered Cumin And Ginger '\n",
      "                                          'Garlic Paste',\n",
      "                           'food_id': '5e89c5079c69d718046f4600',\n",
      "                           'instructions': 'Cook with love',\n",
      "                           'name': 'PALAK PANEER',\n",
      "                           'price': '260',\n",
      "                           'quantity': 1,\n",
      "                           'status': 'completed'},\n",
      "                          {'description': 'Double Chicken, Double Cheese And '\n",
      "                                          'Topped With A Sunny Side Up Fried '\n",
      "                                          'Egg, Served With Fries',\n",
      "                           'food_id': '5e89c5079c69d718046f45dd',\n",
      "                           'instructions': 'no',\n",
      "                           'name': 'HOC BURGER- THE BIG ONE',\n",
      "                           'price': '350',\n",
      "                           'quantity': 1,\n",
      "                           'status': 'completed'},\n",
      "                          {'description': 'Mouth Melting Paneer Cubes '\n",
      "                                          'Marinated With A Cheese Curd '\n",
      "                                          'Mixture, Cream And Mild Spices',\n",
      "                           'food_id': '5e89c5079c69d718046f45a7',\n",
      "                           'instructions': 'Cook with love',\n",
      "                           'name': 'MAKHMALI PANEER TIKKA',\n",
      "                           'price': '270',\n",
      "                           'quantity': 1,\n",
      "                           'status': 'completed'}],\n",
      "             'placedby': ObjectId('5e89c5089c69d718046f4632'),\n",
      "             'status': 'completed'},\n",
      "            {'_id': ObjectId('5e89cfb20806f415e7b830ba'),\n",
      "             'foodlist': [{'description': 'Clay Oven Roasted Chicken '\n",
      "                                          'Drumsticks',\n",
      "                           'food_id': '5e89c5079c69d718046f45bd',\n",
      "                           'instructions': 'Cook with love',\n",
      "                           'name': 'KALMI KEBAB (3pcs)',\n",
      "                           'price': '260',\n",
      "                           'quantity': 2,\n",
      "                           'status': 'completed'},\n",
      "                          {'description': 'Chicken Tikka With Shallots, '\n",
      "                                          'Capers, Charred Peppers, Kalamata '\n",
      "                                          'Olives & Sweet Chilli Treacle',\n",
      "                           'food_id': '5e89c5079c69d718046f45f1',\n",
      "                           'instructions': 'Cook with love',\n",
      "                           'name': 'TANDOORI MURGH TIKKA WITH KALAMATA OLIVES',\n",
      "                           'price': '380',\n",
      "                           'quantity': 1,\n",
      "                           'status': 'completed'},\n",
      "                          {'description': 'Clay Oven Roasted Spicy Morsels Of '\n",
      "                                          'Chicken',\n",
      "                           'food_id': '5e89c5079c69d718046f45be',\n",
      "                           'instructions': 'Cook with love',\n",
      "                           'name': 'ANGARI MURGH TIKKA',\n",
      "                           'price': '260',\n",
      "                           'quantity': 2,\n",
      "                           'status': 'completed'},\n",
      "                          {'description': 'Extra Crispy Onion Rings With A '\n",
      "                                          'Spicy Salsa',\n",
      "                           'food_id': '5e89c5079c69d718046f459b',\n",
      "                           'instructions': 'Cook with love',\n",
      "                           'name': 'ONION RINGS',\n",
      "                           'price': '190',\n",
      "                           'quantity': 3,\n",
      "                           'status': 'completed'}],\n",
      "             'placedby': ObjectId('5e89c5089c69d718046f4630'),\n",
      "             'status': 'completed'}],\n",
      " 'status': 'completed',\n",
      " 'table': 'table11',\n",
      " 'timestamp': '2020-04-05 18:01:46.351000'}\n"
     ]
    }
   ],
   "source": [
    "pprint(json_util.loads(TableOrder.objects[0].to_json()))"
   ]
  },
  {
   "cell_type": "code",
   "execution_count": 2169,
   "metadata": {
    "code_folding": [
     0
    ],
    "hidden": true
   },
   "outputs": [],
   "source": [
    "if(0):\n",
    "    order=Order.objects.get(id='5e8097106a2fad6b020c61d4')\n",
    "\n",
    "    order.update(pull__foodlist__food_id=FoodItemMod(food_id='5e7f298b6a2fad6b020c6033').food_id)\n",
    "\n",
    "    Order.objects.get(id='5e8097106a2fad6b020c61d4').update(push__foodlist=FoodItemMod.from_json(json_util.dumps(food)))\n",
    "\n",
    "    food=json_util.loads(Order.objects.get(id='5e8097106a2fad6b020c61d4').fetch_fooditem('5e7f298b6a2fad6b020c6033'))\n",
    "\n",
    "    food['status']='completed'\n",
    "\n",
    "\n",
    "    food"
   ]
  },
  {
   "cell_type": "code",
   "execution_count": 2186,
   "metadata": {
    "collapsed": true,
    "hidden": true
   },
   "outputs": [
    {
     "data": {
      "text/plain": [
       "{'_id': ObjectId('5e8097116a2fad6b020c61d8'),\n",
       " 'placedby': ObjectId('5e7f298d6a2fad6b020c6053'),\n",
       " 'foodlist': [{'food_id': '5e7f298b6a2fad6b020c5ff7',\n",
       "   'name': 'CHEESE DYNABITES',\n",
       "   'description': 'Classic Cheese Balls Served with New Orleans Dip',\n",
       "   'price': '220',\n",
       "   'instructions': 'no',\n",
       "   'quantity': 2,\n",
       "   'status': 'cooking'},\n",
       "  {'food_id': '5e7f298b6a2fad6b020c5ffb',\n",
       "   'name': 'HOC SALAD (VEG)',\n",
       "   'description': 'Melange Of Crunchy Lettuce, Bell Peppers And Olives With Our Homemade Dressing',\n",
       "   'price': '180',\n",
       "   'instructions': 'Cook with love',\n",
       "   'quantity': 2,\n",
       "   'status': 'completed'},\n",
       "  {'food_id': '5e7f298b6a2fad6b020c6020',\n",
       "   'name': 'JIANG CHILLI CHICKEN',\n",
       "   'description': 'Chicken Tossed With Shredded Ginger And Chilli In Jiang Style',\n",
       "   'price': '260',\n",
       "   'instructions': 'no',\n",
       "   'quantity': 1,\n",
       "   'status': 'completed'}],\n",
       " 'status': 'pending'}"
      ]
     },
     "execution_count": 2186,
     "metadata": {},
     "output_type": "execute_result"
    }
   ],
   "source": [
    "json_util.loads(Order.objects.get(id=status_tuple[1]).to_json())"
   ]
  },
  {
   "cell_type": "markdown",
   "metadata": {},
   "source": [
    "# Home Screen data\n"
   ]
  },
  {
   "cell_type": "markdown",
   "metadata": {},
   "source": [
    "## Most Popular"
   ]
  },
  {
   "cell_type": "code",
   "execution_count": 146,
   "metadata": {},
   "outputs": [],
   "source": [
    "tag = \"most_popular\""
   ]
  },
  {
   "cell_type": "code",
   "execution_count": 110,
   "metadata": {},
   "outputs": [
    {
     "data": {
      "text/plain": [
       "'{\"_id\": {\"$oid\": \"5e9aa5d80c582ce29987bba2\"}, \"name\": \"GREEN HORN \", \"description\": \"GIN, AQUILA LEAVES, SPINACH, PINEAPPLE JUICE, HOMEMADE CUMIN BITTERS,SWEET & SOUR\", \"price\": \"350\", \"tags\": [], \"restaurant\": \"5e9aa5ca0c582ce29987bae5\"}'"
      ]
     },
     "execution_count": 110,
     "metadata": {},
     "output_type": "execute_result"
    }
   ],
   "source": [
    "FoodItem.objects[166].to_json()"
   ]
  },
  {
   "cell_type": "code",
   "execution_count": 114,
   "metadata": {
    "scrolled": false
   },
   "outputs": [
    {
     "data": {
      "text/plain": [
       "[<FoodItem: FoodItem object>, <FoodItem: FoodItem object>, <FoodItem: FoodItem object>, <FoodItem: FoodItem object>, <FoodItem: FoodItem object>, <FoodItem: FoodItem object>, <FoodItem: FoodItem object>, <FoodItem: FoodItem object>, <FoodItem: FoodItem object>]"
      ]
     },
     "execution_count": 114,
     "metadata": {},
     "output_type": "execute_result"
    }
   ],
   "source": [
    "FoodItem.objects.filter(restaurant=str(Restaurant.objects[0].id)).filter(tags__in=['most_popular'])"
   ]
  },
  {
   "cell_type": "code",
   "execution_count": 112,
   "metadata": {
    "scrolled": true
   },
   "outputs": [],
   "source": [
    "for food_no in np.random.choice(food_count,7):\n",
    "    FoodItem.objects[int(food_no)].update(push__tags= \"most_popular\")\n",
    "\n",
    "for food_no in np.random.choice(range(food_count,food_count+bar_count),3):\n",
    "    FoodItem.objects[int(food_no)].update(push__tags= \"most_popular\")"
   ]
  },
  {
   "cell_type": "code",
   "execution_count": 115,
   "metadata": {},
   "outputs": [],
   "source": [
    "for food_no in np.random.choice(food_count,7):\n",
    "    FoodItem.objects[int(food_no)].update(push__tags= \"chefs_special\")"
   ]
  },
  {
   "cell_type": "code",
   "execution_count": 115,
   "metadata": {},
   "outputs": [],
   "source": [
    "for food_no in np.random.choice(food_count,7):\n",
    "    FoodItem.objects[int(food_no)].update(push__tags= \"chefs_special\")"
   ]
  },
  {
   "cell_type": "code",
   "execution_count": 42,
   "metadata": {
    "scrolled": false
   },
   "outputs": [
    {
     "data": {
      "text/plain": [
       "array([140, 141, 151])"
      ]
     },
     "execution_count": 42,
     "metadata": {},
     "output_type": "execute_result"
    }
   ],
   "source": [
    "np.random.choice(range(food_count,food_count+bar_count),3)"
   ]
  },
  {
   "cell_type": "code",
   "execution_count": 145,
   "metadata": {
    "scrolled": false
   },
   "outputs": [
    {
     "data": {
      "text/plain": [
       "array([ 3, 19,  7, 15])"
      ]
     },
     "execution_count": 145,
     "metadata": {},
     "output_type": "execute_result"
    }
   ],
   "source": [
    "np.random.choice(20,4)"
   ]
  },
  {
   "cell_type": "code",
   "execution_count": 145,
   "metadata": {},
   "outputs": [
    {
     "data": {
      "text/plain": [
       "array([ 3, 19,  7, 15])"
      ]
     },
     "execution_count": 145,
     "metadata": {},
     "output_type": "execute_result"
    }
   ],
   "source": [
    "np.random.choice(20,4)"
   ]
  },
  {
   "cell_type": "code",
   "execution_count": null,
   "metadata": {},
   "outputs": [],
   "source": []
  },
  {
   "cell_type": "code",
   "execution_count": null,
   "metadata": {},
   "outputs": [],
   "source": []
  },
  {
   "cell_type": "code",
   "execution_count": null,
   "metadata": {},
   "outputs": [],
   "source": []
  },
  {
   "cell_type": "code",
   "execution_count": null,
   "metadata": {},
   "outputs": [],
   "source": []
  },
  {
   "cell_type": "markdown",
   "metadata": {
    "heading_collapsed": true
   },
   "source": [
    "# Consolidating"
   ]
  },
  {
   "cell_type": "markdown",
   "metadata": {
    "heading_collapsed": true,
    "hidden": true
   },
   "source": [
    "## Pages to DF"
   ]
  },
  {
   "cell_type": "code",
   "execution_count": 21,
   "metadata": {
    "hidden": true
   },
   "outputs": [],
   "source": [
    "half_the_menu=[]\n",
    "\n",
    "for i in range(6):\n",
    "    half_the_menu.append(pages[i])\n",
    "\n",
    "half_menu_text=\"\\n\\n\".join(half_the_menu)"
   ]
  },
  {
   "cell_type": "code",
   "execution_count": 22,
   "metadata": {
    "hidden": true
   },
   "outputs": [],
   "source": [
    "str_menu = pd.DataFrame(columns=['sub_category','name','description','price'])"
   ]
  },
  {
   "cell_type": "code",
   "execution_count": 23,
   "metadata": {
    "hidden": true
   },
   "outputs": [],
   "source": [
    "description=dish_name=price=subcat=''\n",
    "counter=0\n",
    "for line in half_menu_text.split(\"\\n\\n\"):\n",
    "    if(re.search(\"^[\\$]\",line)):\n",
    "        subcat = line[1:].strip()\n",
    "    else:\n",
    "        if(counter%3==0):\n",
    "            dish_name = line.strip()\n",
    "        elif(counter%3==1):\n",
    "            description = line.strip()\n",
    "        elif(counter%3==2):\n",
    "            price = line.strip()\n",
    "            str_menu.loc[str_menu.shape[0]]=[subcat,dish_name,description,price]\n",
    "        counter+=1"
   ]
  },
  {
   "cell_type": "markdown",
   "metadata": {
    "heading_collapsed": true,
    "hidden": true
   },
   "source": [
    "## creating main categories"
   ]
  },
  {
   "cell_type": "code",
   "execution_count": 24,
   "metadata": {
    "hidden": true
   },
   "outputs": [],
   "source": [
    "main_category={\"BAR BITES\":\"BAR BITES\",\"SALADS\":\"SALADS\",\"VEG STARTERS\":\"VEG STARTERS\",\"CHICKEN STARTERS\":\"NON-VEG STARTERS\",\"LAMB STARTERS\":\"NON-VEG STARTERS\",\"EGG STARTERS\":\"NON-VEG STARTERS\",\"FROM THE GRILL\":\"NON-VEG STARTERS\",\"FROM THE CLAY OVEN\":\"CHANGE\"}"
   ]
  },
  {
   "cell_type": "code",
   "execution_count": 25,
   "metadata": {
    "hidden": true
   },
   "outputs": [],
   "source": [
    "str_menu.loc[:,\"main_category\"]=str_menu['sub_category'].apply(lambda x: main_category[x])"
   ]
  },
  {
   "cell_type": "code",
   "execution_count": 26,
   "metadata": {
    "hidden": true
   },
   "outputs": [],
   "source": [
    "str_menu.loc[27,\"main_category\"]=\"VEG STARTERS\"\n",
    "\n",
    "str_menu.loc[28,\"main_category\"]=\"VEG STARTERS\"\n",
    "\n",
    "str_menu.loc[29,\"main_category\"]=\"VEG STARTERS\"\n",
    "\n",
    "str_menu.loc[30,\"main_category\"]=\"VEG STARTERS\""
   ]
  },
  {
   "cell_type": "code",
   "execution_count": 27,
   "metadata": {
    "hidden": true
   },
   "outputs": [],
   "source": [
    "str_menu.loc[str_menu['main_category']=='CHANGE',\"main_category\"]=\"NON-VEG STARTERS\""
   ]
  },
  {
   "cell_type": "code",
   "execution_count": 28,
   "metadata": {
    "hidden": true,
    "scrolled": true
   },
   "outputs": [
    {
     "data": {
      "text/plain": [
       "Index(['sub_category', 'name', 'description', 'price', 'main_category'], dtype='object')"
      ]
     },
     "execution_count": 28,
     "metadata": {},
     "output_type": "execute_result"
    }
   ],
   "source": [
    "str_menu.columns"
   ]
  },
  {
   "cell_type": "code",
   "execution_count": 30,
   "metadata": {
    "hidden": true
   },
   "outputs": [],
   "source": [
    "str_menu=str_menu[['main_category','sub_category', 'name', 'description', 'price']]"
   ]
  },
  {
   "cell_type": "markdown",
   "metadata": {
    "heading_collapsed": true,
    "hidden": true
   },
   "source": [
    "## Taking care of multiple prices"
   ]
  },
  {
   "cell_type": "code",
   "execution_count": 44,
   "metadata": {
    "hidden": true
   },
   "outputs": [],
   "source": [
    "lengths = str_menu['price'].str.split('/').map(len)\n",
    "\n",
    "str_menu = pd.DataFrame({'main_category': np.repeat(str_menu['main_category'], lengths),\n",
    "                    'sub_category': np.repeat(str_menu['sub_category'], lengths),\n",
    "                    'name': np.repeat(str_menu['name'],lengths),\n",
    "                    'description': np.repeat(str_menu['description'],lengths),\n",
    "                    'price': chainer(str_menu['price'])})\n",
    "\n",
    "str_menu.reset_index(inplace=True,drop=True)\n",
    "\n",
    "str_menu.loc[45,'price']=\"250\"\n",
    "\n",
    "pickle.dump(str_menu,open('half_menu_main.pkl','wb'))\n",
    "\n",
    "str_menu=pickle.load(open('half_menu_main.pkl','rb'))"
   ]
  },
  {
   "cell_type": "markdown",
   "metadata": {
    "heading_collapsed": true,
    "hidden": true
   },
   "source": [
    "## COnverting into json"
   ]
  },
  {
   "cell_type": "code",
   "execution_count": 33,
   "metadata": {
    "hidden": true
   },
   "outputs": [],
   "source": [
    "final_list_json=[]"
   ]
  },
  {
   "cell_type": "code",
   "execution_count": 35,
   "metadata": {
    "hidden": true
   },
   "outputs": [],
   "source": [
    "\n",
    "for n,main_cat_name in enumerate(str_menu.loc[:,'main_category'].unique()):\n",
    "    final_list_json.append({})\n",
    "    final_list_json[n]['name']=main_cat_name\n",
    "    final_list_json[n]['description'] = ''\n",
    "    final_list_json[n]['sub_category'] = []\n",
    "    for p,sub_cat_name in enumerate(str_menu[str_menu['main_category'].loc[:'sub_category']==main_cat_name].loc[:,'sub_category'].unique()):\n",
    "        final_list_json[n]['sub_category'].append({})\n",
    "        final_list_json[n]['sub_category'][p]['name']=sub_cat_name\n",
    "        final_list_json[n]['sub_category'][p]['description']=''\n",
    "        final_list_json[n]['sub_category'][p]['priority']=''\n",
    "        final_list_json[n]['sub_category'][p]['foodlist']=[]\n",
    "        for q,food_dict in enumerate(str_menu[str_menu['main_category'].loc[:'sub_category']==main_cat_name][str_menu[str_menu['main_category'].loc[:'sub_category']==main_cat_name].loc[:,'sub_category']==sub_cat_name].iterrows()):\n",
    "            final_list_json[n]['sub_category'][p]['foodlist'].append({})\n",
    "            final_list_json[n]['sub_category'][p]['foodlist'][q]['name']= food_dict[1]['name']\n",
    "            final_list_json[n]['sub_category'][p]['foodlist'][q]['description']=food_dict[1]['description']\n",
    "            final_list_json[n]['sub_category'][p]['foodlist'][q]['price']=food_dict[1]['price']\n",
    "        \n",
    "        "
   ]
  },
  {
   "cell_type": "code",
   "execution_count": 4,
   "metadata": {
    "hidden": true
   },
   "outputs": [],
   "source": [
    "str_menu=pickle.load(open('half_menu_main.pkl','rb'))"
   ]
  },
  {
   "cell_type": "code",
   "execution_count": 9,
   "metadata": {
    "hidden": true
   },
   "outputs": [],
   "source": [
    "from pprint import pprint"
   ]
  },
  {
   "cell_type": "code",
   "execution_count": 1,
   "metadata": {
    "hidden": true,
    "scrolled": true
   },
   "outputs": [
    {
     "ename": "NameError",
     "evalue": "name 'Restaurant' is not defined",
     "output_type": "error",
     "traceback": [
      "\u001b[0;31m---------------------------------------------------------------------------\u001b[0m",
      "\u001b[0;31mNameError\u001b[0m                                 Traceback (most recent call last)",
      "\u001b[0;32m<ipython-input-1-49ae841a5331>\u001b[0m in \u001b[0;36m<module>\u001b[0;34m\u001b[0m\n\u001b[0;32m----> 1\u001b[0;31m \u001b[0mjson\u001b[0m\u001b[0;34m.\u001b[0m\u001b[0mload\u001b[0m\u001b[0;34m(\u001b[0m\u001b[0mRestaurant\u001b[0m\u001b[0;34m.\u001b[0m\u001b[0mobjects\u001b[0m\u001b[0;34m[\u001b[0m\u001b[0;36m0\u001b[0m\u001b[0;34m]\u001b[0m\u001b[0;34m.\u001b[0m\u001b[0mto_json\u001b[0m\u001b[0;34m(\u001b[0m\u001b[0;34m)\u001b[0m\u001b[0;34m)\u001b[0m\u001b[0;34m\u001b[0m\u001b[0;34m\u001b[0m\u001b[0m\n\u001b[0m",
      "\u001b[0;31mNameError\u001b[0m: name 'Restaurant' is not defined"
     ]
    }
   ],
   "source": [
    "json.load(Restaurant.objects[0].to_json())"
   ]
  },
  {
   "cell_type": "markdown",
   "metadata": {
    "heading_collapsed": true
   },
   "source": [
    "# js.data"
   ]
  },
  {
   "cell_type": "code",
   "execution_count": 17,
   "metadata": {
    "hidden": true
   },
   "outputs": [],
   "source": [
    "pickle.dump(final_json,open('jason.pkl','wb'))"
   ]
  },
  {
   "cell_type": "code",
   "execution_count": 11,
   "metadata": {
    "hidden": true
   },
   "outputs": [],
   "source": [
    "pickle.dump(final_list_json,open('jason.pkl','wb'))"
   ]
  }
 ],
 "metadata": {
  "kernelspec": {
   "display_name": "Python 3",
   "language": "python",
   "name": "python3"
  },
  "language_info": {
   "codemirror_mode": {
    "name": "ipython",
    "version": 3
   },
   "file_extension": ".py",
   "mimetype": "text/x-python",
   "name": "python",
   "nbconvert_exporter": "python",
   "pygments_lexer": "ipython3",
   "version": "3.7.4"
  }
 },
 "nbformat": 4,
 "nbformat_minor": 4
}
