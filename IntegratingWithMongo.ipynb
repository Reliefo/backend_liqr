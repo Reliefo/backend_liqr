{
 "cells": [
  {
   "cell_type": "code",
   "execution_count": 1,
   "metadata": {
    "scrolled": true
   },
   "outputs": [],
   "source": [
    "import numpy as np\n",
    "import pandas as pd\n",
    "import re\n",
    "import pickle\n",
    "from pprint import pprint\n",
    "import datetime\n",
    "import math\n",
    "import time\n",
    "pd.set_option('display.max_rows', 500)\n",
    "pd.set_option('display.max_columns', 500)\n",
    "pd.set_option('display.width', 1000)\n",
    "\n",
    "import json\n",
    "from bson import json_util\n",
    "\n",
    "from mongoengine import *"
   ]
  },
  {
   "cell_type": "code",
   "execution_count": 2,
   "metadata": {},
   "outputs": [],
   "source": [
    "from flask import Flask,jsonify, request, send_from_directory, url_for\n",
    "app = Flask(__name__)\n",
    "import pickle\n",
    "import numpy as np\n",
    "from itertools import chain"
   ]
  },
  {
   "cell_type": "code",
   "execution_count": 428,
   "metadata": {},
   "outputs": [],
   "source": [
    "disconnect('mongo://mongo:27017')"
   ]
  },
  {
   "cell_type": "code",
   "execution_count": 3,
   "metadata": {},
   "outputs": [],
   "source": [
    "conn = connect(\"local\",host=\"mongodb://localhost:27017\",alias='default')\n",
    "\n",
    "if(0):\n",
    "    disconnect('mongo://mongo:27017')"
   ]
  },
  {
   "cell_type": "code",
   "execution_count": 4,
   "metadata": {},
   "outputs": [],
   "source": [
    "if(0):\n",
    "    conn_aws = connect(\"local\",host=\"mongodb://ec2-13-233-196-75.ap-south-1.compute.amazonaws.com:27017\",alias='default')\n",
    "\n",
    "if(0):\n",
    "    disconnect('mongo://mongo:27017')"
   ]
  },
  {
   "cell_type": "code",
   "execution_count": 90,
   "metadata": {},
   "outputs": [],
   "source": [
    "str_menu=pickle.load(open('full_menu_main.pkl','rb'))\n",
    "if(0):\n",
    "    pickle.dump(str_menu,open('half_menu_main.pkl','wb'))\n",
    "restautant_id = 'BNGHSR0001'\n",
    "\n",
    "final_list_json=[]"
   ]
  },
  {
   "cell_type": "markdown",
   "metadata": {},
   "source": [
    "str_menu['price']=str_menu['price'].apply(lambda x: x.split('/')[0])"
   ]
  },
  {
   "cell_type": "code",
   "execution_count": 7,
   "metadata": {},
   "outputs": [],
   "source": [
    "def chainer(string):\n",
    "    return list(chain.from_iterable(string.str.split('/')))\n",
    "\n",
    "def str_2(number):\n",
    "    string = str(number)\n",
    "    if(len(string)==1):\n",
    "        return '0'+string\n",
    "    else:\n",
    "        return string"
   ]
  },
  {
   "cell_type": "code",
   "execution_count": 91,
   "metadata": {
    "code_folding": [
     1
    ]
   },
   "outputs": [],
   "source": [
    "final_list_json=[]\n",
    "for n,main_cat_name in enumerate(str_menu.loc[:,'main_category'].unique()):\n",
    "    final_list_json.append({})\n",
    "    final_list_json[n]['name']=main_cat_name\n",
    "    final_list_json[n]['description'] = ''\n",
    "    final_list_json[n]['sub_category'] = []\n",
    "    for p,sub_cat_name in enumerate(str_menu[str_menu['main_category'].loc[:'sub_category']==main_cat_name].loc[:,'sub_category'].unique()):\n",
    "        final_list_json[n]['sub_category'].append({})\n",
    "        final_list_json[n]['sub_category'][p]['name']=sub_cat_name\n",
    "        final_list_json[n]['sub_category'][p]['description']=''\n",
    "        final_list_json[n]['sub_category'][p]['priority']=''\n",
    "        final_list_json[n]['sub_category'][p]['food_list']=[]\n",
    "        for q,food_dict in enumerate(str_menu[str_menu['main_category'].loc[:'sub_category']==main_cat_name][str_menu[str_menu['main_category'].loc[:'sub_category']==main_cat_name].loc[:,'sub_category']==sub_cat_name].iterrows()):\n",
    "            final_list_json[n]['sub_category'][p]['food_list'].append({})\n",
    "            final_list_json[n]['sub_category'][p]['food_list'][q]['name']= food_dict[1]['name']\n",
    "            final_list_json[n]['sub_category'][p]['food_list'][q]['description']=food_dict[1]['description']\n",
    "            final_list_json[n]['sub_category'][p]['food_list'][q]['price']=food_dict[1]['price']\n",
    "        "
   ]
  },
  {
   "cell_type": "code",
   "execution_count": 92,
   "metadata": {},
   "outputs": [],
   "source": [
    "pickle.dump(final_list_json,open('final_usable_json.pkl','wb'))\n",
    "\n",
    "final_list_json=pickle.load(open('final_usable_json.pkl','rb'))"
   ]
  },
  {
   "cell_type": "markdown",
   "metadata": {
    "heading_collapsed": true
   },
   "source": [
    "# All Mongo Classes"
   ]
  },
  {
   "cell_type": "code",
   "execution_count": 130,
   "metadata": {
    "code_folding": [
     1,
     5,
     12,
     16,
     23,
     28,
     32,
     43,
     66,
     71,
     82,
     94,
     117,
     137,
     142,
     163,
     176,
     181,
     189,
     196
    ],
    "hidden": true
   },
   "outputs": [],
   "source": [
    "\n",
    "class TableOrder(Document):\n",
    "    pass\n",
    "\n",
    "\n",
    "class User(Document):\n",
    "    dine_in_history = DynamicField()\n",
    "    current_table_id = StringField()\n",
    "    personal_cart = ListField(ReferenceField(TableOrder))\n",
    "    meta = {'allow_inheritance': True}\n",
    "\n",
    "\n",
    "class TempUser(User):\n",
    "    pass\n",
    "\n",
    "\n",
    "class RegisteredUser(User):\n",
    "    name = StringField(required=True)\n",
    "    email_id = StringField(required=True)\n",
    "    phone_no = StringField()\n",
    "    tempuser_ob = ReferenceField(TempUser)\n",
    "\n",
    "\n",
    "class TempUser(User):\n",
    "    unique_id = StringField(required=True)\n",
    "    reguser_ob = ReferenceField(RegisteredUser)\n",
    "\n",
    "\n",
    "class Assistance(Document):\n",
    "    pass\n",
    "\n",
    "\n",
    "class Staff(Document):\n",
    "    name = StringField()\n",
    "    assistance_history = MapField(ListField(ReferenceField(Assistance)))\n",
    "    order_history = MapField(ListField(ReferenceField(TableOrder)))\n",
    "\n",
    "    def to_my_mongo(self):\n",
    "        data = self.to_mongo()\n",
    "\n",
    "        return data\n",
    "\n",
    "\n",
    "class Assistance(Document):\n",
    "    types = ['water', 'help', 'cutlery', 'tissue', 'cleaning', 'menu', 'ketchup']\n",
    "    table = StringField()\n",
    "    user = ReferenceField(User)\n",
    "    assistance_type = StringField(choices=types)\n",
    "    timestamp = DateTimeField()\n",
    "    accepted_by = ReferenceField(Staff, default=None)\n",
    "    meta = {'strict': False}\n",
    "\n",
    "    def to_my_mongo(self):\n",
    "        data = self.to_mongo()\n",
    "        data['timestamp'] = str(data['timestamp'])\n",
    "        data['table'] = Table.objects(assistance_reqs__in=[self.id])[0].name\n",
    "\n",
    "        return data\n",
    "\n",
    "    def to_json(self):\n",
    "        data = self.to_mongo()\n",
    "        data['timestamp'] = str(data['timestamp'])\n",
    "        data['table'] = Table.objects(assistance_reqs__in=[self.id])[0].name\n",
    "        return json_util.dumps(data)\n",
    "\n",
    "\n",
    "class FoodOptionsMod(EmbeddedDocument):\n",
    "    options = DictField()\n",
    "    choices = ListField()\n",
    "\n",
    "\n",
    "class FoodItemMod(EmbeddedDocument):\n",
    "    food_id = StringField()\n",
    "    name = StringField()\n",
    "    description = StringField()\n",
    "    price = StringField()\n",
    "    instructions = StringField()\n",
    "    quantity = IntField()\n",
    "    status = StringField(choices=['queued', 'cooking', 'completed'])\n",
    "    food_options = EmbeddedDocumentField(FoodOptionsMod)\n",
    "\n",
    "\n",
    "class Order(Document):\n",
    "    placed_by = ReferenceField(User)\n",
    "    food_list = ListField(EmbeddedDocumentField(FoodItemMod))\n",
    "    status = StringField(choices=['queued', 'juststarted', 'cooking', 'almostdone', 'completed'], default='queued')\n",
    "\n",
    "    def fetch_food_item(self, food_id):\n",
    "        for food_item in self.food_list:\n",
    "            if food_item.food_id == food_id:\n",
    "                return food_item.to_json()\n",
    "        return \"Food item not found\"\n",
    "\n",
    "\n",
    "class TableOrder(Document):\n",
    "    table = StringField()\n",
    "    table_id = StringField()\n",
    "    orders = ListField(ReferenceField(Order))\n",
    "    status = StringField(choices=['queued', 'juststarted', 'cooking', 'almostdone', 'completed'], default='queued')\n",
    "    timestamp = DateTimeField(default=datetime.datetime.now())\n",
    "\n",
    "    def to_my_mongo(self):\n",
    "        data = self.to_mongo()\n",
    "        data['timestamp'] = str(data['timestamp'])\n",
    "        for key, order in enumerate(self.orders):\n",
    "            data['orders'][key] = json_util.loads(self.orders[key].to_json())\n",
    "\n",
    "        return data\n",
    "\n",
    "    def to_json(self):\n",
    "        data = self.to_mongo()\n",
    "        data['timestamp'] = str(data['timestamp'])\n",
    "        for key, order in enumerate(self.orders):\n",
    "            data['orders'][key] = json_util.loads(self.orders[key].to_json())\n",
    "        return json_util.dumps(data)\n",
    "\n",
    "\n",
    "class Table(Document):\n",
    "    name = StringField(required=True)\n",
    "    seats = IntField(required=True)\n",
    "    staff = ListField(ReferenceField(Staff))\n",
    "    users = ListField(ReferenceField(User))\n",
    "    no_of_users = IntField()\n",
    "    table_orders = ListField(ReferenceField(TableOrder))\n",
    "    assistance_reqs = ListField(ReferenceField(Assistance))\n",
    "    meta = {'strict': False}\n",
    "\n",
    "    def to_my_mongo(self):\n",
    "        data = self.to_mongo()\n",
    "        for key, table_order in enumerate(self.table_orders):\n",
    "            data['table_orders'][key] = self.table_orders[key].to_my_mongo()\n",
    "        for key, ass_req in enumerate(self.assistance_reqs):\n",
    "            data['assistance_reqs'][key] = self.assistance_reqs[key].to_my_mongo()\n",
    "\n",
    "        return data\n",
    "\n",
    "\n",
    "class FoodOptions(EmbeddedDocument):\n",
    "    options = DictField()\n",
    "    choices = ListField()\n",
    "\n",
    "\n",
    "class FoodItem(Document):\n",
    "    name = StringField(required=True)\n",
    "    description = StringField(required=True)\n",
    "    price = StringField(required=True)\n",
    "    food_options = EmbeddedDocumentField(FoodOptions)\n",
    "\n",
    "    def to_my_mongo(self):\n",
    "        data = self.to_mongo()\n",
    "        if self.food_options:\n",
    "            data['food_options'] = self.food_options.to_mongo()\n",
    "\n",
    "        return data\n",
    "\n",
    "    def to_json(self):\n",
    "        data = self.to_mongo()\n",
    "        if self.food_options:\n",
    "            data['food_options'] = self.food_options.to_mongo()\n",
    "\n",
    "        return json_util.dumps(data)\n",
    "\n",
    "\n",
    "class SubCategory(Document):\n",
    "    name = StringField(required=True)\n",
    "    description = StringField(required=True)\n",
    "    food_list = ListField(ReferenceField(FoodItem), required=True)\n",
    "\n",
    "    def to_my_mongo(self):\n",
    "        data = self.to_mongo()\n",
    "        for key, food_item in enumerate(self.food_list):\n",
    "            data['food_list'][key] = self.food_list[key].to_my_mongo()\n",
    "\n",
    "        return data\n",
    "\n",
    "\n",
    "class MainCategory(Document):\n",
    "    name = StringField(required=True)\n",
    "    description = StringField(required=True)\n",
    "    sub_category = ListField(ReferenceField(SubCategory), required=True)\n",
    "\n",
    "    def to_my_mongo(self):\n",
    "        data = self.to_mongo()\n",
    "        for key, sub_cat in enumerate(self.sub_category):\n",
    "            data['sub_category'][key] = self.sub_category[key].to_my_mongo()\n",
    "\n",
    "        return data\n",
    "\n",
    "\n",
    "def check_exists(order_id, order_list):\n",
    "    for n, order in enumerate(order_list):\n",
    "        if order_id == order['_id']:\n",
    "            return n\n",
    "    return -1\n",
    "\n",
    "\n",
    "class Restaurant(Document):\n",
    "    name = StringField(required=True)\n",
    "    restaurant_id = StringField(required=True)\n",
    "    menu = ListField(ReferenceField(MainCategory), required=True)\n",
    "    address = StringField()\n",
    "    tables = ListField(ReferenceField(Table))\n",
    "    staff = ListField(ReferenceField(Staff))\n",
    "    table_orders = ListField(ReferenceField(TableOrder))\n",
    "    assistance_reqs = ListField(ReferenceField(Assistance))\n",
    "\n",
    "    def to_json(self):\n",
    "        data = self.to_mongo()\n",
    "        for key, sub_cat in enumerate(self.menu):\n",
    "            data['menu'][key] = self.menu[key].to_my_mongo()\n",
    "        for key, staff in enumerate(self.staff):\n",
    "            data['staff'][key] = self.staff[key].to_my_mongo()\n",
    "        for key, table in enumerate(self.tables):\n",
    "            data['tables'][key] = self.tables[key].to_my_mongo()\n",
    "\n",
    "        return json_util.dumps(data)\n",
    "\n",
    "    def fetch_order_lists(self):\n",
    "        q_list = []\n",
    "        cook_list = []\n",
    "        comp_list = []\n",
    "        for table_order_ob in self.table_orders:\n",
    "            tabord_dict = json_util.loads(table_order_ob.to_json())\n",
    "            if tabord_dict['status'] == 'completed':\n",
    "                comp_list.append(tabord_dict)\n",
    "                break\n",
    "            for order in tabord_dict['orders']:\n",
    "                for food_item in order['food_list']:\n",
    "                    if food_item['status'] == 'queued':\n",
    "                        update_list = q_list\n",
    "                        index = check_exists(tabord_dict['_id'], update_list)\n",
    "                        if index >= 0:\n",
    "                            order_index = check_exists(order['_id'], update_list[index]['orders'])\n",
    "                            if order_index >= 0:\n",
    "                                update_list[index]['orders'][order_index]['food_list'].append(food_item)\n",
    "                            else:\n",
    "                                o_app_dict = {k: order[k] for k in ['_id', 'placed_by', 'status']}\n",
    "                                o_app_dict['food_list'] = []\n",
    "                                o_app_dict['food_list'].append(food_item)\n",
    "                                update_list[index]['orders'].append(o_app_dict)\n",
    "\n",
    "                        else:\n",
    "                            t_app_dict = {k: tabord_dict[k] for k in ['_id', 'table', 'status', 'timestamp']}\n",
    "                            o_app_dict = {k: order[k] for k in ['_id', 'placed_by', 'status']}\n",
    "                            o_app_dict['food_list'] = []\n",
    "                            o_app_dict['food_list'].append(food_item)\n",
    "                            t_app_dict['orders'] = []\n",
    "                            t_app_dict['orders'].append(o_app_dict)\n",
    "                            update_list.append(t_app_dict)\n",
    "                    elif food_item['status'] == 'cooking':\n",
    "                        update_list = cook_list\n",
    "                        index = check_exists(tabord_dict['_id'], update_list)\n",
    "                        if index >= 0:\n",
    "                            order_index = check_exists(order['_id'], update_list[index]['orders'])\n",
    "                            if order_index >= 0:\n",
    "                                update_list[index]['orders'][order_index]['food_list'].append(food_item)\n",
    "                            else:\n",
    "                                o_app_dict = {k: order[k] for k in ['_id', 'placed_by', 'status']}\n",
    "                                o_app_dict['food_list'] = []\n",
    "                                o_app_dict['food_list'].append(food_item)\n",
    "                                update_list[index]['orders'].append(o_app_dict)\n",
    "\n",
    "                        else:\n",
    "                            t_app_dict = {k: tabord_dict[k] for k in ['_id', 'table', 'status', 'timestamp']}\n",
    "                            o_app_dict = {k: order[k] for k in ['_id', 'placed_by', 'status']}\n",
    "                            o_app_dict['food_list'] = []\n",
    "                            o_app_dict['food_list'].append(food_item)\n",
    "                            t_app_dict['orders'] = []\n",
    "                            t_app_dict['orders'].append(o_app_dict)\n",
    "                            update_list.append(t_app_dict)\n",
    "                    elif food_item['status'] == 'completed':\n",
    "                        update_list = comp_list\n",
    "                        index = check_exists(tabord_dict['_id'], update_list)\n",
    "                        if index >= 0:\n",
    "                            order_index = check_exists(order['_id'], update_list[index]['orders'])\n",
    "                            if order_index >= 0:\n",
    "                                update_list[index]['orders'][order_index]['food_list'].append(food_item)\n",
    "                            else:\n",
    "                                o_app_dict = {k: order[k] for k in ['_id', 'placed_by', 'status']}\n",
    "                                o_app_dict['food_list'] = []\n",
    "                                o_app_dict['food_list'].append(food_item)\n",
    "                                update_list[index]['orders'].append(o_app_dict)\n",
    "\n",
    "                        else:\n",
    "                            t_app_dict = {k: tabord_dict[k] for k in ['_id', 'table', 'status', 'timestamp']}\n",
    "                            o_app_dict = {k: order[k] for k in ['_id', 'placed_by', 'status']}\n",
    "                            o_app_dict['food_list'] = []\n",
    "                            o_app_dict['food_list'].append(food_item)\n",
    "                            t_app_dict['orders'] = []\n",
    "                            t_app_dict['orders'].append(o_app_dict)\n",
    "                            update_list.append(t_app_dict)\n",
    "        return json_util.dumps({\"queue\": q_list, \"cooking\": cook_list, \"completed\": comp_list})"
   ]
  },
  {
   "cell_type": "markdown",
   "metadata": {
    "heading_collapsed": true
   },
   "source": [
    "# Generating data"
   ]
  },
  {
   "cell_type": "code",
   "execution_count": 280,
   "metadata": {
    "collapsed": true,
    "hidden": true
   },
   "outputs": [
    {
     "data": {
      "text/plain": [
       "'{\"queue\": [{\"_id\": {\"$oid\": \"5e8ae5409c69d718046f4883\"}, \"table\": \"table11\", \"status\": \"queued\", \"timestamp\": \"2020-04-06 13:46:00.728000\", \"orders\": [{\"_id\": {\"$oid\": \"5e8ae5409c69d718046f4885\"}, \"placedby\": {\"$oid\": \"5e8a228f9c69d718046f4874\"}, \"status\": \"queued\", \"foodlist\": [{\"food_id\": \"5e8a228f9c69d718046f480a\", \"name\": \"MUTTON GHEE ROAST\", \"description\": \"Mutton Roasted With A Fiery Red And Spicy With The Flavour Of Ghee\", \"price\": \"370\", \"instructions\": \"Cook with love\", \"quantity\": 1, \"status\": \"queued\"}, {\"food_id\": \"5e8a228e9c69d718046f47de\", \"name\": \"FRENCH FRIES\", \"description\": \"French Fries Tossed With Hoc Signature Cajun Spice Seasoning\", \"price\": \"190\", \"instructions\": \"no\", \"quantity\": 1, \"status\": \"queued\"}]}]}, {\"_id\": {\"$oid\": \"5e8ae5419c69d718046f4887\"}, \"table\": \"table15\", \"status\": \"queued\", \"timestamp\": \"2020-04-06 13:46:01.865000\", \"orders\": [{\"_id\": {\"$oid\": \"5e8ae5419c69d718046f4888\"}, \"placedby\": {\"$oid\": \"5e8a228f9c69d718046f4872\"}, \"status\": \"queued\", \"foodlist\": [{\"food_id\": \"5e8a228f9c69d718046f482d#veg\", \"name\": \"FIERY PENNE PASTA (VEG/ CHICKEN / SHRIMPS)\", \"description\": \"NA\", \"price\": \"300/340/380\", \"instructions\": \"Cook with love\", \"quantity\": 1, \"status\": \"queued\", \"foodoptions\": {\"options\": {\"VEG\": \"300\"}, \"choices\": []}}, {\"food_id\": \"5e8a228f9c69d718046f47f3\", \"name\": \"HOC SIGNATURE CHICKEN WINGS\", \"description\": \"Sweet Chilly / Spiced Szechuan\", \"price\": \"260\", \"instructions\": \"Cook with love\", \"quantity\": 2, \"status\": \"queued\"}, {\"food_id\": \"5e8a228e9c69d718046f47cc\", \"name\": \"CHEESE MASALA PAPAD\", \"description\": \"Crispy fried Mini Papads Topped With A Tangy Masala Mixture And Grated Cheese\", \"price\": \"160\", \"instructions\": \"no\", \"quantity\": 1, \"status\": \"queued\"}, {\"food_id\": \"5e8a228f9c69d718046f4831\", \"name\": \"MARGHERITA\", \"description\": \"An All-Time Favourite Of Pomodoro, Water Buffalo Mozzarella And Basil Chiffonade\", \"price\": \"290\", \"instructions\": \"no\", \"quantity\": 1, \"status\": \"queued\"}]}, {\"_id\": {\"$oid\": \"5e8ae5419c69d718046f4889\"}, \"placedby\": {\"$oid\": \"5e8a228f9c69d718046f4874\"}, \"status\": \"queued\", \"foodlist\": [{\"food_id\": \"5e8a228f9c69d718046f480f\", \"name\": \"SPICY MASALA OMELETTE\", \"description\": \"Slow Cooked Egg Omlet With Masala\", \"price\": \"180\", \"instructions\": \"no\", \"quantity\": 2, \"status\": \"queued\"}, {\"food_id\": \"5e8a228f9c69d718046f4859\", \"name\": \"GARLIC NAAN\", \"description\": \"NA\", \"price\": \"50\", \"instructions\": \"no\", \"quantity\": 3, \"status\": \"queued\"}, {\"food_id\": \"5e8a228f9c69d718046f47fe\", \"name\": \"TANDOORI POMFRET\", \"description\": \"Indian Spices Marinated Whole Pomfret Skewered And Finished In Clay Oven\", \"price\": \"590\", \"instructions\": \"no\", \"quantity\": 1, \"status\": \"queued\"}, {\"food_id\": \"5e8a228f9c69d718046f47fc\", \"name\": \"JAIPURI MURGH KA SOOLA\", \"description\": \"Succulent Pieces Of Chicken Zapped With Red Spices, Cinnamon Flavour & Finished In Tandoor\", \"price\": \"270\", \"instructions\": \"no\", \"quantity\": 1, \"status\": \"queued\"}]}, {\"_id\": {\"$oid\": \"5e8ae5419c69d718046f488a\"}, \"placedby\": {\"$oid\": \"5e8a228f9c69d718046f4872\"}, \"status\": \"queued\", \"foodlist\": [{\"food_id\": \"5e8a228f9c69d718046f47e1\", \"name\": \"GARLIC BREAD\", \"description\": \"Garlic Butter Flavoured Bread Topped With Cheese\", \"price\": \"190\", \"instructions\": \"no\", \"quantity\": 2, \"status\": \"queued\"}, {\"food_id\": \"5e8a228f9c69d718046f4842#fish\", \"name\": \"BASA FISH/PRAWNS WITH CHOICE OF YOUR CHOICE\", \"description\": \"Ginger Chilli, Sichuan, Pepper Garlic\", \"price\": \"270/300\", \"instructions\": \"Cook with love\", \"quantity\": 2, \"status\": \"queued\", \"foodoptions\": {\"options\": {\"FISH\": \"270\"}, \"choices\": []}}]}]}, {\"_id\": {\"$oid\": \"5e8ae5429c69d718046f488c\"}, \"table\": \"table12\", \"status\": \"queued\", \"timestamp\": \"2020-04-06 13:46:02.324000\", \"orders\": [{\"_id\": {\"$oid\": \"5e8ae5429c69d718046f488b\"}, \"placedby\": {\"$oid\": \"5e8a228f9c69d718046f4876\"}, \"status\": \"queued\", \"foodlist\": [{\"food_id\": \"5e8a228f9c69d718046f4812#chicken\", \"name\": \"PERI PERI PANEER/CHICKEN\", \"description\": \"Peri Peri Basted Paneer / Chicken Cubes Served With Tzatziki Dip\", \"price\": \"260/280\", \"instructions\": \"Cook with love\", \"quantity\": 1, \"status\": \"queued\", \"foodoptions\": {\"options\": {\"CHICKEN\": \"280\"}, \"choices\": []}}]}]}, {\"_id\": {\"$oid\": \"5e8ae5429c69d718046f488e\"}, \"table\": \"table3\", \"status\": \"queued\", \"timestamp\": \"2020-04-06 13:46:02.731000\", \"orders\": [{\"_id\": {\"$oid\": \"5e8ae5429c69d718046f488d\"}, \"placedby\": {\"$oid\": \"5e8a228f9c69d718046f4874\"}, \"status\": \"queued\", \"foodlist\": [{\"food_id\": \"5e8a228f9c69d718046f485d\", \"name\": \"WALNUT BROWNIE\", \"description\": \"Warm Chocolate Brownie Served With Vanilla ice cream\", \"price\": \"170\", \"instructions\": \"Cook with love\", \"quantity\": 2, \"status\": \"queued\"}, {\"food_id\": \"5e8a228f9c69d718046f4805\", \"name\": \"MURGH KASTURI KEBAB\", \"description\": \"Boneless Charcoal Smoked Chicken Tikka With Kasturi Methi Flavoured\", \"price\": \"260\", \"instructions\": \"Cook with love\", \"quantity\": 1, \"status\": \"queued\"}]}]}, {\"_id\": {\"$oid\": \"5e8ae5439c69d718046f4890\"}, \"table\": \"table11\", \"status\": \"queued\", \"timestamp\": \"2020-04-06 13:46:03.149000\", \"orders\": [{\"_id\": {\"$oid\": \"5e8ae5439c69d718046f488f\"}, \"placedby\": {\"$oid\": \"5e8a228f9c69d718046f4873\"}, \"status\": \"queued\", \"foodlist\": [{\"food_id\": \"5e8a228f9c69d718046f480f\", \"name\": \"SPICY MASALA OMELETTE\", \"description\": \"Slow Cooked Egg Omlet With Masala\", \"price\": \"180\", \"instructions\": \"Cook with love\", \"quantity\": 1, \"status\": \"queued\"}, {\"food_id\": \"5e8a228f9c69d718046f4807\", \"name\": \"TANDOORI KING PRAWNS\", \"description\": \"King Prawns Marinated With Yogurt, Lime Juice, Bhatti Spices And Slowly Cooked In Tandoor\", \"price\": \"499\", \"instructions\": \"Cook with love\", \"quantity\": 2, \"status\": \"queued\"}, {\"food_id\": \"5e8a228f9c69d718046f47f7\", \"name\": \"LEMON PEPPER CHICKEN\", \"description\": \"Slice Chicken Wok Tossed, Finished With Pepper Garlic & Lime\", \"price\": \"260\", \"instructions\": \"Cook with love\", \"quantity\": 3, \"status\": \"queued\"}, {\"food_id\": \"5e8a228f9c69d718046f481e\", \"name\": \"TOASTED VEG CLUB SANDWICH\", \"description\": \"Double Decker Layered With Lettuce, Cucumber, Cheese, Tomato And Served With Fries\", \"price\": \"240\", \"instructions\": \"no\", \"quantity\": 2, \"status\": \"queued\"}]}]}, {\"_id\": {\"$oid\": \"5e8ae5439c69d718046f4892\"}, \"table\": \"table14\", \"status\": \"queued\", \"timestamp\": \"2020-04-06 13:46:03.630000\", \"orders\": [{\"_id\": {\"$oid\": \"5e8ae5439c69d718046f4891\"}, \"placedby\": {\"$oid\": \"5e8a228f9c69d718046f4877\"}, \"status\": \"queued\", \"foodlist\": [{\"food_id\": \"5e8a228f9c69d718046f4825\", \"name\": \"CHICKEN CAFREAL\", \"description\": \"Authentic Goan Herb Marinated Chicken, Pan Fried, Stewed And Served With Potato Wedges & Sauteed Vegetables\", \"price\": \"390\", \"instructions\": \"no\", \"quantity\": 2, \"status\": \"queued\"}, {\"food_id\": \"5e8a228f9c69d718046f4841\", \"name\": \"CHICKEN WITH SAUCE OF YOUR CHOICE\", \"description\": \"Hunan, Sichuan, Black Pepper\", \"price\": \"280\", \"instructions\": \"Cook with love\", \"quantity\": 1, \"status\": \"queued\"}, {\"food_id\": \"5e8a228f9c69d718046f4828\", \"name\": \"GRILLED FISH\", \"description\": \"Grilled Fish Fillet, With Lemon butter sauce Served With Herb Rice & saute vegetables\", \"price\": \"400\", \"instructions\": \"no\", \"quantity\": 1, \"status\": \"queued\"}, {\"food_id\": \"5e8a228f9c69d718046f47f5\", \"name\": \"GUNTUR JUNCTION CHICKEN\", \"description\": \"Chicken Cubes Tossed With Freshly Ground Red Spices And Finished In South Indian Style\", \"price\": \"270\", \"instructions\": \"no\", \"quantity\": 1, \"status\": \"queued\"}, {\"food_id\": \"5e8a228f9c69d718046f4837\", \"name\": \"MUTTON MASALA KEEMA PIZZA\", \"description\": \"Minced Mutton Cooked In Indian Spices & Herbs Topped With Chillies & Assorted Bell peppers\", \"price\": \"390\", \"instructions\": \"no\", \"quantity\": 1, \"status\": \"queued\"}, {\"food_id\": \"5e8a228e9c69d718046f47cb#chicken\", \"name\": \"NACHOS (Veg/Chicken)\", \"description\": \"Crispy Corn Tortillas Topped With Spicy Baked Bean Salsa and Sour Cream\", \"price\": \"190/230\", \"instructions\": \"no\", \"quantity\": 3, \"status\": \"queued\", \"foodoptions\": {\"options\": {\"Chicken\": \"230\"}, \"choices\": []}}, {\"food_id\": \"5e8a228f9c69d718046f4849\", \"name\": \"BUTTER CHICKEN\", \"description\": \"All-Time Favorite\", \"price\": \"280\", \"instructions\": \"Cook with love\", \"quantity\": 2, \"status\": \"queued\"}]}, {\"_id\": {\"$oid\": \"5e8ae5439c69d718046f4893\"}, \"placedby\": {\"$oid\": \"5e8a228f9c69d718046f4875\"}, \"status\": \"queued\", \"foodlist\": [{\"food_id\": \"5e8a228f9c69d718046f484a#chicken\", \"name\": \"KADAI VEG/CHICKEN\", \"description\": \"Mix Veg/Chicken Pleces Tossed With Onion, Capsicum And Garnished With Onion Tomato Gravy\", \"price\": \"250/270\", \"instructions\": \"no\", \"quantity\": 2, \"status\": \"queued\", \"foodoptions\": {\"options\": {\"CHICKEN\": \"270\"}, \"choices\": []}}, {\"food_id\": \"5e8a228f9c69d718046f47f3\", \"name\": \"HOC SIGNATURE CHICKEN WINGS\", \"description\": \"Sweet Chilly / Spiced Szechuan\", \"price\": \"260\", \"instructions\": \"Cook with love\", \"quantity\": 3, \"status\": \"queued\"}, {\"food_id\": \"5e8a228f9c69d718046f4814\", \"name\": \"HARISSA GRILLED FISH\", \"description\": \"Fish Marinated In A Spicy Tunisian Harissa Sauce And Grilled To Perfection\", \"price\": \"330\", \"instructions\": \"no\", \"quantity\": 1, \"status\": \"queued\"}, {\"food_id\": \"5e8a228e9c69d718046f47de\", \"name\": \"FRENCH FRIES\", \"description\": \"French Fries Tossed With Hoc Signature Cajun Spice Seasoning\", \"price\": \"190\", \"instructions\": \"Cook with love\", \"quantity\": 1, \"status\": \"queued\"}]}, {\"_id\": {\"$oid\": \"5e8ae5439c69d718046f4894\"}, \"placedby\": {\"$oid\": \"5e8a228f9c69d718046f4875\"}, \"status\": \"queued\", \"foodlist\": [{\"food_id\": \"5e8a228f9c69d718046f4818\", \"name\": \"PAN FRIED CHILLY FISH\", \"description\": \"Pan Fried Fish Tossed With Shredded, Onion, Capsicum And Green Chilli\", \"price\": \"330\", \"instructions\": \"no\", \"quantity\": 1, \"status\": \"queued\"}, {\"food_id\": \"5e8a228f9c69d718046f47ed\", \"name\": \"TANDOORI STUFFED MUSHROOMS\", \"description\": \"Mushrooms Filled With A Blend Of Indian Spices And Tangy Stuffing Mix, Adding A Unique Taste On The Bite\", \"price\": \"250\", \"instructions\": \"no\", \"quantity\": 1, \"status\": \"queued\"}, {\"food_id\": \"5e8a228f9c69d718046f47e3\", \"name\": \"CRISPY CHILLY MUSHROOM\", \"description\": \"Crispy Fried Mushrooms Tossed With Oriental Spices\", \"price\": \"220\", \"instructions\": \"no\", \"quantity\": 3, \"status\": \"queued\"}]}, {\"_id\": {\"$oid\": \"5e8ae5439c69d718046f4895\"}, \"placedby\": {\"$oid\": \"5e8a228f9c69d718046f4872\"}, \"status\": \"queued\", \"foodlist\": [{\"food_id\": \"5e8a228f9c69d718046f47e4\", \"name\": \"CRISPY CHILLY BABY CORN\", \"description\": \"Crispy Fried Babycom Tossed With Oriental Spices\", \"price\": \"190\", \"instructions\": \"Cook with love\", \"quantity\": 1, \"status\": \"queued\"}, {\"food_id\": \"5e8a228f9c69d718046f4847\", \"name\": \"KHUMB HARA PYAZA\", \"description\": \"Vintage Mushrooms & Spring Onions Cooked To Perfection\", \"price\": \"270\", \"instructions\": \"Cook with love\", \"quantity\": 1, \"status\": \"queued\"}, {\"food_id\": \"5e8a228f9c69d718046f480f\", \"name\": \"SPICY MASALA OMELETTE\", \"description\": \"Slow Cooked Egg Omlet With Masala\", \"price\": \"180\", \"instructions\": \"Cook with love\", \"quantity\": 1, \"status\": \"queued\"}, {\"food_id\": \"5e8a228f9c69d718046f4834\", \"name\": \"MEDITERRANEAN GARDEN\", \"description\": \"Organic Greens With Imported FETA Cheese, Bell Peppers, Zucchini, Asparagus Spears, Artichokes & Sun Dried Tomatoes\", \"price\": \"360\", \"instructions\": \"Cook with love\", \"quantity\": 1, \"status\": \"queued\"}, {\"food_id\": \"5e8a228e9c69d718046f47cf\", \"name\": \"CHATPATA CHANA CHAAT\", \"description\": \"A Delectable Blend Of Bengal Gram And A Tangy Mixture\", \"price\": \"160\", \"instructions\": \"no\", \"quantity\": 2, \"status\": \"queued\"}, {\"food_id\": \"5e8a228e9c69d718046f47ce\", \"name\": \"SPICY TRICOLOUR CHAAT\", \"description\": \"Fresh Peas, Corn Kernels & Black Gram Tossed With Chillies & Sirka onions\", \"price\": \"180\", \"instructions\": \"no\", \"quantity\": 2, \"status\": \"queued\"}, {\"food_id\": \"5e8a228f9c69d718046f47e2\", \"name\": \"CHEESE CORN TIKKI\", \"description\": \"American Com & Cottage Cheese Patty Served with Mint Chutney\", \"price\": \"220\", \"instructions\": \"no\", \"quantity\": 3, \"status\": \"queued\"}]}]}, {\"_id\": {\"$oid\": \"5e8ae5449c69d718046f4897\"}, \"table\": \"table3\", \"status\": \"queued\", \"timestamp\": \"2020-04-06 13:46:04.193000\", \"orders\": [{\"_id\": {\"$oid\": \"5e8ae5449c69d718046f4896\"}, \"placedby\": {\"$oid\": \"5e8a228f9c69d718046f4876\"}, \"status\": \"queued\", \"foodlist\": [{\"food_id\": \"5e8a228f9c69d718046f4809\", \"name\": \"ANDHRA LAMB PEPPER FRY\", \"description\": \"Tender Mutton Pieces Tossed In South Indian Spices\", \"price\": \"350\", \"instructions\": \"Cook with love\", \"quantity\": 1, \"status\": \"queued\"}, {\"food_id\": \"5e8a228f9c69d718046f4855\", \"name\": \"STEAMED RICE\", \"description\": \"NA\", \"price\": \"130\", \"instructions\": \"Cook with love\", \"quantity\": 1, \"status\": \"queued\"}, {\"food_id\": \"5e8a228f9c69d718046f4848\", \"name\": \"DAL TADKA\", \"description\": \"Yellow Lentil Tempered With Garlic And Cumin Seeds, Punished With Chopped Onion And Tomato\", \"price\": \"190\", \"instructions\": \"Cook with love\", \"quantity\": 2, \"status\": \"queued\"}, {\"food_id\": \"5e8a228e9c69d718046f47cf\", \"name\": \"CHATPATA CHANA CHAAT\", \"description\": \"A Delectable Blend Of Bengal Gram And A Tangy Mixture\", \"price\": \"160\", \"instructions\": \"Cook with love\", \"quantity\": 1, \"status\": \"queued\"}, {\"food_id\": \"5e8a228f9c69d718046f47f3\", \"name\": \"HOC SIGNATURE CHICKEN WINGS\", \"description\": \"Sweet Chilly / Spiced Szechuan\", \"price\": \"260\", \"instructions\": \"Cook with love\", \"quantity\": 3, \"status\": \"queued\"}]}, {\"_id\": {\"$oid\": \"5e8ae5449c69d718046f4898\"}, \"placedby\": {\"$oid\": \"5e8a228f9c69d718046f4877\"}, \"status\": \"queued\", \"foodlist\": [{\"food_id\": \"5e8a228f9c69d718046f4809\", \"name\": \"ANDHRA LAMB PEPPER FRY\", \"description\": \"Tender Mutton Pieces Tossed In South Indian Spices\", \"price\": \"350\", \"instructions\": \"no\", \"quantity\": 1, \"status\": \"queued\"}, {\"food_id\": \"5e8a228f9c69d718046f4806\", \"name\": \"TANDOORI CHICKEN MOMOS\", \"description\": \"Soft And Juicy Chicken Momos Marinated With Tandoori Masala And Char Grilled\", \"price\": \"260\", \"instructions\": \"no\", \"quantity\": 3, \"status\": \"queued\"}, {\"food_id\": \"5e8a228f9c69d718046f4828\", \"name\": \"GRILLED FISH\", \"description\": \"Grilled Fish Fillet, With Lemon butter sauce Served With Herb Rice & saute vegetables\", \"price\": \"400\", \"instructions\": \"no\", \"quantity\": 1, \"status\": \"queued\"}, {\"food_id\": \"5e8a228e9c69d718046f47cc\", \"name\": \"CHEESE MASALA PAPAD\", \"description\": \"Crispy fried Mini Papads Topped With A Tangy Masala Mixture And Grated Cheese\", \"price\": \"160\", \"instructions\": \"no\", \"quantity\": 3, \"status\": \"queued\"}, {\"food_id\": \"5e8a228f9c69d718046f483e#vegetables\", \"name\": \"CHINESE CHOPSUEY\", \"description\": \"Vegetables/chicken Tossed In Celery Sauce, Served On A Bed Of Crispy Noodles\", \"price\": \"280/300\", \"instructions\": \"Cook with love\", \"quantity\": 3, \"status\": \"queued\", \"foodoptions\": {\"options\": {\"Vegetables\": \"280\"}, \"choices\": []}}, {\"food_id\": \"5e8a228f9c69d718046f482b\", \"name\": \"BAKED CHEESE MACARONI\", \"description\": \"All Time Favourite In A Cheesy Cream Sauce And Baked in The Oven\", \"price\": \"300\", \"instructions\": \"no\", \"quantity\": 3, \"status\": \"queued\"}, {\"food_id\": \"5e8a228f9c69d718046f47e8\", \"name\": \"PANDAN LEAF COTTAGE CHEESE\", \"description\": \"Tender Cottage Cheese Wrapped In Fragrant Pandan Leaves, With Chilli Coriander Sauce\", \"price\": \"280\", \"instructions\": \"no\", \"quantity\": 1, \"status\": \"queued\"}, {\"food_id\": \"5e8a228f9c69d718046f4842#fish\", \"name\": \"BASA FISH/PRAWNS WITH CHOICE OF YOUR CHOICE\", \"description\": \"Ginger Chilli, Sichuan, Pepper Garlic\", \"price\": \"270/300\", \"instructions\": \"no\", \"quantity\": 2, \"status\": \"queued\", \"foodoptions\": {\"options\": {\"FISH\": \"270\"}, \"choices\": []}}]}, {\"_id\": {\"$oid\": \"5e8ae5449c69d718046f4899\"}, \"placedby\": {\"$oid\": \"5e8a228f9c69d718046f4873\"}, \"status\": \"queued\", \"foodlist\": [{\"food_id\": \"5e8a228e9c69d718046f47dc\", \"name\": \"CHILLI CHEESE CIGARA (new)\", \"description\": \"Deep Fried Rolls With Cheese, Chill & Herbs\", \"price\": \"220\", \"instructions\": \"no\", \"quantity\": 2, \"status\": \"queued\"}, {\"food_id\": \"5e8a228e9c69d718046f47d7#chicken\", \"name\": \"CAESAR SALAD (Veg/Chicken)\", \"description\": \"Crunchy Ice Berg Lettuce, Parmesan With the Classic Caesar Dressing\", \"price\": \"190/230\", \"instructions\": \"no\", \"quantity\": 2, \"status\": \"queued\", \"foodoptions\": {\"options\": {\"Chicken\": \"230\"}, \"choices\": []}}, {\"food_id\": \"5e8a228f9c69d718046f4848\", \"name\": \"DAL TADKA\", \"description\": \"Yellow Lentil Tempered With Garlic And Cumin Seeds, Punished With Chopped Onion And Tomato\", \"price\": \"190\", \"instructions\": \"Cook with love\", \"quantity\": 1, \"status\": \"queued\"}, {\"food_id\": \"5e8a228f9c69d718046f47f9\", \"name\": \"CHICKEN GHEE ROAST\", \"description\": \"Chicken Roasted With A Fiery Red, Tangy And Spicy With The Flavour Of Ghee\", \"price\": \"280\", \"instructions\": \"no\", \"quantity\": 1, \"status\": \"queued\"}]}, {\"_id\": {\"$oid\": \"5e8ae5449c69d718046f489a\"}, \"placedby\": {\"$oid\": \"5e8a228f9c69d718046f4875\"}, \"status\": \"queued\", \"foodlist\": [{\"food_id\": \"5e8a228f9c69d718046f484a#veg\", \"name\": \"KADAI VEG/CHICKEN\", \"description\": \"Mix Veg/Chicken Pleces Tossed With Onion, Capsicum And Garnished With Onion Tomato Gravy\", \"price\": \"250/270\", \"instructions\": \"no\", \"quantity\": 1, \"status\": \"queued\", \"foodoptions\": {\"options\": {\"VEG\": \"250\"}, \"choices\": []}}, {\"food_id\": \"5e8a228f9c69d718046f47e4\", \"name\": \"CRISPY CHILLY BABY CORN\", \"description\": \"Crispy Fried Babycom Tossed With Oriental Spices\", \"price\": \"190\", \"instructions\": \"no\", \"quantity\": 1, \"status\": \"queued\"}, {\"food_id\": \"5e8a228f9c69d718046f4859\", \"name\": \"GARLIC NAAN\", \"description\": \"NA\", \"price\": \"50\", \"instructions\": \"no\", \"quantity\": 1, \"status\": \"queued\"}, {\"food_id\": \"5e8a228f9c69d718046f4845\", \"name\": \"DAL MAKHANI\", \"description\": \"Slow Cooked Lentils Finished With White Butter\", \"price\": \"240\", \"instructions\": \"no\", \"quantity\": 1, \"status\": \"queued\"}, {\"food_id\": \"5e8a228f9c69d718046f47f7\", \"name\": \"LEMON PEPPER CHICKEN\", \"description\": \"Slice Chicken Wok Tossed, Finished With Pepper Garlic & Lime\", \"price\": \"260\", \"instructions\": \"Cook with love\", \"quantity\": 1, \"status\": \"queued\"}, {\"food_id\": \"5e8a228e9c69d718046f47d1\", \"name\": \"CHEESE DYNABITES\", \"description\": \"Classic Cheese Balls Served with New Orleans Dip\", \"price\": \"220\", \"instructions\": \"Cook with love\", \"quantity\": 2, \"status\": \"queued\"}, {\"food_id\": \"5e8a228f9c69d718046f4854\", \"name\": \"JEERA RICE\", \"description\": \"NA\", \"price\": \"160\", \"instructions\": \"Cook with love\", \"quantity\": 1, \"status\": \"queued\"}, {\"food_id\": \"5e8a228e9c69d718046f47db\", \"name\": \"CHAMPIGNONS FARCIS (new)\", \"description\": \"Sauteed Button Mushroom Stuffed With Cheese & Herbs\", \"price\": \"230\", \"instructions\": \"no\", \"quantity\": 3, \"status\": \"queued\"}]}]}, {\"_id\": {\"$oid\": \"5e8ae5729c69d718046f489c\"}, \"table\": \"table15\", \"status\": \"queued\", \"timestamp\": \"2020-04-06 13:46:50.182000\", \"orders\": [{\"_id\": {\"$oid\": \"5e8ae5729c69d718046f489b\"}, \"placedby\": {\"$oid\": \"5e8a228f9c69d718046f4877\"}, \"status\": \"queued\", \"foodlist\": [{\"food_id\": \"5e8a228f9c69d718046f47e9\", \"name\": \"MEZZE BASKET\", \"description\": \"A Combination Of Hummus, Mutabal & Labneh, Served With Pita Bread\", \"price\": \"340\", \"instructions\": \"no\", \"quantity\": 1, \"status\": \"queued\"}, {\"food_id\": \"5e8a228f9c69d718046f482e#shrimps\", \"name\": \"SPICY CAJUN LINGUINE ALFREDO (VEG/ CHICKEN / SHRIMPS)\", \"description\": \"NA\", \"price\": \"300/340/380\", \"instructions\": \"no\", \"quantity\": 1, \"status\": \"queued\", \"foodoptions\": {\"options\": {\"SHRIMPS\": \"380\"}, \"choices\": []}}, {\"food_id\": \"5e8a228f9c69d718046f47e0\", \"name\": \"MUSHROOM LOADED FRIES\", \"description\": \"Cheesy French Fries Topped With Mushrooms And Herbs\", \"price\": \"230\", \"instructions\": \"no\", \"quantity\": 1, \"status\": \"queued\"}, {\"food_id\": \"5e8a228f9c69d718046f482b\", \"name\": \"BAKED CHEESE MACARONI\", \"description\": \"All Time Favourite In A Cheesy Cream Sauce And Baked in The Oven\", \"price\": \"300\", \"instructions\": \"no\", \"quantity\": 1, \"status\": \"queued\"}, {\"food_id\": \"5e8a228e9c69d718046f47dc\", \"name\": \"CHILLI CHEESE CIGARA (new)\", \"description\": \"Deep Fried Rolls With Cheese, Chill & Herbs\", \"price\": \"220\", \"instructions\": \"Cook with love\", \"quantity\": 1, \"status\": \"queued\"}, {\"food_id\": \"5e8a228e9c69d718046f47d7#veg\", \"name\": \"CAESAR SALAD (Veg/Chicken)\", \"description\": \"Crunchy Ice Berg Lettuce, Parmesan With the Classic Caesar Dressing\", \"price\": \"190/230\", \"instructions\": \"no\", \"quantity\": 3, \"status\": \"queued\", \"foodoptions\": {\"options\": {\"Veg\": \"190\"}, \"choices\": []}}, {\"food_id\": \"5e8a228f9c69d718046f4815\", \"name\": \"THAI GRILLED CHICKEN\", \"description\": \"Boneless Chicken Marinated With Thai Spices And Grilled\", \"price\": \"270\", \"instructions\": \"no\", \"quantity\": 3, \"status\": \"queued\"}]}, {\"_id\": {\"$oid\": \"5e8ae5729c69d718046f489d\"}, \"placedby\": {\"$oid\": \"5e8a228f9c69d718046f4876\"}, \"status\": \"queued\", \"foodlist\": [{\"food_id\": \"5e8a228e9c69d718046f47db\", \"name\": \"CHAMPIGNONS FARCIS (new)\", \"description\": \"Sauteed Button Mushroom Stuffed With Cheese & Herbs\", \"price\": \"230\", \"instructions\": \"Cook with love\", \"quantity\": 2, \"status\": \"queued\"}, {\"food_id\": \"5e8a228f9c69d718046f4844\", \"name\": \"PALAK PANEER\", \"description\": \"Cottage Cheese Cooked In Spinach Puree, Tempered Cumin And Ginger Garlic Paste\", \"price\": \"260\", \"instructions\": \"no\", \"quantity\": 1, \"status\": \"queued\"}]}, {\"_id\": {\"$oid\": \"5e8ae5729c69d718046f489e\"}, \"placedby\": {\"$oid\": \"5e8a228f9c69d718046f4874\"}, \"status\": \"queued\", \"foodlist\": [{\"food_id\": \"5e8a228f9c69d718046f4824\", \"name\": \"ROSEMARY SCENTED COTTAGE CHEESE STEAKS\", \"description\": \"Cottage Cheese Steaks Wth Bell Peppers, Sage Pilaf With Grilled Vegetables & Jalapeno Tomato Coulis\", \"price\": \"380\", \"instructions\": \"no\", \"quantity\": 1, \"status\": \"queued\"}, {\"food_id\": \"5e8a228f9c69d718046f47ec\", \"name\": \"ANGARI PANEER TIKKA\", \"description\": \"Clay Oven Roasted Spicy Morsels Of Cottage Cheese\", \"price\": \"270\", \"instructions\": \"Cook with love\", \"quantity\": 1, \"status\": \"queued\"}, {\"food_id\": \"5e8a228f9c69d718046f47e3\", \"name\": \"CRISPY CHILLY MUSHROOM\", \"description\": \"Crispy Fried Mushrooms Tossed With Oriental Spices\", \"price\": \"220\", \"instructions\": \"no\", \"quantity\": 2, \"status\": \"queued\"}, {\"food_id\": \"5e8a228f9c69d718046f4847\", \"name\": \"KHUMB HARA PYAZA\", \"description\": \"Vintage Mushrooms & Spring Onions Cooked To Perfection\", \"price\": \"270\", \"instructions\": \"Cook with love\", \"quantity\": 1, \"status\": \"queued\"}, {\"food_id\": \"5e8a228f9c69d718046f4807\", \"name\": \"TANDOORI KING PRAWNS\", \"description\": \"King Prawns Marinated With Yogurt, Lime Juice, Bhatti Spices And Slowly Cooked In Tandoor\", \"price\": \"499\", \"instructions\": \"Cook with love\", \"quantity\": 3, \"status\": \"queued\"}, {\"food_id\": \"5e8a228f9c69d718046f47f4\", \"name\": \"PEPPER GARLIC CHICKEN\", \"description\": \"Cubes Of Chicken Tossed With Garlic And Pepper In Oriental Style\", \"price\": \"260\", \"instructions\": \"no\", \"quantity\": 1, \"status\": \"queued\"}, {\"food_id\": \"5e8a228f9c69d718046f4821\", \"name\": \"HOC BURGER- THE BIG ONE\", \"description\": \"Double Chicken, Double Cheese And Topped With A Sunny Side Up Fried Egg, Served With Fries\", \"price\": \"350\", \"instructions\": \"Cook with love\", \"quantity\": 2, \"status\": \"queued\"}]}, {\"_id\": {\"$oid\": \"5e8ae5729c69d718046f489f\"}, \"placedby\": {\"$oid\": \"5e8a228f9c69d718046f4872\"}, \"status\": \"queued\", \"foodlist\": [{\"food_id\": \"5e8a228f9c69d718046f4814\", \"name\": \"HARISSA GRILLED FISH\", \"description\": \"Fish Marinated In A Spicy Tunisian Harissa Sauce And Grilled To Perfection\", \"price\": \"330\", \"instructions\": \"Cook with love\", \"quantity\": 1, \"status\": \"queued\"}, {\"food_id\": \"5e8a228f9c69d718046f481f\", \"name\": \"TOASTED CHICKEN CLUB SANDWICH\", \"description\": \"Double Decker Layered With Lettuce, Cheese, Chicken, Fried Egg And Served With Fries\", \"price\": \"270\", \"instructions\": \"no\", \"quantity\": 1, \"status\": \"queued\"}, {\"food_id\": \"5e8a228f9c69d718046f4818\", \"name\": \"PAN FRIED CHILLY FISH\", \"description\": \"Pan Fried Fish Tossed With Shredded, Onion, Capsicum And Green Chilli\", \"price\": \"330\", \"instructions\": \"no\", \"quantity\": 1, \"status\": \"queued\"}, {\"food_id\": \"5e8a228f9c69d718046f4844\", \"name\": \"PALAK PANEER\", \"description\": \"Cottage Cheese Cooked In Spinach Puree, Tempered Cumin And Ginger Garlic Paste\", \"price\": \"260\", \"instructions\": \"Cook with love\", \"quantity\": 2, \"status\": \"queued\"}, {\"food_id\": \"5e8a228e9c69d718046f47d4\", \"name\": \"GREEN SALAD\", \"description\": \"Traditional Green Cuts With Mint Yoghurt Dip\", \"price\": \"170\", \"instructions\": \"Cook with love\", \"quantity\": 3, \"status\": \"queued\"}, {\"food_id\": \"5e8a228f9c69d718046f4820#chicken\", \"name\": \"CLASSIC BURGERS (VEG / CHICKEN / LAMB)\", \"description\": \"Tender And Juicy Veg, Chicken Or Lamb Patties, Grilled And Served Fries With\", \"price\": \"250/280/300\", \"instructions\": \"Cook with love\", \"quantity\": 2, \"status\": \"queued\", \"foodoptions\": {\"options\": {\"CHICKEN\": \"280\"}, \"choices\": []}}]}]}, {\"_id\": {\"$oid\": \"5e8ae5729c69d718046f48a1\"}, \"table\": \"table5\", \"status\": \"queued\", \"timestamp\": \"2020-04-06 13:46:50.702000\", \"orders\": [{\"_id\": {\"$oid\": \"5e8ae5729c69d718046f48a0\"}, \"placedby\": {\"$oid\": \"5e8a228f9c69d718046f4875\"}, \"status\": \"queued\", \"foodlist\": [{\"food_id\": \"5e8a228f9c69d718046f4855\", \"name\": \"STEAMED RICE\", \"description\": \"NA\", \"price\": \"130\", \"instructions\": \"Cook with love\", \"quantity\": 2, \"status\": \"queued\"}, {\"food_id\": \"5e8a228f9c69d718046f4828\", \"name\": \"GRILLED FISH\", \"description\": \"Grilled Fish Fillet, With Lemon butter sauce Served With Herb Rice & saute vegetables\", \"price\": \"400\", \"instructions\": \"no\", \"quantity\": 3, \"status\": \"queued\"}]}, {\"_id\": {\"$oid\": \"5e8ae5729c69d718046f48a2\"}, \"placedby\": {\"$oid\": \"5e8a228f9c69d718046f4876\"}, \"status\": \"queued\", \"foodlist\": [{\"food_id\": \"5e8a228f9c69d718046f4801\", \"name\": \"KALMI KEBAB (3pcs)\", \"description\": \"Clay Oven Roasted Chicken Drumsticks\", \"price\": \"260\", \"instructions\": \"Cook with love\", \"quantity\": 1, \"status\": \"queued\"}, {\"food_id\": \"5e8a228f9c69d718046f4833\", \"name\": \"PANEER TIKKA & CHARRED PEPPERS\", \"description\": \"Tandoori Paneer Mirch Tikka With Green Bell Peppers, Onion roundels, Spring Greens & Mint Coulis\", \"price\": \"350\", \"instructions\": \"no\", \"quantity\": 3, \"status\": \"queued\"}, {\"food_id\": \"5e8a228f9c69d718046f47f7\", \"name\": \"LEMON PEPPER CHICKEN\", \"description\": \"Slice Chicken Wok Tossed, Finished With Pepper Garlic & Lime\", \"price\": \"260\", \"instructions\": \"no\", \"quantity\": 1, \"status\": \"queued\"}, {\"food_id\": \"5e8a228e9c69d718046f47dc\", \"name\": \"CHILLI CHEESE CIGARA (new)\", \"description\": \"Deep Fried Rolls With Cheese, Chill & Herbs\", \"price\": \"220\", \"instructions\": \"no\", \"quantity\": 2, \"status\": \"queued\"}, {\"food_id\": \"5e8a228f9c69d718046f480b\", \"name\": \"LAHORI SEEKH KEBAB\", \"description\": \"Succulent Minced Lamb Kebabs In The True Lahori Street Food Style\", \"price\": \"370\", \"instructions\": \"no\", \"quantity\": 1, \"status\": \"queued\"}]}, {\"_id\": {\"$oid\": \"5e8ae5729c69d718046f48a3\"}, \"placedby\": {\"$oid\": \"5e8a228f9c69d718046f4873\"}, \"status\": \"queued\", \"foodlist\": [{\"food_id\": \"5e8a228f9c69d718046f4814\", \"name\": \"HARISSA GRILLED FISH\", \"description\": \"Fish Marinated In A Spicy Tunisian Harissa Sauce And Grilled To Perfection\", \"price\": \"330\", \"instructions\": \"no\", \"quantity\": 3, \"status\": \"queued\"}, {\"food_id\": \"5e8a228f9c69d718046f47e6\", \"name\": \"HONEY CHILLY POTATO\", \"description\": \"Crispy Fried Potatoes Tossed With Chilli And Honey\", \"price\": \"190\", \"instructions\": \"no\", \"quantity\": 1, \"status\": \"queued\"}, {\"food_id\": \"5e8a228f9c69d718046f47e1\", \"name\": \"GARLIC BREAD\", \"description\": \"Garlic Butter Flavoured Bread Topped With Cheese\", \"price\": \"190\", \"instructions\": \"no\", \"quantity\": 1, \"status\": \"queued\"}, {\"food_id\": \"5e8a228e9c69d718046f47cd\", \"name\": \"H.O.C SIGNATURE MASALA PEANUTS\", \"description\": \"A Favorful Version Of Regular Peanuts Tossed In A Variety of Spices\", \"price\": \"160\", \"instructions\": \"Cook with love\", \"quantity\": 1, \"status\": \"queued\"}, {\"food_id\": \"5e8a228f9c69d718046f4833\", \"name\": \"PANEER TIKKA & CHARRED PEPPERS\", \"description\": \"Tandoori Paneer Mirch Tikka With Green Bell Peppers, Onion roundels, Spring Greens & Mint Coulis\", \"price\": \"350\", \"instructions\": \"no\", \"quantity\": 1, \"status\": \"queued\"}, {\"food_id\": \"5e8a228f9c69d718046f4823\", \"name\": \"MIXED VEGETABLE SIZZLER\", \"description\": \"Grilled Vegetable Patties, Cottage Cheese And English Vegetables, Served With French Fries\", \"price\": \"350\", \"instructions\": \"no\", \"quantity\": 1, \"status\": \"queued\"}, {\"food_id\": \"5e8a228f9c69d718046f47fc\", \"name\": \"JAIPURI MURGH KA SOOLA\", \"description\": \"Succulent Pieces Of Chicken Zapped With Red Spices, Cinnamon Flavour & Finished In Tandoor\", \"price\": \"270\", \"instructions\": \"Cook with love\", \"quantity\": 3, \"status\": \"queued\"}]}, {\"_id\": {\"$oid\": \"5e8ae5729c69d718046f48a4\"}, \"placedby\": {\"$oid\": \"5e8a228f9c69d718046f4877\"}, \"status\": \"queued\", \"foodlist\": [{\"food_id\": \"5e8a228f9c69d718046f4800\", \"name\": \"AMRITSAR FISH TIKKA\", \"description\": \"Spicy Fish Tikka Marinated In Traditional Spices And Char Grilled\", \"price\": \"320\", \"instructions\": \"Cook with love\", \"quantity\": 1, \"status\": \"queued\"}, {\"food_id\": \"5e8a228f9c69d718046f47e9\", \"name\": \"MEZZE BASKET\", \"description\": \"A Combination Of Hummus, Mutabal & Labneh, Served With Pita Bread\", \"price\": \"340\", \"instructions\": \"no\", \"quantity\": 2, \"status\": \"queued\"}, {\"food_id\": \"5e8a228e9c69d718046f47cc\", \"name\": \"CHEESE MASALA PAPAD\", \"description\": \"Crispy fried Mini Papads Topped With A Tangy Masala Mixture And Grated Cheese\", \"price\": \"160\", \"instructions\": \"Cook with love\", \"quantity\": 3, \"status\": \"queued\"}, {\"food_id\": \"5e8a228f9c69d718046f4837\", \"name\": \"MUTTON MASALA KEEMA PIZZA\", \"description\": \"Minced Mutton Cooked In Indian Spices & Herbs Topped With Chillies & Assorted Bell peppers\", \"price\": \"390\", \"instructions\": \"no\", \"quantity\": 1, \"status\": \"queued\"}, {\"food_id\": \"5e8a228f9c69d718046f4812#paneer\", \"name\": \"PERI PERI PANEER/CHICKEN\", \"description\": \"Peri Peri Basted Paneer / Chicken Cubes Served With Tzatziki Dip\", \"price\": \"260/280\", \"instructions\": \"no\", \"quantity\": 2, \"status\": \"queued\", \"foodoptions\": {\"options\": {\"PANEER\": \"260\"}, \"choices\": []}}, {\"food_id\": \"5e8a228f9c69d718046f481e\", \"name\": \"TOASTED VEG CLUB SANDWICH\", \"description\": \"Double Decker Layered With Lettuce, Cucumber, Cheese, Tomato And Served With Fries\", \"price\": \"240\", \"instructions\": \"no\", \"quantity\": 1, \"status\": \"queued\"}]}]}, {\"_id\": {\"$oid\": \"5e8ae5739c69d718046f48a6\"}, \"table\": \"table1\", \"status\": \"queued\", \"timestamp\": \"2020-04-06 13:46:51.135000\", \"orders\": [{\"_id\": {\"$oid\": \"5e8ae5739c69d718046f48a5\"}, \"placedby\": {\"$oid\": \"5e8a228f9c69d718046f4876\"}, \"status\": \"queued\", \"foodlist\": [{\"food_id\": \"5e8a228f9c69d718046f4803\", \"name\": \"TANDOORI LOLLIPOPS\", \"description\": \"Chicken Lollipops Marinated With Aromatic Indian Spices And Cooked In The Tandoor\", \"price\": \"270\", \"instructions\": \"Cook with love\", \"quantity\": 1, \"status\": \"queued\"}, {\"food_id\": \"5e8a228f9c69d718046f4842#fish\", \"name\": \"BASA FISH/PRAWNS WITH CHOICE OF YOUR CHOICE\", \"description\": \"Ginger Chilli, Sichuan, Pepper Garlic\", \"price\": \"270/300\", \"instructions\": \"no\", \"quantity\": 1, \"status\": \"queued\", \"foodoptions\": {\"options\": {\"FISH\": \"270\"}, \"choices\": []}}, {\"food_id\": \"5e8a228f9c69d718046f4829\", \"name\": \"CAPTAIN MORGAN FLAMED LAMB\", \"description\": \"Rum Infused Caribbean Lamb & Pine Nut Patty With A Centred Egg, Charred Peppers, Jalapeno Aloll, Smoked Onion Marmalade, English Cheddar Melt, French Fries With A Sage & Onion\", \"price\": \"440\", \"instructions\": \"Cook with love\", \"quantity\": 1, \"status\": \"queued\"}, {\"food_id\": \"5e8a228f9c69d718046f4852#prawns\", \"name\": \"CHILLY GARLIC NOODLES\", \"description\": \"(veg/egg/chiden/prawns)\", \"price\": \"230/250/270/290\", \"instructions\": \"no\", \"quantity\": 2, \"status\": \"queued\", \"foodoptions\": {\"options\": {\"prawns\": \"290\"}, \"choices\": []}}, {\"food_id\": \"5e8a228f9c69d718046f4857#butter\", \"name\": \"KULCHA PLAIN/BUTTER\", \"description\": \"NA\", \"price\": \"35/40\", \"instructions\": \"no\", \"quantity\": 1, \"status\": \"queued\", \"foodoptions\": {\"options\": {\"BUTTER\": \"40\"}, \"choices\": []}}, {\"food_id\": \"5e8a228f9c69d718046f4810\", \"name\": \"EGG CHILLI\", \"description\": \"Spicy Boiled Egg With Chilli Fry\", \"price\": \"210\", \"instructions\": \"Cook with love\", \"quantity\": 1, \"status\": \"queued\"}]}, {\"_id\": {\"$oid\": \"5e8ae5739c69d718046f48a7\"}, \"placedby\": {\"$oid\": \"5e8a228f9c69d718046f4872\"}, \"status\": \"queued\", \"foodlist\": [{\"food_id\": \"5e8a228f9c69d718046f47e9\", \"name\": \"MEZZE BASKET\", \"description\": \"A Combination Of Hummus, Mutabal & Labneh, Served With Pita Bread\", \"price\": \"340\", \"instructions\": \"Cook with love\", \"quantity\": 1, \"status\": \"queued\"}, {\"food_id\": \"5e8a228f9c69d718046f4823\", \"name\": \"MIXED VEGETABLE SIZZLER\", \"description\": \"Grilled Vegetable Patties, Cottage Cheese And English Vegetables, Served With French Fries\", \"price\": \"350\", \"instructions\": \"Cook with love\", \"quantity\": 1, \"status\": \"queued\"}]}]}, {\"_id\": {\"$oid\": \"5e8b3ad1942839697b1d1e2b\"}, \"table\": \"table2\", \"status\": \"queued\", \"timestamp\": \"2020-04-06 19:51:05.827000\", \"orders\": [{\"_id\": {\"$oid\": \"5e8b3ad1942839697b1d1e2a\"}, \"placedby\": {\"$oid\": \"5e8a228f9c69d718046f4873\"}, \"status\": \"queued\", \"foodlist\": [{\"food_id\": \"5e8a228f9c69d718046f4839\", \"name\": \"MIXED MEAT MAGIC\", \"description\": \"Age Old English Cheddar Topped With Roast Chicken Slvers, Apple Glazed Chicken Ham, Lamb Mince, Calamari & Shrimps\", \"price\": \"420\", \"instructions\": \"Cook with love\", \"quantity\": 2, \"status\": \"queued\"}, {\"food_id\": \"5e8a228f9c69d718046f485d\", \"name\": \"WALNUT BROWNIE\", \"description\": \"Warm Chocolate Brownie Served With Vanilla ice cream\", \"price\": \"170\", \"instructions\": \"no\", \"quantity\": 3, \"status\": \"queued\"}, {\"food_id\": \"5e8a228f9c69d718046f47f7\", \"name\": \"LEMON PEPPER CHICKEN\", \"description\": \"Slice Chicken Wok Tossed, Finished With Pepper Garlic & Lime\", \"price\": \"260\", \"instructions\": \"no\", \"quantity\": 1, \"status\": \"queued\"}, {\"food_id\": \"5e8a228e9c69d718046f47d5#chicken\", \"name\": \"HOC SALAD (Veg/Chicken)\", \"description\": \"Melange Of Crunchy Lettuce, Bell Peppers And Olives With Our Homemade Dressing\", \"price\": \"180/210\", \"instructions\": \"Cook with love\", \"quantity\": 2, \"status\": \"queued\", \"foodoptions\": {\"options\": {\"Chicken\": \"210\"}, \"choices\": []}}, {\"food_id\": \"5e8a228f9c69d718046f47ec\", \"name\": \"ANGARI PANEER TIKKA\", \"description\": \"Clay Oven Roasted Spicy Morsels Of Cottage Cheese\", \"price\": \"270\", \"instructions\": \"no\", \"quantity\": 1, \"status\": \"queued\"}, {\"food_id\": \"5e8a228f9c69d718046f4855\", \"name\": \"STEAMED RICE\", \"description\": \"NA\", \"price\": \"130\", \"instructions\": \"Cook with love\", \"quantity\": 1, \"status\": \"queued\"}]}, {\"_id\": {\"$oid\": \"5e8b3ad1942839697b1d1e2c\"}, \"placedby\": {\"$oid\": \"5e8a228f9c69d718046f4876\"}, \"status\": \"queued\", \"foodlist\": [{\"food_id\": \"5e8a228f9c69d718046f4838\", \"name\": \"FRUITS OF THE SEA\", \"description\": \"Fruits Of The Sea - Calamari, Shrimps, Sea Bream Dices Served With Maple Butter & Fresh Red Chile\", \"price\": \"390\", \"instructions\": \"Cook with love\", \"quantity\": 1, \"status\": \"queued\"}, {\"food_id\": \"5e8a228f9c69d718046f484f#prawns\", \"name\": \"STIR FRIED NOODLES\", \"description\": \"(veg/egg/chicken/prawns)\", \"price\": \"200/220/250/280\", \"instructions\": \"no\", \"quantity\": 1, \"status\": \"queued\", \"foodoptions\": {\"options\": {\"prawns\": \"280\"}, \"choices\": []}}, {\"food_id\": \"5e8a228f9c69d718046f4841\", \"name\": \"CHICKEN WITH SAUCE OF YOUR CHOICE\", \"description\": \"Hunan, Sichuan, Black Pepper\", \"price\": \"280\", \"instructions\": \"Cook with love\", \"quantity\": 1, \"status\": \"queued\"}, {\"food_id\": \"5e8a228f9c69d718046f4821\", \"name\": \"HOC BURGER- THE BIG ONE\", \"description\": \"Double Chicken, Double Cheese And Topped With A Sunny Side Up Fried Egg, Served With Fries\", \"price\": \"350\", \"instructions\": \"Cook with love\", \"quantity\": 2, \"status\": \"queued\"}, {\"food_id\": \"5e8a228f9c69d718046f4851#veg\", \"name\": \"SICHUAN FRIED NOODLES\", \"description\": \"(veg/egg/chicken/prawns)\", \"price\": \"200/220/250/280\", \"instructions\": \"no\", \"quantity\": 3, \"status\": \"queued\", \"foodoptions\": {\"options\": {\"veg\": \"200\"}, \"choices\": []}}, {\"food_id\": \"5e8a228f9c69d718046f4849\", \"name\": \"BUTTER CHICKEN\", \"description\": \"All-Time Favorite\", \"price\": \"280\", \"instructions\": \"Cook with love\", \"quantity\": 1, \"status\": \"queued\"}, {\"food_id\": \"5e8a228f9c69d718046f47f2\", \"name\": \"SHANG DONG CHICKEN LOLLY POP\", \"description\": \"Crispy Lolly pops Crunched To Perfection & Tossed in our Signature Shang Dong Drip\", \"price\": \"260\", \"instructions\": \"no\", \"quantity\": 1, \"status\": \"queued\"}]}]}, {\"_id\": {\"$oid\": \"5e8b3ade942839697b1d1e2e\"}, \"table\": \"table5\", \"status\": \"queued\", \"timestamp\": \"2020-04-06 19:51:18.112000\", \"orders\": [{\"_id\": {\"$oid\": \"5e8b3ade942839697b1d1e2d\"}, \"placedby\": {\"$oid\": \"5e8a228f9c69d718046f4873\"}, \"status\": \"queued\", \"foodlist\": [{\"food_id\": \"5e8a228f9c69d718046f4844\", \"name\": \"PALAK PANEER\", \"description\": \"Cottage Cheese Cooked In Spinach Puree, Tempered Cumin And Ginger Garlic Paste\", \"price\": \"260\", \"instructions\": \"no\", \"quantity\": 1, \"status\": \"queued\"}, {\"food_id\": \"5e8a228f9c69d718046f480f\", \"name\": \"SPICY MASALA OMELETTE\", \"description\": \"Slow Cooked Egg Omlet With Masala\", \"price\": \"180\", \"instructions\": \"Cook with love\", \"quantity\": 1, \"status\": \"queued\"}, {\"food_id\": \"5e8a228f9c69d718046f480b\", \"name\": \"LAHORI SEEKH KEBAB\", \"description\": \"Succulent Minced Lamb Kebabs In The True Lahori Street Food Style\", \"price\": \"370\", \"instructions\": \"Cook with love\", \"quantity\": 2, \"status\": \"queued\"}]}, {\"_id\": {\"$oid\": \"5e8b3ade942839697b1d1e2f\"}, \"placedby\": {\"$oid\": \"5e8a228f9c69d718046f4875\"}, \"status\": \"queued\", \"foodlist\": [{\"food_id\": \"5e8a228f9c69d718046f4843#paneer\", \"name\": \"TIKKA MASALA GRAVY\", \"description\": \"Paneer/chicken Cooked In A Spicy Onion Tomato Base Gravy\", \"price\": \"250/280\", \"instructions\": \"Cook with love\", \"quantity\": 1, \"status\": \"queued\", \"foodoptions\": {\"options\": {\"Paneer\": \"250\"}, \"choices\": []}}, {\"food_id\": \"5e8a228e9c69d718046f47d6\", \"name\": \"WATERMELON & FETA\", \"description\": \"An All Time Classic - With Balsamic Glaze\", \"price\": \"210\", \"instructions\": \"Cook with love\", \"quantity\": 1, \"status\": \"queued\"}, {\"food_id\": \"5e8a228f9c69d718046f47f7\", \"name\": \"LEMON PEPPER CHICKEN\", \"description\": \"Slice Chicken Wok Tossed, Finished With Pepper Garlic & Lime\", \"price\": \"260\", \"instructions\": \"Cook with love\", \"quantity\": 1, \"status\": \"queued\"}, {\"food_id\": \"5e8a228f9c69d718046f47e3\", \"name\": \"CRISPY CHILLY MUSHROOM\", \"description\": \"Crispy Fried Mushrooms Tossed With Oriental Spices\", \"price\": \"220\", \"instructions\": \"no\", \"quantity\": 1, \"status\": \"queued\"}]}, {\"_id\": {\"$oid\": \"5e8b3ade942839697b1d1e30\"}, \"placedby\": {\"$oid\": \"5e8a228f9c69d718046f4877\"}, \"status\": \"queued\", \"foodlist\": [{\"food_id\": \"5e8a228f9c69d718046f4839\", \"name\": \"MIXED MEAT MAGIC\", \"description\": \"Age Old English Cheddar Topped With Roast Chicken Slvers, Apple Glazed Chicken Ham, Lamb Mince, Calamari & Shrimps\", \"price\": \"420\", \"instructions\": \"Cook with love\", \"quantity\": 3, \"status\": \"queued\"}, {\"food_id\": \"5e8a228f9c69d718046f4802\", \"name\": \"ANGARI MURGH TIKKA\", \"description\": \"Clay Oven Roasted Spicy Morsels Of Chicken\", \"price\": \"260\", \"instructions\": \"Cook with love\", \"quantity\": 1, \"status\": \"queued\"}, {\"food_id\": \"5e8a228f9c69d718046f4813\", \"name\": \"THAI GRILLED FISH IN BANANA LEAF\", \"description\": \"Delicately Grilled Fish With Basil Flavour And Served Hot\", \"price\": \"330\", \"instructions\": \"no\", \"quantity\": 2, \"status\": \"queued\"}, {\"food_id\": \"5e8a228e9c69d718046f47cf\", \"name\": \"CHATPATA CHANA CHAAT\", \"description\": \"A Delectable Blend Of Bengal Gram And A Tangy Mixture\", \"price\": \"160\", \"instructions\": \"Cook with love\", \"quantity\": 1, \"status\": \"queued\"}]}, {\"_id\": {\"$oid\": \"5e8b3ade942839697b1d1e31\"}, \"placedby\": {\"$oid\": \"5e8a228f9c69d718046f4875\"}, \"status\": \"queued\", \"foodlist\": [{\"food_id\": \"5e8a228f9c69d718046f4841\", \"name\": \"CHICKEN WITH SAUCE OF YOUR CHOICE\", \"description\": \"Hunan, Sichuan, Black Pepper\", \"price\": \"280\", \"instructions\": \"no\", \"quantity\": 1, \"status\": \"queued\"}, {\"food_id\": \"5e8a228f9c69d718046f47ec\", \"name\": \"ANGARI PANEER TIKKA\", \"description\": \"Clay Oven Roasted Spicy Morsels Of Cottage Cheese\", \"price\": \"270\", \"instructions\": \"no\", \"quantity\": 1, \"status\": \"queued\"}, {\"food_id\": \"5e8a228e9c69d718046f47de\", \"name\": \"FRENCH FRIES\", \"description\": \"French Fries Tossed With Hoc Signature Cajun Spice Seasoning\", \"price\": \"190\", \"instructions\": \"Cook with love\", \"quantity\": 2, \"status\": \"queued\"}, {\"food_id\": \"5e8a228f9c69d718046f4810\", \"name\": \"EGG CHILLI\", \"description\": \"Spicy Boiled Egg With Chilli Fry\", \"price\": \"210\", \"instructions\": \"no\", \"quantity\": 1, \"status\": \"queued\"}, {\"food_id\": \"5e8a228f9c69d718046f4805\", \"name\": \"MURGH KASTURI KEBAB\", \"description\": \"Boneless Charcoal Smoked Chicken Tikka With Kasturi Methi Flavoured\", \"price\": \"260\", \"instructions\": \"Cook with love\", \"quantity\": 1, \"status\": \"queued\"}, {\"food_id\": \"5e8a228f9c69d718046f4807\", \"name\": \"TANDOORI KING PRAWNS\", \"description\": \"King Prawns Marinated With Yogurt, Lime Juice, Bhatti Spices And Slowly Cooked In Tandoor\", \"price\": \"499\", \"instructions\": \"Cook with love\", \"quantity\": 1, \"status\": \"queued\"}]}]}, {\"_id\": {\"$oid\": \"5e8b4020942839697b1d1e33\"}, \"table\": \"table2\", \"status\": \"queued\", \"timestamp\": \"2020-04-06 20:13:44.058000\", \"orders\": [{\"_id\": {\"$oid\": \"5e8b4020942839697b1d1e32\"}, \"placedby\": {\"$oid\": \"5e8a228f9c69d718046f4877\"}, \"status\": \"queued\", \"foodlist\": [{\"food_id\": \"5e8a228f9c69d718046f4859\", \"name\": \"GARLIC NAAN\", \"description\": \"NA\", \"price\": \"50\", \"instructions\": \"Cook with love\", \"quantity\": 1, \"status\": \"queued\"}, {\"food_id\": \"5e8a228f9c69d718046f4804\", \"name\": \"MURGH MALAI TIKKA\", \"description\": \"Clay Oven Roasted Creamy Chunks Of Chicken\", \"price\": \"260\", \"instructions\": \"no\", \"quantity\": 2, \"status\": \"queued\"}, {\"food_id\": \"5e8a228f9c69d718046f47fd#half\", \"name\": \"TANDOORI MURGH (HALF/FULL)\", \"description\": \"Chicken Marinated In Aromatic Indian Spices & Then Cooked In Tandoor\", \"price\": \"250/480\", \"instructions\": \"Cook with love\", \"quantity\": 2, \"status\": \"queued\", \"foodoptions\": {\"options\": {\"HALF\": \"250\"}, \"choices\": []}}, {\"food_id\": \"5e8a228f9c69d718046f482c#chicken\", \"name\": \"SPAGHETTI AGLIO OLIO (VEG/ CHICKEN / SHRIMPS)\", \"description\": \"NA\", \"price\": \"300/340/380\", \"instructions\": \"Cook with love\", \"quantity\": 1, \"status\": \"queued\", \"foodoptions\": {\"options\": {\"CHICKEN\": \"340\"}, \"choices\": []}}]}, {\"_id\": {\"$oid\": \"5e8b4020942839697b1d1e34\"}, \"placedby\": {\"$oid\": \"5e8a228f9c69d718046f4877\"}, \"status\": \"queued\", \"foodlist\": [{\"food_id\": \"5e8a228f9c69d718046f4839\", \"name\": \"MIXED MEAT MAGIC\", \"description\": \"Age Old English Cheddar Topped With Roast Chicken Slvers, Apple Glazed Chicken Ham, Lamb Mince, Calamari & Shrimps\", \"price\": \"420\", \"instructions\": \"no\", \"quantity\": 3, \"status\": \"queued\"}, {\"food_id\": \"5e8a228f9c69d718046f4801\", \"name\": \"KALMI KEBAB (3pcs)\", \"description\": \"Clay Oven Roasted Chicken Drumsticks\", \"price\": \"260\", \"instructions\": \"Cook with love\", \"quantity\": 1, \"status\": \"queued\"}, {\"food_id\": \"5e8a228f9c69d718046f47f3\", \"name\": \"HOC SIGNATURE CHICKEN WINGS\", \"description\": \"Sweet Chilly / Spiced Szechuan\", \"price\": \"260\", \"instructions\": \"no\", \"quantity\": 2, \"status\": \"queued\"}, {\"food_id\": \"5e8a228f9c69d718046f483b\", \"name\": \"FISH AND CHIPS\", \"description\": \"Crumb Fried Fish In Hoc Signature Marination, Served With French Fries\", \"price\": \"350\", \"instructions\": \"Cook with love\", \"quantity\": 2, \"status\": \"queued\"}]}]}, {\"_id\": {\"$oid\": \"5e8b4022942839697b1d1e36\"}, \"table\": \"table8\", \"status\": \"queued\", \"timestamp\": \"2020-04-06 20:13:46.505000\", \"orders\": [{\"_id\": {\"$oid\": \"5e8b4022942839697b1d1e35\"}, \"placedby\": {\"$oid\": \"5e8a228f9c69d718046f4873\"}, \"status\": \"queued\", \"foodlist\": [{\"food_id\": \"5e8a228f9c69d718046f484b\", \"name\": \"MURGH METHI KHAS\", \"description\": \"Tender Chicken Cooked In Cream Based Onion And Tomato Gravy With Aromatic Spices And Flavor\", \"price\": \"280\", \"instructions\": \"no\", \"quantity\": 1, \"status\": \"queued\"}, {\"food_id\": \"5e8a228f9c69d718046f4809\", \"name\": \"ANDHRA LAMB PEPPER FRY\", \"description\": \"Tender Mutton Pieces Tossed In South Indian Spices\", \"price\": \"350\", \"instructions\": \"Cook with love\", \"quantity\": 2, \"status\": \"queued\"}, {\"food_id\": \"5e8a228f9c69d718046f4803\", \"name\": \"TANDOORI LOLLIPOPS\", \"description\": \"Chicken Lollipops Marinated With Aromatic Indian Spices And Cooked In The Tandoor\", \"price\": \"270\", \"instructions\": \"Cook with love\", \"quantity\": 1, \"status\": \"queued\"}, {\"food_id\": \"5e8a228f9c69d718046f47ff\", \"name\": \"FISH TIKKA KALIMIRCH\", \"description\": \"Fresh Cubes Of Basa Fish Marinated With Crushed Black Pepper & Indian Spices, Finished In Clay Oven\", \"price\": \"320\", \"instructions\": \"no\", \"quantity\": 1, \"status\": \"queued\"}, {\"food_id\": \"5e8a228f9c69d718046f4857#plain\", \"name\": \"KULCHA PLAIN/BUTTER\", \"description\": \"NA\", \"price\": \"35/40\", \"instructions\": \"no\", \"quantity\": 1, \"status\": \"queued\", \"foodoptions\": {\"options\": {\"PLAIN\": \"35\"}, \"choices\": []}}, {\"food_id\": \"5e8a228f9c69d718046f483c\", \"name\": \"CHICKEN BASKET\", \"description\": \"Crumb Fried Chicken Supreme In Hoc Signature Marination, Served With French Fries\", \"price\": \"350\", \"instructions\": \"no\", \"quantity\": 1, \"status\": \"queued\"}, {\"food_id\": \"5e8a228e9c69d718046f47d4\", \"name\": \"GREEN SALAD\", \"description\": \"Traditional Green Cuts With Mint Yoghurt Dip\", \"price\": \"170\", \"instructions\": \"no\", \"quantity\": 1, \"status\": \"queued\"}]}]}, {\"_id\": {\"$oid\": \"5e8b4219942839697b1d1e38\"}, \"table\": \"table9\", \"status\": \"queued\", \"timestamp\": \"2020-04-06 20:22:09.182000\", \"orders\": [{\"_id\": {\"$oid\": \"5e8b4219942839697b1d1e37\"}, \"placedby\": {\"$oid\": \"5e8a228f9c69d718046f4877\"}, \"status\": \"queued\", \"foodlist\": [{\"food_id\": \"5e8a228f9c69d718046f47fd#half\", \"name\": \"TANDOORI MURGH (HALF/FULL)\", \"description\": \"Chicken Marinated In Aromatic Indian Spices & Then Cooked In Tandoor\", \"price\": \"250/480\", \"instructions\": \"no\", \"quantity\": 3, \"status\": \"queued\", \"foodoptions\": {\"options\": {\"HALF\": \"250\"}, \"choices\": []}}, {\"food_id\": \"5e8a228f9c69d718046f4838\", \"name\": \"FRUITS OF THE SEA\", \"description\": \"Fruits Of The Sea - Calamari, Shrimps, Sea Bream Dices Served With Maple Butter & Fresh Red Chile\", \"price\": \"390\", \"instructions\": \"no\", \"quantity\": 3, \"status\": \"queued\"}, {\"food_id\": \"5e8a228f9c69d718046f483d#prawns_red\", \"name\": \"THAI CURRY [Red/Green]\", \"description\": \"Basil Flavoured Thal Curry/bird-eye Chillies Flavoured Thai Curry Cooked With Garden Fresh Vegetables/chicken/prawns, Served With Steamed Rice\", \"price\": \"250/280/300\", \"instructions\": \"no\", \"quantity\": 2, \"status\": \"queued\", \"foodoptions\": {\"options\": {\"prawns\": \"300\"}, \"choices\": [\"Red\"]}}, {\"food_id\": \"5e8a228f9c69d718046f47fa\", \"name\": \"MASALA FRY CHICKEN (new)\", \"description\": \"Classic Indian Style With Bone Deep fried Chicken Served With Mint Chutney\", \"price\": \"250\", \"instructions\": \"Cook with love\", \"quantity\": 1, \"status\": \"queued\"}, {\"food_id\": \"5e8a228f9c69d718046f4806\", \"name\": \"TANDOORI CHICKEN MOMOS\", \"description\": \"Soft And Juicy Chicken Momos Marinated With Tandoori Masala And Char Grilled\", \"price\": \"260\", \"instructions\": \"no\", \"quantity\": 1, \"status\": \"queued\"}, {\"food_id\": \"5e8a228f9c69d718046f4832\", \"name\": \"FUNGHI\", \"description\": \"Shitake, Oyster & Button Mushrooms With Shallots, Chives, Charmed Peppers And White Truffle Oil\", \"price\": \"300\", \"instructions\": \"Cook with love\", \"quantity\": 3, \"status\": \"queued\"}]}, {\"_id\": {\"$oid\": \"5e8b4219942839697b1d1e39\"}, \"placedby\": {\"$oid\": \"5e8a228f9c69d718046f4872\"}, \"status\": \"queued\", \"foodlist\": [{\"food_id\": \"5e8a228f9c69d718046f47e0\", \"name\": \"MUSHROOM LOADED FRIES\", \"description\": \"Cheesy French Fries Topped With Mushrooms And Herbs\", \"price\": \"230\", \"instructions\": \"Cook with love\", \"quantity\": 1, \"status\": \"queued\"}, {\"food_id\": \"5e8a228f9c69d718046f4856#butter\", \"name\": \"ROTI PLAIN/BUTTER\", \"description\": \"NA\", \"price\": \"35/40\", \"instructions\": \"Cook with love\", \"quantity\": 2, \"status\": \"queued\", \"foodoptions\": {\"options\": {\"BUTTER\": \"40\"}, \"choices\": []}}, {\"food_id\": \"5e8a228f9c69d718046f4835\", \"name\": \"TANDOORI MURGH TIKKA WITH KALAMATA OLIVES\", \"description\": \"Chicken Tikka With Shallots, Capers, Charred Peppers, Kalamata Olives & Sweet Chilli Treacle\", \"price\": \"380\", \"instructions\": \"no\", \"quantity\": 2, \"status\": \"queued\"}, {\"food_id\": \"5e8a228f9c69d718046f47ff\", \"name\": \"FISH TIKKA KALIMIRCH\", \"description\": \"Fresh Cubes Of Basa Fish Marinated With Crushed Black Pepper & Indian Spices, Finished In Clay Oven\", \"price\": \"320\", \"instructions\": \"no\", \"quantity\": 1, \"status\": \"queued\"}, {\"food_id\": \"5e8a228f9c69d718046f485e\", \"name\": \"CARAMEL CUSTARD\", \"description\": \"Custard Dessert With A Layer Of Soft Caramel Glazed On Top\", \"price\": \"150\", \"instructions\": \"no\", \"quantity\": 1, \"status\": \"queued\"}, {\"food_id\": \"5e8a228f9c69d718046f482e#chicken\", \"name\": \"SPICY CAJUN LINGUINE ALFREDO (VEG/ CHICKEN / SHRIMPS)\", \"description\": \"NA\", \"price\": \"300/340/380\", \"instructions\": \"Cook with love\", \"quantity\": 3, \"status\": \"queued\", \"foodoptions\": {\"options\": {\"CHICKEN\": \"340\"}, \"choices\": []}}]}, {\"_id\": {\"$oid\": \"5e8b4219942839697b1d1e3a\"}, \"placedby\": {\"$oid\": \"5e8a228f9c69d718046f4873\"}, \"status\": \"queued\", \"foodlist\": [{\"food_id\": \"5e8a228f9c69d718046f47fd#half\", \"name\": \"TANDOORI MURGH (HALF/FULL)\", \"description\": \"Chicken Marinated In Aromatic Indian Spices & Then Cooked In Tandoor\", \"price\": \"250/480\", \"instructions\": \"Cook with love\", \"quantity\": 1, \"status\": \"queued\", \"foodoptions\": {\"options\": {\"HALF\": \"250\"}, \"choices\": []}}, {\"food_id\": \"5e8a228f9c69d718046f481e\", \"name\": \"TOASTED VEG CLUB SANDWICH\", \"description\": \"Double Decker Layered With Lettuce, Cucumber, Cheese, Tomato And Served With Fries\", \"price\": \"240\", \"instructions\": \"no\", \"quantity\": 3, \"status\": \"queued\"}, {\"food_id\": \"5e8a228f9c69d718046f4846#chicken\", \"name\": \"MAKHANI GRAVY\", \"description\": \"Paneer/Chicken Cooked In A Creamy Tomato Base Gravy\", \"price\": \"250/280\", \"instructions\": \"no\", \"quantity\": 1, \"status\": \"queued\", \"foodoptions\": {\"options\": {\"Chicken\": \"280\"}, \"choices\": []}}, {\"food_id\": \"5e8a228f9c69d718046f4836\", \"name\": \"BARBEQUED GERMAN CHICKEN SAUSAGES\", \"description\": \"BBQ Glazed Chicken Sausages With Caramelized Shallots, Bell Peppers, Jalapenos & Capers\", \"price\": \"390\", \"instructions\": \"no\", \"quantity\": 3, \"status\": \"queued\"}, {\"food_id\": \"5e8a228f9c69d718046f480e\", \"name\": \"EGG BHURJI\", \"description\": \"Desi Style Scrambled Eggs\", \"price\": \"170\", \"instructions\": \"no\", \"quantity\": 1, \"status\": \"queued\"}, {\"food_id\": \"5e8a228f9c69d718046f4849\", \"name\": \"BUTTER CHICKEN\", \"description\": \"All-Time Favorite\", \"price\": \"280\", \"instructions\": \"Cook with love\", \"quantity\": 3, \"status\": \"queued\"}, {\"food_id\": \"5e8a228f9c69d718046f482d#chicken\", \"name\": \"FIERY PENNE PASTA (VEG/ CHICKEN / SHRIMPS)\", \"description\": \"NA\", \"price\": \"300/340/380\", \"instructions\": \"no\", \"quantity\": 2, \"status\": \"queued\", \"foodoptions\": {\"options\": {\"CHICKEN\": \"340\"}, \"choices\": []}}]}]}, {\"_id\": {\"$oid\": \"5e8b4221942839697b1d1e3c\"}, \"table\": \"table9\", \"status\": \"queued\", \"timestamp\": \"2020-04-06 20:22:17.954000\", \"orders\": [{\"_id\": {\"$oid\": \"5e8b4221942839697b1d1e3b\"}, \"placedby\": {\"$oid\": \"5e8a228f9c69d718046f4877\"}, \"status\": \"queued\", \"foodlist\": [{\"food_id\": \"5e8a228f9c69d718046f4858#plain\", \"name\": \"NAAN PLAIN/BUTTER\", \"description\": \"NA\", \"price\": \"40/45\", \"instructions\": \"no\", \"quantity\": 1, \"status\": \"queued\", \"foodoptions\": {\"options\": {\"PLAIN\": \"40\"}, \"choices\": []}}, {\"food_id\": \"5e8a228f9c69d718046f47fd#half\", \"name\": \"TANDOORI MURGH (HALF/FULL)\", \"description\": \"Chicken Marinated In Aromatic Indian Spices & Then Cooked In Tandoor\", \"price\": \"250/480\", \"instructions\": \"Cook with love\", \"quantity\": 2, \"status\": \"queued\", \"foodoptions\": {\"options\": {\"HALF\": \"250\"}, \"choices\": []}}, {\"food_id\": \"5e8a228f9c69d718046f47f9\", \"name\": \"CHICKEN GHEE ROAST\", \"description\": \"Chicken Roasted With A Fiery Red, Tangy And Spicy With The Flavour Of Ghee\", \"price\": \"280\", \"instructions\": \"Cook with love\", \"quantity\": 2, \"status\": \"queued\"}, {\"food_id\": \"5e8a228f9c69d718046f4800\", \"name\": \"AMRITSAR FISH TIKKA\", \"description\": \"Spicy Fish Tikka Marinated In Traditional Spices And Char Grilled\", \"price\": \"320\", \"instructions\": \"no\", \"quantity\": 1, \"status\": \"queued\"}, {\"food_id\": \"5e8a228f9c69d718046f47e9\", \"name\": \"MEZZE BASKET\", \"description\": \"A Combination Of Hummus, Mutabal & Labneh, Served With Pita Bread\", \"price\": \"340\", \"instructions\": \"Cook with love\", \"quantity\": 1, \"status\": \"queued\"}, {\"food_id\": \"5e8a228f9c69d718046f4849\", \"name\": \"BUTTER CHICKEN\", \"description\": \"All-Time Favorite\", \"price\": \"280\", \"instructions\": \"no\", \"quantity\": 1, \"status\": \"queued\"}]}, {\"_id\": {\"$oid\": \"5e8b4221942839697b1d1e3d\"}, \"placedby\": {\"$oid\": \"5e8a228f9c69d718046f4876\"}, \"status\": \"queued\", \"foodlist\": [{\"food_id\": \"5e8a228f9c69d718046f47f8\", \"name\": \"JIANG CHILLI CHICKEN\", \"description\": \"Chicken Tossed With Shredded Ginger And Chilli In Jiang Style\", \"price\": \"260\", \"instructions\": \"Cook with love\", \"quantity\": 1, \"status\": \"queued\"}, {\"food_id\": \"5e8a228f9c69d718046f4851#veg\", \"name\": \"SICHUAN FRIED NOODLES\", \"description\": \"(veg/egg/chicken/prawns)\", \"price\": \"200/220/250/280\", \"instructions\": \"Cook with love\", \"quantity\": 2, \"status\": \"queued\", \"foodoptions\": {\"options\": {\"veg\": \"200\"}, \"choices\": []}}, {\"food_id\": \"5e8a228f9c69d718046f47ee\", \"name\": \"TANDOORI VEG MOMOS\", \"description\": \"Soft And Juicy Vegetable Momos Marinated With Tandoori Masala And Char Grilled\", \"price\": \"220\", \"instructions\": \"no\", \"quantity\": 3, \"status\": \"queued\"}, {\"food_id\": \"5e8a228f9c69d718046f482b\", \"name\": \"BAKED CHEESE MACARONI\", \"description\": \"All Time Favourite In A Cheesy Cream Sauce And Baked in The Oven\", \"price\": \"300\", \"instructions\": \"Cook with love\", \"quantity\": 1, \"status\": \"queued\"}, {\"food_id\": \"5e8a228f9c69d718046f47e8\", \"name\": \"PANDAN LEAF COTTAGE CHEESE\", \"description\": \"Tender Cottage Cheese Wrapped In Fragrant Pandan Leaves, With Chilli Coriander Sauce\", \"price\": \"280\", \"instructions\": \"Cook with love\", \"quantity\": 3, \"status\": \"queued\"}]}, {\"_id\": {\"$oid\": \"5e8b4221942839697b1d1e3e\"}, \"placedby\": {\"$oid\": \"5e8a228f9c69d718046f4875\"}, \"status\": \"queued\", \"foodlist\": [{\"food_id\": \"5e8a228f9c69d718046f4841\", \"name\": \"CHICKEN WITH SAUCE OF YOUR CHOICE\", \"description\": \"Hunan, Sichuan, Black Pepper\", \"price\": \"280\", \"instructions\": \"no\", \"quantity\": 1, \"status\": \"queued\"}, {\"food_id\": \"5e8a228f9c69d718046f4836\", \"name\": \"BARBEQUED GERMAN CHICKEN SAUSAGES\", \"description\": \"BBQ Glazed Chicken Sausages With Caramelized Shallots, Bell Peppers, Jalapenos & Capers\", \"price\": \"390\", \"instructions\": \"Cook with love\", \"quantity\": 2, \"status\": \"queued\"}, {\"food_id\": \"5e8a228f9c69d718046f47fa\", \"name\": \"MASALA FRY CHICKEN (new)\", \"description\": \"Classic Indian Style With Bone Deep fried Chicken Served With Mint Chutney\", \"price\": \"250\", \"instructions\": \"no\", \"quantity\": 1, \"status\": \"queued\"}, {\"food_id\": \"5e8a228f9c69d718046f47f6\", \"name\": \"ANDHRA CHILLI CHICKEN *VERY HOT*\", \"description\": \"All Time Favourite Andhra Style Chicken Cooked With Coriander And Green Chilli Paste And Fresh Green Chillies\", \"price\": \"270\", \"instructions\": \"no\", \"quantity\": 1, \"status\": \"queued\"}]}]}, {\"_id\": {\"$oid\": \"5e8b4b57942839697b1d1e40\"}, \"table\": \"table14\", \"status\": \"queued\", \"timestamp\": \"2020-04-06 21:01:35.058000\", \"orders\": [{\"_id\": {\"$oid\": \"5e8b4b57942839697b1d1e3f\"}, \"placedby\": {\"$oid\": \"5e8a228f9c69d718046f4877\"}, \"status\": \"queued\", \"foodlist\": [{\"food_id\": \"5e8a228f9c69d718046f4858#butter\", \"name\": \"NAAN PLAIN/BUTTER\", \"description\": \"NA\", \"price\": \"40/45\", \"instructions\": \"Cook with love\", \"quantity\": 2, \"status\": \"queued\", \"foodoptions\": {\"options\": {\"BUTTER\": \"45\"}, \"choices\": []}}, {\"food_id\": \"5e8a228f9c69d718046f47f6\", \"name\": \"ANDHRA CHILLI CHICKEN *VERY HOT*\", \"description\": \"All Time Favourite Andhra Style Chicken Cooked With Coriander And Green Chilli Paste And Fresh Green Chillies\", \"price\": \"270\", \"instructions\": \"Cook with love\", \"quantity\": 3, \"status\": \"queued\"}, {\"food_id\": \"5e8a228e9c69d718046f47dd\", \"name\": \"HOC CHIP & DIP BASKET\", \"description\": \"Combination Of Onion Rings, Jalapeno Cheese Balls, Greek Potato Wedges, Habanero Green Chili Fries\", \"price\": \"390\", \"instructions\": \"no\", \"quantity\": 1, \"status\": \"queued\"}, {\"food_id\": \"5e8a228e9c69d718046f47d4\", \"name\": \"GREEN SALAD\", \"description\": \"Traditional Green Cuts With Mint Yoghurt Dip\", \"price\": \"170\", \"instructions\": \"Cook with love\", \"quantity\": 1, \"status\": \"queued\"}, {\"food_id\": \"5e8a228f9c69d718046f4806\", \"name\": \"TANDOORI CHICKEN MOMOS\", \"description\": \"Soft And Juicy Chicken Momos Marinated With Tandoori Masala And Char Grilled\", \"price\": \"260\", \"instructions\": \"no\", \"quantity\": 1, \"status\": \"queued\"}, {\"food_id\": \"5e8a228f9c69d718046f4807\", \"name\": \"TANDOORI KING PRAWNS\", \"description\": \"King Prawns Marinated With Yogurt, Lime Juice, Bhatti Spices And Slowly Cooked In Tandoor\", \"price\": \"499\", \"instructions\": \"Cook with love\", \"quantity\": 2, \"status\": \"queued\"}]}]}, {\"_id\": {\"$oid\": \"5e8b4b6c942839697b1d1e42\"}, \"table\": \"table8\", \"status\": \"queued\", \"timestamp\": \"2020-04-06 21:01:56.770000\", \"orders\": [{\"_id\": {\"$oid\": \"5e8b4b6c942839697b1d1e41\"}, \"placedby\": {\"$oid\": \"5e8a228f9c69d718046f4872\"}, \"status\": \"queued\", \"foodlist\": [{\"food_id\": \"5e8a228f9c69d718046f47fd#half\", \"name\": \"TANDOORI MURGH (HALF/FULL)\", \"description\": \"Chicken Marinated In Aromatic Indian Spices & Then Cooked In Tandoor\", \"price\": \"250/480\", \"instructions\": \"no\", \"quantity\": 3, \"status\": \"queued\", \"foodoptions\": {\"options\": {\"HALF\": \"250\"}, \"choices\": []}}, {\"food_id\": \"5e8a228f9c69d718046f481e\", \"name\": \"TOASTED VEG CLUB SANDWICH\", \"description\": \"Double Decker Layered With Lettuce, Cucumber, Cheese, Tomato And Served With Fries\", \"price\": \"240\", \"instructions\": \"no\", \"quantity\": 1, \"status\": \"queued\"}, {\"food_id\": \"5e8a228f9c69d718046f482f#shrimps\", \"name\": \"PENNE WITH PESTO (VEG/ CHICKEN / SHRIMPS)\", \"description\": \"NA\", \"price\": \"300/340/380\", \"instructions\": \"no\", \"quantity\": 2, \"status\": \"queued\", \"foodoptions\": {\"options\": {\"SHRIMPS\": \"380\"}, \"choices\": []}}, {\"food_id\": \"5e8a228f9c69d718046f4852#chiden\", \"name\": \"CHILLY GARLIC NOODLES\", \"description\": \"(veg/egg/chiden/prawns)\", \"price\": \"230/250/270/290\", \"instructions\": \"no\", \"quantity\": 1, \"status\": \"queued\", \"foodoptions\": {\"options\": {\"chiden\": \"270\"}, \"choices\": []}}, {\"food_id\": \"5e8a228f9c69d718046f483b\", \"name\": \"FISH AND CHIPS\", \"description\": \"Crumb Fried Fish In Hoc Signature Marination, Served With French Fries\", \"price\": \"350\", \"instructions\": \"no\", \"quantity\": 1, \"status\": \"queued\"}, {\"food_id\": \"5e8a228e9c69d718046f47dc\", \"name\": \"CHILLI CHEESE CIGARA (new)\", \"description\": \"Deep Fried Rolls With Cheese, Chill & Herbs\", \"price\": \"220\", \"instructions\": \"Cook with love\", \"quantity\": 1, \"status\": \"queued\"}, {\"food_id\": \"5e8a228e9c69d718046f47cb#chicken\", \"name\": \"NACHOS (Veg/Chicken)\", \"description\": \"Crispy Corn Tortillas Topped With Spicy Baked Bean Salsa and Sour Cream\", \"price\": \"190/230\", \"instructions\": \"Cook with love\", \"quantity\": 2, \"status\": \"queued\", \"foodoptions\": {\"options\": {\"Chicken\": \"230\"}, \"choices\": []}}, {\"food_id\": \"5e8a228f9c69d718046f47e2\", \"name\": \"CHEESE CORN TIKKI\", \"description\": \"American Com & Cottage Cheese Patty Served with Mint Chutney\", \"price\": \"220\", \"instructions\": \"Cook with love\", \"quantity\": 2, \"status\": \"queued\"}]}, {\"_id\": {\"$oid\": \"5e8b4b6c942839697b1d1e43\"}, \"placedby\": {\"$oid\": \"5e8a228f9c69d718046f4872\"}, \"status\": \"queued\", \"foodlist\": [{\"food_id\": \"5e8a228f9c69d718046f4845\", \"name\": \"DAL MAKHANI\", \"description\": \"Slow Cooked Lentils Finished With White Butter\", \"price\": \"240\", \"instructions\": \"no\", \"quantity\": 2, \"status\": \"queued\"}, {\"food_id\": \"5e8a228f9c69d718046f4846#chicken\", \"name\": \"MAKHANI GRAVY\", \"description\": \"Paneer/Chicken Cooked In A Creamy Tomato Base Gravy\", \"price\": \"250/280\", \"instructions\": \"Cook with love\", \"quantity\": 1, \"status\": \"queued\", \"foodoptions\": {\"options\": {\"Chicken\": \"280\"}, \"choices\": []}}, {\"food_id\": \"5e8a228f9c69d718046f4827\", \"name\": \"TEQUILA LIME GRILLED CHICKEN\", \"description\": \"Flesh Flamed Tequila Marinated Lime & Chilli Chicken With Herbed Country Mash, Garden Grilled Vegetables Cumin Coffee Scented Jus\", \"price\": \"400\", \"instructions\": \"Cook with love\", \"quantity\": 1, \"status\": \"queued\"}, {\"food_id\": \"5e8a228f9c69d718046f480a\", \"name\": \"MUTTON GHEE ROAST\", \"description\": \"Mutton Roasted With A Fiery Red And Spicy With The Flavour Of Ghee\", \"price\": \"370\", \"instructions\": \"Cook with love\", \"quantity\": 1, \"status\": \"queued\"}, {\"food_id\": \"5e8a228f9c69d718046f483b\", \"name\": \"FISH AND CHIPS\", \"description\": \"Crumb Fried Fish In Hoc Signature Marination, Served With French Fries\", \"price\": \"350\", \"instructions\": \"Cook with love\", \"quantity\": 3, \"status\": \"queued\"}, {\"food_id\": \"5e8a228f9c69d718046f47ff\", \"name\": \"FISH TIKKA KALIMIRCH\", \"description\": \"Fresh Cubes Of Basa Fish Marinated With Crushed Black Pepper & Indian Spices, Finished In Clay Oven\", \"price\": \"320\", \"instructions\": \"no\", \"quantity\": 3, \"status\": \"queued\"}, {\"food_id\": \"5e8a228e9c69d718046f47d4\", \"name\": \"GREEN SALAD\", \"description\": \"Traditional Green Cuts With Mint Yoghurt Dip\", \"price\": \"170\", \"instructions\": \"Cook with love\", \"quantity\": 1, \"status\": \"queued\"}]}, {\"_id\": {\"$oid\": \"5e8b4b6c942839697b1d1e44\"}, \"placedby\": {\"$oid\": \"5e8a228f9c69d718046f4873\"}, \"status\": \"queued\", \"foodlist\": [{\"food_id\": \"5e8a228e9c69d718046f47cd\", \"name\": \"H.O.C SIGNATURE MASALA PEANUTS\", \"description\": \"A Favorful Version Of Regular Peanuts Tossed In A Variety of Spices\", \"price\": \"160\", \"instructions\": \"Cook with love\", \"quantity\": 1, \"status\": \"queued\"}, {\"food_id\": \"5e8a228f9c69d718046f47e4\", \"name\": \"CRISPY CHILLY BABY CORN\", \"description\": \"Crispy Fried Babycom Tossed With Oriental Spices\", \"price\": \"190\", \"instructions\": \"no\", \"quantity\": 1, \"status\": \"queued\"}, {\"food_id\": \"5e8a228f9c69d718046f482b\", \"name\": \"BAKED CHEESE MACARONI\", \"description\": \"All Time Favourite In A Cheesy Cream Sauce And Baked in The Oven\", \"price\": \"300\", \"instructions\": \"no\", \"quantity\": 1, \"status\": \"queued\"}, {\"food_id\": \"5e8a228e9c69d718046f47d7#veg\", \"name\": \"CAESAR SALAD (Veg/Chicken)\", \"description\": \"Crunchy Ice Berg Lettuce, Parmesan With the Classic Caesar Dressing\", \"price\": \"190/230\", \"instructions\": \"no\", \"quantity\": 1, \"status\": \"queued\", \"foodoptions\": {\"options\": {\"Veg\": \"190\"}, \"choices\": []}}, {\"food_id\": \"5e8a228f9c69d718046f4806\", \"name\": \"TANDOORI CHICKEN MOMOS\", \"description\": \"Soft And Juicy Chicken Momos Marinated With Tandoori Masala And Char Grilled\", \"price\": \"260\", \"instructions\": \"Cook with love\", \"quantity\": 2, \"status\": \"queued\"}, {\"food_id\": \"5e8a228f9c69d718046f485a\", \"name\": \"LACCHA PARATHA\", \"description\": \"NA\", \"price\": \"45\", \"instructions\": \"Cook with love\", \"quantity\": 1, \"status\": \"queued\"}, {\"food_id\": \"5e8a228e9c69d718046f47cb#veg\", \"name\": \"NACHOS (Veg/Chicken)\", \"description\": \"Crispy Corn Tortillas Topped With Spicy Baked Bean Salsa and Sour Cream\", \"price\": \"190/230\", \"instructions\": \"Cook with love\", \"quantity\": 1, \"status\": \"queued\", \"foodoptions\": {\"options\": {\"Veg\": \"190\"}, \"choices\": []}}]}, {\"_id\": {\"$oid\": \"5e8b4b6c942839697b1d1e45\"}, \"placedby\": {\"$oid\": \"5e8a228f9c69d718046f4876\"}, \"status\": \"queued\", \"foodlist\": [{\"food_id\": \"5e8a228f9c69d718046f4804\", \"name\": \"MURGH MALAI TIKKA\", \"description\": \"Clay Oven Roasted Creamy Chunks Of Chicken\", \"price\": \"260\", \"instructions\": \"no\", \"quantity\": 2, \"status\": \"queued\"}, {\"food_id\": \"5e8a228f9c69d718046f484e#veg\", \"name\": \"STIR FRIED RICE\", \"description\": \"(veg/egg/chicken/prawns)\", \"price\": \"200/220/250/280\", \"instructions\": \"Cook with love\", \"quantity\": 1, \"status\": \"queued\", \"foodoptions\": {\"options\": {\"veg\": \"200\"}, \"choices\": []}}, {\"food_id\": \"5e8a228e9c69d718046f47dd\", \"name\": \"HOC CHIP & DIP BASKET\", \"description\": \"Combination Of Onion Rings, Jalapeno Cheese Balls, Greek Potato Wedges, Habanero Green Chili Fries\", \"price\": \"390\", \"instructions\": \"no\", \"quantity\": 1, \"status\": \"queued\"}, {\"food_id\": \"5e8a228e9c69d718046f47d4\", \"name\": \"GREEN SALAD\", \"description\": \"Traditional Green Cuts With Mint Yoghurt Dip\", \"price\": \"170\", \"instructions\": \"Cook with love\", \"quantity\": 1, \"status\": \"queued\"}, {\"food_id\": \"5e8a228f9c69d718046f485e\", \"name\": \"CARAMEL CUSTARD\", \"description\": \"Custard Dessert With A Layer Of Soft Caramel Glazed On Top\", \"price\": \"150\", \"instructions\": \"no\", \"quantity\": 2, \"status\": \"queued\"}, {\"food_id\": \"5e8a228f9c69d718046f47e2\", \"name\": \"CHEESE CORN TIKKI\", \"description\": \"American Com & Cottage Cheese Patty Served with Mint Chutney\", \"price\": \"220\", \"instructions\": \"Cook with love\", \"quantity\": 1, \"status\": \"queued\"}]}]}, {\"_id\": {\"$oid\": \"5e8b5f1b942839697b1d1e47\"}, \"table\": \"table1\", \"status\": \"queued\", \"timestamp\": \"2020-04-06 22:25:55.173000\", \"orders\": [{\"_id\": {\"$oid\": \"5e8b5f1b942839697b1d1e46\"}, \"placedby\": {\"$oid\": \"5e8a228f9c69d718046f4875\"}, \"status\": \"queued\", \"foodlist\": [{\"food_id\": \"5e8a228f9c69d718046f484b\", \"name\": \"MURGH METHI KHAS\", \"description\": \"Tender Chicken Cooked In Cream Based Onion And Tomato Gravy With Aromatic Spices And Flavor\", \"price\": \"280\", \"instructions\": \"Cook with love\", \"quantity\": 2, \"status\": \"queued\"}, {\"food_id\": \"5e8a228f9c69d718046f4836\", \"name\": \"BARBEQUED GERMAN CHICKEN SAUSAGES\", \"description\": \"BBQ Glazed Chicken Sausages With Caramelized Shallots, Bell Peppers, Jalapenos & Capers\", \"price\": \"390\", \"instructions\": \"Cook with love\", \"quantity\": 1, \"status\": \"queued\"}, {\"food_id\": \"5e8a228f9c69d718046f4825\", \"name\": \"CHICKEN CAFREAL\", \"description\": \"Authentic Goan Herb Marinated Chicken, Pan Fried, Stewed And Served With Potato Wedges & Sauteed Vegetables\", \"price\": \"390\", \"instructions\": \"no\", \"quantity\": 1, \"status\": \"queued\"}, {\"food_id\": \"5e8a228f9c69d718046f482f#veg\", \"name\": \"PENNE WITH PESTO (VEG/ CHICKEN / SHRIMPS)\", \"description\": \"NA\", \"price\": \"300/340/380\", \"instructions\": \"Cook with love\", \"quantity\": 1, \"status\": \"queued\", \"foodoptions\": {\"options\": {\"VEG\": \"300\"}, \"choices\": []}}]}, {\"_id\": {\"$oid\": \"5e8b5f1b942839697b1d1e48\"}, \"placedby\": {\"$oid\": \"5e8a228f9c69d718046f4877\"}, \"status\": \"queued\", \"foodlist\": [{\"food_id\": \"5e8a228f9c69d718046f483d#prawns_red\", \"name\": \"THAI CURRY [Red/Green]\", \"description\": \"Basil Flavoured Thal Curry/bird-eye Chillies Flavoured Thai Curry Cooked With Garden Fresh Vegetables/chicken/prawns, Served With Steamed Rice\", \"price\": \"250/280/300\", \"instructions\": \"no\", \"quantity\": 1, \"status\": \"queued\", \"foodoptions\": {\"options\": {\"prawns\": \"300\"}, \"choices\": [\"Red\"]}}, {\"food_id\": \"5e8a228f9c69d718046f47f6\", \"name\": \"ANDHRA CHILLI CHICKEN *VERY HOT*\", \"description\": \"All Time Favourite Andhra Style Chicken Cooked With Coriander And Green Chilli Paste And Fresh Green Chillies\", \"price\": \"270\", \"instructions\": \"Cook with love\", \"quantity\": 2, \"status\": \"queued\"}, {\"food_id\": \"5e8a228f9c69d718046f47fc\", \"name\": \"JAIPURI MURGH KA SOOLA\", \"description\": \"Succulent Pieces Of Chicken Zapped With Red Spices, Cinnamon Flavour & Finished In Tandoor\", \"price\": \"270\", \"instructions\": \"no\", \"quantity\": 3, \"status\": \"queued\"}, {\"food_id\": \"5e8a228f9c69d718046f4835\", \"name\": \"TANDOORI MURGH TIKKA WITH KALAMATA OLIVES\", \"description\": \"Chicken Tikka With Shallots, Capers, Charred Peppers, Kalamata Olives & Sweet Chilli Treacle\", \"price\": \"380\", \"instructions\": \"no\", \"quantity\": 1, \"status\": \"queued\"}]}, {\"_id\": {\"$oid\": \"5e8b5f1b942839697b1d1e49\"}, \"placedby\": {\"$oid\": \"5e8a228f9c69d718046f4875\"}, \"status\": \"queued\", \"foodlist\": [{\"food_id\": \"5e8a228f9c69d718046f47eb\", \"name\": \"MAKHMALI PANEER TIKKA\", \"description\": \"Mouth Melting Paneer Cubes Marinated With A Cheese Curd Mixture, Cream And Mild Spices\", \"price\": \"270\", \"instructions\": \"no\", \"quantity\": 2, \"status\": \"queued\"}, {\"food_id\": \"5e8a228f9c69d718046f4856#plain\", \"name\": \"ROTI PLAIN/BUTTER\", \"description\": \"NA\", \"price\": \"35/40\", \"instructions\": \"no\", \"quantity\": 1, \"status\": \"queued\", \"foodoptions\": {\"options\": {\"PLAIN\": \"35\"}, \"choices\": []}}, {\"food_id\": \"5e8a228f9c69d718046f4801\", \"name\": \"KALMI KEBAB (3pcs)\", \"description\": \"Clay Oven Roasted Chicken Drumsticks\", \"price\": \"260\", \"instructions\": \"no\", \"quantity\": 2, \"status\": \"queued\"}, {\"food_id\": \"5e8a228f9c69d718046f4813\", \"name\": \"THAI GRILLED FISH IN BANANA LEAF\", \"description\": \"Delicately Grilled Fish With Basil Flavour And Served Hot\", \"price\": \"330\", \"instructions\": \"no\", \"quantity\": 1, \"status\": \"queued\"}, {\"food_id\": \"5e8a228f9c69d718046f4844\", \"name\": \"PALAK PANEER\", \"description\": \"Cottage Cheese Cooked In Spinach Puree, Tempered Cumin And Ginger Garlic Paste\", \"price\": \"260\", \"instructions\": \"no\", \"quantity\": 2, \"status\": \"queued\"}, {\"food_id\": \"5e8a228f9c69d718046f4855\", \"name\": \"STEAMED RICE\", \"description\": \"NA\", \"price\": \"130\", \"instructions\": \"Cook with love\", \"quantity\": 2, \"status\": \"queued\"}]}]}, {\"_id\": {\"$oid\": \"5e8b6231942839697b1d1e4b\"}, \"table\": \"table11\", \"status\": \"queued\", \"timestamp\": \"2020-04-06 22:39:05.780000\", \"orders\": [{\"_id\": {\"$oid\": \"5e8b6231942839697b1d1e4a\"}, \"placedby\": {\"$oid\": \"5e8a228f9c69d718046f4877\"}, \"status\": \"queued\", \"foodlist\": [{\"food_id\": \"5e8a228f9c69d718046f47fe\", \"name\": \"TANDOORI POMFRET\", \"description\": \"Indian Spices Marinated Whole Pomfret Skewered And Finished In Clay Oven\", \"price\": \"590\", \"instructions\": \"Cook with love\", \"quantity\": 1, \"status\": \"queued\"}, {\"food_id\": \"5e8a228f9c69d718046f4852#veg\", \"name\": \"CHILLY GARLIC NOODLES\", \"description\": \"(veg/egg/chiden/prawns)\", \"price\": \"230/250/270/290\", \"instructions\": \"no\", \"quantity\": 2, \"status\": \"queued\", \"foodoptions\": {\"options\": {\"veg\": \"230\"}, \"choices\": []}}, {\"food_id\": \"5e8a228e9c69d718046f47d1\", \"name\": \"CHEESE DYNABITES\", \"description\": \"Classic Cheese Balls Served with New Orleans Dip\", \"price\": \"220\", \"instructions\": \"Cook with love\", \"quantity\": 3, \"status\": \"queued\"}, {\"food_id\": \"5e8a228f9c69d718046f47f1\", \"name\": \"CHICKEN LOADED FRIES\", \"description\": \"Cheesy French Fries Topped With Chicken & Herbs\", \"price\": \"260\", \"instructions\": \"Cook with love\", \"quantity\": 1, \"status\": \"queued\"}, {\"food_id\": \"5e8a228f9c69d718046f4813\", \"name\": \"THAI GRILLED FISH IN BANANA LEAF\", \"description\": \"Delicately Grilled Fish With Basil Flavour And Served Hot\", \"price\": \"330\", \"instructions\": \"no\", \"quantity\": 3, \"status\": \"queued\"}, {\"food_id\": \"5e8a228f9c69d718046f4802\", \"name\": \"ANGARI MURGH TIKKA\", \"description\": \"Clay Oven Roasted Spicy Morsels Of Chicken\", \"price\": \"260\", \"instructions\": \"no\", \"quantity\": 1, \"status\": \"queued\"}, {\"food_id\": \"5e8a228f9c69d718046f47e2\", \"name\": \"CHEESE CORN TIKKI\", \"description\": \"American Com & Cottage Cheese Patty Served with Mint Chutney\", \"price\": \"220\", \"instructions\": \"no\", \"quantity\": 1, \"status\": \"queued\"}]}, {\"_id\": {\"$oid\": \"5e8b6231942839697b1d1e4c\"}, \"placedby\": {\"$oid\": \"5e8a228f9c69d718046f4873\"}, \"status\": \"queued\", \"foodlist\": [{\"food_id\": \"5e8a228f9c69d718046f47f1\", \"name\": \"CHICKEN LOADED FRIES\", \"description\": \"Cheesy French Fries Topped With Chicken & Herbs\", \"price\": \"260\", \"instructions\": \"no\", \"quantity\": 3, \"status\": \"queued\"}, {\"food_id\": \"5e8a228f9c69d718046f4833\", \"name\": \"PANEER TIKKA & CHARRED PEPPERS\", \"description\": \"Tandoori Paneer Mirch Tikka With Green Bell Peppers, Onion roundels, Spring Greens & Mint Coulis\", \"price\": \"350\", \"instructions\": \"no\", \"quantity\": 1, \"status\": \"queued\"}, {\"food_id\": \"5e8a228e9c69d718046f47d7#veg\", \"name\": \"CAESAR SALAD (Veg/Chicken)\", \"description\": \"Crunchy Ice Berg Lettuce, Parmesan With the Classic Caesar Dressing\", \"price\": \"190/230\", \"instructions\": \"no\", \"quantity\": 1, \"status\": \"queued\", \"foodoptions\": {\"options\": {\"Veg\": \"190\"}, \"choices\": []}}, {\"food_id\": \"5e8a228f9c69d718046f47f8\", \"name\": \"JIANG CHILLI CHICKEN\", \"description\": \"Chicken Tossed With Shredded Ginger And Chilli In Jiang Style\", \"price\": \"260\", \"instructions\": \"no\", \"quantity\": 1, \"status\": \"queued\"}]}, {\"_id\": {\"$oid\": \"5e8b6231942839697b1d1e4d\"}, \"placedby\": {\"$oid\": \"5e8a228f9c69d718046f4875\"}, \"status\": \"queued\", \"foodlist\": [{\"food_id\": \"5e8a228f9c69d718046f4814\", \"name\": \"HARISSA GRILLED FISH\", \"description\": \"Fish Marinated In A Spicy Tunisian Harissa Sauce And Grilled To Perfection\", \"price\": \"330\", \"instructions\": \"Cook with love\", \"quantity\": 3, \"status\": \"queued\"}, {\"food_id\": \"5e8a228f9c69d718046f4829\", \"name\": \"CAPTAIN MORGAN FLAMED LAMB\", \"description\": \"Rum Infused Caribbean Lamb & Pine Nut Patty With A Centred Egg, Charred Peppers, Jalapeno Aloll, Smoked Onion Marmalade, English Cheddar Melt, French Fries With A Sage & Onion\", \"price\": \"440\", \"instructions\": \"Cook with love\", \"quantity\": 3, \"status\": \"queued\"}, {\"food_id\": \"5e8a228f9c69d718046f4801\", \"name\": \"KALMI KEBAB (3pcs)\", \"description\": \"Clay Oven Roasted Chicken Drumsticks\", \"price\": \"260\", \"instructions\": \"Cook with love\", \"quantity\": 2, \"status\": \"queued\"}, {\"food_id\": \"5e8a228f9c69d718046f4821\", \"name\": \"HOC BURGER- THE BIG ONE\", \"description\": \"Double Chicken, Double Cheese And Topped With A Sunny Side Up Fried Egg, Served With Fries\", \"price\": \"350\", \"instructions\": \"Cook with love\", \"quantity\": 1, \"status\": \"queued\"}, {\"food_id\": \"5e8a228f9c69d718046f4820#lamb\", \"name\": \"CLASSIC BURGERS (VEG / CHICKEN / LAMB)\", \"description\": \"Tender And Juicy Veg, Chicken Or Lamb Patties, Grilled And Served Fries With\", \"price\": \"250/280/300\", \"instructions\": \"no\", \"quantity\": 2, \"status\": \"queued\", \"foodoptions\": {\"options\": {\"LAMB\": \"300\"}, \"choices\": []}}, {\"food_id\": \"5e8a228f9c69d718046f4850#egg\", \"name\": \"SICHUAN FRIED RICE\", \"description\": \"(veg/egg/chicken/prawns)\", \"price\": \"200/220/250/280\", \"instructions\": \"Cook with love\", \"quantity\": 2, \"status\": \"queued\", \"foodoptions\": {\"options\": {\"egg\": \"220\"}, \"choices\": []}}]}, {\"_id\": {\"$oid\": \"5e8b6231942839697b1d1e4e\"}, \"placedby\": {\"$oid\": \"5e8a228f9c69d718046f4875\"}, \"status\": \"queued\", \"foodlist\": [{\"food_id\": \"5e8a228f9c69d718046f4821\", \"name\": \"HOC BURGER- THE BIG ONE\", \"description\": \"Double Chicken, Double Cheese And Topped With A Sunny Side Up Fried Egg, Served With Fries\", \"price\": \"350\", \"instructions\": \"no\", \"quantity\": 1, \"status\": \"queued\"}, {\"food_id\": \"5e8a228f9c69d718046f4836\", \"name\": \"BARBEQUED GERMAN CHICKEN SAUSAGES\", \"description\": \"BBQ Glazed Chicken Sausages With Caramelized Shallots, Bell Peppers, Jalapenos & Capers\", \"price\": \"390\", \"instructions\": \"Cook with love\", \"quantity\": 3, \"status\": \"queued\"}, {\"food_id\": \"5e8a228e9c69d718046f47d5#veg\", \"name\": \"HOC SALAD (Veg/Chicken)\", \"description\": \"Melange Of Crunchy Lettuce, Bell Peppers And Olives With Our Homemade Dressing\", \"price\": \"180/210\", \"instructions\": \"Cook with love\", \"quantity\": 1, \"status\": \"queued\", \"foodoptions\": {\"options\": {\"Veg\": \"180\"}, \"choices\": []}}, {\"food_id\": \"5e8a228f9c69d718046f4806\", \"name\": \"TANDOORI CHICKEN MOMOS\", \"description\": \"Soft And Juicy Chicken Momos Marinated With Tandoori Masala And Char Grilled\", \"price\": \"260\", \"instructions\": \"no\", \"quantity\": 1, \"status\": \"queued\"}, {\"food_id\": \"5e8a228f9c69d718046f4802\", \"name\": \"ANGARI MURGH TIKKA\", \"description\": \"Clay Oven Roasted Spicy Morsels Of Chicken\", \"price\": \"260\", \"instructions\": \"no\", \"quantity\": 2, \"status\": \"queued\"}, {\"food_id\": \"5e8a228f9c69d718046f483e#chicken\", \"name\": \"CHINESE CHOPSUEY\", \"description\": \"Vegetables/chicken Tossed In Celery Sauce, Served On A Bed Of Crispy Noodles\", \"price\": \"280/300\", \"instructions\": \"Cook with love\", \"quantity\": 1, \"status\": \"queued\", \"foodoptions\": {\"options\": {\"chicken\": \"300\"}, \"choices\": []}}]}]}], \"cooking\": [{\"_id\": {\"$oid\": \"5e8ae5409c69d718046f4883\"}, \"table\": \"table11\", \"status\": \"queued\", \"timestamp\": \"2020-04-06 13:46:00.728000\", \"orders\": [{\"_id\": {\"$oid\": \"5e8ae5409c69d718046f4882\"}, \"placedby\": {\"$oid\": \"5e8a228f9c69d718046f4872\"}, \"status\": \"cooking\", \"foodlist\": [{\"food_id\": \"5e8a228f9c69d718046f482c#veg\", \"name\": \"SPAGHETTI AGLIO OLIO (VEG/ CHICKEN / SHRIMPS)\", \"description\": \"NA\", \"price\": \"300/340/380\", \"instructions\": \"no\", \"quantity\": 1, \"status\": \"cooking\", \"foodoptions\": {\"options\": {\"VEG\": \"300\"}, \"choices\": []}}]}, {\"_id\": {\"$oid\": \"5e8ae5409c69d718046f4885\"}, \"placedby\": {\"$oid\": \"5e8a228f9c69d718046f4874\"}, \"status\": \"queued\", \"foodlist\": [{\"food_id\": \"5e8a228f9c69d718046f4838\", \"name\": \"FRUITS OF THE SEA\", \"description\": \"Fruits Of The Sea - Calamari, Shrimps, Sea Bream Dices Served With Maple Butter & Fresh Red Chile\", \"price\": \"390\", \"instructions\": \"Cook with love\", \"quantity\": 2, \"status\": \"cooking\"}, {\"food_id\": \"5e8a228f9c69d718046f47fa\", \"name\": \"MASALA FRY CHICKEN (new)\", \"description\": \"Classic Indian Style With Bone Deep fried Chicken Served With Mint Chutney\", \"price\": \"250\", \"instructions\": \"Cook with love\", \"quantity\": 3, \"status\": \"cooking\"}]}]}], \"completed\": [{\"_id\": {\"$oid\": \"5e8ae5409c69d718046f4883\"}, \"table\": \"table11\", \"status\": \"queued\", \"timestamp\": \"2020-04-06 13:46:00.728000\", \"orders\": [{\"_id\": {\"$oid\": \"5e8ae5409c69d718046f4882\"}, \"placedby\": {\"$oid\": \"5e8a228f9c69d718046f4872\"}, \"status\": \"cooking\", \"foodlist\": [{\"food_id\": \"5e8a228e9c69d718046f47d1\", \"name\": \"CHEESE DYNABITES\", \"description\": \"Classic Cheese Balls Served with New Orleans Dip\", \"price\": \"220\", \"instructions\": \"no\", \"quantity\": 1, \"status\": \"completed\"}, {\"food_id\": \"5e8a228f9c69d718046f4803\", \"name\": \"TANDOORI LOLLIPOPS\", \"description\": \"Chicken Lollipops Marinated With Aromatic Indian Spices And Cooked In The Tandoor\", \"price\": \"270\", \"instructions\": \"no\", \"quantity\": 2, \"status\": \"completed\"}, {\"food_id\": \"5e8a228e9c69d718046f47df\", \"name\": \"ONION RINGS\", \"description\": \"Extra Crispy Onion Rings With A Spicy Salsa\", \"price\": \"190\", \"instructions\": \"Cook with love\", \"quantity\": 1, \"status\": \"completed\"}]}, {\"_id\": {\"$oid\": \"5e8ae5409c69d718046f4884\"}, \"placedby\": {\"$oid\": \"5e8a228f9c69d718046f4876\"}, \"status\": \"completed\", \"foodlist\": [{\"food_id\": \"5e8a228f9c69d718046f47fe\", \"name\": \"TANDOORI POMFRET\", \"description\": \"Indian Spices Marinated Whole Pomfret Skewered And Finished In Clay Oven\", \"price\": \"590\", \"instructions\": \"Cook with love\", \"quantity\": 2, \"status\": \"completed\"}, {\"food_id\": \"5e8a228f9c69d718046f4843#chicken\", \"name\": \"TIKKA MASALA GRAVY\", \"description\": \"Paneer/chicken Cooked In A Spicy Onion Tomato Base Gravy\", \"price\": \"250/280\", \"instructions\": \"Cook with love\", \"quantity\": 1, \"status\": \"completed\", \"foodoptions\": {\"options\": {\"chicken\": \"280\"}, \"choices\": []}}, {\"food_id\": \"5e8a228f9c69d718046f4840\", \"name\": \"EXOTIC VEGETABLES WITH SAUCE OF YOUR CHOICE\", \"description\": \"Hot Garlic, Chili Basil, Sichuan\", \"price\": \"250\", \"instructions\": \"no\", \"quantity\": 1, \"status\": \"completed\"}, {\"food_id\": \"5e8a228f9c69d718046f4848\", \"name\": \"DAL TADKA\", \"description\": \"Yellow Lentil Tempered With Garlic And Cumin Seeds, Punished With Chopped Onion And Tomato\", \"price\": \"190\", \"instructions\": \"no\", \"quantity\": 2, \"status\": \"completed\"}]}, {\"_id\": {\"$oid\": \"5e8ae5409c69d718046f4885\"}, \"placedby\": {\"$oid\": \"5e8a228f9c69d718046f4874\"}, \"status\": \"queued\", \"foodlist\": [{\"food_id\": \"5e8a228f9c69d718046f4837\", \"name\": \"MUTTON MASALA KEEMA PIZZA\", \"description\": \"Minced Mutton Cooked In Indian Spices & Herbs Topped With Chillies & Assorted Bell peppers\", \"price\": \"390\", \"instructions\": \"no\", \"quantity\": 1, \"status\": \"completed\"}]}]}, {\"_id\": {\"$oid\": \"5e8ae5419c69d718046f4887\"}, \"table\": \"table15\", \"status\": \"queued\", \"timestamp\": \"2020-04-06 13:46:01.865000\", \"orders\": [{\"_id\": {\"$oid\": \"5e8ae5419c69d718046f4886\"}, \"placedby\": {\"$oid\": \"5e8a228f9c69d718046f4873\"}, \"status\": \"completed\", \"foodlist\": [{\"food_id\": \"5e8a228f9c69d718046f47fe\", \"name\": \"TANDOORI POMFRET\", \"description\": \"Indian Spices Marinated Whole Pomfret Skewered And Finished In Clay Oven\", \"price\": \"590\", \"instructions\": \"no\", \"quantity\": 1, \"status\": \"completed\"}, {\"food_id\": \"5e8a228e9c69d718046f47cd\", \"name\": \"H.O.C SIGNATURE MASALA PEANUTS\", \"description\": \"A Favorful Version Of Regular Peanuts Tossed In A Variety of Spices\", \"price\": \"160\", \"instructions\": \"no\", \"quantity\": 3, \"status\": \"completed\"}, {\"food_id\": \"5e8a228f9c69d718046f4845\", \"name\": \"DAL MAKHANI\", \"description\": \"Slow Cooked Lentils Finished With White Butter\", \"price\": \"240\", \"instructions\": \"Cook with love\", \"quantity\": 1, \"status\": \"completed\"}, {\"food_id\": \"5e8a228f9c69d718046f4837\", \"name\": \"MUTTON MASALA KEEMA PIZZA\", \"description\": \"Minced Mutton Cooked In Indian Spices & Herbs Topped With Chillies & Assorted Bell peppers\", \"price\": \"390\", \"instructions\": \"Cook with love\", \"quantity\": 2, \"status\": \"completed\"}, {\"food_id\": \"5e8a228f9c69d718046f47f8\", \"name\": \"JIANG CHILLI CHICKEN\", \"description\": \"Chicken Tossed With Shredded Ginger And Chilli In Jiang Style\", \"price\": \"260\", \"instructions\": \"no\", \"quantity\": 1, \"status\": \"completed\"}]}]}]}'"
      ]
     },
     "execution_count": 280,
     "metadata": {},
     "output_type": "execute_result"
    }
   ],
   "source": [
    "Restaurant.objects[0].fetch_order_lists()"
   ]
  },
  {
   "cell_type": "code",
   "execution_count": 44,
   "metadata": {
    "hidden": true
   },
   "outputs": [],
   "source": [
    "# pickle.dump(final_list_json,open('final_usable_json.pkl','wb'))\n",
    "\n",
    "final_list_json=pickle.load(open('final_usable_json.pkl','rb'))"
   ]
  },
  {
   "cell_type": "code",
   "execution_count": 6,
   "metadata": {
    "code_folding": [
     7
    ],
    "hidden": true
   },
   "outputs": [],
   "source": [
    "#RANDOM Functions\n",
    "def random_table():\n",
    "    return all_table_list[np.random.randint(len(all_table_list))]\n",
    "def random_user():\n",
    "    return user_list[np.random.randint(len(user_list))]\n",
    "def random_food():\n",
    "    return all_food_list[np.random.randint(len(all_food_list))]\n",
    "def random_food_list():\n",
    "    randomfl=[]\n",
    "    for i in range(np.random.randint(2,9)):\n",
    "        randomfl.append(random_food())\n",
    "    return list(set(randomfl))"
   ]
  },
  {
   "cell_type": "code",
   "execution_count": 96,
   "metadata": {
    "code_folding": [
     0
    ],
    "hidden": true
   },
   "outputs": [],
   "source": [
    "def user_scan(table_id, unique_id, email_id='dud'):\n",
    "    scanned_table = Table.objects.get(id=table_id)\n",
    "    if email_id == 'dud':\n",
    "        temp_user = TempUser.objects.filter(unique_id=unique_id)\n",
    "        if len(temp_user) > 0:\n",
    "            temp_user[0].update(set__current_table_id=str(scanned_table.id))\n",
    "            scanned_table.update(push__users=temp_user[0].to_dbref())\n",
    "            return temp_user[0].id\n",
    "        else:\n",
    "            temp_user = TempUser(unique_id=unique_id, current_table_id=str(scanned_table.id)).save()\n",
    "            scanned_table.update(push__users=temp_user.to_dbref())\n",
    "            return temp_user.id\n",
    "    else:\n",
    "        reg_user = RegisteredUser.objects.filter(email_id=email_id)[0]\n",
    "        scanned_table.update(push__users=reg_user)\n",
    "        reg_user.update(set__current_table_id=str(scanned_table.id))\n",
    "        scanned_table.update(inc__no_of_users=1)"
   ]
  },
  {
   "cell_type": "code",
   "execution_count": 97,
   "metadata": {
    "code_folding": [
     0
    ],
    "hidden": true,
    "scrolled": false
   },
   "outputs": [],
   "source": [
    "def custom_splitter(text):\n",
    "    types = []\n",
    "    full_splits = re.split('[/]',text)\n",
    "    for n,spl in enumerate(full_splits):\n",
    "        if(n==0):\n",
    "            types.append(re.search('[a-zA-Z]+',spl.strip().split()[-1]).group())\n",
    "        elif(n==len(full_splits)-1):\n",
    "            types.append(re.search('[a-zA-Z]+',spl.strip().split()[0]).group())\n",
    "        else:\n",
    "            types.append(re.search('[a-zA-Z]+',spl).group())\n",
    "    return types"
   ]
  },
  {
   "cell_type": "code",
   "execution_count": 131,
   "metadata": {
    "code_folding": [
     1
    ],
    "hidden": true,
    "scrolled": false
   },
   "outputs": [],
   "source": [
    "#House of commons\n",
    "if(1):\n",
    "    FoodItem.drop_collection()\n",
    "    SubCategory.drop_collection()\n",
    "    MainCategory.drop_collection()\n",
    "    Restaurant.drop_collection()\n",
    "    Table.drop_collection()\n",
    "    TempUser.drop_collection()\n",
    "    RegisteredUser.drop_collection()\n",
    "    Server.drop_collection()\n",
    "    Assistance.drop_collection()\n",
    "    TableOrder.drop_collection()\n",
    "    Order.drop_collection()\n",
    "    User.drop_collection()\n",
    "\n",
    "    main_cat_list = []\n",
    "    for p,main_cat in enumerate(final_list_json):\n",
    "        sub_cat_list = []\n",
    "        for q,sub_cat in enumerate(main_cat['sub_category']):\n",
    "            food_list = []\n",
    "            for r,food in enumerate(sub_cat['food_list']):\n",
    "                food_list.append(FoodItem(name=food['name'],description = food['description'],price=food['price']).save())\n",
    "            sub_cat_list.append(SubCategory(name=sub_cat['name'],description=sub_cat['description'],food_list = food_list).save())\n",
    "        main_cat_list.append(MainCategory(name=main_cat['name'],description = main_cat['description'],sub_category = sub_cat_list).save())\n",
    "\n",
    "    houseofcommons=Restaurant(name = 'House of Commons',restaurant_id='BNGHSR0001',menu = main_cat_list,address='')\n",
    "    houseofcommons.save()\n",
    "\n",
    "    table_list=[]\n",
    "    for n in range(1,16):\n",
    "        table_list.append(Table(name='table'+str(n),seats = 6,no_of_users=0).save().to_dbref())\n",
    "\n",
    "    Restaurant.objects[0].update(set__tables=table_list)\n",
    "    akshay = TempUser(unique_id = \"hfirnivnhhwocn34534no34n34r\")\n",
    "\n",
    "    akshay.save()\n",
    "\n",
    "    RegisteredUser(name='Akshay',email_id='akshay.dn5@gmail.com',phone_no='8660961089').save()\n",
    "\n",
    "    RegisteredUser.objects(name='Akshay',email_id='akshay.dn5@gmail.com',phone_no='8660961089').update(set__tempuser_ob=akshay.to_dbref())\n",
    "\n",
    "    user_scan(str(table_list[2].id),'hidnfvidfkvmsdmv')\n",
    "\n",
    "    user_scan(str(table_list[2].id),'hidnfvidvdff1kvmsadmv')\n",
    "\n",
    "    user_scan(str(table_list[2].id),'hidnfvidvdffaskvmsadmv')\n",
    "\n",
    "    user_scan(str(table_list[2].id),'hidnfvidvdffvf1kvmsadmv')\n",
    "\n",
    "    user_scan(str(table_list[2].id),'',email_id='akshay.dn5@gmail.com')"
   ]
  },
  {
   "cell_type": "code",
   "execution_count": 133,
   "metadata": {
    "code_folding": [
     1
    ],
    "hidden": true,
    "scrolled": false
   },
   "outputs": [],
   "source": [
    "#Craeting INDIGO XP\n",
    "if(1):\n",
    "    main_cat_list = []\n",
    "    for p,main_cat in enumerate(final_list_json):\n",
    "        sub_cat_list = []\n",
    "        for q,sub_cat in enumerate(main_cat['sub_category']):\n",
    "            food_list = []\n",
    "            for r,food in enumerate(sub_cat['food_list']):\n",
    "                food_list.append(FoodItem(name=food['name'],description = food['description'],price=food['price']).save())\n",
    "            sub_cat_list.append(SubCategory(name=sub_cat['name'],description=sub_cat['description'],food_list = food_list).save())\n",
    "        main_cat_list.append(MainCategory(name=main_cat['name'],description = main_cat['description'],sub_category = sub_cat_list).save())\n",
    "\n",
    "    Restaurant(name='Indigo XP',restaurant_id=\"BNGHSR0002\",menu = main_cat_list).save()"
   ]
  },
  {
   "cell_type": "code",
   "execution_count": 134,
   "metadata": {
    "code_folding": [
     0
    ],
    "hidden": true
   },
   "outputs": [
    {
     "data": {
      "text/plain": [
       "1"
      ]
     },
     "execution_count": 134,
     "metadata": {},
     "output_type": "execute_result"
    }
   ],
   "source": [
    "for food_ob in FoodItem.objects:\n",
    "    if re.search('/', food_ob.price):\n",
    "        if re.search('/', food_ob.name):\n",
    "            options = custom_splitter(food_ob.name)\n",
    "\n",
    "        elif re.search('/', food_ob.description):\n",
    "            options = custom_splitter(food_ob.description)\n",
    "        prices = food_ob.price.split('/')\n",
    "        if len(options) == len(prices):\n",
    "            options = {k: v for k, v in zip(options, prices)}\n",
    "            FoodItem.objects.get(id=food_ob.id).update(set__food_options=FoodOptions(options=options))\n",
    "        else:\n",
    "            left_out = food_ob.id\n",
    "left_out_options = {k: v for k, v in\n",
    "                    zip(custom_splitter(' Vegetables/chicken/prawns, Served'), '250/280/300'.split('/'))}\n",
    "FoodItem.objects.get(id=left_out).update(\n",
    "    set__food_options=FoodOptions(options=left_out_options, choices=['Red', 'Green']))\n"
   ]
  },
  {
   "cell_type": "code",
   "execution_count": 135,
   "metadata": {
    "hidden": true
   },
   "outputs": [],
   "source": [
    "user_list=[]\n",
    "for obj in User.objects:\n",
    "    user_list.append(str(obj.id))\n",
    "\n",
    "all_table_list=[]\n",
    "for obj in Table.objects:\n",
    "    all_table_list.append(str(obj.id))\n",
    "    \n",
    "all_food_list=[]\n",
    "for obj in FoodItem.objects:\n",
    "    all_food_list.append(str(obj.id))"
   ]
  },
  {
   "cell_type": "code",
   "execution_count": 136,
   "metadata": {
    "code_folding": [
     0
    ],
    "hidden": true
   },
   "outputs": [],
   "source": [
    "try:\n",
    "    if(names):\n",
    "        pass\n",
    "except:\n",
    "    names=pickle.load(open('indian_names.pkl','rb'))\n",
    "    girls_name=names[0]\n",
    "    boys_name=names[1]"
   ]
  },
  {
   "cell_type": "code",
   "execution_count": 137,
   "metadata": {
    "code_folding": [
     0
    ],
    "hidden": true
   },
   "outputs": [],
   "source": [
    "if(1):\n",
    "    total = {}\n",
    "    sers=[]\n",
    "    tabs=[]\n",
    "    for n,table in enumerate(Table.objects):\n",
    "    #     print(math.floor(n/1.5))\n",
    "        sers.append(math.floor(n/1.5))\n",
    "        tabs.append(n)\n",
    "        if((n+1)%3==0):\n",
    "            total[tuple(set(sers))]=tabs\n",
    "            sers=[]\n",
    "            tabs=[]\n",
    "\n",
    "\n",
    "    if(1):#assiging tables to servers\n",
    "        for i in range(10):\n",
    "            if(i<5):\n",
    "                staff=Staff(name=girls_name[np.random.randint(len(girls_name))]).save()\n",
    "                Restaurant.objects[0].update(push__staff=staff.to_dbref())\n",
    "            else:\n",
    "                staff=Staff(name=boys_name[np.random.randint(len(boys_name))]).save()\n",
    "                Restaurant.objects[0].update(push__staff=staff.to_dbref())\n",
    "\n",
    "    for key in total.keys():\n",
    "        for tab in total[key]:\n",
    "            Table.objects[tab].update(push__staff=Staff.objects[key[0]].to_dbref())\n",
    "\n",
    "        for tab in total[key]:\n",
    "            Table.objects[tab].update(push__staff=Staff.objects[key[1]].to_dbref())"
   ]
  },
  {
   "cell_type": "markdown",
   "metadata": {
    "heading_collapsed": true
   },
   "source": [
    "# Ordering updating and assistance requests"
   ]
  },
  {
   "cell_type": "code",
   "execution_count": 107,
   "metadata": {
    "code_folding": [
     0,
     28,
     34
    ],
    "hidden": true,
    "scrolled": false
   },
   "outputs": [],
   "source": [
    "def food_embed(food_dict):\n",
    "    json_dict = json_util.loads(FoodItem.objects(id=food_dict['food_id']).exclude('id')[0].to_json())\n",
    "    json_dict['food_id'] = food_dict['food_id']\n",
    "    json_dict['quantity'] = food_dict['quantity']\n",
    "    json_dict['instructions'] = food_dict['instructions']\n",
    "    json_dict['status'] = 'queued'\n",
    "    option_id = choice_id = ''\n",
    "    try:\n",
    "        option = np.random.choice(list(json_dict['food_options']['options'].keys()))\n",
    "        option_pair = {option: json_dict['food_options']['options'][option]}\n",
    "        json_dict['food_options']['options'] = option_pair\n",
    "        option_id = option.lower()\n",
    "    except:\n",
    "        pass\n",
    "    try:\n",
    "        choice = np.random.choice(list(json_dict['food_options']['choices']))\n",
    "        json_dict['food_options']['choices'] = [choice]\n",
    "        choice_id = choice.lower()\n",
    "    except:\n",
    "        pass\n",
    "    if option_id != '':\n",
    "        if choice_id != '':\n",
    "            json_dict['food_id'] = food_dict['food_id'] + \"#\" + option_id + \"_\" + choice_id\n",
    "        else:\n",
    "            json_dict['food_id'] = food_dict['food_id'] + \"#\" + option_id\n",
    "    return json_util.dumps(json_dict)\n",
    "\n",
    "\n",
    "def c_food_dict(food_id):\n",
    "    f_dict = {}\n",
    "    f_dict['food_id']=food_id\n",
    "    f_dict['quantity']=int(np.random.choice([1,1,1,1,2,2,3]))\n",
    "    f_dict['instructions'] = ['Cook with love' if np.random.randint(2) else 'no'][0]\n",
    "    return f_dict\n",
    "def nprand(a,b=-1):\n",
    "    if(b==-1):\n",
    "        return np.random.randint(a)\n",
    "    else:\n",
    "        return np.random.randint(a,b)"
   ]
  },
  {
   "cell_type": "code",
   "execution_count": null,
   "metadata": {
    "hidden": true
   },
   "outputs": [],
   "source": [
    "food_embed(c_food_dict(FoodItem.objects[0].id))"
   ]
  },
  {
   "cell_type": "code",
   "execution_count": 41,
   "metadata": {
    "collapsed": true,
    "hidden": true
   },
   "outputs": [
    {
     "ename": "TypeError",
     "evalue": "the JSON object must be str, bytes or bytearray, not dict",
     "output_type": "error",
     "traceback": [
      "\u001b[0;31m---------------------------------------------------------------------------\u001b[0m",
      "\u001b[0;31mTypeError\u001b[0m                                 Traceback (most recent call last)",
      "\u001b[0;32m<ipython-input-41-d4c08704dd78>\u001b[0m in \u001b[0;36m<module>\u001b[0;34m\u001b[0m\n\u001b[0;32m----> 1\u001b[0;31m \u001b[0morder_placement\u001b[0m\u001b[0;34m(\u001b[0m\u001b[0morder\u001b[0m\u001b[0;34m)\u001b[0m\u001b[0;34m\u001b[0m\u001b[0;34m\u001b[0m\u001b[0m\n\u001b[0m",
      "\u001b[0;32m<ipython-input-40-82cf92ee66fe>\u001b[0m in \u001b[0;36morder_placement\u001b[0;34m(input_order)\u001b[0m\n\u001b[1;32m     13\u001b[0m     \u001b[0mtableorder\u001b[0m \u001b[0;34m=\u001b[0m \u001b[0mTableOrder\u001b[0m\u001b[0;34m(\u001b[0m\u001b[0mtable\u001b[0m\u001b[0;34m=\u001b[0m\u001b[0mstr\u001b[0m\u001b[0;34m(\u001b[0m\u001b[0mordered_table\u001b[0m\u001b[0;34m.\u001b[0m\u001b[0mname\u001b[0m\u001b[0;34m)\u001b[0m\u001b[0;34m,\u001b[0m\u001b[0mtable_id\u001b[0m\u001b[0;34m=\u001b[0m\u001b[0mstr\u001b[0m\u001b[0;34m(\u001b[0m\u001b[0mordered_table\u001b[0m\u001b[0;34m.\u001b[0m\u001b[0mname\u001b[0m\u001b[0;34m)\u001b[0m\u001b[0;34m,\u001b[0m\u001b[0mtimestamp\u001b[0m\u001b[0;34m=\u001b[0m\u001b[0mdatetime\u001b[0m\u001b[0;34m.\u001b[0m\u001b[0mdatetime\u001b[0m\u001b[0;34m.\u001b[0m\u001b[0mnow\u001b[0m\u001b[0;34m(\u001b[0m\u001b[0;34m)\u001b[0m\u001b[0;34m)\u001b[0m\u001b[0;34m\u001b[0m\u001b[0;34m\u001b[0m\u001b[0m\n\u001b[1;32m     14\u001b[0m     \u001b[0;32mfor\u001b[0m \u001b[0morder\u001b[0m \u001b[0;32min\u001b[0m \u001b[0minput_order\u001b[0m\u001b[0;34m[\u001b[0m\u001b[0;34m'orders'\u001b[0m\u001b[0;34m]\u001b[0m\u001b[0;34m:\u001b[0m\u001b[0;34m\u001b[0m\u001b[0;34m\u001b[0m\u001b[0m\n\u001b[0;32m---> 15\u001b[0;31m         \u001b[0mfoodlist\u001b[0m\u001b[0;34m=\u001b[0m\u001b[0;34m[\u001b[0m\u001b[0mFoodItemMod\u001b[0m\u001b[0;34m.\u001b[0m\u001b[0mfrom_json\u001b[0m\u001b[0;34m(\u001b[0m\u001b[0mfood_dict\u001b[0m\u001b[0;34m)\u001b[0m \u001b[0;32mfor\u001b[0m \u001b[0mfood_dict\u001b[0m \u001b[0;32min\u001b[0m \u001b[0morder\u001b[0m\u001b[0;34m[\u001b[0m\u001b[0;34m'foodlist'\u001b[0m\u001b[0;34m]\u001b[0m\u001b[0;34m]\u001b[0m\u001b[0;34m\u001b[0m\u001b[0;34m\u001b[0m\u001b[0m\n\u001b[0m\u001b[1;32m     16\u001b[0m         \u001b[0mtableorder\u001b[0m\u001b[0;34m.\u001b[0m\u001b[0morders\u001b[0m\u001b[0;34m.\u001b[0m\u001b[0mappend\u001b[0m\u001b[0;34m(\u001b[0m\u001b[0mOrder\u001b[0m\u001b[0;34m(\u001b[0m\u001b[0mplacedby\u001b[0m\u001b[0;34m=\u001b[0m\u001b[0mUser\u001b[0m\u001b[0;34m.\u001b[0m\u001b[0mobjects\u001b[0m\u001b[0;34m.\u001b[0m\u001b[0mget\u001b[0m\u001b[0;34m(\u001b[0m\u001b[0mid\u001b[0m\u001b[0;34m=\u001b[0m\u001b[0morder\u001b[0m\u001b[0;34m[\u001b[0m\u001b[0;34m'placedby'\u001b[0m\u001b[0;34m]\u001b[0m\u001b[0;34m)\u001b[0m\u001b[0;34m.\u001b[0m\u001b[0mto_dbref\u001b[0m\u001b[0;34m(\u001b[0m\u001b[0;34m)\u001b[0m\u001b[0;34m,\u001b[0m\u001b[0mfoodlist\u001b[0m\u001b[0;34m=\u001b[0m\u001b[0mfoodlist\u001b[0m\u001b[0;34m)\u001b[0m\u001b[0;34m.\u001b[0m\u001b[0msave\u001b[0m\u001b[0;34m(\u001b[0m\u001b[0;34m)\u001b[0m\u001b[0;34m.\u001b[0m\u001b[0mto_dbref\u001b[0m\u001b[0;34m(\u001b[0m\u001b[0;34m)\u001b[0m\u001b[0;34m)\u001b[0m\u001b[0;34m\u001b[0m\u001b[0;34m\u001b[0m\u001b[0m\n\u001b[1;32m     17\u001b[0m         \u001b[0mtableorder\u001b[0m\u001b[0;34m.\u001b[0m\u001b[0mtimestamp\u001b[0m\u001b[0;34m=\u001b[0m\u001b[0mdatetime\u001b[0m\u001b[0;34m.\u001b[0m\u001b[0mdatetime\u001b[0m\u001b[0;34m.\u001b[0m\u001b[0mnow\u001b[0m\u001b[0;34m(\u001b[0m\u001b[0;34m)\u001b[0m\u001b[0;34m\u001b[0m\u001b[0;34m\u001b[0m\u001b[0m\n",
      "\u001b[0;32m<ipython-input-40-82cf92ee66fe>\u001b[0m in \u001b[0;36m<listcomp>\u001b[0;34m(.0)\u001b[0m\n\u001b[1;32m     13\u001b[0m     \u001b[0mtableorder\u001b[0m \u001b[0;34m=\u001b[0m \u001b[0mTableOrder\u001b[0m\u001b[0;34m(\u001b[0m\u001b[0mtable\u001b[0m\u001b[0;34m=\u001b[0m\u001b[0mstr\u001b[0m\u001b[0;34m(\u001b[0m\u001b[0mordered_table\u001b[0m\u001b[0;34m.\u001b[0m\u001b[0mname\u001b[0m\u001b[0;34m)\u001b[0m\u001b[0;34m,\u001b[0m\u001b[0mtable_id\u001b[0m\u001b[0;34m=\u001b[0m\u001b[0mstr\u001b[0m\u001b[0;34m(\u001b[0m\u001b[0mordered_table\u001b[0m\u001b[0;34m.\u001b[0m\u001b[0mname\u001b[0m\u001b[0;34m)\u001b[0m\u001b[0;34m,\u001b[0m\u001b[0mtimestamp\u001b[0m\u001b[0;34m=\u001b[0m\u001b[0mdatetime\u001b[0m\u001b[0;34m.\u001b[0m\u001b[0mdatetime\u001b[0m\u001b[0;34m.\u001b[0m\u001b[0mnow\u001b[0m\u001b[0;34m(\u001b[0m\u001b[0;34m)\u001b[0m\u001b[0;34m)\u001b[0m\u001b[0;34m\u001b[0m\u001b[0;34m\u001b[0m\u001b[0m\n\u001b[1;32m     14\u001b[0m     \u001b[0;32mfor\u001b[0m \u001b[0morder\u001b[0m \u001b[0;32min\u001b[0m \u001b[0minput_order\u001b[0m\u001b[0;34m[\u001b[0m\u001b[0;34m'orders'\u001b[0m\u001b[0;34m]\u001b[0m\u001b[0;34m:\u001b[0m\u001b[0;34m\u001b[0m\u001b[0;34m\u001b[0m\u001b[0m\n\u001b[0;32m---> 15\u001b[0;31m         \u001b[0mfoodlist\u001b[0m\u001b[0;34m=\u001b[0m\u001b[0;34m[\u001b[0m\u001b[0mFoodItemMod\u001b[0m\u001b[0;34m.\u001b[0m\u001b[0mfrom_json\u001b[0m\u001b[0;34m(\u001b[0m\u001b[0mfood_dict\u001b[0m\u001b[0;34m)\u001b[0m \u001b[0;32mfor\u001b[0m \u001b[0mfood_dict\u001b[0m \u001b[0;32min\u001b[0m \u001b[0morder\u001b[0m\u001b[0;34m[\u001b[0m\u001b[0;34m'foodlist'\u001b[0m\u001b[0;34m]\u001b[0m\u001b[0;34m]\u001b[0m\u001b[0;34m\u001b[0m\u001b[0;34m\u001b[0m\u001b[0m\n\u001b[0m\u001b[1;32m     16\u001b[0m         \u001b[0mtableorder\u001b[0m\u001b[0;34m.\u001b[0m\u001b[0morders\u001b[0m\u001b[0;34m.\u001b[0m\u001b[0mappend\u001b[0m\u001b[0;34m(\u001b[0m\u001b[0mOrder\u001b[0m\u001b[0;34m(\u001b[0m\u001b[0mplacedby\u001b[0m\u001b[0;34m=\u001b[0m\u001b[0mUser\u001b[0m\u001b[0;34m.\u001b[0m\u001b[0mobjects\u001b[0m\u001b[0;34m.\u001b[0m\u001b[0mget\u001b[0m\u001b[0;34m(\u001b[0m\u001b[0mid\u001b[0m\u001b[0;34m=\u001b[0m\u001b[0morder\u001b[0m\u001b[0;34m[\u001b[0m\u001b[0;34m'placedby'\u001b[0m\u001b[0;34m]\u001b[0m\u001b[0;34m)\u001b[0m\u001b[0;34m.\u001b[0m\u001b[0mto_dbref\u001b[0m\u001b[0;34m(\u001b[0m\u001b[0;34m)\u001b[0m\u001b[0;34m,\u001b[0m\u001b[0mfoodlist\u001b[0m\u001b[0;34m=\u001b[0m\u001b[0mfoodlist\u001b[0m\u001b[0;34m)\u001b[0m\u001b[0;34m.\u001b[0m\u001b[0msave\u001b[0m\u001b[0;34m(\u001b[0m\u001b[0;34m)\u001b[0m\u001b[0;34m.\u001b[0m\u001b[0mto_dbref\u001b[0m\u001b[0;34m(\u001b[0m\u001b[0;34m)\u001b[0m\u001b[0;34m)\u001b[0m\u001b[0;34m\u001b[0m\u001b[0;34m\u001b[0m\u001b[0m\n\u001b[1;32m     17\u001b[0m         \u001b[0mtableorder\u001b[0m\u001b[0;34m.\u001b[0m\u001b[0mtimestamp\u001b[0m\u001b[0;34m=\u001b[0m\u001b[0mdatetime\u001b[0m\u001b[0;34m.\u001b[0m\u001b[0mdatetime\u001b[0m\u001b[0;34m.\u001b[0m\u001b[0mnow\u001b[0m\u001b[0;34m(\u001b[0m\u001b[0;34m)\u001b[0m\u001b[0;34m\u001b[0m\u001b[0;34m\u001b[0m\u001b[0m\n",
      "\u001b[0;32m~/miniconda3/lib/python3.7/site-packages/mongoengine/base/document.py\u001b[0m in \u001b[0;36mfrom_json\u001b[0;34m(cls, json_data, created)\u001b[0m\n\u001b[1;32m    479\u001b[0m         \u001b[0;31m# in the DB, you would likely retrieve it from MongoDB itself through\u001b[0m\u001b[0;34m\u001b[0m\u001b[0;34m\u001b[0m\u001b[0;34m\u001b[0m\u001b[0m\n\u001b[1;32m    480\u001b[0m         \u001b[0;31m# a query, not load it from JSON data.\u001b[0m\u001b[0;34m\u001b[0m\u001b[0;34m\u001b[0m\u001b[0;34m\u001b[0m\u001b[0m\n\u001b[0;32m--> 481\u001b[0;31m         \u001b[0;32mreturn\u001b[0m \u001b[0mcls\u001b[0m\u001b[0;34m.\u001b[0m\u001b[0m_from_son\u001b[0m\u001b[0;34m(\u001b[0m\u001b[0mjson_util\u001b[0m\u001b[0;34m.\u001b[0m\u001b[0mloads\u001b[0m\u001b[0;34m(\u001b[0m\u001b[0mjson_data\u001b[0m\u001b[0;34m)\u001b[0m\u001b[0;34m,\u001b[0m \u001b[0mcreated\u001b[0m\u001b[0;34m=\u001b[0m\u001b[0mcreated\u001b[0m\u001b[0;34m)\u001b[0m\u001b[0;34m\u001b[0m\u001b[0;34m\u001b[0m\u001b[0m\n\u001b[0m\u001b[1;32m    482\u001b[0m \u001b[0;34m\u001b[0m\u001b[0m\n\u001b[1;32m    483\u001b[0m     \u001b[0;32mdef\u001b[0m \u001b[0m__expand_dynamic_values\u001b[0m\u001b[0;34m(\u001b[0m\u001b[0mself\u001b[0m\u001b[0;34m,\u001b[0m \u001b[0mname\u001b[0m\u001b[0;34m,\u001b[0m \u001b[0mvalue\u001b[0m\u001b[0;34m)\u001b[0m\u001b[0;34m:\u001b[0m\u001b[0;34m\u001b[0m\u001b[0;34m\u001b[0m\u001b[0m\n",
      "\u001b[0;32m~/miniconda3/lib/python3.7/site-packages/bson/json_util.py\u001b[0m in \u001b[0;36mloads\u001b[0;34m(s, *args, **kwargs)\u001b[0m\n\u001b[1;32m    408\u001b[0m     kwargs[\"object_pairs_hook\"] = lambda pairs: object_pairs_hook(\n\u001b[1;32m    409\u001b[0m         pairs, json_options)\n\u001b[0;32m--> 410\u001b[0;31m     \u001b[0;32mreturn\u001b[0m \u001b[0mjson\u001b[0m\u001b[0;34m.\u001b[0m\u001b[0mloads\u001b[0m\u001b[0;34m(\u001b[0m\u001b[0ms\u001b[0m\u001b[0;34m,\u001b[0m \u001b[0;34m*\u001b[0m\u001b[0margs\u001b[0m\u001b[0;34m,\u001b[0m \u001b[0;34m**\u001b[0m\u001b[0mkwargs\u001b[0m\u001b[0;34m)\u001b[0m\u001b[0;34m\u001b[0m\u001b[0;34m\u001b[0m\u001b[0m\n\u001b[0m\u001b[1;32m    411\u001b[0m \u001b[0;34m\u001b[0m\u001b[0m\n\u001b[1;32m    412\u001b[0m \u001b[0;34m\u001b[0m\u001b[0m\n",
      "\u001b[0;32m~/miniconda3/lib/python3.7/json/__init__.py\u001b[0m in \u001b[0;36mloads\u001b[0;34m(s, encoding, cls, object_hook, parse_float, parse_int, parse_constant, object_pairs_hook, **kw)\u001b[0m\n\u001b[1;32m    339\u001b[0m     \u001b[0;32melse\u001b[0m\u001b[0;34m:\u001b[0m\u001b[0;34m\u001b[0m\u001b[0;34m\u001b[0m\u001b[0m\n\u001b[1;32m    340\u001b[0m         \u001b[0;32mif\u001b[0m \u001b[0;32mnot\u001b[0m \u001b[0misinstance\u001b[0m\u001b[0;34m(\u001b[0m\u001b[0ms\u001b[0m\u001b[0;34m,\u001b[0m \u001b[0;34m(\u001b[0m\u001b[0mbytes\u001b[0m\u001b[0;34m,\u001b[0m \u001b[0mbytearray\u001b[0m\u001b[0;34m)\u001b[0m\u001b[0;34m)\u001b[0m\u001b[0;34m:\u001b[0m\u001b[0;34m\u001b[0m\u001b[0;34m\u001b[0m\u001b[0m\n\u001b[0;32m--> 341\u001b[0;31m             raise TypeError(f'the JSON object must be str, bytes or bytearray, '\n\u001b[0m\u001b[1;32m    342\u001b[0m                             f'not {s.__class__.__name__}')\n\u001b[1;32m    343\u001b[0m         \u001b[0ms\u001b[0m \u001b[0;34m=\u001b[0m \u001b[0ms\u001b[0m\u001b[0;34m.\u001b[0m\u001b[0mdecode\u001b[0m\u001b[0;34m(\u001b[0m\u001b[0mdetect_encoding\u001b[0m\u001b[0;34m(\u001b[0m\u001b[0ms\u001b[0m\u001b[0;34m)\u001b[0m\u001b[0;34m,\u001b[0m \u001b[0;34m'surrogatepass'\u001b[0m\u001b[0;34m)\u001b[0m\u001b[0;34m\u001b[0m\u001b[0;34m\u001b[0m\u001b[0m\n",
      "\u001b[0;31mTypeError\u001b[0m: the JSON object must be str, bytes or bytearray, not dict"
     ]
    }
   ],
   "source": [
    "order_placement(order)"
   ]
  },
  {
   "cell_type": "code",
   "execution_count": 119,
   "metadata": {
    "code_folding": [
     0,
     8,
     23,
     27,
     36
    ],
    "hidden": true
   },
   "outputs": [],
   "source": [
    "def generate_order():\n",
    "    input_order = {'table': random_table(), 'orders': []}\n",
    "    for n in range(np.random.randint(1, 5)):\n",
    "        input_order['orders'].append({})\n",
    "        input_order['orders'][n]['placed_by'] = random_user()\n",
    "        input_order['orders'][n]['food_list'] = [food_embed(c_food_dict(v)) for v in random_food_list()]\n",
    "    return input_order\n",
    "\n",
    "def order_placement(input_order):\n",
    "    ordered_table = Table.objects.get(id=input_order['table'])\n",
    "    table_order = TableOrder(table=str(ordered_table.name), table_id=str(ordered_table.name),\n",
    "                             timestamp=datetime.datetime.now())\n",
    "    for order in input_order['orders']:\n",
    "        food_list = [FoodItemMod.from_json(food_dict) for food_dict in order['food_list']]\n",
    "        table_order.orders.append(\n",
    "            Order(placed_by=User.objects.get(id=order['placed_by']).to_dbref(), food_list=food_list).save().to_dbref())\n",
    "        table_order.timestamp = datetime.datetime.now()\n",
    "        table_order.save()\n",
    "    ordered_table.update(push__table_orders=table_order.to_dbref())\n",
    "    Restaurant.objects(tables__in=[str(ordered_table.id)]).update(push__table_orders=table_order.to_dbref())\n",
    "    return TableOrder.objects.get(id=table_order.id).to_json()\n",
    "\n",
    "\n",
    "def generate_asstype():\n",
    "    assist_input = {'table': random_table(), 'user': random_user(),'assistance_type': Assistance.types[np.random.randint(len(Assistance.types))]}\n",
    "    return assist_input\n",
    "\n",
    "def assistance_req(assist_input):\n",
    "    curr_table = Table.objects.get(id=assist_input['table'])\n",
    "    curr_ass = Assistance(user=User.objects.get(id=assist_input['user']).to_dbref())\n",
    "    curr_ass.assistance_type = assist_input['assistance_type']\n",
    "    curr_ass.timestamp = datetime.datetime.now()\n",
    "    curr_ass.save()\n",
    "    curr_table.update(push__assistance_reqs=curr_ass.to_dbref())\n",
    "    return curr_ass\n",
    "\n",
    "def send_assistance_req(assist_id):\n",
    "    table = Table.objects(assistance_reqs__in=[assist_id])[0]\n",
    "    for staff in table.staff:\n",
    "        if np.random.randint(3):\n",
    "            time.sleep(1)\n",
    "            Assistance.objects.get(id=assist_id).update(set__accepted_by=staff.to_dbref())\n",
    "            return staff.name\n",
    "    time.sleep(3)\n",
    "    for staff in Staff.objects:\n",
    "        if np.random.randint(3):\n",
    "            time.sleep(1)\n",
    "            Assistance.objects.get(id=assist_id).update(set__accepted_by=staff.to_dbref())\n",
    "            return staff.name"
   ]
  },
  {
   "cell_type": "code",
   "execution_count": 138,
   "metadata": {
    "collapsed": true,
    "hidden": true
   },
   "outputs": [
    {
     "data": {
      "text/plain": [
       "'{\"_id\": {\"$oid\": \"5e8e1593d3b24ec580fd83a2\"}, \"table\": \"table6\", \"table_id\": \"table6\", \"orders\": [{\"_id\": {\"$oid\": \"5e8e1592d3b24ec580fd83a1\"}, \"placed_by\": {\"$oid\": \"5e8e10bfd3b24ec580fd82f7\"}, \"food_list\": [{\"food_id\": \"5e8e10bed3b24ec580fd828a\", \"name\": \"MUTTON GHEE ROAST\", \"description\": \"Mutton Roasted With A Fiery Red And Spicy With The Flavour Of Ghee\", \"price\": \"370\", \"instructions\": \"Cook with love\", \"quantity\": 1, \"status\": \"queued\"}, {\"food_id\": \"5e8e10ced3b24ec580fd831a\", \"name\": \"HONEY CHILLY POTATO\", \"description\": \"Crispy Fried Potatoes Tossed With Chilli And Honey\", \"price\": \"190\", \"instructions\": \"no\", \"quantity\": 1, \"status\": \"queued\"}, {\"food_id\": \"5e8e10bed3b24ec580fd82ad#chicken\", \"name\": \"FIERY PENNE PASTA (VEG/ CHICKEN / SHRIMPS)\", \"description\": \"NA\", \"price\": \"300/340/380\", \"instructions\": \"no\", \"quantity\": 2, \"status\": \"queued\", \"food_options\": {\"options\": {\"CHICKEN\": \"340\"}, \"choices\": []}}, {\"food_id\": \"5e8e10bed3b24ec580fd82c5\", \"name\": \"DAL MAKHANI\", \"description\": \"Slow Cooked Lentils Finished With White Butter\", \"price\": \"240\", \"instructions\": \"Cook with love\", \"quantity\": 2, \"status\": \"queued\"}], \"status\": \"queued\"}], \"status\": \"queued\", \"timestamp\": \"2020-04-08 23:48:59.165000\"}'"
      ]
     },
     "execution_count": 138,
     "metadata": {},
     "output_type": "execute_result"
    }
   ],
   "source": [
    "order_placement(generate_order())"
   ]
  },
  {
   "cell_type": "code",
   "execution_count": 141,
   "metadata": {
    "code_folding": [
     1,
     22,
     33
    ],
    "hidden": true
   },
   "outputs": [],
   "source": [
    "\n",
    "def non_completed(class_objects, cooking, skip=0):\n",
    "    if cooking:\n",
    "        for obj in class_objects:\n",
    "            if obj.status == 'queued':\n",
    "                if skip == 0:\n",
    "                    return obj\n",
    "                else:\n",
    "                    skip = 0\n",
    "                    continue\n",
    "        return 'all_cooking'\n",
    "    else:\n",
    "        for obj in class_objects:\n",
    "            if obj.status == 'cooking':\n",
    "                if skip == 0:\n",
    "                    return obj\n",
    "                else:\n",
    "                    skip = 0\n",
    "                    continue\n",
    "        return 'all_completed'\n",
    "\n",
    "\n",
    "def food_status_check(class_objects, skip=0):\n",
    "    for obj in class_objects:\n",
    "        if obj.status == 'queued':\n",
    "            if skip == 0:\n",
    "                return obj\n",
    "            else:\n",
    "                skip = 0\n",
    "                continue\n",
    "    return 'all_cooking'\n",
    "\n",
    "\n",
    "def food_status_check_cook(class_objects, skip=0):\n",
    "    for obj in class_objects:\n",
    "        if obj.status == 'cooking':\n",
    "            if skip == 0:\n",
    "                return obj\n",
    "            else:\n",
    "                skip = 0\n",
    "                continue\n",
    "    return 'all_completed'\n",
    "\n",
    "\n",
    "def pick_order():\n",
    "    if True:\n",
    "        table_order = non_completed(TableOrder.objects, True)\n",
    "        order = non_completed(table_order.orders, True)\n",
    "        if not isinstance(order, Order):\n",
    "            TableOrder.objects.get(id=table_order.id).update(set__status='cooking')\n",
    "            print('changing table order status')\n",
    "            return pick_order()\n",
    "\n",
    "        food_ob = food_status_check(order.food_list)\n",
    "        if isinstance(food_ob, FoodItemMod):\n",
    "            food_id = food_ob.food_id\n",
    "            return (str(table_order.id), str(order.id), food_id)\n",
    "        elif food_ob == 'all_cooking':\n",
    "            Order.objects.get(id=order.id).update(set__status='cooking')\n",
    "            print('changing order status')\n",
    "            return pick_order()\n",
    "\n",
    "\n",
    "def pick_order2():\n",
    "    if True:\n",
    "        table_order = non_completed(TableOrder.objects, False)\n",
    "        order = non_completed(table_order.orders, False)\n",
    "        if not isinstance(order, Order):\n",
    "            TableOrder.objects.get(id=table_order.id).update(set__status='completed')\n",
    "            return pick_order()\n",
    "\n",
    "        food_ob = food_status_check_cook(order.food_list)\n",
    "        if isinstance(food_ob, FoodItemMod):\n",
    "            food_id = food_ob.food_id\n",
    "            return (str(table_order.id), str(order.id), food_id)\n",
    "        elif food_ob == 'all_completed':\n",
    "            Order.objects.get(id=order.id).update(set__status='completed')\n",
    "            return pick_order()"
   ]
  },
  {
   "cell_type": "code",
   "execution_count": 143,
   "metadata": {
    "code_folding": [
     1,
     18
    ],
    "hidden": true
   },
   "outputs": [],
   "source": [
    "\n",
    "def validate_for_order(order_id, cooking=True):\n",
    "    if cooking:\n",
    "        for food_item in Order.objects.get(id=order_id).food_list:\n",
    "            if food_item.status == 'cooking':\n",
    "                continue\n",
    "            else:\n",
    "                return False\n",
    "        return True\n",
    "    else:\n",
    "        for food_item in Order.objects.get(id=order_id).food_list:\n",
    "            if food_item.status == 'completed':\n",
    "                continue\n",
    "            else:\n",
    "                return False\n",
    "        return True\n",
    "\n",
    "\n",
    "def validate_for_table_order(order_id, cooking=True):\n",
    "    if cooking:\n",
    "        for order in TableOrder.objects.get(id=order_id).orders:\n",
    "            if order.status == 'cooking':\n",
    "                continue\n",
    "            else:\n",
    "                return False\n",
    "        return True\n",
    "    else:\n",
    "        for order in TableOrder.objects.get(id=order_id).orders:\n",
    "            if order.status == 'completed':\n",
    "                continue\n",
    "            else:\n",
    "                return False\n",
    "        return True\n",
    "\n",
    "\n",
    "def order_status_cooking(status_tuple):\n",
    "    order = Order.objects.get(id=status_tuple[1])\n",
    "    food_json_dict = json_util.loads(order.fetch_food_item(status_tuple[2]))\n",
    "    food_json_dict['status'] = 'cooking'\n",
    "    Order.objects.get(id=status_tuple[1]).update(pull__food_list__food_id=FoodItemMod(food_id=status_tuple[2]).food_id)\n",
    "    Order.objects.get(id=status_tuple[1]).update(push__food_list=FoodItemMod.from_json(json_util.dumps(food_json_dict)))\n",
    "    if validate_for_order(status_tuple[1], True):\n",
    "        Order.objects.get(id=status_tuple[1]).update(set__status='cooking')\n",
    "    if validate_for_table_order(status_tuple[0], True):\n",
    "        TableOrder.objects.get(id=status_tuple[0]).update(set__status='cooking')\n",
    "    return \"Done\"\n",
    "\n",
    "\n",
    "def order_status_completed(status_tuple):\n",
    "    order = Order.objects.get(id=status_tuple[1])\n",
    "    food_json_dict = json_util.loads(order.fetch_food_item(status_tuple[2]))\n",
    "    food_json_dict['status'] = 'completed'\n",
    "    Order.objects.get(id=status_tuple[1]).update(pull__food_list__food_id=FoodItemMod(food_id=status_tuple[2]).food_id)\n",
    "    Order.objects.get(id=status_tuple[1]).update(push__food_list=FoodItemMod.from_json(json_util.dumps(food_json_dict)))\n",
    "    if validate_for_order(status_tuple[1], False):\n",
    "        Order.objects.get(id=status_tuple[1]).update(set__status='completed')\n",
    "    if validate_for_table_order(status_tuple[0], False):\n",
    "        TableOrder.objects.get(id=status_tuple[0]).update(set__status='completed')\n",
    "    return \"Done\"\n"
   ]
  },
  {
   "cell_type": "code",
   "execution_count": 17,
   "metadata": {
    "collapsed": true,
    "hidden": true
   },
   "outputs": [
    {
     "data": {
      "text/plain": [
       "{'table': '5e8d98739c69d718046f4acf',\n",
       " 'orders': [{'placedby': '5e8d98739c69d718046f4ae1',\n",
       "   'foodlist': ['{\"name\": \"MARGHERITA\", \"description\": \"An All-Time Favourite Of Pomodoro, Water Buffalo Mozzarella And Basil Chiffonade\", \"price\": \"290\", \"food_id\": \"5e8d98729c69d718046f4a9c\", \"quantity\": 1, \"instructions\": \"no\", \"status\": \"queued\"}',\n",
       "    '{\"name\": \"GARLIC NAAN\", \"description\": \"NA\", \"price\": \"50\", \"food_id\": \"5e8d987f9c69d718046f4b7b\", \"quantity\": 1, \"instructions\": \"Cook with love\", \"status\": \"queued\"}']}]}"
      ]
     },
     "execution_count": 17,
     "metadata": {},
     "output_type": "execute_result"
    }
   ],
   "source": [
    "generate_order()"
   ]
  },
  {
   "cell_type": "code",
   "execution_count": 139,
   "metadata": {
    "collapsed": true,
    "hidden": true
   },
   "outputs": [
    {
     "ename": "TypeError",
     "evalue": "tuple expected at most 1 arguments, got 3",
     "output_type": "error",
     "traceback": [
      "\u001b[0;31m---------------------------------------------------------------------------\u001b[0m",
      "\u001b[0;31mTypeError\u001b[0m                                 Traceback (most recent call last)",
      "\u001b[0;32m<ipython-input-139-c3b52b1d1209>\u001b[0m in \u001b[0;36m<module>\u001b[0;34m\u001b[0m\n\u001b[0;32m----> 1\u001b[0;31m \u001b[0mpick_order\u001b[0m\u001b[0;34m(\u001b[0m\u001b[0;34m)\u001b[0m\u001b[0;34m\u001b[0m\u001b[0;34m\u001b[0m\u001b[0m\n\u001b[0m",
      "\u001b[0;32m<ipython-input-121-43dda5d6565e>\u001b[0m in \u001b[0;36mpick_order\u001b[0;34m()\u001b[0m\n\u001b[1;32m     54\u001b[0m         \u001b[0;32mif\u001b[0m \u001b[0misinstance\u001b[0m\u001b[0;34m(\u001b[0m\u001b[0mfood_ob\u001b[0m\u001b[0;34m,\u001b[0m \u001b[0mFoodItemMod\u001b[0m\u001b[0;34m)\u001b[0m\u001b[0;34m:\u001b[0m\u001b[0;34m\u001b[0m\u001b[0;34m\u001b[0m\u001b[0m\n\u001b[1;32m     55\u001b[0m             \u001b[0mfood_id\u001b[0m \u001b[0;34m=\u001b[0m \u001b[0mfood_ob\u001b[0m\u001b[0;34m.\u001b[0m\u001b[0mfood_id\u001b[0m\u001b[0;34m\u001b[0m\u001b[0;34m\u001b[0m\u001b[0m\n\u001b[0;32m---> 56\u001b[0;31m             \u001b[0;32mreturn\u001b[0m \u001b[0mtuple\u001b[0m\u001b[0;34m(\u001b[0m\u001b[0mstr\u001b[0m\u001b[0;34m(\u001b[0m\u001b[0mtable_order\u001b[0m\u001b[0;34m.\u001b[0m\u001b[0mid\u001b[0m\u001b[0;34m)\u001b[0m\u001b[0;34m,\u001b[0m \u001b[0mstr\u001b[0m\u001b[0;34m(\u001b[0m\u001b[0morder\u001b[0m\u001b[0;34m.\u001b[0m\u001b[0mid\u001b[0m\u001b[0;34m)\u001b[0m\u001b[0;34m,\u001b[0m \u001b[0mfood_id\u001b[0m\u001b[0;34m)\u001b[0m\u001b[0;34m\u001b[0m\u001b[0;34m\u001b[0m\u001b[0m\n\u001b[0m\u001b[1;32m     57\u001b[0m         \u001b[0;32melif\u001b[0m \u001b[0mfood_ob\u001b[0m \u001b[0;34m==\u001b[0m \u001b[0;34m'all_cooking'\u001b[0m\u001b[0;34m:\u001b[0m\u001b[0;34m\u001b[0m\u001b[0;34m\u001b[0m\u001b[0m\n\u001b[1;32m     58\u001b[0m             \u001b[0mOrder\u001b[0m\u001b[0;34m.\u001b[0m\u001b[0mobjects\u001b[0m\u001b[0;34m.\u001b[0m\u001b[0mget\u001b[0m\u001b[0;34m(\u001b[0m\u001b[0mid\u001b[0m\u001b[0;34m=\u001b[0m\u001b[0morder\u001b[0m\u001b[0;34m.\u001b[0m\u001b[0mid\u001b[0m\u001b[0;34m)\u001b[0m\u001b[0;34m.\u001b[0m\u001b[0mupdate\u001b[0m\u001b[0;34m(\u001b[0m\u001b[0mset__status\u001b[0m\u001b[0;34m=\u001b[0m\u001b[0;34m'cooking'\u001b[0m\u001b[0;34m)\u001b[0m\u001b[0;34m\u001b[0m\u001b[0;34m\u001b[0m\u001b[0m\n",
      "\u001b[0;31mTypeError\u001b[0m: tuple expected at most 1 arguments, got 3"
     ]
    }
   ],
   "source": [
    "pick_order()"
   ]
  },
  {
   "cell_type": "code",
   "execution_count": 290,
   "metadata": {
    "hidden": true,
    "scrolled": true
   },
   "outputs": [
    {
     "data": {
      "text/plain": [
       "1"
      ]
     },
     "execution_count": 290,
     "metadata": {},
     "output_type": "execute_result"
    }
   ],
   "source": [
    "TableOrder.drop_collection()\n",
    "\n",
    "Order.drop_collection()\n",
    "\n",
    "Restaurant.objects[0].update(set__tableorders=[])"
   ]
  },
  {
   "cell_type": "code",
   "execution_count": 197,
   "metadata": {
    "hidden": true,
    "scrolled": false
   },
   "outputs": [
    {
     "data": {
      "text/plain": [
       "'Mohini'"
      ]
     },
     "execution_count": 197,
     "metadata": {},
     "output_type": "execute_result"
    }
   ],
   "source": [
    "send_assistance_req(str(assistance_req(generate_asstype()).id))"
   ]
  },
  {
   "cell_type": "code",
   "execution_count": 118,
   "metadata": {
    "collapsed": true,
    "hidden": true
   },
   "outputs": [
    {
     "ename": "ValueError",
     "evalue": "The source SON object needs to be of type 'dict' but a '<class 'str'>' was found",
     "output_type": "error",
     "traceback": [
      "\u001b[0;31m---------------------------------------------------------------------------\u001b[0m",
      "\u001b[0;31mValueError\u001b[0m                                Traceback (most recent call last)",
      "\u001b[0;32m<ipython-input-118-1f69a89530d8>\u001b[0m in \u001b[0;36m<module>\u001b[0;34m\u001b[0m\n\u001b[0;32m----> 1\u001b[0;31m \u001b[0morder_placement\u001b[0m\u001b[0;34m(\u001b[0m\u001b[0mgenerate_order\u001b[0m\u001b[0;34m(\u001b[0m\u001b[0;34m)\u001b[0m\u001b[0;34m)\u001b[0m\u001b[0;34m\u001b[0m\u001b[0;34m\u001b[0m\u001b[0m\n\u001b[0m",
      "\u001b[0;32m<ipython-input-79-f80b6d6ec76a>\u001b[0m in \u001b[0;36morder_placement\u001b[0;34m(input_order)\u001b[0m\n\u001b[1;32m     13\u001b[0m     \u001b[0mtableorder\u001b[0m \u001b[0;34m=\u001b[0m \u001b[0mTableOrder\u001b[0m\u001b[0;34m(\u001b[0m\u001b[0mtable\u001b[0m\u001b[0;34m=\u001b[0m\u001b[0mstr\u001b[0m\u001b[0;34m(\u001b[0m\u001b[0mordered_table\u001b[0m\u001b[0;34m.\u001b[0m\u001b[0mname\u001b[0m\u001b[0;34m)\u001b[0m\u001b[0;34m,\u001b[0m\u001b[0mtable_id\u001b[0m\u001b[0;34m=\u001b[0m\u001b[0mstr\u001b[0m\u001b[0;34m(\u001b[0m\u001b[0mordered_table\u001b[0m\u001b[0;34m.\u001b[0m\u001b[0mname\u001b[0m\u001b[0;34m)\u001b[0m\u001b[0;34m,\u001b[0m\u001b[0mtimestamp\u001b[0m\u001b[0;34m=\u001b[0m\u001b[0mdatetime\u001b[0m\u001b[0;34m.\u001b[0m\u001b[0mdatetime\u001b[0m\u001b[0;34m.\u001b[0m\u001b[0mnow\u001b[0m\u001b[0;34m(\u001b[0m\u001b[0;34m)\u001b[0m\u001b[0;34m)\u001b[0m\u001b[0;34m\u001b[0m\u001b[0;34m\u001b[0m\u001b[0m\n\u001b[1;32m     14\u001b[0m     \u001b[0;32mfor\u001b[0m \u001b[0morder\u001b[0m \u001b[0;32min\u001b[0m \u001b[0minput_order\u001b[0m\u001b[0;34m[\u001b[0m\u001b[0;34m'orders'\u001b[0m\u001b[0;34m]\u001b[0m\u001b[0;34m:\u001b[0m\u001b[0;34m\u001b[0m\u001b[0;34m\u001b[0m\u001b[0m\n\u001b[0;32m---> 15\u001b[0;31m         \u001b[0mfoodlist\u001b[0m\u001b[0;34m=\u001b[0m\u001b[0;34m[\u001b[0m\u001b[0mFoodItemMod\u001b[0m\u001b[0;34m.\u001b[0m\u001b[0mfrom_json\u001b[0m\u001b[0;34m(\u001b[0m\u001b[0mjson_util\u001b[0m\u001b[0;34m.\u001b[0m\u001b[0mdumps\u001b[0m\u001b[0;34m(\u001b[0m\u001b[0mfood_dict\u001b[0m\u001b[0;34m)\u001b[0m\u001b[0;34m)\u001b[0m \u001b[0;32mfor\u001b[0m \u001b[0mfood_dict\u001b[0m \u001b[0;32min\u001b[0m \u001b[0morder\u001b[0m\u001b[0;34m[\u001b[0m\u001b[0;34m'foodlist'\u001b[0m\u001b[0;34m]\u001b[0m\u001b[0;34m]\u001b[0m\u001b[0;34m\u001b[0m\u001b[0;34m\u001b[0m\u001b[0m\n\u001b[0m\u001b[1;32m     16\u001b[0m         \u001b[0mtableorder\u001b[0m\u001b[0;34m.\u001b[0m\u001b[0morders\u001b[0m\u001b[0;34m.\u001b[0m\u001b[0mappend\u001b[0m\u001b[0;34m(\u001b[0m\u001b[0mOrder\u001b[0m\u001b[0;34m(\u001b[0m\u001b[0mplacedby\u001b[0m\u001b[0;34m=\u001b[0m\u001b[0mUser\u001b[0m\u001b[0;34m.\u001b[0m\u001b[0mobjects\u001b[0m\u001b[0;34m.\u001b[0m\u001b[0mget\u001b[0m\u001b[0;34m(\u001b[0m\u001b[0mid\u001b[0m\u001b[0;34m=\u001b[0m\u001b[0morder\u001b[0m\u001b[0;34m[\u001b[0m\u001b[0;34m'placedby'\u001b[0m\u001b[0;34m]\u001b[0m\u001b[0;34m)\u001b[0m\u001b[0;34m.\u001b[0m\u001b[0mto_dbref\u001b[0m\u001b[0;34m(\u001b[0m\u001b[0;34m)\u001b[0m\u001b[0;34m,\u001b[0m\u001b[0mfoodlist\u001b[0m\u001b[0;34m=\u001b[0m\u001b[0mfoodlist\u001b[0m\u001b[0;34m)\u001b[0m\u001b[0;34m.\u001b[0m\u001b[0msave\u001b[0m\u001b[0;34m(\u001b[0m\u001b[0;34m)\u001b[0m\u001b[0;34m.\u001b[0m\u001b[0mto_dbref\u001b[0m\u001b[0;34m(\u001b[0m\u001b[0;34m)\u001b[0m\u001b[0;34m)\u001b[0m\u001b[0;34m\u001b[0m\u001b[0;34m\u001b[0m\u001b[0m\n\u001b[1;32m     17\u001b[0m         \u001b[0mtableorder\u001b[0m\u001b[0;34m.\u001b[0m\u001b[0mtimestamp\u001b[0m\u001b[0;34m=\u001b[0m\u001b[0mdatetime\u001b[0m\u001b[0;34m.\u001b[0m\u001b[0mdatetime\u001b[0m\u001b[0;34m.\u001b[0m\u001b[0mnow\u001b[0m\u001b[0;34m(\u001b[0m\u001b[0;34m)\u001b[0m\u001b[0;34m\u001b[0m\u001b[0;34m\u001b[0m\u001b[0m\n",
      "\u001b[0;32m<ipython-input-79-f80b6d6ec76a>\u001b[0m in \u001b[0;36m<listcomp>\u001b[0;34m(.0)\u001b[0m\n\u001b[1;32m     13\u001b[0m     \u001b[0mtableorder\u001b[0m \u001b[0;34m=\u001b[0m \u001b[0mTableOrder\u001b[0m\u001b[0;34m(\u001b[0m\u001b[0mtable\u001b[0m\u001b[0;34m=\u001b[0m\u001b[0mstr\u001b[0m\u001b[0;34m(\u001b[0m\u001b[0mordered_table\u001b[0m\u001b[0;34m.\u001b[0m\u001b[0mname\u001b[0m\u001b[0;34m)\u001b[0m\u001b[0;34m,\u001b[0m\u001b[0mtable_id\u001b[0m\u001b[0;34m=\u001b[0m\u001b[0mstr\u001b[0m\u001b[0;34m(\u001b[0m\u001b[0mordered_table\u001b[0m\u001b[0;34m.\u001b[0m\u001b[0mname\u001b[0m\u001b[0;34m)\u001b[0m\u001b[0;34m,\u001b[0m\u001b[0mtimestamp\u001b[0m\u001b[0;34m=\u001b[0m\u001b[0mdatetime\u001b[0m\u001b[0;34m.\u001b[0m\u001b[0mdatetime\u001b[0m\u001b[0;34m.\u001b[0m\u001b[0mnow\u001b[0m\u001b[0;34m(\u001b[0m\u001b[0;34m)\u001b[0m\u001b[0;34m)\u001b[0m\u001b[0;34m\u001b[0m\u001b[0;34m\u001b[0m\u001b[0m\n\u001b[1;32m     14\u001b[0m     \u001b[0;32mfor\u001b[0m \u001b[0morder\u001b[0m \u001b[0;32min\u001b[0m \u001b[0minput_order\u001b[0m\u001b[0;34m[\u001b[0m\u001b[0;34m'orders'\u001b[0m\u001b[0;34m]\u001b[0m\u001b[0;34m:\u001b[0m\u001b[0;34m\u001b[0m\u001b[0;34m\u001b[0m\u001b[0m\n\u001b[0;32m---> 15\u001b[0;31m         \u001b[0mfoodlist\u001b[0m\u001b[0;34m=\u001b[0m\u001b[0;34m[\u001b[0m\u001b[0mFoodItemMod\u001b[0m\u001b[0;34m.\u001b[0m\u001b[0mfrom_json\u001b[0m\u001b[0;34m(\u001b[0m\u001b[0mjson_util\u001b[0m\u001b[0;34m.\u001b[0m\u001b[0mdumps\u001b[0m\u001b[0;34m(\u001b[0m\u001b[0mfood_dict\u001b[0m\u001b[0;34m)\u001b[0m\u001b[0;34m)\u001b[0m \u001b[0;32mfor\u001b[0m \u001b[0mfood_dict\u001b[0m \u001b[0;32min\u001b[0m \u001b[0morder\u001b[0m\u001b[0;34m[\u001b[0m\u001b[0;34m'foodlist'\u001b[0m\u001b[0;34m]\u001b[0m\u001b[0;34m]\u001b[0m\u001b[0;34m\u001b[0m\u001b[0;34m\u001b[0m\u001b[0m\n\u001b[0m\u001b[1;32m     16\u001b[0m         \u001b[0mtableorder\u001b[0m\u001b[0;34m.\u001b[0m\u001b[0morders\u001b[0m\u001b[0;34m.\u001b[0m\u001b[0mappend\u001b[0m\u001b[0;34m(\u001b[0m\u001b[0mOrder\u001b[0m\u001b[0;34m(\u001b[0m\u001b[0mplacedby\u001b[0m\u001b[0;34m=\u001b[0m\u001b[0mUser\u001b[0m\u001b[0;34m.\u001b[0m\u001b[0mobjects\u001b[0m\u001b[0;34m.\u001b[0m\u001b[0mget\u001b[0m\u001b[0;34m(\u001b[0m\u001b[0mid\u001b[0m\u001b[0;34m=\u001b[0m\u001b[0morder\u001b[0m\u001b[0;34m[\u001b[0m\u001b[0;34m'placedby'\u001b[0m\u001b[0;34m]\u001b[0m\u001b[0;34m)\u001b[0m\u001b[0;34m.\u001b[0m\u001b[0mto_dbref\u001b[0m\u001b[0;34m(\u001b[0m\u001b[0;34m)\u001b[0m\u001b[0;34m,\u001b[0m\u001b[0mfoodlist\u001b[0m\u001b[0;34m=\u001b[0m\u001b[0mfoodlist\u001b[0m\u001b[0;34m)\u001b[0m\u001b[0;34m.\u001b[0m\u001b[0msave\u001b[0m\u001b[0;34m(\u001b[0m\u001b[0;34m)\u001b[0m\u001b[0;34m.\u001b[0m\u001b[0mto_dbref\u001b[0m\u001b[0;34m(\u001b[0m\u001b[0;34m)\u001b[0m\u001b[0;34m)\u001b[0m\u001b[0;34m\u001b[0m\u001b[0;34m\u001b[0m\u001b[0m\n\u001b[1;32m     17\u001b[0m         \u001b[0mtableorder\u001b[0m\u001b[0;34m.\u001b[0m\u001b[0mtimestamp\u001b[0m\u001b[0;34m=\u001b[0m\u001b[0mdatetime\u001b[0m\u001b[0;34m.\u001b[0m\u001b[0mdatetime\u001b[0m\u001b[0;34m.\u001b[0m\u001b[0mnow\u001b[0m\u001b[0;34m(\u001b[0m\u001b[0;34m)\u001b[0m\u001b[0;34m\u001b[0m\u001b[0;34m\u001b[0m\u001b[0m\n",
      "\u001b[0;32m~/miniconda3/lib/python3.7/site-packages/mongoengine/base/document.py\u001b[0m in \u001b[0;36mfrom_json\u001b[0;34m(cls, json_data, created)\u001b[0m\n\u001b[1;32m    479\u001b[0m         \u001b[0;31m# in the DB, you would likely retrieve it from MongoDB itself through\u001b[0m\u001b[0;34m\u001b[0m\u001b[0;34m\u001b[0m\u001b[0;34m\u001b[0m\u001b[0m\n\u001b[1;32m    480\u001b[0m         \u001b[0;31m# a query, not load it from JSON data.\u001b[0m\u001b[0;34m\u001b[0m\u001b[0;34m\u001b[0m\u001b[0;34m\u001b[0m\u001b[0m\n\u001b[0;32m--> 481\u001b[0;31m         \u001b[0;32mreturn\u001b[0m \u001b[0mcls\u001b[0m\u001b[0;34m.\u001b[0m\u001b[0m_from_son\u001b[0m\u001b[0;34m(\u001b[0m\u001b[0mjson_util\u001b[0m\u001b[0;34m.\u001b[0m\u001b[0mloads\u001b[0m\u001b[0;34m(\u001b[0m\u001b[0mjson_data\u001b[0m\u001b[0;34m)\u001b[0m\u001b[0;34m,\u001b[0m \u001b[0mcreated\u001b[0m\u001b[0;34m=\u001b[0m\u001b[0mcreated\u001b[0m\u001b[0;34m)\u001b[0m\u001b[0;34m\u001b[0m\u001b[0;34m\u001b[0m\u001b[0m\n\u001b[0m\u001b[1;32m    482\u001b[0m \u001b[0;34m\u001b[0m\u001b[0m\n\u001b[1;32m    483\u001b[0m     \u001b[0;32mdef\u001b[0m \u001b[0m__expand_dynamic_values\u001b[0m\u001b[0;34m(\u001b[0m\u001b[0mself\u001b[0m\u001b[0;34m,\u001b[0m \u001b[0mname\u001b[0m\u001b[0;34m,\u001b[0m \u001b[0mvalue\u001b[0m\u001b[0;34m)\u001b[0m\u001b[0;34m:\u001b[0m\u001b[0;34m\u001b[0m\u001b[0;34m\u001b[0m\u001b[0m\n",
      "\u001b[0;32m~/miniconda3/lib/python3.7/site-packages/mongoengine/base/document.py\u001b[0m in \u001b[0;36m_from_son\u001b[0;34m(cls, son, _auto_dereference, only_fields, created)\u001b[0m\n\u001b[1;32m    735\u001b[0m             raise ValueError(\n\u001b[1;32m    736\u001b[0m                 \u001b[0;34m\"The source SON object needs to be of type 'dict' but a '%s' was found\"\u001b[0m\u001b[0;34m\u001b[0m\u001b[0;34m\u001b[0m\u001b[0m\n\u001b[0;32m--> 737\u001b[0;31m                 \u001b[0;34m%\u001b[0m \u001b[0mtype\u001b[0m\u001b[0;34m(\u001b[0m\u001b[0mson\u001b[0m\u001b[0;34m)\u001b[0m\u001b[0;34m\u001b[0m\u001b[0;34m\u001b[0m\u001b[0m\n\u001b[0m\u001b[1;32m    738\u001b[0m             )\n\u001b[1;32m    739\u001b[0m \u001b[0;34m\u001b[0m\u001b[0m\n",
      "\u001b[0;31mValueError\u001b[0m: The source SON object needs to be of type 'dict' but a '<class 'str'>' was found"
     ]
    }
   ],
   "source": [
    "order_placement(generate_order())"
   ]
  },
  {
   "cell_type": "code",
   "execution_count": 144,
   "metadata": {
    "hidden": true,
    "scrolled": false
   },
   "outputs": [
    {
     "data": {
      "text/plain": [
       "'Done'"
      ]
     },
     "execution_count": 144,
     "metadata": {},
     "output_type": "execute_result"
    }
   ],
   "source": [
    "status_tuple=pick_order()\n",
    "\n",
    "order_status_cooking(status_tuple)"
   ]
  },
  {
   "cell_type": "code",
   "execution_count": 264,
   "metadata": {
    "hidden": true,
    "scrolled": true
   },
   "outputs": [
    {
     "data": {
      "text/plain": [
       "'Done'"
      ]
     },
     "execution_count": 264,
     "metadata": {},
     "output_type": "execute_result"
    }
   ],
   "source": [
    "status_tuple=pick_order2()\n",
    "\n",
    "order_status_completed(status_tuple)"
   ]
  },
  {
   "cell_type": "markdown",
   "metadata": {
    "heading_collapsed": true
   },
   "source": [
    "# Configuring Restaurant"
   ]
  },
  {
   "cell_type": "code",
   "execution_count": 57,
   "metadata": {
    "hidden": true
   },
   "outputs": [],
   "source": [
    "def configuring_restaurant(message):\n",
    "    if message['type'] == 'add_tables':\n",
    "        table_objects = []\n",
    "        table_dict_list = []\n",
    "        for table_pair in message['tables']:\n",
    "            new_table = Table(name=table_pair['table_name'], seats=table_pair['seats']).save()\n",
    "            table_objects.append(new_table.to_dbref())\n",
    "            table_dict_list.append({**{'table_id': str(new_table.id)}, **table_pair})\n",
    "        Restaurant.objects(restaurant_id=message['restaurant_id'])[0].update(push_all__tables=table_objects)\n",
    "        return {\"restaurant_id\": message['restaurant_id'], \"type\": \"add_tables\", \"tables\": table_dict_list}\n",
    "    elif message['type'] == 'add_staff':\n",
    "        staff_objects = []\n",
    "        staff_dict_list = []\n",
    "        for staff_pair in message['staff']:\n",
    "            new_staff = Staff(name=staff_pair['staff_name']).save()\n",
    "            staff_objects.append(new_staff.to_dbref())\n",
    "            staff_dict_list.append({**{'staff_id': str(new_staff.id)}, **staff_pair})\n",
    "        Restaurant.objects(restaurant_id=message['restaurant_id'])[0].update(push_all__staff=staff_objects)\n",
    "        return {\"restaurant_id\": message['restaurant_id'], \"type\": \"add_staff\", \"staff\": staff_dict_list}"
   ]
  },
  {
   "cell_type": "code",
   "execution_count": 58,
   "metadata": {
    "hidden": true
   },
   "outputs": [],
   "source": [
    "message={'restaurant_id' : 'BNGHSR0002',\"type\":\"add_staff\",\"staff\":[{\"staff_name\":\"Chikka\"}]}"
   ]
  },
  {
   "cell_type": "code",
   "execution_count": 59,
   "metadata": {
    "hidden": true,
    "scrolled": false
   },
   "outputs": [
    {
     "data": {
      "text/plain": [
       "{'restaurant_id': 'BNGHSR0002',\n",
       " 'type': 'add_staff',\n",
       " 'staff': [{'staff_id': '5e8dfb85d3b24ec580fd79ba', 'staff_name': 'Chikka'}]}"
      ]
     },
     "execution_count": 59,
     "metadata": {},
     "output_type": "execute_result"
    }
   ],
   "source": [
    "configuring_restaurant(message)"
   ]
  },
  {
   "cell_type": "code",
   "execution_count": 408,
   "metadata": {
    "hidden": true
   },
   "outputs": [
    {
     "data": {
      "text/plain": [
       "{'restaurant_id': 'BNGHSR0002',\n",
       " 'type': 'add_servers',\n",
       " 'servers': [{'name': 'Chikka'}]}"
      ]
     },
     "execution_count": 408,
     "metadata": {},
     "output_type": "execute_result"
    }
   ],
   "source": [
    "message"
   ]
  },
  {
   "cell_type": "code",
   "execution_count": 390,
   "metadata": {
    "hidden": true,
    "scrolled": false
   },
   "outputs": [
    {
     "data": {
      "text/plain": [
       "[{'table_id': '5e8cb9539c69d718046f4a1f', 'table_name': 'Table 6', 'seats': 6},\n",
       " {'table_id': '5e8cb9539c69d718046f4a20', 'table_name': 'Table 5', 'seats': 6},\n",
       " {'table_id': '5e8cb9539c69d718046f4a21', 'table_name': 'Table 3', 'seats': 6}]"
      ]
     },
     "execution_count": 390,
     "metadata": {},
     "output_type": "execute_result"
    }
   ],
   "source": [
    "configuring_restaurant({\n",
    "    'restaurant_id' : 'BNGHSR0002',\n",
    "    'type':'add_tables',\n",
    "    'tables':[{'table_name':'Table 6','seats':6},{'table_name':'Table 5','seats':6},{'table_name':'Table 3','seats':6}]\n",
    "})"
   ]
  },
  {
   "cell_type": "code",
   "execution_count": 147,
   "metadata": {
    "code_folding": [
     4,
     6,
     32,
     35,
     45,
     53,
     56,
     66
    ],
    "collapsed": true,
    "hidden": true
   },
   "outputs": [
    {
     "ename": "KeyError",
     "evalue": "'placedby'",
     "output_type": "error",
     "traceback": [
      "\u001b[0;31m---------------------------------------------------------------------------\u001b[0m",
      "\u001b[0;31mKeyError\u001b[0m                                  Traceback (most recent call last)",
      "\u001b[0;32m<ipython-input-147-0c269d2cf795>\u001b[0m in \u001b[0;36m<module>\u001b[0;34m\u001b[0m\n\u001b[1;32m     46\u001b[0m                 \u001b[0;32melse\u001b[0m\u001b[0;34m:\u001b[0m\u001b[0;34m\u001b[0m\u001b[0;34m\u001b[0m\u001b[0m\n\u001b[1;32m     47\u001b[0m                     \u001b[0mt_app_dict\u001b[0m\u001b[0;34m=\u001b[0m\u001b[0;34m{\u001b[0m\u001b[0mk\u001b[0m\u001b[0;34m:\u001b[0m\u001b[0mtabord_dict\u001b[0m\u001b[0;34m[\u001b[0m\u001b[0mk\u001b[0m\u001b[0;34m]\u001b[0m \u001b[0;32mfor\u001b[0m \u001b[0mk\u001b[0m \u001b[0;32min\u001b[0m \u001b[0;34m[\u001b[0m\u001b[0;34m'_id'\u001b[0m\u001b[0;34m,\u001b[0m \u001b[0;34m'table'\u001b[0m\u001b[0;34m,\u001b[0m \u001b[0;34m'status'\u001b[0m\u001b[0;34m,\u001b[0m \u001b[0;34m'timestamp'\u001b[0m\u001b[0;34m]\u001b[0m\u001b[0;34m}\u001b[0m\u001b[0;34m\u001b[0m\u001b[0;34m\u001b[0m\u001b[0m\n\u001b[0;32m---> 48\u001b[0;31m                     \u001b[0mo_app_dict\u001b[0m\u001b[0;34m=\u001b[0m\u001b[0;34m{\u001b[0m\u001b[0mk\u001b[0m\u001b[0;34m:\u001b[0m\u001b[0morder\u001b[0m\u001b[0;34m[\u001b[0m\u001b[0mk\u001b[0m\u001b[0;34m]\u001b[0m \u001b[0;32mfor\u001b[0m \u001b[0mk\u001b[0m \u001b[0;32min\u001b[0m \u001b[0;34m[\u001b[0m\u001b[0;34m'_id'\u001b[0m\u001b[0;34m,\u001b[0m \u001b[0;34m'placedby'\u001b[0m\u001b[0;34m,\u001b[0m \u001b[0;34m'status'\u001b[0m\u001b[0;34m]\u001b[0m\u001b[0;34m}\u001b[0m\u001b[0;34m\u001b[0m\u001b[0;34m\u001b[0m\u001b[0m\n\u001b[0m\u001b[1;32m     49\u001b[0m                     \u001b[0mo_app_dict\u001b[0m\u001b[0;34m[\u001b[0m\u001b[0;34m'foodlist'\u001b[0m\u001b[0;34m]\u001b[0m\u001b[0;34m=\u001b[0m\u001b[0;34m[\u001b[0m\u001b[0;34m]\u001b[0m\u001b[0;34m\u001b[0m\u001b[0;34m\u001b[0m\u001b[0m\n\u001b[1;32m     50\u001b[0m                     \u001b[0mo_app_dict\u001b[0m\u001b[0;34m[\u001b[0m\u001b[0;34m'foodlist'\u001b[0m\u001b[0;34m]\u001b[0m\u001b[0;34m.\u001b[0m\u001b[0mappend\u001b[0m\u001b[0;34m(\u001b[0m\u001b[0mfood_item\u001b[0m\u001b[0;34m)\u001b[0m\u001b[0;34m\u001b[0m\u001b[0;34m\u001b[0m\u001b[0m\n",
      "\u001b[0;32m<ipython-input-147-0c269d2cf795>\u001b[0m in \u001b[0;36m<dictcomp>\u001b[0;34m(.0)\u001b[0m\n\u001b[1;32m     46\u001b[0m                 \u001b[0;32melse\u001b[0m\u001b[0;34m:\u001b[0m\u001b[0;34m\u001b[0m\u001b[0;34m\u001b[0m\u001b[0m\n\u001b[1;32m     47\u001b[0m                     \u001b[0mt_app_dict\u001b[0m\u001b[0;34m=\u001b[0m\u001b[0;34m{\u001b[0m\u001b[0mk\u001b[0m\u001b[0;34m:\u001b[0m\u001b[0mtabord_dict\u001b[0m\u001b[0;34m[\u001b[0m\u001b[0mk\u001b[0m\u001b[0;34m]\u001b[0m \u001b[0;32mfor\u001b[0m \u001b[0mk\u001b[0m \u001b[0;32min\u001b[0m \u001b[0;34m[\u001b[0m\u001b[0;34m'_id'\u001b[0m\u001b[0;34m,\u001b[0m \u001b[0;34m'table'\u001b[0m\u001b[0;34m,\u001b[0m \u001b[0;34m'status'\u001b[0m\u001b[0;34m,\u001b[0m \u001b[0;34m'timestamp'\u001b[0m\u001b[0;34m]\u001b[0m\u001b[0;34m}\u001b[0m\u001b[0;34m\u001b[0m\u001b[0;34m\u001b[0m\u001b[0m\n\u001b[0;32m---> 48\u001b[0;31m                     \u001b[0mo_app_dict\u001b[0m\u001b[0;34m=\u001b[0m\u001b[0;34m{\u001b[0m\u001b[0mk\u001b[0m\u001b[0;34m:\u001b[0m\u001b[0morder\u001b[0m\u001b[0;34m[\u001b[0m\u001b[0mk\u001b[0m\u001b[0;34m]\u001b[0m \u001b[0;32mfor\u001b[0m \u001b[0mk\u001b[0m \u001b[0;32min\u001b[0m \u001b[0;34m[\u001b[0m\u001b[0;34m'_id'\u001b[0m\u001b[0;34m,\u001b[0m \u001b[0;34m'placedby'\u001b[0m\u001b[0;34m,\u001b[0m \u001b[0;34m'status'\u001b[0m\u001b[0;34m]\u001b[0m\u001b[0;34m}\u001b[0m\u001b[0;34m\u001b[0m\u001b[0;34m\u001b[0m\u001b[0m\n\u001b[0m\u001b[1;32m     49\u001b[0m                     \u001b[0mo_app_dict\u001b[0m\u001b[0;34m[\u001b[0m\u001b[0;34m'foodlist'\u001b[0m\u001b[0;34m]\u001b[0m\u001b[0;34m=\u001b[0m\u001b[0;34m[\u001b[0m\u001b[0;34m]\u001b[0m\u001b[0;34m\u001b[0m\u001b[0;34m\u001b[0m\u001b[0m\n\u001b[1;32m     50\u001b[0m                     \u001b[0mo_app_dict\u001b[0m\u001b[0;34m[\u001b[0m\u001b[0;34m'foodlist'\u001b[0m\u001b[0;34m]\u001b[0m\u001b[0;34m.\u001b[0m\u001b[0mappend\u001b[0m\u001b[0;34m(\u001b[0m\u001b[0mfood_item\u001b[0m\u001b[0;34m)\u001b[0m\u001b[0;34m\u001b[0m\u001b[0;34m\u001b[0m\u001b[0m\n",
      "\u001b[0;31mKeyError\u001b[0m: 'placedby'"
     ]
    }
   ],
   "source": [
    "#Returning queue, cooking and completed lists\n",
    "q_list = []\n",
    "cook_list=[]\n",
    "comp_list =[] \n",
    "for table_order_ob in TableOrder.objects:\n",
    "    tabord_dict=json_util.loads(table_order_ob.to_json())\n",
    "    if(tabord_dict['status']=='completed'):\n",
    "        comp_dict.append(tabord_dict)\n",
    "        break\n",
    "    for order in tabord_dict['orders']:\n",
    "        for food_item in order['food_list']:\n",
    "            if(food_item['status']=='queued'):\n",
    "                update_list = q_list\n",
    "                index = check_exists(tabord_dict['_id'],update_list)\n",
    "                if(index>=0):\n",
    "                    order_index=check_exists(order['_id'],update_list[index]['orders'])\n",
    "                    if(order_index>=0):\n",
    "                        update_list[index]['orders'][order_index]['foodlist'].append(food_item)\n",
    "                    else:\n",
    "                        o_app_dict={k:order[k] for k in ['_id', 'placed_by', 'status']}\n",
    "                        o_app_dict['foodlist']=[]\n",
    "                        o_app_dict['foodlist'].append(food_item)\n",
    "                        update_list[index]['orders'].append(o_app_dict)\n",
    "                        \n",
    "                else:\n",
    "                    t_app_dict={k:tabord_dict[k] for k in ['_id', 'table', 'status', 'timestamp']}\n",
    "                    o_app_dict={k:order[k] for k in ['_id', 'placed_by', 'status']}\n",
    "                    o_app_dict['foodlist']=[]\n",
    "                    o_app_dict['foodlist'].append(food_item)\n",
    "                    t_app_dict['orders']=[]\n",
    "                    t_app_dict['orders'].append(o_app_dict)\n",
    "                    update_list.append(t_app_dict)\n",
    "            elif(food_item['status']=='cooking'):\n",
    "                update_list = cook_list\n",
    "                index = check_exists(tabord_dict['_id'],update_list)\n",
    "                if(index>=0):\n",
    "                    order_index=check_exists(order['_id'],update_list[index]['orders'])\n",
    "                    if(order_index>=0):\n",
    "                        update_list[index]['orders'][order_index]['foodlist'].append(food_item)\n",
    "                    else:\n",
    "                        o_app_dict={k:order[k] for k in ['_id', 'placedby', 'status']}\n",
    "                        o_app_dict['foodlist']=[]\n",
    "                        o_app_dict['foodlist'].append(food_item)\n",
    "                        update_list[index]['orders'].append(o_app_dict)\n",
    "                        \n",
    "                else:\n",
    "                    t_app_dict={k:tabord_dict[k] for k in ['_id', 'table', 'status', 'timestamp']}\n",
    "                    o_app_dict={k:order[k] for k in ['_id', 'placedby', 'status']}\n",
    "                    o_app_dict['foodlist']=[]\n",
    "                    o_app_dict['foodlist'].append(food_item)\n",
    "                    t_app_dict['orders']=[]\n",
    "                    t_app_dict['orders'].append(o_app_dict)\n",
    "                    update_list.append(t_app_dict)\n",
    "            elif(food_item['status']=='completed'):\n",
    "                update_list = comp_list\n",
    "                index = check_exists(tabord_dict['_id'],update_list)\n",
    "                if(index>=0):\n",
    "                    order_index=check_exists(order['_id'],update_list[index]['orders'])\n",
    "                    if(order_index>=0):\n",
    "                        update_list[index]['orders'][order_index]['foodlist'].append(food_item)\n",
    "                    else:\n",
    "                        o_app_dict={k:order[k] for k in ['_id', 'placedby', 'status']}\n",
    "                        o_app_dict['foodlist']=[]\n",
    "                        o_app_dict['foodlist'].append(food_item)\n",
    "                        update_list[index]['orders'].append(o_app_dict)\n",
    "                        \n",
    "                else:\n",
    "                    t_app_dict={k:tabord_dict[k] for k in ['_id', 'table', 'status', 'timestamp']}\n",
    "                    o_app_dict={k:order[k] for k in ['_id', 'placedby', 'status']}\n",
    "                    o_app_dict['foodlist']=[]\n",
    "                    o_app_dict['foodlist'].append(food_item)\n",
    "                    t_app_dict['orders']=[]\n",
    "                    t_app_dict['orders'].append(o_app_dict)\n",
    "                    update_list.append(t_app_dict)"
   ]
  },
  {
   "cell_type": "markdown",
   "metadata": {
    "heading_collapsed": true
   },
   "source": [
    "# Returning restaurant object"
   ]
  },
  {
   "cell_type": "code",
   "execution_count": 404,
   "metadata": {
    "collapsed": true,
    "hidden": true
   },
   "outputs": [
    {
     "name": "stdout",
     "output_type": "stream",
     "text": [
      "{'_id': ObjectId('5e8d98729c69d718046f4acd'),\n",
      " 'address': '',\n",
      " 'assistance_reqs': [],\n",
      " 'menu': [],\n",
      " 'name': 'House of Commons',\n",
      " 'restaurant_id': 'BNGHSR0001',\n",
      " 'servers': [],\n",
      " 'tableorders': [],\n",
      " 'tables': [{'_id': ObjectId('5e8d98729c69d718046f4ace'),\n",
      "             'assistance_reqs': [],\n",
      "             'name': 'table1',\n",
      "             'nofusers': 0,\n",
      "             'seats': 6,\n",
      "             'servers': [ObjectId('5e8d98759c69d718046f4ae3'),\n",
      "                         ObjectId('5e8d98759c69d718046f4ae4')],\n",
      "             'tableorders': [],\n",
      "             'users': []},\n",
      "            {'_id': ObjectId('5e8d98739c69d718046f4acf'),\n",
      "             'assistance_reqs': [],\n",
      "             'name': 'table2',\n",
      "             'nofusers': 0,\n",
      "             'seats': 6,\n",
      "             'servers': [ObjectId('5e8d98759c69d718046f4ae3'),\n",
      "                         ObjectId('5e8d98759c69d718046f4ae4')],\n",
      "             'tableorders': [],\n",
      "             'users': []},\n",
      "            {'_id': ObjectId('5e8d98739c69d718046f4ad0'),\n",
      "             'assistance_reqs': [],\n",
      "             'name': 'table3',\n",
      "             'nofusers': 5,\n",
      "             'seats': 6,\n",
      "             'servers': [ObjectId('5e8d98759c69d718046f4ae3'),\n",
      "                         ObjectId('5e8d98759c69d718046f4ae4')],\n",
      "             'tableorders': [],\n",
      "             'users': [ObjectId('5e8d98739c69d718046f4adf'),\n",
      "                       ObjectId('5e8d98739c69d718046f4ae0'),\n",
      "                       ObjectId('5e8d98739c69d718046f4ae1'),\n",
      "                       ObjectId('5e8d98739c69d718046f4ae2'),\n",
      "                       ObjectId('5e8d98739c69d718046f4ade')]},\n",
      "            {'_id': ObjectId('5e8d98739c69d718046f4ad1'),\n",
      "             'assistance_reqs': [],\n",
      "             'name': 'table4',\n",
      "             'nofusers': 0,\n",
      "             'seats': 6,\n",
      "             'servers': [ObjectId('5e8d98759c69d718046f4ae5'),\n",
      "                         ObjectId('5e8d98759c69d718046f4ae6')],\n",
      "             'tableorders': [],\n",
      "             'users': []},\n",
      "            {'_id': ObjectId('5e8d98739c69d718046f4ad2'),\n",
      "             'assistance_reqs': [],\n",
      "             'name': 'table5',\n",
      "             'nofusers': 0,\n",
      "             'seats': 6,\n",
      "             'servers': [ObjectId('5e8d98759c69d718046f4ae5'),\n",
      "                         ObjectId('5e8d98759c69d718046f4ae6')],\n",
      "             'tableorders': [],\n",
      "             'users': []},\n",
      "            {'_id': ObjectId('5e8d98739c69d718046f4ad3'),\n",
      "             'assistance_reqs': [],\n",
      "             'name': 'table6',\n",
      "             'nofusers': 0,\n",
      "             'seats': 6,\n",
      "             'servers': [ObjectId('5e8d98759c69d718046f4ae5'),\n",
      "                         ObjectId('5e8d98759c69d718046f4ae6')],\n",
      "             'tableorders': [],\n",
      "             'users': []},\n",
      "            {'_id': ObjectId('5e8d98739c69d718046f4ad4'),\n",
      "             'assistance_reqs': [],\n",
      "             'name': 'table7',\n",
      "             'nofusers': 0,\n",
      "             'seats': 6,\n",
      "             'servers': [ObjectId('5e8d98759c69d718046f4ae7'),\n",
      "                         ObjectId('5e8d98759c69d718046f4ae8')],\n",
      "             'tableorders': [],\n",
      "             'users': []},\n",
      "            {'_id': ObjectId('5e8d98739c69d718046f4ad5'),\n",
      "             'assistance_reqs': [],\n",
      "             'name': 'table8',\n",
      "             'nofusers': 0,\n",
      "             'seats': 6,\n",
      "             'servers': [ObjectId('5e8d98759c69d718046f4ae7'),\n",
      "                         ObjectId('5e8d98759c69d718046f4ae8')],\n",
      "             'tableorders': [],\n",
      "             'users': []},\n",
      "            {'_id': ObjectId('5e8d98739c69d718046f4ad6'),\n",
      "             'assistance_reqs': [],\n",
      "             'name': 'table9',\n",
      "             'nofusers': 0,\n",
      "             'seats': 6,\n",
      "             'servers': [ObjectId('5e8d98759c69d718046f4ae7'),\n",
      "                         ObjectId('5e8d98759c69d718046f4ae8')],\n",
      "             'tableorders': [],\n",
      "             'users': []},\n",
      "            {'_id': ObjectId('5e8d98739c69d718046f4ad7'),\n",
      "             'assistance_reqs': [],\n",
      "             'name': 'table10',\n",
      "             'nofusers': 0,\n",
      "             'seats': 6,\n",
      "             'servers': [ObjectId('5e8d98759c69d718046f4ae9'),\n",
      "                         ObjectId('5e8d98769c69d718046f4aea')],\n",
      "             'tableorders': [],\n",
      "             'users': []},\n",
      "            {'_id': ObjectId('5e8d98739c69d718046f4ad8'),\n",
      "             'assistance_reqs': [],\n",
      "             'name': 'table11',\n",
      "             'nofusers': 0,\n",
      "             'seats': 6,\n",
      "             'servers': [ObjectId('5e8d98759c69d718046f4ae9'),\n",
      "                         ObjectId('5e8d98769c69d718046f4aea')],\n",
      "             'tableorders': [],\n",
      "             'users': []},\n",
      "            {'_id': ObjectId('5e8d98739c69d718046f4ad9'),\n",
      "             'assistance_reqs': [],\n",
      "             'name': 'table12',\n",
      "             'nofusers': 0,\n",
      "             'seats': 6,\n",
      "             'servers': [ObjectId('5e8d98759c69d718046f4ae9'),\n",
      "                         ObjectId('5e8d98769c69d718046f4aea')],\n",
      "             'tableorders': [],\n",
      "             'users': []},\n",
      "            {'_id': ObjectId('5e8d98739c69d718046f4ada'),\n",
      "             'assistance_reqs': [],\n",
      "             'name': 'table13',\n",
      "             'nofusers': 0,\n",
      "             'seats': 6,\n",
      "             'servers': [ObjectId('5e8d98769c69d718046f4aeb'),\n",
      "                         ObjectId('5e8d98769c69d718046f4aec')],\n",
      "             'tableorders': [],\n",
      "             'users': []},\n",
      "            {'_id': ObjectId('5e8d98739c69d718046f4adb'),\n",
      "             'assistance_reqs': [],\n",
      "             'name': 'table14',\n",
      "             'nofusers': 0,\n",
      "             'seats': 6,\n",
      "             'servers': [ObjectId('5e8d98769c69d718046f4aeb'),\n",
      "                         ObjectId('5e8d98769c69d718046f4aec')],\n",
      "             'tableorders': [],\n",
      "             'users': []},\n",
      "            {'_id': ObjectId('5e8d98739c69d718046f4adc'),\n",
      "             'assistance_reqs': [],\n",
      "             'name': 'table15',\n",
      "             'nofusers': 0,\n",
      "             'seats': 6,\n",
      "             'servers': [ObjectId('5e8d98769c69d718046f4aeb'),\n",
      "                         ObjectId('5e8d98769c69d718046f4aec')],\n",
      "             'tableorders': [],\n",
      "             'users': []}]}\n"
     ]
    }
   ],
   "source": [
    "pprint(json_util.loads(Restaurant.objects.exclude('menu','servers')[0].to_json()))"
   ]
  },
  {
   "cell_type": "code",
   "execution_count": 217,
   "metadata": {
    "hidden": true,
    "scrolled": true
   },
   "outputs": [
    {
     "data": {
      "text/plain": [
       "[<Restaurant: Restaurant object>]"
      ]
     },
     "execution_count": 217,
     "metadata": {},
     "output_type": "execute_result"
    }
   ],
   "source": [
    "Restaurant.objects.exclude('menu')"
   ]
  },
  {
   "cell_type": "code",
   "execution_count": 45,
   "metadata": {
    "collapsed": true,
    "hidden": true
   },
   "outputs": [
    {
     "name": "stdout",
     "output_type": "stream",
     "text": [
      "{'_id': ObjectId('5e89cfb20806f415e7b830b9'),\n",
      " 'orders': [{'_id': ObjectId('5e89cfb10806f415e7b830b8'),\n",
      "             'foodlist': [{'description': 'Cottage Cheese Cooked In Spinach '\n",
      "                                          'Puree, Tempered Cumin And Ginger '\n",
      "                                          'Garlic Paste',\n",
      "                           'food_id': '5e89c5079c69d718046f4600',\n",
      "                           'instructions': 'Cook with love',\n",
      "                           'name': 'PALAK PANEER',\n",
      "                           'price': '260',\n",
      "                           'quantity': 1,\n",
      "                           'status': 'completed'},\n",
      "                          {'description': 'Double Chicken, Double Cheese And '\n",
      "                                          'Topped With A Sunny Side Up Fried '\n",
      "                                          'Egg, Served With Fries',\n",
      "                           'food_id': '5e89c5079c69d718046f45dd',\n",
      "                           'instructions': 'no',\n",
      "                           'name': 'HOC BURGER- THE BIG ONE',\n",
      "                           'price': '350',\n",
      "                           'quantity': 1,\n",
      "                           'status': 'completed'},\n",
      "                          {'description': 'Mouth Melting Paneer Cubes '\n",
      "                                          'Marinated With A Cheese Curd '\n",
      "                                          'Mixture, Cream And Mild Spices',\n",
      "                           'food_id': '5e89c5079c69d718046f45a7',\n",
      "                           'instructions': 'Cook with love',\n",
      "                           'name': 'MAKHMALI PANEER TIKKA',\n",
      "                           'price': '270',\n",
      "                           'quantity': 1,\n",
      "                           'status': 'completed'}],\n",
      "             'placedby': ObjectId('5e89c5089c69d718046f4632'),\n",
      "             'status': 'completed'},\n",
      "            {'_id': ObjectId('5e89cfb20806f415e7b830ba'),\n",
      "             'foodlist': [{'description': 'Clay Oven Roasted Chicken '\n",
      "                                          'Drumsticks',\n",
      "                           'food_id': '5e89c5079c69d718046f45bd',\n",
      "                           'instructions': 'Cook with love',\n",
      "                           'name': 'KALMI KEBAB (3pcs)',\n",
      "                           'price': '260',\n",
      "                           'quantity': 2,\n",
      "                           'status': 'completed'},\n",
      "                          {'description': 'Chicken Tikka With Shallots, '\n",
      "                                          'Capers, Charred Peppers, Kalamata '\n",
      "                                          'Olives & Sweet Chilli Treacle',\n",
      "                           'food_id': '5e89c5079c69d718046f45f1',\n",
      "                           'instructions': 'Cook with love',\n",
      "                           'name': 'TANDOORI MURGH TIKKA WITH KALAMATA OLIVES',\n",
      "                           'price': '380',\n",
      "                           'quantity': 1,\n",
      "                           'status': 'completed'},\n",
      "                          {'description': 'Clay Oven Roasted Spicy Morsels Of '\n",
      "                                          'Chicken',\n",
      "                           'food_id': '5e89c5079c69d718046f45be',\n",
      "                           'instructions': 'Cook with love',\n",
      "                           'name': 'ANGARI MURGH TIKKA',\n",
      "                           'price': '260',\n",
      "                           'quantity': 2,\n",
      "                           'status': 'completed'},\n",
      "                          {'description': 'Extra Crispy Onion Rings With A '\n",
      "                                          'Spicy Salsa',\n",
      "                           'food_id': '5e89c5079c69d718046f459b',\n",
      "                           'instructions': 'Cook with love',\n",
      "                           'name': 'ONION RINGS',\n",
      "                           'price': '190',\n",
      "                           'quantity': 3,\n",
      "                           'status': 'completed'}],\n",
      "             'placedby': ObjectId('5e89c5089c69d718046f4630'),\n",
      "             'status': 'completed'}],\n",
      " 'status': 'completed',\n",
      " 'table': 'table11',\n",
      " 'timestamp': '2020-04-05 18:01:46.351000'}\n"
     ]
    }
   ],
   "source": [
    "pprint(json_util.loads(TableOrder.objects[0].to_json()))"
   ]
  },
  {
   "cell_type": "code",
   "execution_count": 2169,
   "metadata": {
    "code_folding": [
     0
    ],
    "hidden": true
   },
   "outputs": [],
   "source": [
    "if(0):\n",
    "    order=Order.objects.get(id='5e8097106a2fad6b020c61d4')\n",
    "\n",
    "    order.update(pull__foodlist__food_id=FoodItemMod(food_id='5e7f298b6a2fad6b020c6033').food_id)\n",
    "\n",
    "    Order.objects.get(id='5e8097106a2fad6b020c61d4').update(push__foodlist=FoodItemMod.from_json(json_util.dumps(food)))\n",
    "\n",
    "    food=json_util.loads(Order.objects.get(id='5e8097106a2fad6b020c61d4').fetch_fooditem('5e7f298b6a2fad6b020c6033'))\n",
    "\n",
    "    food['status']='completed'\n",
    "\n",
    "\n",
    "    food"
   ]
  },
  {
   "cell_type": "code",
   "execution_count": 2186,
   "metadata": {
    "collapsed": true,
    "hidden": true
   },
   "outputs": [
    {
     "data": {
      "text/plain": [
       "{'_id': ObjectId('5e8097116a2fad6b020c61d8'),\n",
       " 'placedby': ObjectId('5e7f298d6a2fad6b020c6053'),\n",
       " 'foodlist': [{'food_id': '5e7f298b6a2fad6b020c5ff7',\n",
       "   'name': 'CHEESE DYNABITES',\n",
       "   'description': 'Classic Cheese Balls Served with New Orleans Dip',\n",
       "   'price': '220',\n",
       "   'instructions': 'no',\n",
       "   'quantity': 2,\n",
       "   'status': 'cooking'},\n",
       "  {'food_id': '5e7f298b6a2fad6b020c5ffb',\n",
       "   'name': 'HOC SALAD (VEG)',\n",
       "   'description': 'Melange Of Crunchy Lettuce, Bell Peppers And Olives With Our Homemade Dressing',\n",
       "   'price': '180',\n",
       "   'instructions': 'Cook with love',\n",
       "   'quantity': 2,\n",
       "   'status': 'completed'},\n",
       "  {'food_id': '5e7f298b6a2fad6b020c6020',\n",
       "   'name': 'JIANG CHILLI CHICKEN',\n",
       "   'description': 'Chicken Tossed With Shredded Ginger And Chilli In Jiang Style',\n",
       "   'price': '260',\n",
       "   'instructions': 'no',\n",
       "   'quantity': 1,\n",
       "   'status': 'completed'}],\n",
       " 'status': 'pending'}"
      ]
     },
     "execution_count": 2186,
     "metadata": {},
     "output_type": "execute_result"
    }
   ],
   "source": [
    "json_util.loads(Order.objects.get(id=status_tuple[1]).to_json())"
   ]
  },
  {
   "cell_type": "markdown",
   "metadata": {
    "heading_collapsed": true
   },
   "source": [
    "# Consolidating"
   ]
  },
  {
   "cell_type": "markdown",
   "metadata": {
    "heading_collapsed": true,
    "hidden": true
   },
   "source": [
    "## Pages to DF"
   ]
  },
  {
   "cell_type": "code",
   "execution_count": 21,
   "metadata": {
    "hidden": true
   },
   "outputs": [],
   "source": [
    "half_the_menu=[]\n",
    "\n",
    "for i in range(6):\n",
    "    half_the_menu.append(pages[i])\n",
    "\n",
    "half_menu_text=\"\\n\\n\".join(half_the_menu)"
   ]
  },
  {
   "cell_type": "code",
   "execution_count": 22,
   "metadata": {
    "hidden": true
   },
   "outputs": [],
   "source": [
    "str_menu = pd.DataFrame(columns=['sub_category','name','description','price'])"
   ]
  },
  {
   "cell_type": "code",
   "execution_count": 23,
   "metadata": {
    "hidden": true
   },
   "outputs": [],
   "source": [
    "description=dish_name=price=subcat=''\n",
    "counter=0\n",
    "for line in half_menu_text.split(\"\\n\\n\"):\n",
    "    if(re.search(\"^[\\$]\",line)):\n",
    "        subcat = line[1:].strip()\n",
    "    else:\n",
    "        if(counter%3==0):\n",
    "            dish_name = line.strip()\n",
    "        elif(counter%3==1):\n",
    "            description = line.strip()\n",
    "        elif(counter%3==2):\n",
    "            price = line.strip()\n",
    "            str_menu.loc[str_menu.shape[0]]=[subcat,dish_name,description,price]\n",
    "        counter+=1"
   ]
  },
  {
   "cell_type": "markdown",
   "metadata": {
    "heading_collapsed": true,
    "hidden": true
   },
   "source": [
    "## creating main categories"
   ]
  },
  {
   "cell_type": "code",
   "execution_count": 24,
   "metadata": {
    "hidden": true
   },
   "outputs": [],
   "source": [
    "main_category={\"BAR BITES\":\"BAR BITES\",\"SALADS\":\"SALADS\",\"VEG STARTERS\":\"VEG STARTERS\",\"CHICKEN STARTERS\":\"NON-VEG STARTERS\",\"LAMB STARTERS\":\"NON-VEG STARTERS\",\"EGG STARTERS\":\"NON-VEG STARTERS\",\"FROM THE GRILL\":\"NON-VEG STARTERS\",\"FROM THE CLAY OVEN\":\"CHANGE\"}"
   ]
  },
  {
   "cell_type": "code",
   "execution_count": 25,
   "metadata": {
    "hidden": true
   },
   "outputs": [],
   "source": [
    "str_menu.loc[:,\"main_category\"]=str_menu['sub_category'].apply(lambda x: main_category[x])"
   ]
  },
  {
   "cell_type": "code",
   "execution_count": 26,
   "metadata": {
    "hidden": true
   },
   "outputs": [],
   "source": [
    "str_menu.loc[27,\"main_category\"]=\"VEG STARTERS\"\n",
    "\n",
    "str_menu.loc[28,\"main_category\"]=\"VEG STARTERS\"\n",
    "\n",
    "str_menu.loc[29,\"main_category\"]=\"VEG STARTERS\"\n",
    "\n",
    "str_menu.loc[30,\"main_category\"]=\"VEG STARTERS\""
   ]
  },
  {
   "cell_type": "code",
   "execution_count": 27,
   "metadata": {
    "hidden": true
   },
   "outputs": [],
   "source": [
    "str_menu.loc[str_menu['main_category']=='CHANGE',\"main_category\"]=\"NON-VEG STARTERS\""
   ]
  },
  {
   "cell_type": "code",
   "execution_count": 28,
   "metadata": {
    "hidden": true,
    "scrolled": true
   },
   "outputs": [
    {
     "data": {
      "text/plain": [
       "Index(['sub_category', 'name', 'description', 'price', 'main_category'], dtype='object')"
      ]
     },
     "execution_count": 28,
     "metadata": {},
     "output_type": "execute_result"
    }
   ],
   "source": [
    "str_menu.columns"
   ]
  },
  {
   "cell_type": "code",
   "execution_count": 30,
   "metadata": {
    "hidden": true
   },
   "outputs": [],
   "source": [
    "str_menu=str_menu[['main_category','sub_category', 'name', 'description', 'price']]"
   ]
  },
  {
   "cell_type": "markdown",
   "metadata": {
    "heading_collapsed": true,
    "hidden": true
   },
   "source": [
    "## Taking care of multiple prices"
   ]
  },
  {
   "cell_type": "code",
   "execution_count": 44,
   "metadata": {
    "hidden": true
   },
   "outputs": [],
   "source": [
    "lengths = str_menu['price'].str.split('/').map(len)\n",
    "\n",
    "str_menu = pd.DataFrame({'main_category': np.repeat(str_menu['main_category'], lengths),\n",
    "                    'sub_category': np.repeat(str_menu['sub_category'], lengths),\n",
    "                    'name': np.repeat(str_menu['name'],lengths),\n",
    "                    'description': np.repeat(str_menu['description'],lengths),\n",
    "                    'price': chainer(str_menu['price'])})\n",
    "\n",
    "str_menu.reset_index(inplace=True,drop=True)\n",
    "\n",
    "str_menu.loc[45,'price']=\"250\"\n",
    "\n",
    "pickle.dump(str_menu,open('half_menu_main.pkl','wb'))\n",
    "\n",
    "str_menu=pickle.load(open('half_menu_main.pkl','rb'))"
   ]
  },
  {
   "cell_type": "markdown",
   "metadata": {
    "heading_collapsed": true,
    "hidden": true
   },
   "source": [
    "## COnverting into json"
   ]
  },
  {
   "cell_type": "code",
   "execution_count": 33,
   "metadata": {
    "hidden": true
   },
   "outputs": [],
   "source": [
    "final_list_json=[]"
   ]
  },
  {
   "cell_type": "code",
   "execution_count": 35,
   "metadata": {
    "hidden": true
   },
   "outputs": [],
   "source": [
    "\n",
    "for n,main_cat_name in enumerate(str_menu.loc[:,'main_category'].unique()):\n",
    "    final_list_json.append({})\n",
    "    final_list_json[n]['name']=main_cat_name\n",
    "    final_list_json[n]['description'] = ''\n",
    "    final_list_json[n]['sub_category'] = []\n",
    "    for p,sub_cat_name in enumerate(str_menu[str_menu['main_category'].loc[:'sub_category']==main_cat_name].loc[:,'sub_category'].unique()):\n",
    "        final_list_json[n]['sub_category'].append({})\n",
    "        final_list_json[n]['sub_category'][p]['name']=sub_cat_name\n",
    "        final_list_json[n]['sub_category'][p]['description']=''\n",
    "        final_list_json[n]['sub_category'][p]['priority']=''\n",
    "        final_list_json[n]['sub_category'][p]['foodlist']=[]\n",
    "        for q,food_dict in enumerate(str_menu[str_menu['main_category'].loc[:'sub_category']==main_cat_name][str_menu[str_menu['main_category'].loc[:'sub_category']==main_cat_name].loc[:,'sub_category']==sub_cat_name].iterrows()):\n",
    "            final_list_json[n]['sub_category'][p]['foodlist'].append({})\n",
    "            final_list_json[n]['sub_category'][p]['foodlist'][q]['name']= food_dict[1]['name']\n",
    "            final_list_json[n]['sub_category'][p]['foodlist'][q]['description']=food_dict[1]['description']\n",
    "            final_list_json[n]['sub_category'][p]['foodlist'][q]['price']=food_dict[1]['price']\n",
    "        \n",
    "        "
   ]
  },
  {
   "cell_type": "code",
   "execution_count": 4,
   "metadata": {
    "hidden": true
   },
   "outputs": [],
   "source": [
    "str_menu=pickle.load(open('half_menu_main.pkl','rb'))"
   ]
  },
  {
   "cell_type": "code",
   "execution_count": 9,
   "metadata": {
    "hidden": true
   },
   "outputs": [],
   "source": [
    "from pprint import pprint"
   ]
  },
  {
   "cell_type": "code",
   "execution_count": 1,
   "metadata": {
    "hidden": true,
    "scrolled": true
   },
   "outputs": [
    {
     "ename": "NameError",
     "evalue": "name 'Restaurant' is not defined",
     "output_type": "error",
     "traceback": [
      "\u001b[0;31m---------------------------------------------------------------------------\u001b[0m",
      "\u001b[0;31mNameError\u001b[0m                                 Traceback (most recent call last)",
      "\u001b[0;32m<ipython-input-1-49ae841a5331>\u001b[0m in \u001b[0;36m<module>\u001b[0;34m\u001b[0m\n\u001b[0;32m----> 1\u001b[0;31m \u001b[0mjson\u001b[0m\u001b[0;34m.\u001b[0m\u001b[0mload\u001b[0m\u001b[0;34m(\u001b[0m\u001b[0mRestaurant\u001b[0m\u001b[0;34m.\u001b[0m\u001b[0mobjects\u001b[0m\u001b[0;34m[\u001b[0m\u001b[0;36m0\u001b[0m\u001b[0;34m]\u001b[0m\u001b[0;34m.\u001b[0m\u001b[0mto_json\u001b[0m\u001b[0;34m(\u001b[0m\u001b[0;34m)\u001b[0m\u001b[0;34m)\u001b[0m\u001b[0;34m\u001b[0m\u001b[0;34m\u001b[0m\u001b[0m\n\u001b[0m",
      "\u001b[0;31mNameError\u001b[0m: name 'Restaurant' is not defined"
     ]
    }
   ],
   "source": [
    "json.load(Restaurant.objects[0].to_json())"
   ]
  },
  {
   "cell_type": "markdown",
   "metadata": {
    "heading_collapsed": true
   },
   "source": [
    "# js.data"
   ]
  },
  {
   "cell_type": "code",
   "execution_count": 17,
   "metadata": {
    "hidden": true
   },
   "outputs": [],
   "source": [
    "pickle.dump(final_json,open('jason.pkl','wb'))"
   ]
  },
  {
   "cell_type": "code",
   "execution_count": 11,
   "metadata": {
    "hidden": true
   },
   "outputs": [],
   "source": [
    "pickle.dump(final_list_json,open('jason.pkl','wb'))"
   ]
  }
 ],
 "metadata": {
  "kernelspec": {
   "display_name": "Python 3",
   "language": "python",
   "name": "python3"
  },
  "language_info": {
   "codemirror_mode": {
    "name": "ipython",
    "version": 3
   },
   "file_extension": ".py",
   "mimetype": "text/x-python",
   "name": "python",
   "nbconvert_exporter": "python",
   "pygments_lexer": "ipython3",
   "version": "3.7.4"
  }
 },
 "nbformat": 4,
 "nbformat_minor": 4
}
