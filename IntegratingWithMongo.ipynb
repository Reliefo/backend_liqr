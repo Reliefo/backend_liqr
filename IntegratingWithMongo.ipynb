{
 "cells": [
  {
   "cell_type": "code",
   "execution_count": 112,
   "metadata": {
    "scrolled": true
   },
   "outputs": [],
   "source": [
    "import numpy as np\n",
    "import pandas as pd\n",
    "import re\n",
    "import pickle\n",
    "from pprint import pprint\n",
    "import datetime\n",
    "\n",
    "pd.set_option('display.max_rows', 500)\n",
    "pd.set_option('display.max_columns', 500)\n",
    "pd.set_option('display.width', 1000)\n",
    "\n",
    "import json\n",
    "data = json.loads('{\"one\" : \"1\", \"two\" : \"2\", \"three\" : \"3\"}')\n",
    "\n",
    "from bson import json_util\n",
    "\n",
    "from mongoengine import *"
   ]
  },
  {
   "cell_type": "code",
   "execution_count": 55,
   "metadata": {},
   "outputs": [],
   "source": [
    "from flask import Flask,jsonify, request, send_from_directory, url_for\n",
    "app = Flask(__name__)\n",
    "import pickle\n",
    "import numpy as np\n",
    "from itertools import chain"
   ]
  },
  {
   "cell_type": "code",
   "execution_count": 56,
   "metadata": {},
   "outputs": [],
   "source": [
    "conn = connect(\"local\",host=\"mongodb://localhost:27017\",alias='default')\n",
    "\n",
    "if(0):\n",
    "    disconnect('mongo://mongo:27017')"
   ]
  },
  {
   "cell_type": "code",
   "execution_count": 57,
   "metadata": {},
   "outputs": [],
   "source": [
    "str_menu=pickle.load(open('half_menu_main.pkl','rb'))\n",
    "if(0):\n",
    "    pickle.dump(str_menu,open('half_menu_main.pkl','wb'))\n",
    "restautant_id = 'BNGHSR0001'\n",
    "\n",
    "final_list_json=[]"
   ]
  },
  {
   "cell_type": "code",
   "execution_count": 58,
   "metadata": {},
   "outputs": [],
   "source": [
    "def chainer(string):\n",
    "    return list(chain.from_iterable(string.str.split('/')))\n",
    "\n",
    "def str_2(number):\n",
    "    string = str(number)\n",
    "    if(len(string)==1):\n",
    "        return '0'+string\n",
    "    else:\n",
    "        return string"
   ]
  },
  {
   "cell_type": "code",
   "execution_count": 59,
   "metadata": {},
   "outputs": [],
   "source": [
    "\n",
    "for n,main_cat_name in enumerate(str_menu.loc[:,'main_category'].unique()):\n",
    "    final_list_json.append({})\n",
    "    final_list_json[n]['name']=main_cat_name\n",
    "    final_list_json[n]['description'] = ''\n",
    "    final_list_json[n]['sub_category'] = []\n",
    "    for p,sub_cat_name in enumerate(str_menu[str_menu['main_category'].loc[:'sub_category']==main_cat_name].loc[:,'sub_category'].unique()):\n",
    "        final_list_json[n]['sub_category'].append({})\n",
    "        final_list_json[n]['sub_category'][p]['name']=sub_cat_name\n",
    "        final_list_json[n]['sub_category'][p]['description']=''\n",
    "        final_list_json[n]['sub_category'][p]['priority']=''\n",
    "        final_list_json[n]['sub_category'][p]['foodlist']=[]\n",
    "        for q,food_dict in enumerate(str_menu[str_menu['main_category'].loc[:'sub_category']==main_cat_name][str_menu[str_menu['main_category'].loc[:'sub_category']==main_cat_name].loc[:,'sub_category']==sub_cat_name].iterrows()):\n",
    "            final_list_json[n]['sub_category'][p]['foodlist'].append({})\n",
    "            final_list_json[n]['sub_category'][p]['foodlist'][q]['name']= food_dict[1]['name']\n",
    "            final_list_json[n]['sub_category'][p]['foodlist'][q]['description']=food_dict[1]['description']\n",
    "            final_list_json[n]['sub_category'][p]['foodlist'][q]['price']=food_dict[1]['price']\n",
    "        "
   ]
  },
  {
   "cell_type": "code",
   "execution_count": 1342,
   "metadata": {},
   "outputs": [],
   "source": [
    "\n",
    "class TableOrder(Document):\n",
    "    pass\n",
    "\n",
    "\n",
    "class User(Document):\n",
    "    dine_in_history = DynamicField()\n",
    "    current_table_id = StringField()\n",
    "    personal_cart = ListField(ReferenceField(TableOrder))\n",
    "    meta = {'allow_inheritance': True}\n",
    "\n",
    "\n",
    "class TempUser(User):\n",
    "    pass\n",
    "\n",
    "\n",
    "class RegisteredUser(User):\n",
    "    name = StringField(required=True)\n",
    "    email_id = StringField(required=True)\n",
    "    phone_no = StringField()\n",
    "    tempuser_ob = ReferenceField(TempUser)\n",
    "\n",
    "\n",
    "class TempUser(User):\n",
    "    unique_id = StringField(required=True)\n",
    "    reguser_ob = ReferenceField(RegisteredUser)\n",
    "\n",
    "\n",
    "class Assistance(Document):\n",
    "    pass\n",
    "\n",
    "\n",
    "class Server(Document):\n",
    "    name = StringField()\n",
    "    assistance_history = MapField(ListField(ReferenceField(Assistance)))\n",
    "    order_history = MapField(ListField(ReferenceField(TableOrder)))\n",
    "\n",
    "\n",
    "class Assistance(Document):\n",
    "    types = ['water', 'help', 'cutlery', 'tissue', 'cleaning', 'menu', 'ketchup']\n",
    "    table = StringField()\n",
    "    user = ReferenceField(User)\n",
    "    assistance_type = StringField(choices=types)\n",
    "    timestamp = DateTimeField()\n",
    "    accepted_by = ReferenceField(Server, default=None)\n",
    "    meta = {'strict': False}\n",
    "\n",
    "    def to_json(self):\n",
    "        data = self.to_mongo()\n",
    "        data['timestamp'] = str(data['timestamp'])\n",
    "        data['table'] = Table.objects(assistance_reqs__in=[self.id])[0].name\n",
    "        return json_util.dumps(data)\n",
    "\n",
    "\n",
    "class FoodOptionsMod(EmbeddedDocument):\n",
    "    size_field = DictField()\n",
    "\n",
    "\n",
    "class FoodItemMod(EmbeddedDocument):\n",
    "    name = StringField()\n",
    "    description = StringField()\n",
    "    price = StringField()\n",
    "    instructions = StringField()\n",
    "    foodoptions = EmbeddedDocumentField(FoodOptionsMod)\n",
    "\n",
    "\n",
    "class Order(EmbeddedDocument):\n",
    "    placedby = ReferenceField(User)\n",
    "    foodlist = MapField(EmbeddedDocumentField(FoodItemMod))\n",
    "\n",
    "\n",
    "class TableOrder(Document):\n",
    "    table =StringField()\n",
    "    orders = ListField(EmbeddedDocumentField(Order))\n",
    "    timestamp = DateTimeField(default=datetime.datetime.now())\n",
    "\n",
    "    def to_json(self):\n",
    "        data = self.to_mongo()\n",
    "        data['timestamp'] = str(data['timestamp'])\n",
    "        return json_util.dumps(data)\n",
    "\n",
    "\n",
    "class Table(Document):\n",
    "    name = StringField(required=True)\n",
    "    seats = IntField(required=True)\n",
    "    servers = ListField(ReferenceField(Server))\n",
    "    users = ListField(ReferenceField(User))\n",
    "    nofusers = IntField()\n",
    "    tableorders = ListField(ReferenceField(TableOrder))\n",
    "    assistance_reqs = ListField(ReferenceField(Assistance))\n",
    "    meta = {'strict': False}\n",
    "\n",
    "\n",
    "class FoodOptions(DynamicDocument):\n",
    "    size_field = DictField()\n",
    "    best_paired_with = ListField(StringField())\n",
    "\n",
    "\n",
    "class FoodItem(Document):\n",
    "    name = StringField(required=True)\n",
    "    description = StringField(required=True)\n",
    "    price = StringField(required=True)\n",
    "    foodoptions = ReferenceField(FoodOptions)\n",
    "\n",
    "    def to_mymongo(self):\n",
    "        data = self.to_mongo()\n",
    "        if (self.foodoptions):\n",
    "            data['foodoptions'] = self.foodoptions.to_mongo()\n",
    "\n",
    "        return data\n",
    "\n",
    "    def to_json(self):\n",
    "        data = self.to_mongo()\n",
    "        if (self.foodoptions):\n",
    "            data['foodoptions'] = self.foodoptions.to_mongo()\n",
    "\n",
    "        return json_util.dumps(data)\n",
    "\n",
    "\n",
    "class SubCategory(Document):\n",
    "    name = StringField(required=True)\n",
    "    description = StringField(required=True)\n",
    "    foodlist = ListField(ReferenceField(FoodItem), required=True)\n",
    "\n",
    "    def to_mymongo(self):\n",
    "        data = self.to_mongo()\n",
    "        for key, fooditem in enumerate(self.foodlist):\n",
    "            data['foodlist'][key] = self.foodlist[key].to_mymongo()\n",
    "\n",
    "        return data\n",
    "\n",
    "\n",
    "class MainCategory(Document):\n",
    "    name = StringField(required=True)\n",
    "    description = StringField(required=True)\n",
    "    sub_category = ListField(ReferenceField(SubCategory), required=True)\n",
    "\n",
    "    def to_mymongo(self):\n",
    "        data = self.to_mongo()\n",
    "        for key, sub_cat in enumerate(self.sub_category):\n",
    "            data['sub_category'][key] = self.sub_category[key].to_mymongo()\n",
    "\n",
    "        return data\n",
    "\n",
    "\n",
    "class Restaurant(Document):\n",
    "    name = StringField(required=True)\n",
    "    restaurant_id = StringField(required=True)\n",
    "    menu = ListField(ReferenceField(MainCategory), required=True)\n",
    "    address = StringField()\n",
    "    tables = ListField(ReferenceField(Table))\n",
    "    servers = ListField(ReferenceField(Server))\n",
    "\n",
    "    def to_json(self):\n",
    "        data = self.to_mongo()\n",
    "        for key, sub_cat in enumerate(self.menu):\n",
    "            data['menu'][key] = self.menu[key].to_mymongo()\n",
    "\n",
    "        return json_util.dumps(data)\n"
   ]
  },
  {
   "cell_type": "markdown",
   "metadata": {},
   "source": [
    "# Generating data"
   ]
  },
  {
   "cell_type": "code",
   "execution_count": 1314,
   "metadata": {},
   "outputs": [],
   "source": [
    "if(1):\n",
    "    FoodItem.drop_collection()\n",
    "    SubCategory.drop_collection()\n",
    "    FoodOptions.drop_collection()\n",
    "    MainCategory.drop_collection()\n",
    "    Restaurant.drop_collection()\n",
    "    Table.drop_collection()\n",
    "    TempUser.drop_collection()\n",
    "    RegisteredUser.drop_collection()\n",
    "    Server.drop_collection()\n",
    "    Assistance.drop_collection()\n",
    "    TableOrder.drop_collection()\n",
    "    User.drop_collection()\n",
    "\n",
    "    main_cat_list = []\n",
    "    for p,main_cat in enumerate(final_list_json):\n",
    "        sub_cat_list = []\n",
    "        for q,sub_cat in enumerate(main_cat['sub_category']):\n",
    "            food_list = []\n",
    "            for r,food in enumerate(sub_cat['foodlist']):\n",
    "                food_list.append(FoodItem(name=food['name'],description = food['description'],price=food['price']).save())\n",
    "            sub_cat_list.append(SubCategory(name=sub_cat['name'],description=sub_cat['description'],foodlist = food_list).save())\n",
    "        main_cat_list.append(MainCategory(name=main_cat['name'],description = main_cat['description'],sub_category = sub_cat_list).save())\n",
    "\n",
    "    houseofcommons=Restaurant(name = 'House of Commons',restaurant_id='BNGHSR0001',menu = main_cat_list,address='')\n",
    "    houseofcommons.save()\n",
    "\n",
    "    FoodItem.objects.filter(name=\"TANDOORI MURGH (HALF/FULL)\")[0].update(set__foodoptions=FoodOptions(size_field={'HALF':'250','FULL':'480'}).save())\n",
    "\n",
    "    table_list=[]\n",
    "    for n in range(1,16):\n",
    "        table_list.append(Table(name='table'+str(n),seats = 6,nofusers=0).save().to_dbref())\n",
    "\n",
    "    Restaurant.objects[0].update(set__tables=table_list)"
   ]
  },
  {
   "cell_type": "code",
   "execution_count": 1315,
   "metadata": {},
   "outputs": [],
   "source": [
    "#RANDOM Functions\n",
    "def random_table():\n",
    "    return all_table_list[np.random.randint(len(all_table_list))]\n",
    "def random_user():\n",
    "    return user_list[np.random.randint(len(user_list))]\n",
    "def random_food():\n",
    "    return all_food_list[np.random.randint(len(all_food_list))]\n",
    "def random_food_list():\n",
    "    randomfl=[]\n",
    "    for i in range(np.random.randint(2,9)):\n",
    "        randomfl.append(random_food())\n",
    "    return randomfl"
   ]
  },
  {
   "cell_type": "code",
   "execution_count": 1316,
   "metadata": {},
   "outputs": [
    {
     "data": {
      "text/plain": [
       "1"
      ]
     },
     "execution_count": 1316,
     "metadata": {},
     "output_type": "execute_result"
    }
   ],
   "source": [
    "akshay = TempUser(unique_id = \"hfirnivnhhwocn34534no34n34r\")\n",
    "\n",
    "akshay.save()\n",
    "\n",
    "RegisteredUser(name='Akshay',email_id='akshay.dn5@gmail.com',phone_no='8660961089').save()\n",
    "\n",
    "RegisteredUser.objects(name='Akshay',email_id='akshay.dn5@gmail.com',phone_no='8660961089').update(set__tempuser_ob=akshay.to_dbref())"
   ]
  },
  {
   "cell_type": "code",
   "execution_count": 1317,
   "metadata": {},
   "outputs": [],
   "source": [
    "def user_scan(table_id,unique_id,email_id='dud'):\n",
    "    scanned_table=Table.objects.get(id=table_id)\n",
    "    if(email_id=='dud'):\n",
    "        tempuser = TempUser.objects.filter(unique_id=unique_id)\n",
    "        if(len(tempuser)>0):\n",
    "            tempuser[0].update(set__current_table_id=str(scanned_table.id))\n",
    "            scanned_table.update(push__users=tempuser[0].to_dbref())\n",
    "        else:\n",
    "            tempuser= TempUser(unique_id=unique_id,current_table_id=str(scanned_table.id)).save()\n",
    "            scanned_table.update(push__users=tempuser.to_dbref())\n",
    "        scanned_table.update(inc__nofusers=1)\n",
    "    else:\n",
    "        reg_user=RegisteredUser.objects.filter(email_id=email_id)[0]\n",
    "        scanned_table.update(push__users=reg_user)\n",
    "        reg_user.update(set__current_table_id=str(scanned_table.id))\n",
    "        scanned_table.update(inc__nofusers=1)"
   ]
  },
  {
   "cell_type": "code",
   "execution_count": 1318,
   "metadata": {
    "scrolled": true
   },
   "outputs": [],
   "source": [
    "user_scan(str(table_list[2].id),'hidnfvidfkvmsdmv')\n",
    "\n",
    "user_scan(str(table_list[2].id),'hidnfvidvdff1kvmsadmv')\n",
    "\n",
    "user_scan(str(table_list[2].id),'hidnfvidvdffaskvmsadmv')\n",
    "\n",
    "user_scan(str(table_list[2].id),'hidnfvidvdffvf1kvmsadmv')\n",
    "\n",
    "user_scan(str(table_list[2].id),'',email_id='akshay.dn5@gmail.com')"
   ]
  },
  {
   "cell_type": "code",
   "execution_count": 1319,
   "metadata": {},
   "outputs": [],
   "source": [
    "user_list=[]\n",
    "for obj in User.objects:\n",
    "    user_list.append(str(obj.id))\n",
    "\n",
    "all_table_list=[]\n",
    "for obj in Table.objects:\n",
    "    all_table_list.append(str(obj.id))\n",
    "    \n",
    "all_food_list=[]\n",
    "for obj in FoodItem.objects:\n",
    "    all_food_list.append(str(obj.id))"
   ]
  },
  {
   "cell_type": "code",
   "execution_count": 1320,
   "metadata": {},
   "outputs": [],
   "source": [
    "if(names):\n",
    "    pass\n",
    "else:\n",
    "    names=pickle.load(open('indian_names.pkl','rb'))\n",
    "    girls_name=names[0]\n",
    "    boys_name=names[1]"
   ]
  },
  {
   "cell_type": "code",
   "execution_count": 1321,
   "metadata": {},
   "outputs": [],
   "source": [
    "total = {}\n",
    "sers=[]\n",
    "tabs=[]\n",
    "for n,table in enumerate(Table.objects):\n",
    "#     print(math.floor(n/1.5))\n",
    "    sers.append(math.floor(n/1.5))\n",
    "    tabs.append(n)\n",
    "    if((n+1)%3==0):\n",
    "        total[tuple(set(sers))]=tabs\n",
    "        sers=[]\n",
    "        tabs=[]\n"
   ]
  },
  {
   "cell_type": "code",
   "execution_count": 1322,
   "metadata": {},
   "outputs": [],
   "source": [
    "if(1):#assiging tables to servers\n",
    "    for i in range(10):\n",
    "        if(i<5):\n",
    "            Server(name=girls_name[np.random.randint(len(girls_name))]).save()\n",
    "        else:\n",
    "            Server(name=boys_name[np.random.randint(len(boys_name))]).save()"
   ]
  },
  {
   "cell_type": "code",
   "execution_count": 1323,
   "metadata": {
    "scrolled": true
   },
   "outputs": [],
   "source": [
    "for key in total.keys():\n",
    "    for tab in total[key]:\n",
    "        Table.objects[tab].update(push__servers=Server.objects[key[0]].to_dbref())\n",
    "    \n",
    "    for tab in total[key]:\n",
    "        Table.objects[tab].update(push__servers=Server.objects[key[1]].to_dbref())"
   ]
  },
  {
   "cell_type": "markdown",
   "metadata": {},
   "source": [
    "# Otehrs"
   ]
  },
  {
   "cell_type": "code",
   "execution_count": 1344,
   "metadata": {},
   "outputs": [],
   "source": [
    "def generate_order():\n",
    "    input_order={}\n",
    "    input_order['table'] = random_table()\n",
    "    input_order['orders'] = []\n",
    "    for n in range(np.random.randint(1,5)):\n",
    "        input_order['orders'].append({})\n",
    "        input_order['orders'][n]['placedby']=random_user()\n",
    "        input_order['orders'][n]['foodlist'] = random_food_list()\n",
    "    return input_order\n",
    "\n",
    "def order_placement(input_order):\n",
    "    ordered_table = Table.objects.get(id=input_order['table'])\n",
    "    tableorder = TableOrder(table=ordered_table.name,timestamp=datetime.datetime.now())\n",
    "    for order in input_order['orders']:\n",
    "        foodlist={str(key):FoodItemMod.from_json(FoodItem.objects(id=foodid).exclude('id')[0].to_json()) for key,foodid in enumerate(order['foodlist'])}\n",
    "        tableorder.orders.append(Order(placedby=User.objects.get(id=order['placedby']).to_dbref(),foodlist=foodlist))\n",
    "        tableorder.timestamp=datetime.datetime.now()\n",
    "        tableorder.save()\n",
    "    ordered_table.update(push__tableorders=tableorder.to_dbref())\n",
    "\n",
    "def generate_asstype():\n",
    "    assist_input = {'table':random_table(),'user':random_user(),'assistancetype':Assistance.types[np.random.randint(len(Assistance.types))]}\n",
    "    return assist_input\n",
    "\n",
    "def assistance_req(assist_input):\n",
    "    curr_table=Table.objects.get(id=assist_input['table'])\n",
    "    curr_ass=Assistance(user = User.objects.get(id=assist_input['user']).to_dbref())\n",
    "    curr_ass.assistance_type=assist_input['assistancetype']\n",
    "    curr_ass.timestamp=datetime.datetime.now()\n",
    "    curr_ass.save()\n",
    "    curr_table.update(push__assistance_reqs=curr_ass.to_dbref())\n",
    "    return curr_ass\n",
    "\n",
    "def send_assistance_req(assist_id):\n",
    "    table=Table.objects(assistance_reqs__in=[assist_id])[0]\n",
    "    for server in table.servers:\n",
    "        if(np.random.randint(3)):\n",
    "            time.sleep(1)\n",
    "            Assistance.objects.get(id=assist_id).update(set__accepted_by=server.to_dbref())\n",
    "            return server.name\n",
    "    time.sleep(3)\n",
    "    for server in Server.objects:\n",
    "        if(np.random.randint(3)):\n",
    "            time.sleep(1)\n",
    "            Assistance.objects.get(id=assist_id).update(set__accepted_by=server.to_dbref())\n",
    "            return server.name"
   ]
  },
  {
   "cell_type": "code",
   "execution_count": 1334,
   "metadata": {},
   "outputs": [],
   "source": [
    "order_placement(generate_order())"
   ]
  },
  {
   "cell_type": "code",
   "execution_count": 1343,
   "metadata": {
    "scrolled": true
   },
   "outputs": [
    {
     "data": {
      "text/plain": [
       "'{\"_id\": {\"$oid\": \"5e7f2d4e6a2fad6b020c606f\"}, \"user\": {\"$oid\": \"5e7f298e6a2fad6b020c6056\"}, \"assistance_type\": \"tissue\", \"timestamp\": \"2020-03-28 16:26:14.139469\", \"table\": \"table11\"}'"
      ]
     },
     "execution_count": 1343,
     "metadata": {},
     "output_type": "execute_result"
    }
   ],
   "source": [
    "assistance_req(generate_asstype()).to_json()"
   ]
  },
  {
   "cell_type": "code",
   "execution_count": 1337,
   "metadata": {},
   "outputs": [
    {
     "data": {
      "text/plain": [
       "'table3 Kumari'"
      ]
     },
     "execution_count": 1337,
     "metadata": {},
     "output_type": "execute_result"
    }
   ],
   "source": [
    "send_assistance_req(str(assistance_req(generate_asstype()).id))"
   ]
  },
  {
   "cell_type": "markdown",
   "metadata": {
    "heading_collapsed": true
   },
   "source": [
    "# Flask shit"
   ]
  },
  {
   "cell_type": "code",
   "execution_count": 7,
   "metadata": {
    "collapsed": true,
    "hidden": true
   },
   "outputs": [
    {
     "name": "stderr",
     "output_type": "stream",
     "text": [
      "KeyboardInterrupt\n",
      "2020-03-25T10:51:57Z\n"
     ]
    },
    {
     "ename": "KeyboardInterrupt",
     "evalue": "",
     "output_type": "error",
     "traceback": [
      "\u001b[0;31m---------------------------------------------------------------------------\u001b[0m",
      "\u001b[0;31mKeyboardInterrupt\u001b[0m                         Traceback (most recent call last)",
      "\u001b[0;32m<ipython-input-7-0cdc163f1939>\u001b[0m in \u001b[0;36m<module>\u001b[0;34m\u001b[0m\n\u001b[1;32m     20\u001b[0m \u001b[0;34m\u001b[0m\u001b[0m\n\u001b[1;32m     21\u001b[0m \u001b[0;32mif\u001b[0m \u001b[0m__name__\u001b[0m \u001b[0;34m==\u001b[0m \u001b[0;34m'__main__'\u001b[0m\u001b[0;34m:\u001b[0m\u001b[0;34m\u001b[0m\u001b[0;34m\u001b[0m\u001b[0m\n\u001b[0;32m---> 22\u001b[0;31m     \u001b[0msocketio\u001b[0m\u001b[0;34m.\u001b[0m\u001b[0mrun\u001b[0m\u001b[0;34m(\u001b[0m\u001b[0mapp\u001b[0m\u001b[0;34m)\u001b[0m\u001b[0;34m\u001b[0m\u001b[0;34m\u001b[0m\u001b[0m\n\u001b[0m",
      "\u001b[0;32m~/miniconda3/lib/python3.7/site-packages/flask_socketio/__init__.py\u001b[0m in \u001b[0;36mrun\u001b[0;34m(self, app, host, port, **kwargs)\u001b[0m\n\u001b[1;32m    600\u001b[0m                 \u001b[0mrun_with_reloader\u001b[0m\u001b[0;34m(\u001b[0m\u001b[0mrun_server\u001b[0m\u001b[0;34m,\u001b[0m \u001b[0mextra_files\u001b[0m\u001b[0;34m=\u001b[0m\u001b[0mextra_files\u001b[0m\u001b[0;34m)\u001b[0m\u001b[0;34m\u001b[0m\u001b[0;34m\u001b[0m\u001b[0m\n\u001b[1;32m    601\u001b[0m             \u001b[0;32melse\u001b[0m\u001b[0;34m:\u001b[0m\u001b[0;34m\u001b[0m\u001b[0;34m\u001b[0m\u001b[0m\n\u001b[0;32m--> 602\u001b[0;31m                 \u001b[0mself\u001b[0m\u001b[0;34m.\u001b[0m\u001b[0mwsgi_server\u001b[0m\u001b[0;34m.\u001b[0m\u001b[0mserve_forever\u001b[0m\u001b[0;34m(\u001b[0m\u001b[0;34m)\u001b[0m\u001b[0;34m\u001b[0m\u001b[0;34m\u001b[0m\u001b[0m\n\u001b[0m\u001b[1;32m    603\u001b[0m \u001b[0;34m\u001b[0m\u001b[0m\n\u001b[1;32m    604\u001b[0m     \u001b[0;32mdef\u001b[0m \u001b[0mstop\u001b[0m\u001b[0;34m(\u001b[0m\u001b[0mself\u001b[0m\u001b[0;34m)\u001b[0m\u001b[0;34m:\u001b[0m\u001b[0;34m\u001b[0m\u001b[0;34m\u001b[0m\u001b[0m\n",
      "\u001b[0;32m~/miniconda3/lib/python3.7/site-packages/gevent/baseserver.py\u001b[0m in \u001b[0;36mserve_forever\u001b[0;34m(self, stop_timeout)\u001b[0m\n\u001b[1;32m    367\u001b[0m             \u001b[0mself\u001b[0m\u001b[0;34m.\u001b[0m\u001b[0mstart\u001b[0m\u001b[0;34m(\u001b[0m\u001b[0;34m)\u001b[0m\u001b[0;34m\u001b[0m\u001b[0;34m\u001b[0m\u001b[0m\n\u001b[1;32m    368\u001b[0m         \u001b[0;32mtry\u001b[0m\u001b[0;34m:\u001b[0m\u001b[0;34m\u001b[0m\u001b[0;34m\u001b[0m\u001b[0m\n\u001b[0;32m--> 369\u001b[0;31m             \u001b[0mself\u001b[0m\u001b[0;34m.\u001b[0m\u001b[0m_stop_event\u001b[0m\u001b[0;34m.\u001b[0m\u001b[0mwait\u001b[0m\u001b[0;34m(\u001b[0m\u001b[0;34m)\u001b[0m\u001b[0;34m\u001b[0m\u001b[0;34m\u001b[0m\u001b[0m\n\u001b[0m\u001b[1;32m    370\u001b[0m         \u001b[0;32mfinally\u001b[0m\u001b[0;34m:\u001b[0m\u001b[0;34m\u001b[0m\u001b[0;34m\u001b[0m\u001b[0m\n\u001b[1;32m    371\u001b[0m             \u001b[0mGreenlet\u001b[0m\u001b[0;34m.\u001b[0m\u001b[0mspawn\u001b[0m\u001b[0;34m(\u001b[0m\u001b[0mself\u001b[0m\u001b[0;34m.\u001b[0m\u001b[0mstop\u001b[0m\u001b[0;34m,\u001b[0m \u001b[0mtimeout\u001b[0m\u001b[0;34m=\u001b[0m\u001b[0mstop_timeout\u001b[0m\u001b[0;34m)\u001b[0m\u001b[0;34m.\u001b[0m\u001b[0mjoin\u001b[0m\u001b[0;34m(\u001b[0m\u001b[0;34m)\u001b[0m\u001b[0;34m\u001b[0m\u001b[0;34m\u001b[0m\u001b[0m\n",
      "\u001b[0;32m~/miniconda3/lib/python3.7/site-packages/gevent/_event.cpython-37m-x86_64-linux-gnu.so\u001b[0m in \u001b[0;36mgevent._event.Event.wait\u001b[0;34m()\u001b[0m\n",
      "\u001b[0;32m~/miniconda3/lib/python3.7/site-packages/gevent/__abstract_linkable.cpython-37m-x86_64-linux-gnu.so\u001b[0m in \u001b[0;36mgevent.__abstract_linkable.AbstractLinkable._wait\u001b[0;34m()\u001b[0m\n",
      "\u001b[0;32m~/miniconda3/lib/python3.7/site-packages/gevent/__abstract_linkable.cpython-37m-x86_64-linux-gnu.so\u001b[0m in \u001b[0;36mgevent.__abstract_linkable.AbstractLinkable._wait_core\u001b[0;34m()\u001b[0m\n",
      "\u001b[0;32m~/miniconda3/lib/python3.7/site-packages/gevent/__abstract_linkable.cpython-37m-x86_64-linux-gnu.so\u001b[0m in \u001b[0;36mgevent.__abstract_linkable.AbstractLinkable._wait_core\u001b[0;34m()\u001b[0m\n",
      "\u001b[0;32m~/miniconda3/lib/python3.7/site-packages/gevent/__greenlet_primitives.cpython-37m-x86_64-linux-gnu.so\u001b[0m in \u001b[0;36mgevent.__greenlet_primitives.SwitchOutGreenletWithLoop.switch\u001b[0;34m()\u001b[0m\n",
      "\u001b[0;32m~/miniconda3/lib/python3.7/site-packages/gevent/__greenlet_primitives.cpython-37m-x86_64-linux-gnu.so\u001b[0m in \u001b[0;36mgevent.__greenlet_primitives.SwitchOutGreenletWithLoop.switch\u001b[0;34m()\u001b[0m\n",
      "\u001b[0;32m~/miniconda3/lib/python3.7/site-packages/gevent/__greenlet_primitives.cpython-37m-x86_64-linux-gnu.so\u001b[0m in \u001b[0;36mgevent.__greenlet_primitives.SwitchOutGreenletWithLoop.switch\u001b[0;34m()\u001b[0m\n",
      "\u001b[0;32msrc/gevent/__greenlet_primitives.pxd\u001b[0m in \u001b[0;36mgevent.__greenlet_primitives._greenlet_switch\u001b[0;34m()\u001b[0m\n",
      "\u001b[0;31mKeyboardInterrupt\u001b[0m: "
     ]
    }
   ],
   "source": [
    "from flask import Flask, render_template\n",
    "from flask_socketio import SocketIO, emit\n",
    "    \n",
    "app = Flask(__name__)\n",
    "socketio = SocketIO(app)\n",
    "\n",
    "@app.route('/')\n",
    "def index():\n",
    "    return render_template('index.html')\n",
    "\n",
    "@socketio.on('my event')\n",
    "def test_message(message):\n",
    "    emit('response', {'data':'Connected with me, sock'})\n",
    "    \n",
    "@socketio.on('connect', namespace='/adhara')\n",
    "def connect():\n",
    "    print('connected')\n",
    "    emit('connect', {'data':'Connected with me, sock'})\n",
    "\n",
    "\n",
    "if __name__ == '__main__':\n",
    "    socketio.run(app)"
   ]
  },
  {
   "cell_type": "code",
   "execution_count": null,
   "metadata": {
    "hidden": true,
    "scrolled": true
   },
   "outputs": [
    {
     "name": "stdout",
     "output_type": "stream",
     "text": [
      "yugh\n",
      "yughgjkj\n"
     ]
    },
    {
     "name": "stderr",
     "output_type": "stream",
     "text": [
      "KeyboardInterrupt\n",
      "2020-03-24T19:06:45Z\n"
     ]
    }
   ],
   "source": [
    "from flask import Flask\n",
    "from flask_sockets import Sockets\n",
    "from gevent import monkey\n",
    "monkey.patch_all()\n",
    "\n",
    "app = Flask(__name__)\n",
    "sockets = Sockets(app)\n",
    "\n",
    "\n",
    "@sockets.route('/echo')\n",
    "def echo_socket(ws):\n",
    "    while not ws.closed:\n",
    "        message = ws.receive()\n",
    "        print(message)\n",
    "        ws.send(message)\n",
    "\n",
    "\n",
    "@app.route('/')\n",
    "def hello():\n",
    "    return 'Hello World!'\n",
    "\n",
    "\n",
    "if __name__ == \"__main__\":\n",
    "    from gevent import pywsgi\n",
    "    from geventwebsocket.handler import WebSocketHandler\n",
    "    server = pywsgi.WSGIServer(('', 5000), app, handler_class=WebSocketHandler)\n",
    "    server.serve_forever()"
   ]
  },
  {
   "cell_type": "code",
   "execution_count": 169,
   "metadata": {
    "hidden": true
   },
   "outputs": [],
   "source": [
    "classes_json=json.loads(Restaurant.objects[0].to_json())"
   ]
  },
  {
   "cell_type": "code",
   "execution_count": 170,
   "metadata": {
    "hidden": true
   },
   "outputs": [],
   "source": [
    "with open('json_with_class.json','w') as f:\n",
    "    f.write(str(classes_json))"
   ]
  },
  {
   "cell_type": "markdown",
   "metadata": {
    "heading_collapsed": true
   },
   "source": [
    "# Pages"
   ]
  },
  {
   "cell_type": "code",
   "execution_count": 14,
   "metadata": {
    "hidden": true
   },
   "outputs": [],
   "source": [
    "pages={}"
   ]
  },
  {
   "cell_type": "code",
   "execution_count": 15,
   "metadata": {
    "hidden": true,
    "scrolled": true
   },
   "outputs": [],
   "source": [
    "pages[0]=\"\"\"$BAR BITES\n",
    "\n",
    "NACHOS (Veg/Chicken)\n",
    "\n",
    "Crispy Corn Tortillas Topped With Spicy Baked Bean Salsa and Sour Cream \n",
    "\n",
    "190/230\n",
    "\n",
    "CHEESE MASALA PAPAD\n",
    "\n",
    "Crispy fried Mini Papads Topped With A Tangy Masala Mixture And Grated Cheese\n",
    "\n",
    "160\n",
    "\n",
    "H.O.C SIGNATURE MASALA PEANUTS\n",
    "\n",
    "A Favorful Version Of Regular Peanuts Tossed In A Variety of Spices \n",
    "\n",
    "160\n",
    "\n",
    "SPICY TRICOLOUR CHAAT\n",
    "\n",
    "Fresh Peas, Corn Kernels & Black Gram Tossed With Chillies & Sirka onions\n",
    "\n",
    "180\n",
    "\n",
    "CHATPATA CHANA CHAAT\n",
    "\n",
    "A Delectable Blend Of Bengal Gram And A Tangy Mixture\n",
    "\n",
    "160\n",
    "\n",
    "TANDOORI CHICKEN CHAAT\n",
    "\n",
    "Clay Oven Roasted Chicken Blended With Classic Spices\n",
    "\n",
    "220\n",
    "\n",
    "CHEESE DYNABITES\n",
    "\n",
    "Classic Cheese Balls Served with New Orleans Dip\n",
    "\n",
    "220\n",
    "\n",
    "$SALADS\n",
    "\n",
    "GREEN SALAD\n",
    "\n",
    "Traditional Green Cuts With Mint Yoghurt Dip\n",
    "\n",
    "170\n",
    "\n",
    "HOC SALAD (Veg/Chicken)\n",
    "\n",
    "Melange Of Crunchy Lettuce, Bell Peppers And Olives With Our Homemade Dressing\n",
    "\n",
    "180/210\n",
    "\n",
    "WATERMELON & FETA\n",
    "\n",
    "An All Time Classic - With Balsamic Glaze\n",
    "\n",
    "210\n",
    "\n",
    "CAESAR SALAD (Veg/Chicken)\n",
    "\n",
    "Crunchy Ice Berg Lettuce, Parmesan With the Classic Caesar Dressing\n",
    "\n",
    "190/230\"\"\""
   ]
  },
  {
   "cell_type": "code",
   "execution_count": 16,
   "metadata": {
    "hidden": true
   },
   "outputs": [],
   "source": [
    "pages[1]=\"\"\"$VEG STARTERS\n",
    "\n",
    "CHEESE & CORN TRIANGLE (new)\n",
    "\n",
    "Shredded Cheese, Corn & Seasonings Wrapped In Wonton Sheet & Deep Fried\n",
    "\n",
    "220\n",
    "\n",
    "CHAMPIGNONS FARCIS (new)\n",
    "\n",
    "Sauteed Button Mushroom Stuffed With Cheese & Herbs\n",
    "\n",
    "230\n",
    "\n",
    "CHILLI CHEESE CIGARA (new)\n",
    "\n",
    "Deep Fried Rolls With Cheese, Chill & Herbs\n",
    "\n",
    "220\n",
    "\n",
    "HOC CHIP & DIP BASKET\n",
    "\n",
    "Combination Of Onion Rings, Jalapeno Cheese Balls, Greek Potato Wedges, Habanero Green Chili Fries\n",
    "\n",
    "390\n",
    "\n",
    "FRENCH FRIES\n",
    "\n",
    "French Fries Tossed With Hoc Signature Cajun Spice Seasoning\n",
    "\n",
    "190\n",
    "\n",
    "ONION RINGS\n",
    "\n",
    "Extra Crispy Onion Rings With A Spicy Salsa\n",
    "\n",
    "190\n",
    "\n",
    "MUSHROOM LOADED FRIES\n",
    "\n",
    "Cheesy French Fries Topped With Mushrooms And Herbs\n",
    "\n",
    "230\n",
    "\n",
    "GARLIC BREAD\n",
    "\n",
    "Garlic Butter Flavoured Bread Topped With Cheese\n",
    "\n",
    "190\n",
    "\n",
    "CHEESE CORN TIKKI\n",
    "\n",
    "American Com & Cottage Cheese Patty Served with Mint Chutney\n",
    "\n",
    "220\n",
    "\n",
    "CRISPY CHILLY MUSHROOM\n",
    "\n",
    "Crispy Fried Mushrooms Tossed With Oriental Spices\n",
    "\n",
    "220\n",
    "\n",
    "CRISPY CHILLY BABY CORN\n",
    "\n",
    "Crispy Fried Babycom Tossed With Oriental Spices\n",
    "\n",
    "190\n",
    "\n",
    "CRISPY CORN CHILLY PEPPER\n",
    "\n",
    "Fred Undi Lightly Crispy & Seasoned With Lime Juice, Salt, Chilli & Pepper\n",
    "\n",
    "240\n",
    "\n",
    "HONEY CHILLY POTATO\n",
    "\n",
    "Crispy Fried Potatoes Tossed With Chilli And Honey\n",
    "\n",
    "190\"\"\""
   ]
  },
  {
   "cell_type": "code",
   "execution_count": 17,
   "metadata": {
    "hidden": true
   },
   "outputs": [],
   "source": [
    "pages[2]=\"\"\"$VEG STARTERS\n",
    "\n",
    "SESAME CHILLI PANEER\n",
    "\n",
    "Cottage Cheese Cubes Tossed In A Sweet & Spicy Sauce, Finished With Sesame Seeds\n",
    "\n",
    "270\n",
    "\n",
    "PANDAN LEAF COTTAGE CHEESE\n",
    "\n",
    "Tender Cottage Cheese Wrapped In Fragrant Pandan Leaves, With Chilli Coriander Sauce\n",
    "\n",
    "280\n",
    "\n",
    "MEZZE BASKET\n",
    "\n",
    "A Combination Of Hummus, Mutabal & Labneh, Served With Pita Bread\n",
    "\n",
    "340\n",
    "\n",
    "$FROM THE CLAY OVEN\n",
    "\n",
    "MAKHMALI PANEER TIKKA\n",
    "\n",
    "Mouth Melting Paneer Cubes Marinated With A Cheese Curd Mixture, Cream And Mild Spices\n",
    "\n",
    "270\n",
    "\n",
    "ANGARI PANEER TIKKA\n",
    "\n",
    "Clay Oven Roasted Spicy Morsels Of Cottage Cheese\n",
    "\n",
    "270\n",
    "\n",
    "TANDOORI STUFFED MUSHROOMS\n",
    "\n",
    "Mushrooms Filled With A Blend Of Indian Spices And Tangy Stuffing Mix, Adding A Unique Taste On The Bite\n",
    "\n",
    "250\n",
    "\n",
    "TANDOORI VEG MOMOS\n",
    "\n",
    "Soft And Juicy Vegetable Momos Marinated With Tandoori Masala And Char Grilled\n",
    "\n",
    "220\n",
    "\n",
    "$CHICKEN STARTERS\n",
    "\n",
    "CHICKEN LOADED FRIES\n",
    "\n",
    "Cheesy French Fries Topped With Chicken & Herbs\n",
    "\n",
    "260\n",
    "\n",
    "SHANG DONG CHICKEN LOLLY POP\n",
    "\n",
    "Crispy Lolly pops Crunched To Perfection & Tossed in our Signature Shang Dong Drip\n",
    "\n",
    "260\"\"\""
   ]
  },
  {
   "cell_type": "code",
   "execution_count": 18,
   "metadata": {
    "hidden": true
   },
   "outputs": [],
   "source": [
    "pages[3]=\"\"\"$CHICKEN STARTERS\n",
    "\n",
    "HOC SIGNATURE CHICKEN WINGS\n",
    "\n",
    "Sweet Chilly / Spiced Szechuan\n",
    "\n",
    "260\n",
    "\n",
    "PEPPER GARLIC CHICKEN\n",
    "\n",
    "Cubes Of Chicken Tossed With Garlic And Pepper In Oriental Style\n",
    "\n",
    "260\n",
    "\n",
    "GUNTUR JUNCTION CHICKEN\n",
    "\n",
    "Chicken Cubes Tossed With Freshly Ground Red Spices And Finished In South Indian Style\n",
    "\n",
    "270\n",
    "\n",
    "ANDHRA CHILLI CHICKEN *VERY HOT*\n",
    "\n",
    "All Time Favourite Andhra Style Chicken Cooked With Coriander And Green Chilli Paste And Fresh Green Chillies\n",
    "\n",
    "270\n",
    "\n",
    "LEMON PEPPER CHICKEN\n",
    "\n",
    "Slice Chicken Wok Tossed, Finished With Pepper Garlic & Lime\n",
    "\n",
    "260\n",
    "\n",
    "JIANG CHILLI CHICKEN\n",
    "\n",
    "Chicken Tossed With Shredded Ginger And Chilli In Jiang Style\n",
    "\n",
    "260\n",
    "\n",
    "CHICKEN GHEE ROAST\n",
    "\n",
    "Chicken Roasted With A Fiery Red, Tangy And Spicy With The Flavour Of Ghee\n",
    "\n",
    "280\n",
    "\n",
    "MASALA FRY CHICKEN (new)\n",
    "\n",
    "Classic Indian Style With Bone Deep fried Chicken Served With Mint Chutney\n",
    "\n",
    "250\n",
    "\n",
    "$FROM THE CLAY OVEN\n",
    "\n",
    "JAIPURI MURGH KA SOOLA\n",
    "\n",
    "Succulent Pieces Of Chicken Zapped With Red Spices, Cinnamon Flavour & Finished In Tandoor\n",
    "\n",
    "270\n",
    "\n",
    "TANDOORI MURGH (HALF/FULL)\n",
    "\n",
    "Chicken Marinated In Aromatic Indian Spices & Then Cooked In Tandoor\n",
    "\n",
    "250/480\n",
    "\n",
    "TANDOORI POMFRET\n",
    "\n",
    "Indian Spices Marinated Whole Pomfret Skewered And Finished In Clay Oven\n",
    "\n",
    "590\"\"\""
   ]
  },
  {
   "cell_type": "code",
   "execution_count": 19,
   "metadata": {
    "hidden": true
   },
   "outputs": [],
   "source": [
    "pages[4]=\"\"\"$FROM THE CLAY OVEN\n",
    "\n",
    "FISH TIKKA KALIMIRCH\n",
    "\n",
    "Fresh Cubes Of Basa Fish Marinated With Crushed Black Pepper & Indian Spices, Finished In Clay Oven\n",
    "\n",
    "320\n",
    "\n",
    "AMRITSAR FISH TIKKA\n",
    "\n",
    "Spicy Fish Tikka Marinated In Traditional Spices And Char Grilled\n",
    "\n",
    "320\n",
    "\n",
    "KALMI KEBAB (3pcs)\n",
    "\n",
    "Clay Oven Roasted Chicken Drumsticks\n",
    "\n",
    "260\n",
    "\n",
    "ANGARI MURGH TIKKA\n",
    "\n",
    "Clay Oven Roasted Spicy Morsels Of Chicken\n",
    "\n",
    "260\n",
    "\n",
    "TANDOORI LOLLIPOPS\n",
    "\n",
    "Chicken Lollipops Marinated With Aromatic Indian Spices And Cooked In The Tandoor\n",
    "\n",
    "270\n",
    "\n",
    "MURGH MALAI TIKKA\n",
    "\n",
    "Clay Oven Roasted Creamy Chunks Of Chicken\n",
    "\n",
    "260\n",
    "\n",
    "MURGH KASTURI KEBAB\n",
    "\n",
    "Boneless Charcoal Smoked Chicken Tikka With Kasturi Methi Flavoured\n",
    "\n",
    "260\n",
    "\n",
    "TANDOORI CHICKEN MOMOS\n",
    "\n",
    "Soft And Juicy Chicken Momos Marinated With Tandoori Masala And Char Grilled\n",
    "\n",
    "260\n",
    "\n",
    "TANDOORI KING PRAWNS\n",
    "\n",
    "King Prawns Marinated With Yogurt, Lime Juice, Bhatti Spices And Slowly Cooked In Tandoor\n",
    "\n",
    "499\n",
    "\n",
    "$LAMB STARTERS\n",
    "\n",
    "ANDHRA LAMB PEPPER FRY\n",
    "\n",
    "Tender Mutton Pieces Tossed In South Indian Spices\n",
    "\n",
    "350\n",
    "\n",
    "MUTTON GHEE ROAST\n",
    "\n",
    "Mutton Roasted With A Fiery Red And Spicy With The Flavour Of Ghee\n",
    "\n",
    "370\"\"\""
   ]
  },
  {
   "cell_type": "code",
   "execution_count": 20,
   "metadata": {
    "hidden": true
   },
   "outputs": [],
   "source": [
    "pages[5]=\"\"\"$LAMB STARTERS\n",
    "\n",
    "LAHORI SEEKH KEBAB\n",
    "\n",
    "Succulent Minced Lamb Kebabs In The True Lahori Street Food Style\n",
    "\n",
    "370\n",
    "\n",
    "RAILWAY MUTTON DRY\n",
    "\n",
    "With Bone Mutton Cooked In Rich Indian Spices, As Served In The Railway Canteen Of The British Raj\n",
    "\n",
    "350\n",
    "\n",
    "$EGG STARTERS\n",
    "\n",
    "EGG BHURJI\n",
    "\n",
    "Desi Style Scrambled Eggs\n",
    "\n",
    "170\n",
    "\n",
    "SPICY MASALA OMELETTE\n",
    "\n",
    "Slow Cooked Egg Omlet With Masala\n",
    "\n",
    "180\n",
    "\n",
    "EGG CHILLI \n",
    "\n",
    "Spicy Boiled Egg With Chilli Fry\n",
    "\n",
    "210\n",
    "\n",
    "$FROM THE GRILL\n",
    "\n",
    "PERI PERI PANEER/CHICKEN\n",
    "\n",
    "Peri Peri Basted Paneer / Chicken Cubes Served With Tzatziki Dip\n",
    "\n",
    "260/280\n",
    "\n",
    "THAI GRILLED FISH IN BANANA LEAF\n",
    "\n",
    "Delicately Grilled Fish With Basil Flavour And Served Hot\n",
    "\n",
    "330\n",
    "\n",
    "HARISSA GRILLED FISH\n",
    "\n",
    "Fish Marinated In A Spicy Tunisian Harissa Sauce And Grilled To Perfection\n",
    "\n",
    "330\n",
    "\n",
    "THAI GRILLED CHICKEN\n",
    "\n",
    "Boneless Chicken Marinated With Thai Spices And Grilled\n",
    "\n",
    "270\"\"\""
   ]
  },
  {
   "cell_type": "markdown",
   "metadata": {
    "heading_collapsed": true
   },
   "source": [
    "# Consolidating"
   ]
  },
  {
   "cell_type": "markdown",
   "metadata": {
    "heading_collapsed": true,
    "hidden": true
   },
   "source": [
    "## Pages to DF"
   ]
  },
  {
   "cell_type": "code",
   "execution_count": 21,
   "metadata": {
    "hidden": true
   },
   "outputs": [],
   "source": [
    "half_the_menu=[]\n",
    "\n",
    "for i in range(6):\n",
    "    half_the_menu.append(pages[i])\n",
    "\n",
    "half_menu_text=\"\\n\\n\".join(half_the_menu)"
   ]
  },
  {
   "cell_type": "code",
   "execution_count": 22,
   "metadata": {
    "hidden": true
   },
   "outputs": [],
   "source": [
    "str_menu = pd.DataFrame(columns=['sub_category','name','description','price'])"
   ]
  },
  {
   "cell_type": "code",
   "execution_count": 23,
   "metadata": {
    "hidden": true
   },
   "outputs": [],
   "source": [
    "description=dish_name=price=subcat=''\n",
    "counter=0\n",
    "for line in half_menu_text.split(\"\\n\\n\"):\n",
    "    if(re.search(\"^[\\$]\",line)):\n",
    "        subcat = line[1:].strip()\n",
    "    else:\n",
    "        if(counter%3==0):\n",
    "            dish_name = line.strip()\n",
    "        elif(counter%3==1):\n",
    "            description = line.strip()\n",
    "        elif(counter%3==2):\n",
    "            price = line.strip()\n",
    "            str_menu.loc[str_menu.shape[0]]=[subcat,dish_name,description,price]\n",
    "        counter+=1"
   ]
  },
  {
   "cell_type": "markdown",
   "metadata": {
    "heading_collapsed": true,
    "hidden": true
   },
   "source": [
    "## creating main categories"
   ]
  },
  {
   "cell_type": "code",
   "execution_count": 24,
   "metadata": {
    "hidden": true
   },
   "outputs": [],
   "source": [
    "main_category={\"BAR BITES\":\"BAR BITES\",\"SALADS\":\"SALADS\",\"VEG STARTERS\":\"VEG STARTERS\",\"CHICKEN STARTERS\":\"NON-VEG STARTERS\",\"LAMB STARTERS\":\"NON-VEG STARTERS\",\"EGG STARTERS\":\"NON-VEG STARTERS\",\"FROM THE GRILL\":\"NON-VEG STARTERS\",\"FROM THE CLAY OVEN\":\"CHANGE\"}"
   ]
  },
  {
   "cell_type": "code",
   "execution_count": 25,
   "metadata": {
    "hidden": true
   },
   "outputs": [],
   "source": [
    "str_menu.loc[:,\"main_category\"]=str_menu['sub_category'].apply(lambda x: main_category[x])"
   ]
  },
  {
   "cell_type": "code",
   "execution_count": 26,
   "metadata": {
    "hidden": true
   },
   "outputs": [],
   "source": [
    "str_menu.loc[27,\"main_category\"]=\"VEG STARTERS\"\n",
    "\n",
    "str_menu.loc[28,\"main_category\"]=\"VEG STARTERS\"\n",
    "\n",
    "str_menu.loc[29,\"main_category\"]=\"VEG STARTERS\"\n",
    "\n",
    "str_menu.loc[30,\"main_category\"]=\"VEG STARTERS\""
   ]
  },
  {
   "cell_type": "code",
   "execution_count": 27,
   "metadata": {
    "hidden": true
   },
   "outputs": [],
   "source": [
    "str_menu.loc[str_menu['main_category']=='CHANGE',\"main_category\"]=\"NON-VEG STARTERS\""
   ]
  },
  {
   "cell_type": "code",
   "execution_count": 28,
   "metadata": {
    "hidden": true,
    "scrolled": true
   },
   "outputs": [
    {
     "data": {
      "text/plain": [
       "Index(['sub_category', 'name', 'description', 'price', 'main_category'], dtype='object')"
      ]
     },
     "execution_count": 28,
     "metadata": {},
     "output_type": "execute_result"
    }
   ],
   "source": [
    "str_menu.columns"
   ]
  },
  {
   "cell_type": "code",
   "execution_count": 30,
   "metadata": {
    "hidden": true
   },
   "outputs": [],
   "source": [
    "str_menu=str_menu[['main_category','sub_category', 'name', 'description', 'price']]"
   ]
  },
  {
   "cell_type": "markdown",
   "metadata": {
    "heading_collapsed": true,
    "hidden": true
   },
   "source": [
    "## Taking care of multiple prices"
   ]
  },
  {
   "cell_type": "code",
   "execution_count": 44,
   "metadata": {
    "hidden": true
   },
   "outputs": [],
   "source": [
    "lengths = str_menu['price'].str.split('/').map(len)"
   ]
  },
  {
   "cell_type": "code",
   "execution_count": 59,
   "metadata": {
    "hidden": true
   },
   "outputs": [],
   "source": [
    "str_menu = pd.DataFrame({'main_category': np.repeat(str_menu['main_category'], lengths),\n",
    "                    'sub_category': np.repeat(str_menu['sub_category'], lengths),\n",
    "                    'name': np.repeat(str_menu['name'],lengths),\n",
    "                    'description': np.repeat(str_menu['description'],lengths),\n",
    "                    'price': chainer(str_menu['price'])})"
   ]
  },
  {
   "cell_type": "code",
   "execution_count": 81,
   "metadata": {
    "hidden": true,
    "scrolled": false
   },
   "outputs": [],
   "source": [
    "str_menu.reset_index(inplace=True,drop=True)"
   ]
  },
  {
   "cell_type": "code",
   "execution_count": 165,
   "metadata": {
    "hidden": true
   },
   "outputs": [],
   "source": [
    "str_menu.loc[45,'price']=\"250\""
   ]
  },
  {
   "cell_type": "code",
   "execution_count": 83,
   "metadata": {
    "hidden": true
   },
   "outputs": [],
   "source": [
    "pickle.dump(str_menu,open('half_menu_main.pkl','wb'))"
   ]
  },
  {
   "cell_type": "code",
   "execution_count": 32,
   "metadata": {
    "hidden": true
   },
   "outputs": [],
   "source": [
    "str_menu=pickle.load(open('half_menu_main.pkl','rb'))"
   ]
  },
  {
   "cell_type": "markdown",
   "metadata": {
    "heading_collapsed": true,
    "hidden": true
   },
   "source": [
    "## COnverting into json"
   ]
  },
  {
   "cell_type": "code",
   "execution_count": 33,
   "metadata": {
    "hidden": true
   },
   "outputs": [],
   "source": [
    "final_list_json=[]"
   ]
  },
  {
   "cell_type": "code",
   "execution_count": 35,
   "metadata": {
    "hidden": true
   },
   "outputs": [],
   "source": [
    "\n",
    "for n,main_cat_name in enumerate(str_menu.loc[:,'main_category'].unique()):\n",
    "    final_list_json.append({})\n",
    "    final_list_json[n]['name']=main_cat_name\n",
    "    final_list_json[n]['description'] = ''\n",
    "    final_list_json[n]['sub_category'] = []\n",
    "    for p,sub_cat_name in enumerate(str_menu[str_menu['main_category'].loc[:'sub_category']==main_cat_name].loc[:,'sub_category'].unique()):\n",
    "        final_list_json[n]['sub_category'].append({})\n",
    "        final_list_json[n]['sub_category'][p]['name']=sub_cat_name\n",
    "        final_list_json[n]['sub_category'][p]['description']=''\n",
    "        final_list_json[n]['sub_category'][p]['priority']=''\n",
    "        final_list_json[n]['sub_category'][p]['foodlist']=[]\n",
    "        for q,food_dict in enumerate(str_menu[str_menu['main_category'].loc[:'sub_category']==main_cat_name][str_menu[str_menu['main_category'].loc[:'sub_category']==main_cat_name].loc[:,'sub_category']==sub_cat_name].iterrows()):\n",
    "            final_list_json[n]['sub_category'][p]['foodlist'].append({})\n",
    "            final_list_json[n]['sub_category'][p]['foodlist'][q]['name']= food_dict[1]['name']\n",
    "            final_list_json[n]['sub_category'][p]['foodlist'][q]['description']=food_dict[1]['description']\n",
    "            final_list_json[n]['sub_category'][p]['foodlist'][q]['price']=food_dict[1]['price']\n",
    "        \n",
    "        "
   ]
  },
  {
   "cell_type": "code",
   "execution_count": 4,
   "metadata": {
    "hidden": true
   },
   "outputs": [],
   "source": [
    "str_menu=pickle.load(open('half_menu_main.pkl','rb'))"
   ]
  },
  {
   "cell_type": "code",
   "execution_count": 9,
   "metadata": {
    "hidden": true
   },
   "outputs": [],
   "source": [
    "from pprint import pprint"
   ]
  },
  {
   "cell_type": "code",
   "execution_count": 1,
   "metadata": {
    "hidden": true,
    "scrolled": true
   },
   "outputs": [
    {
     "ename": "NameError",
     "evalue": "name 'Restaurant' is not defined",
     "output_type": "error",
     "traceback": [
      "\u001b[0;31m---------------------------------------------------------------------------\u001b[0m",
      "\u001b[0;31mNameError\u001b[0m                                 Traceback (most recent call last)",
      "\u001b[0;32m<ipython-input-1-49ae841a5331>\u001b[0m in \u001b[0;36m<module>\u001b[0;34m\u001b[0m\n\u001b[0;32m----> 1\u001b[0;31m \u001b[0mjson\u001b[0m\u001b[0;34m.\u001b[0m\u001b[0mload\u001b[0m\u001b[0;34m(\u001b[0m\u001b[0mRestaurant\u001b[0m\u001b[0;34m.\u001b[0m\u001b[0mobjects\u001b[0m\u001b[0;34m[\u001b[0m\u001b[0;36m0\u001b[0m\u001b[0;34m]\u001b[0m\u001b[0;34m.\u001b[0m\u001b[0mto_json\u001b[0m\u001b[0;34m(\u001b[0m\u001b[0;34m)\u001b[0m\u001b[0;34m)\u001b[0m\u001b[0;34m\u001b[0m\u001b[0;34m\u001b[0m\u001b[0m\n\u001b[0m",
      "\u001b[0;31mNameError\u001b[0m: name 'Restaurant' is not defined"
     ]
    }
   ],
   "source": [
    "json.load(Restaurant.objects[0].to_json())"
   ]
  },
  {
   "cell_type": "markdown",
   "metadata": {},
   "source": [
    "# js.data"
   ]
  },
  {
   "cell_type": "code",
   "execution_count": 17,
   "metadata": {},
   "outputs": [],
   "source": [
    "pickle.dump(final_json,open('jason.pkl','wb'))"
   ]
  },
  {
   "cell_type": "code",
   "execution_count": 11,
   "metadata": {},
   "outputs": [],
   "source": [
    "pickle.dump(final_list_json,open('jason.pkl','wb'))"
   ]
  }
 ],
 "metadata": {
  "kernelspec": {
   "display_name": "Python 3",
   "language": "python",
   "name": "python3"
  },
  "language_info": {
   "codemirror_mode": {
    "name": "ipython",
    "version": 3
   },
   "file_extension": ".py",
   "mimetype": "text/x-python",
   "name": "python",
   "nbconvert_exporter": "python",
   "pygments_lexer": "ipython3",
   "version": "3.7.4"
  }
 },
 "nbformat": 4,
 "nbformat_minor": 4
}
