{
 "cells": [
  {
   "cell_type": "code",
   "execution_count": 36,
   "metadata": {
    "scrolled": true
   },
   "outputs": [],
   "source": [
    "import numpy as np\n",
    "import pandas as pd\n",
    "import re\n",
    "import pickle\n",
    "from pprint import pprint\n",
    "\n",
    "\n",
    "pd.set_option('display.max_rows', 500)\n",
    "pd.set_option('display.max_columns', 500)\n",
    "pd.set_option('display.width', 1000)\n",
    "\n",
    "import json\n",
    "data = json.loads('{\"one\" : \"1\", \"two\" : \"2\", \"three\" : \"3\"}')\n",
    "\n",
    "from bson import json_util\n",
    "\n",
    "from mongoengine import *"
   ]
  },
  {
   "cell_type": "code",
   "execution_count": 40,
   "metadata": {},
   "outputs": [],
   "source": [
    "from flask import Flask,jsonify, request, send_from_directory, url_for\n",
    "app = Flask(__name__)\n",
    "import pickle\n",
    "import numpy as np\n",
    "from itertools import chain"
   ]
  },
  {
   "cell_type": "code",
   "execution_count": 2,
   "metadata": {},
   "outputs": [],
   "source": [
    "conn = connect(\"local\",host=\"mongodb://localhost:27017\",alias='default')\n",
    "\n",
    "if(0):\n",
    "    disconnect('mongo://mongo:27017')"
   ]
  },
  {
   "cell_type": "code",
   "execution_count": 161,
   "metadata": {},
   "outputs": [],
   "source": [
    "str_menu=pickle.load(open('half_menu_main.pkl','rb'))\n",
    "\n",
    "restautant_id = 'BNGHSR0001'\n",
    "\n",
    "final_list_json=[]"
   ]
  },
  {
   "cell_type": "code",
   "execution_count": 173,
   "metadata": {},
   "outputs": [],
   "source": [
    "def chainer(string):\n",
    "    return list(chain.from_iterable(string.str.split('/')))\n",
    "\n",
    "def str_2(number):\n",
    "    string = str(number)\n",
    "    if(len(string)==1):\n",
    "        return '0'+string\n",
    "    else:\n",
    "        return string"
   ]
  },
  {
   "cell_type": "code",
   "execution_count": 166,
   "metadata": {},
   "outputs": [],
   "source": [
    "pickle.dump(str_menu,open('half_menu_main.pkl','wb'))"
   ]
  },
  {
   "cell_type": "code",
   "execution_count": 167,
   "metadata": {},
   "outputs": [],
   "source": [
    "\n",
    "for n,main_cat_name in enumerate(str_menu.loc[:,'main_category'].unique()):\n",
    "    final_list_json.append({})\n",
    "    final_list_json[n]['name']=main_cat_name\n",
    "    final_list_json[n]['description'] = ''\n",
    "    final_list_json[n]['sub_category'] = []\n",
    "    for p,sub_cat_name in enumerate(str_menu[str_menu['main_category'].loc[:'sub_category']==main_cat_name].loc[:,'sub_category'].unique()):\n",
    "        final_list_json[n]['sub_category'].append({})\n",
    "        final_list_json[n]['sub_category'][p]['name']=sub_cat_name\n",
    "        final_list_json[n]['sub_category'][p]['description']=''\n",
    "        final_list_json[n]['sub_category'][p]['priority']=''\n",
    "        final_list_json[n]['sub_category'][p]['foodlist']=[]\n",
    "        for q,food_dict in enumerate(str_menu[str_menu['main_category'].loc[:'sub_category']==main_cat_name][str_menu[str_menu['main_category'].loc[:'sub_category']==main_cat_name].loc[:,'sub_category']==sub_cat_name].iterrows()):\n",
    "            final_list_json[n]['sub_category'][p]['foodlist'].append({})\n",
    "            final_list_json[n]['sub_category'][p]['foodlist'][q]['name']= food_dict[1]['name']\n",
    "            final_list_json[n]['sub_category'][p]['foodlist'][q]['description']=food_dict[1]['description']\n",
    "            final_list_json[n]['sub_category'][p]['foodlist'][q]['price']=food_dict[1]['price']\n",
    "        \n",
    "        "
   ]
  },
  {
   "cell_type": "code",
   "execution_count": 153,
   "metadata": {},
   "outputs": [],
   "source": [
    "class FoodOptions(DynamicDocument):\n",
    "    size_field = DictField()\n",
    "    best_paired_with = ListField(FoodItem)\n",
    "\n",
    "class FoodItem(Document):\n",
    "    name = StringField(required=True)\n",
    "    description = StringField(required=True)\n",
    "    price = StringField(required=True)\n",
    "    foodoptions = ReferenceField(FoodOptions)\n",
    "    \n",
    "    def to_mymongo(self):\n",
    "        data = self.to_mongo()\n",
    "        if(self.foodoptions):\n",
    "            data['foodoptions']=self.foodoptions.to_mongo()\n",
    "\n",
    "        return data\n",
    "\n",
    "class SubCategory(Document):\n",
    "    name = StringField(required=True)\n",
    "    description = StringField(required=True)\n",
    "    foodlist= ListField(ReferenceField(FoodItem),required=True)\n",
    "    \n",
    "    def to_mymongo(self):\n",
    "        data = self.to_mongo()\n",
    "        for key, fooditem in enumerate(self.foodlist):\n",
    "            data['foodlist'][key]=self.foodlist[key].to_mymongo()\n",
    "\n",
    "        return data\n",
    "\n",
    "class MainCategory(Document):\n",
    "    name = StringField(required=True)\n",
    "    description = StringField(required=True)\n",
    "    sub_category= ListField(ReferenceField(SubCategory),required=True)\n",
    "    \n",
    "    def to_mymongo(self):\n",
    "        data = self.to_mongo()\n",
    "        for key, sub_cat in enumerate(self.sub_category):\n",
    "            data['sub_category'][key]=self.sub_category[key].to_mymongo()\n",
    "\n",
    "        return data\n",
    "\n",
    "\n",
    "class Restaurant(Document):\n",
    "    name = StringField(required=True)\n",
    "    restaurant_id = StringField(required=True)\n",
    "    menu = ListField(ReferenceField(MainCategory),required=True)\n",
    "    address = StringField()\n",
    "    tables = StringField()\n",
    "    servers = StringField()\n",
    "    \n",
    "    def to_json(self):\n",
    "        data = self.to_mongo()\n",
    "        for key, sub_cat in enumerate(self.menu):\n",
    "            data['menu'][key]=self.menu[key].to_mymongo()\n",
    "\n",
    "        return json_util.dumps(data)\n"
   ]
  },
  {
   "cell_type": "code",
   "execution_count": 180,
   "metadata": {},
   "outputs": [],
   "source": [
    "class Table(Document):\n",
    "    pass\n",
    "\n",
    "class User(Document):\n",
    "    unique_id = StringField(required=True)\n",
    "    current_table = ReferenceField(Table)\n",
    "    \n",
    "    meta = {\"allow_inheritance\":'true'}\n",
    "\n",
    "class RegisteredUser(User):\n",
    "    name = StringField(required=True)\n",
    "    email_id = StringField(required=True)\n",
    "    phone_no = StringField()\n",
    "    dine_in_history = DynamicField()\n",
    "    \n",
    "class Table(Document):\n",
    "    name=StringField(required=True)\n",
    "    seats=IntField(required=True)\n",
    "    servers = StringField()\n",
    "    users = ReferenceField(User)\n",
    "    "
   ]
  },
  {
   "cell_type": "code",
   "execution_count": null,
   "metadata": {},
   "outputs": [],
   "source": []
  },
  {
   "cell_type": "code",
   "execution_count": null,
   "metadata": {},
   "outputs": [],
   "source": []
  },
  {
   "cell_type": "code",
   "execution_count": null,
   "metadata": {},
   "outputs": [],
   "source": []
  },
  {
   "cell_type": "code",
   "execution_count": 155,
   "metadata": {},
   "outputs": [
    {
     "name": "stdout",
     "output_type": "stream",
     "text": [
      "{'_id': {'$oid': '5e75dc6ebd417b6b2aec35d6'},\n",
      " 'address': '',\n",
      " 'menu': [{'_id': {'$oid': '5e75dc6ebd417b6b2aec358e'},\n",
      "           'description': '',\n",
      "           'name': 'BAR BITES',\n",
      "           'sub_category': [{'_id': {'$oid': '5e75dc6ebd417b6b2aec358d'},\n",
      "                             'description': '',\n",
      "                             'foodlist': [{'_id': {'$oid': '5e75dc6ebd417b6b2aec3585'},\n",
      "                                           'description': 'Crispy Corn '\n",
      "                                                          'Tortillas Topped '\n",
      "                                                          'With Spicy Baked '\n",
      "                                                          'Bean Salsa and Sour '\n",
      "                                                          'Cream',\n",
      "                                           'name': 'VEG NACHOS',\n",
      "                                           'price': '190'},\n",
      "                                          {'_id': {'$oid': '5e75dc6ebd417b6b2aec3586'},\n",
      "                                           'description': 'Crispy Corn '\n",
      "                                                          'Tortillas Topped '\n",
      "                                                          'With Spicy Baked '\n",
      "                                                          'Bean Salsa and Sour '\n",
      "                                                          'Cream',\n",
      "                                           'name': 'CHICKEN NACHOS',\n",
      "                                           'price': '230'},\n",
      "                                          {'_id': {'$oid': '5e75dc6ebd417b6b2aec3587'},\n",
      "                                           'description': 'Crispy fried Mini '\n",
      "                                                          'Papads Topped With '\n",
      "                                                          'A Tangy Masala '\n",
      "                                                          'Mixture And Grated '\n",
      "                                                          'Cheese',\n",
      "                                           'name': 'CHEESE MASALA PAPAD',\n",
      "                                           'price': '160'},\n",
      "                                          {'_id': {'$oid': '5e75dc6ebd417b6b2aec3588'},\n",
      "                                           'description': 'A Favorful Version '\n",
      "                                                          'Of Regular Peanuts '\n",
      "                                                          'Tossed In A Variety '\n",
      "                                                          'of Spices',\n",
      "                                           'name': 'H.O.C SIGNATURE MASALA '\n",
      "                                                   'PEANUTS',\n",
      "                                           'price': '160'},\n",
      "                                          {'_id': {'$oid': '5e75dc6ebd417b6b2aec3589'},\n",
      "                                           'description': 'Fresh Peas, Corn '\n",
      "                                                          'Kernels & Black '\n",
      "                                                          'Gram Tossed With '\n",
      "                                                          'Chillies & Sirka '\n",
      "                                                          'onions',\n",
      "                                           'name': 'SPICY TRICOLOUR CHAAT',\n",
      "                                           'price': '180'},\n",
      "                                          {'_id': {'$oid': '5e75dc6ebd417b6b2aec358a'},\n",
      "                                           'description': 'A Delectable Blend '\n",
      "                                                          'Of Bengal Gram And '\n",
      "                                                          'A Tangy Mixture',\n",
      "                                           'name': 'CHATPATA CHANA CHAAT',\n",
      "                                           'price': '160'},\n",
      "                                          {'_id': {'$oid': '5e75dc6ebd417b6b2aec358b'},\n",
      "                                           'description': 'Clay Oven Roasted '\n",
      "                                                          'Chicken Blended '\n",
      "                                                          'With Classic Spices',\n",
      "                                           'name': 'TANDOORI CHICKEN CHAAT',\n",
      "                                           'price': '220'},\n",
      "                                          {'_id': {'$oid': '5e75dc6ebd417b6b2aec358c'},\n",
      "                                           'description': 'Classic Cheese '\n",
      "                                                          'Balls Served with '\n",
      "                                                          'New Orleans Dip',\n",
      "                                           'name': 'CHEESE DYNABITES',\n",
      "                                           'price': '220'}],\n",
      "                             'name': 'BAR BITES'}]},\n",
      "          {'_id': {'$oid': '5e75dc6ebd417b6b2aec3596'},\n",
      "           'description': '',\n",
      "           'name': 'SALADS',\n",
      "           'sub_category': [{'_id': {'$oid': '5e75dc6ebd417b6b2aec3595'},\n",
      "                             'description': '',\n",
      "                             'foodlist': [{'_id': {'$oid': '5e75dc6ebd417b6b2aec358f'},\n",
      "                                           'description': 'Traditional Green '\n",
      "                                                          'Cuts With Mint '\n",
      "                                                          'Yoghurt Dip',\n",
      "                                           'name': 'GREEN SALAD',\n",
      "                                           'price': '170'},\n",
      "                                          {'_id': {'$oid': '5e75dc6ebd417b6b2aec3590'},\n",
      "                                           'description': 'Melange Of Crunchy '\n",
      "                                                          'Lettuce, Bell '\n",
      "                                                          'Peppers And Olives '\n",
      "                                                          'With Our Homemade '\n",
      "                                                          'Dressing',\n",
      "                                           'name': 'HOC SALAD (VEG)',\n",
      "                                           'price': '180'},\n",
      "                                          {'_id': {'$oid': '5e75dc6ebd417b6b2aec3591'},\n",
      "                                           'description': 'Melange Of Crunchy '\n",
      "                                                          'Lettuce, Bell '\n",
      "                                                          'Peppers And Olives '\n",
      "                                                          'With Our Homemade '\n",
      "                                                          'Dressing',\n",
      "                                           'name': 'HOC SALAD (CHICKEN)',\n",
      "                                           'price': '210'},\n",
      "                                          {'_id': {'$oid': '5e75dc6ebd417b6b2aec3592'},\n",
      "                                           'description': 'An All Time Classic '\n",
      "                                                          '- With Balsamic '\n",
      "                                                          'Glaze',\n",
      "                                           'name': 'WATERMELON & FETA',\n",
      "                                           'price': '210'},\n",
      "                                          {'_id': {'$oid': '5e75dc6ebd417b6b2aec3593'},\n",
      "                                           'description': 'Crunchy Ice Berg '\n",
      "                                                          'Lettuce, Parmesan '\n",
      "                                                          'With the Classic '\n",
      "                                                          'Caesar Dressing',\n",
      "                                           'name': 'CAESAR SALAD (VEG)',\n",
      "                                           'price': '190'},\n",
      "                                          {'_id': {'$oid': '5e75dc6ebd417b6b2aec3594'},\n",
      "                                           'description': 'Crunchy Ice Berg '\n",
      "                                                          'Lettuce, Parmesan '\n",
      "                                                          'With the Classic '\n",
      "                                                          'Caesar Dressing',\n",
      "                                           'name': 'CAESAR SALAD (CHICKEN)',\n",
      "                                           'price': '230'}],\n",
      "                             'name': 'SALADS'}]},\n",
      "          {'_id': {'$oid': '5e75dc6ebd417b6b2aec35ad'},\n",
      "           'description': '',\n",
      "           'name': 'VEG STARTERS',\n",
      "           'sub_category': [{'_id': {'$oid': '5e75dc6ebd417b6b2aec35a7'},\n",
      "                             'description': '',\n",
      "                             'foodlist': [{'_id': {'$oid': '5e75dc6ebd417b6b2aec3597'},\n",
      "                                           'description': 'Shredded Cheese, '\n",
      "                                                          'Corn & Seasonings '\n",
      "                                                          'Wrapped In Wonton '\n",
      "                                                          'Sheet & Deep Fried',\n",
      "                                           'name': 'CHEESE & CORN TRIANGLE '\n",
      "                                                   '(new)',\n",
      "                                           'price': '220'},\n",
      "                                          {'_id': {'$oid': '5e75dc6ebd417b6b2aec3598'},\n",
      "                                           'description': 'Sauteed Button '\n",
      "                                                          'Mushroom Stuffed '\n",
      "                                                          'With Cheese & Herbs',\n",
      "                                           'name': 'CHAMPIGNONS FARCIS (new)',\n",
      "                                           'price': '230'},\n",
      "                                          {'_id': {'$oid': '5e75dc6ebd417b6b2aec3599'},\n",
      "                                           'description': 'Deep Fried Rolls '\n",
      "                                                          'With Cheese, Chill '\n",
      "                                                          '& Herbs',\n",
      "                                           'name': 'CHILLI CHEESE CIGARA (new)',\n",
      "                                           'price': '220'},\n",
      "                                          {'_id': {'$oid': '5e75dc6ebd417b6b2aec359a'},\n",
      "                                           'description': 'Combination Of '\n",
      "                                                          'Onion Rings, '\n",
      "                                                          'Jalapeno Cheese '\n",
      "                                                          'Balls, Greek Potato '\n",
      "                                                          'Wedges, Habanero '\n",
      "                                                          'Green Chili Fries',\n",
      "                                           'name': 'HOC CHIP & DIP BASKET',\n",
      "                                           'price': '390'},\n",
      "                                          {'_id': {'$oid': '5e75dc6ebd417b6b2aec359b'},\n",
      "                                           'description': 'French Fries Tossed '\n",
      "                                                          'With Hoc Signature '\n",
      "                                                          'Cajun Spice '\n",
      "                                                          'Seasoning',\n",
      "                                           'name': 'FRENCH FRIES',\n",
      "                                           'price': '190'},\n",
      "                                          {'_id': {'$oid': '5e75dc6ebd417b6b2aec359c'},\n",
      "                                           'description': 'Extra Crispy Onion '\n",
      "                                                          'Rings With A Spicy '\n",
      "                                                          'Salsa',\n",
      "                                           'name': 'ONION RINGS',\n",
      "                                           'price': '190'},\n",
      "                                          {'_id': {'$oid': '5e75dc6ebd417b6b2aec359d'},\n",
      "                                           'description': 'Cheesy French Fries '\n",
      "                                                          'Topped With '\n",
      "                                                          'Mushrooms And Herbs',\n",
      "                                           'name': 'MUSHROOM LOADED FRIES',\n",
      "                                           'price': '230'},\n",
      "                                          {'_id': {'$oid': '5e75dc6ebd417b6b2aec359e'},\n",
      "                                           'description': 'Garlic Butter '\n",
      "                                                          'Flavoured Bread '\n",
      "                                                          'Topped With Cheese',\n",
      "                                           'name': 'GARLIC BREAD',\n",
      "                                           'price': '190'},\n",
      "                                          {'_id': {'$oid': '5e75dc6ebd417b6b2aec359f'},\n",
      "                                           'description': 'American Com & '\n",
      "                                                          'Cottage Cheese '\n",
      "                                                          'Patty Served with '\n",
      "                                                          'Mint Chutney',\n",
      "                                           'name': 'CHEESE CORN TIKKI',\n",
      "                                           'price': '220'},\n",
      "                                          {'_id': {'$oid': '5e75dc6ebd417b6b2aec35a0'},\n",
      "                                           'description': 'Crispy Fried '\n",
      "                                                          'Mushrooms Tossed '\n",
      "                                                          'With Oriental '\n",
      "                                                          'Spices',\n",
      "                                           'name': 'CRISPY CHILLY MUSHROOM',\n",
      "                                           'price': '220'},\n",
      "                                          {'_id': {'$oid': '5e75dc6ebd417b6b2aec35a1'},\n",
      "                                           'description': 'Crispy Fried '\n",
      "                                                          'Babycom Tossed With '\n",
      "                                                          'Oriental Spices',\n",
      "                                           'name': 'CRISPY CHILLY BABY CORN',\n",
      "                                           'price': '190'},\n",
      "                                          {'_id': {'$oid': '5e75dc6ebd417b6b2aec35a2'},\n",
      "                                           'description': 'Fred Undi Lightly '\n",
      "                                                          'Crispy & Seasoned '\n",
      "                                                          'With Lime Juice, '\n",
      "                                                          'Salt, Chilli & '\n",
      "                                                          'Pepper',\n",
      "                                           'name': 'CRISPY CORN CHILLY PEPPER',\n",
      "                                           'price': '240'},\n",
      "                                          {'_id': {'$oid': '5e75dc6ebd417b6b2aec35a3'},\n",
      "                                           'description': 'Crispy Fried '\n",
      "                                                          'Potatoes Tossed '\n",
      "                                                          'With Chilli And '\n",
      "                                                          'Honey',\n",
      "                                           'name': 'HONEY CHILLY POTATO',\n",
      "                                           'price': '190'},\n",
      "                                          {'_id': {'$oid': '5e75dc6ebd417b6b2aec35a4'},\n",
      "                                           'description': 'Cottage Cheese '\n",
      "                                                          'Cubes Tossed In A '\n",
      "                                                          'Sweet & Spicy '\n",
      "                                                          'Sauce, Finished '\n",
      "                                                          'With Sesame Seeds',\n",
      "                                           'name': 'SESAME CHILLI PANEER',\n",
      "                                           'price': '270'},\n",
      "                                          {'_id': {'$oid': '5e75dc6ebd417b6b2aec35a5'},\n",
      "                                           'description': 'Tender Cottage '\n",
      "                                                          'Cheese Wrapped In '\n",
      "                                                          'Fragrant Pandan '\n",
      "                                                          'Leaves, With Chilli '\n",
      "                                                          'Coriander Sauce',\n",
      "                                           'name': 'PANDAN LEAF COTTAGE CHEESE',\n",
      "                                           'price': '280'},\n",
      "                                          {'_id': {'$oid': '5e75dc6ebd417b6b2aec35a6'},\n",
      "                                           'description': 'A Combination Of '\n",
      "                                                          'Hummus, Mutabal & '\n",
      "                                                          'Labneh, Served With '\n",
      "                                                          'Pita Bread',\n",
      "                                           'name': 'MEZZE BASKET',\n",
      "                                           'price': '340'}],\n",
      "                             'name': 'VEG STARTERS'},\n",
      "                            {'_id': {'$oid': '5e75dc6ebd417b6b2aec35ac'},\n",
      "                             'description': '',\n",
      "                             'foodlist': [{'_id': {'$oid': '5e75dc6ebd417b6b2aec35a8'},\n",
      "                                           'description': 'Mouth Melting '\n",
      "                                                          'Paneer Cubes '\n",
      "                                                          'Marinated With A '\n",
      "                                                          'Cheese Curd '\n",
      "                                                          'Mixture, Cream And '\n",
      "                                                          'Mild Spices',\n",
      "                                           'name': 'MAKHMALI PANEER TIKKA',\n",
      "                                           'price': '270'},\n",
      "                                          {'_id': {'$oid': '5e75dc6ebd417b6b2aec35a9'},\n",
      "                                           'description': 'Clay Oven Roasted '\n",
      "                                                          'Spicy Morsels Of '\n",
      "                                                          'Cottage Cheese',\n",
      "                                           'name': 'ANGARI PANEER TIKKA',\n",
      "                                           'price': '270'},\n",
      "                                          {'_id': {'$oid': '5e75dc6ebd417b6b2aec35aa'},\n",
      "                                           'description': 'Mushrooms Filled '\n",
      "                                                          'With A Blend Of '\n",
      "                                                          'Indian Spices And '\n",
      "                                                          'Tangy Stuffing Mix, '\n",
      "                                                          'Adding A Unique '\n",
      "                                                          'Taste On The Bite',\n",
      "                                           'name': 'TANDOORI STUFFED MUSHROOMS',\n",
      "                                           'price': '250'},\n",
      "                                          {'_id': {'$oid': '5e75dc6ebd417b6b2aec35ab'},\n",
      "                                           'description': 'Soft And Juicy '\n",
      "                                                          'Vegetable Momos '\n",
      "                                                          'Marinated With '\n",
      "                                                          'Tandoori Masala And '\n",
      "                                                          'Char Grilled',\n",
      "                                           'name': 'TANDOORI VEG MOMOS',\n",
      "                                           'price': '220'}],\n",
      "                             'name': 'FROM THE CLAY OVEN'}]},\n",
      "          {'_id': {'$oid': '5e75dc6ebd417b6b2aec35d5'},\n",
      "           'description': '',\n",
      "           'name': 'NON-VEG STARTERS',\n",
      "           'sub_category': [{'_id': {'$oid': '5e75dc6ebd417b6b2aec35b8'},\n",
      "                             'description': '',\n",
      "                             'foodlist': [{'_id': {'$oid': '5e75dc6ebd417b6b2aec35ae'},\n",
      "                                           'description': 'Cheesy French Fries '\n",
      "                                                          'Topped With Chicken '\n",
      "                                                          '& Herbs',\n",
      "                                           'name': 'CHICKEN LOADED FRIES',\n",
      "                                           'price': '260'},\n",
      "                                          {'_id': {'$oid': '5e75dc6ebd417b6b2aec35af'},\n",
      "                                           'description': 'Crispy Lolly pops '\n",
      "                                                          'Crunched To '\n",
      "                                                          'Perfection & Tossed '\n",
      "                                                          'in our Signature '\n",
      "                                                          'Shang Dong Drip',\n",
      "                                           'name': 'SHANG DONG CHICKEN LOLLY '\n",
      "                                                   'POP',\n",
      "                                           'price': '260'},\n",
      "                                          {'_id': {'$oid': '5e75dc6ebd417b6b2aec35b0'},\n",
      "                                           'description': 'Sweet Chilly / '\n",
      "                                                          'Spiced Szechuan',\n",
      "                                           'name': 'HOC SIGNATURE CHICKEN '\n",
      "                                                   'WINGS',\n",
      "                                           'price': '260'},\n",
      "                                          {'_id': {'$oid': '5e75dc6ebd417b6b2aec35b1'},\n",
      "                                           'description': 'Cubes Of Chicken '\n",
      "                                                          'Tossed With Garlic '\n",
      "                                                          'And Pepper In '\n",
      "                                                          'Oriental Style',\n",
      "                                           'name': 'PEPPER GARLIC CHICKEN',\n",
      "                                           'price': '260'},\n",
      "                                          {'_id': {'$oid': '5e75dc6ebd417b6b2aec35b2'},\n",
      "                                           'description': 'Chicken Cubes '\n",
      "                                                          'Tossed With Freshly '\n",
      "                                                          'Ground Red Spices '\n",
      "                                                          'And Finished In '\n",
      "                                                          'South Indian Style',\n",
      "                                           'name': 'GUNTUR JUNCTION CHICKEN',\n",
      "                                           'price': '270'},\n",
      "                                          {'_id': {'$oid': '5e75dc6ebd417b6b2aec35b3'},\n",
      "                                           'description': 'All Time Favourite '\n",
      "                                                          'Andhra Style '\n",
      "                                                          'Chicken Cooked With '\n",
      "                                                          'Coriander And Green '\n",
      "                                                          'Chilli Paste And '\n",
      "                                                          'Fresh Green '\n",
      "                                                          'Chillies',\n",
      "                                           'name': 'ANDHRA CHILLI CHICKEN '\n",
      "                                                   '*VERY HOT*',\n",
      "                                           'price': '270'},\n",
      "                                          {'_id': {'$oid': '5e75dc6ebd417b6b2aec35b4'},\n",
      "                                           'description': 'Slice Chicken Wok '\n",
      "                                                          'Tossed, Finished '\n",
      "                                                          'With Pepper Garlic '\n",
      "                                                          '& Lime',\n",
      "                                           'name': 'LEMON PEPPER CHICKEN',\n",
      "                                           'price': '260'},\n",
      "                                          {'_id': {'$oid': '5e75dc6ebd417b6b2aec35b5'},\n",
      "                                           'description': 'Chicken Tossed With '\n",
      "                                                          'Shredded Ginger And '\n",
      "                                                          'Chilli In Jiang '\n",
      "                                                          'Style',\n",
      "                                           'name': 'JIANG CHILLI CHICKEN',\n",
      "                                           'price': '260'},\n",
      "                                          {'_id': {'$oid': '5e75dc6ebd417b6b2aec35b6'},\n",
      "                                           'description': 'Chicken Roasted '\n",
      "                                                          'With A Fiery Red, '\n",
      "                                                          'Tangy And Spicy '\n",
      "                                                          'With The Flavour Of '\n",
      "                                                          'Ghee',\n",
      "                                           'name': 'CHICKEN GHEE ROAST',\n",
      "                                           'price': '280'},\n",
      "                                          {'_id': {'$oid': '5e75dc6ebd417b6b2aec35b7'},\n",
      "                                           'description': 'Classic Indian '\n",
      "                                                          'Style With Bone '\n",
      "                                                          'Deep fried Chicken '\n",
      "                                                          'Served With Mint '\n",
      "                                                          'Chutney',\n",
      "                                           'name': 'MASALA FRY CHICKEN (new)',\n",
      "                                           'price': '250'}],\n",
      "                             'name': 'CHICKEN STARTERS'},\n",
      "                            {'_id': {'$oid': '5e75dc6ebd417b6b2aec35c5'},\n",
      "                             'description': '',\n",
      "                             'foodlist': [{'_id': {'$oid': '5e75dc6ebd417b6b2aec35b9'},\n",
      "                                           'description': 'Succulent Pieces Of '\n",
      "                                                          'Chicken Zapped With '\n",
      "                                                          'Red Spices, '\n",
      "                                                          'Cinnamon Flavour & '\n",
      "                                                          'Finished In Tandoor',\n",
      "                                           'name': 'JAIPURI MURGH KA SOOLA',\n",
      "                                           'price': '270'},\n",
      "                                          {'_id': {'$oid': '5e75dc6ebd417b6b2aec35ba'},\n",
      "                                           'description': 'Chicken Marinated '\n",
      "                                                          'In Aromatic Indian '\n",
      "                                                          'Spices & Then '\n",
      "                                                          'Cooked In Tandoor',\n",
      "                                           'foodoptions': {'_id': {'$oid': '5e75dc6ebd417b6b2aec35d7'},\n",
      "                                                           'best_paired_with': [],\n",
      "                                                           'size_field': {'FULL': '480',\n",
      "                                                                          'HALF': '250'}},\n",
      "                                           'name': 'TANDOORI MURGH (HALF/FULL)',\n",
      "                                           'price': '480'},\n",
      "                                          {'_id': {'$oid': '5e75dc6ebd417b6b2aec35bb'},\n",
      "                                           'description': 'Indian Spices '\n",
      "                                                          'Marinated Whole '\n",
      "                                                          'Pomfret Skewered '\n",
      "                                                          'And Finished In '\n",
      "                                                          'Clay Oven',\n",
      "                                           'name': 'TANDOORI POMFRET',\n",
      "                                           'price': '590'},\n",
      "                                          {'_id': {'$oid': '5e75dc6ebd417b6b2aec35bc'},\n",
      "                                           'description': 'Fresh Cubes Of Basa '\n",
      "                                                          'Fish Marinated With '\n",
      "                                                          'Crushed Black '\n",
      "                                                          'Pepper & Indian '\n",
      "                                                          'Spices, Finished In '\n",
      "                                                          'Clay Oven',\n",
      "                                           'name': 'FISH TIKKA KALIMIRCH',\n",
      "                                           'price': '320'},\n",
      "                                          {'_id': {'$oid': '5e75dc6ebd417b6b2aec35bd'},\n",
      "                                           'description': 'Spicy Fish Tikka '\n",
      "                                                          'Marinated In '\n",
      "                                                          'Traditional Spices '\n",
      "                                                          'And Char Grilled',\n",
      "                                           'name': 'AMRITSAR FISH TIKKA',\n",
      "                                           'price': '320'},\n",
      "                                          {'_id': {'$oid': '5e75dc6ebd417b6b2aec35be'},\n",
      "                                           'description': 'Clay Oven Roasted '\n",
      "                                                          'Chicken Drumsticks',\n",
      "                                           'name': 'KALMI KEBAB (3pcs)',\n",
      "                                           'price': '260'},\n",
      "                                          {'_id': {'$oid': '5e75dc6ebd417b6b2aec35bf'},\n",
      "                                           'description': 'Clay Oven Roasted '\n",
      "                                                          'Spicy Morsels Of '\n",
      "                                                          'Chicken',\n",
      "                                           'name': 'ANGARI MURGH TIKKA',\n",
      "                                           'price': '260'},\n",
      "                                          {'_id': {'$oid': '5e75dc6ebd417b6b2aec35c0'},\n",
      "                                           'description': 'Chicken Lollipops '\n",
      "                                                          'Marinated With '\n",
      "                                                          'Aromatic Indian '\n",
      "                                                          'Spices And Cooked '\n",
      "                                                          'In The Tandoor',\n",
      "                                           'name': 'TANDOORI LOLLIPOPS',\n",
      "                                           'price': '270'},\n",
      "                                          {'_id': {'$oid': '5e75dc6ebd417b6b2aec35c1'},\n",
      "                                           'description': 'Clay Oven Roasted '\n",
      "                                                          'Creamy Chunks Of '\n",
      "                                                          'Chicken',\n",
      "                                           'name': 'MURGH MALAI TIKKA',\n",
      "                                           'price': '260'},\n",
      "                                          {'_id': {'$oid': '5e75dc6ebd417b6b2aec35c2'},\n",
      "                                           'description': 'Boneless Charcoal '\n",
      "                                                          'Smoked Chicken '\n",
      "                                                          'Tikka With Kasturi '\n",
      "                                                          'Methi Flavoured',\n",
      "                                           'name': 'MURGH KASTURI KEBAB',\n",
      "                                           'price': '260'},\n",
      "                                          {'_id': {'$oid': '5e75dc6ebd417b6b2aec35c3'},\n",
      "                                           'description': 'Soft And Juicy '\n",
      "                                                          'Chicken Momos '\n",
      "                                                          'Marinated With '\n",
      "                                                          'Tandoori Masala And '\n",
      "                                                          'Char Grilled',\n",
      "                                           'name': 'TANDOORI CHICKEN MOMOS',\n",
      "                                           'price': '260'},\n",
      "                                          {'_id': {'$oid': '5e75dc6ebd417b6b2aec35c4'},\n",
      "                                           'description': 'King Prawns '\n",
      "                                                          'Marinated With '\n",
      "                                                          'Yogurt, Lime Juice, '\n",
      "                                                          'Bhatti Spices And '\n",
      "                                                          'Slowly Cooked In '\n",
      "                                                          'Tandoor',\n",
      "                                           'name': 'TANDOORI KING PRAWNS',\n",
      "                                           'price': '499'}],\n",
      "                             'name': 'FROM THE CLAY OVEN'},\n",
      "                            {'_id': {'$oid': '5e75dc6ebd417b6b2aec35ca'},\n",
      "                             'description': '',\n",
      "                             'foodlist': [{'_id': {'$oid': '5e75dc6ebd417b6b2aec35c6'},\n",
      "                                           'description': 'Tender Mutton '\n",
      "                                                          'Pieces Tossed In '\n",
      "                                                          'South Indian Spices',\n",
      "                                           'name': 'ANDHRA LAMB PEPPER FRY',\n",
      "                                           'price': '350'},\n",
      "                                          {'_id': {'$oid': '5e75dc6ebd417b6b2aec35c7'},\n",
      "                                           'description': 'Mutton Roasted With '\n",
      "                                                          'A Fiery Red And '\n",
      "                                                          'Spicy With The '\n",
      "                                                          'Flavour Of Ghee',\n",
      "                                           'name': 'MUTTON GHEE ROAST',\n",
      "                                           'price': '370'},\n",
      "                                          {'_id': {'$oid': '5e75dc6ebd417b6b2aec35c8'},\n",
      "                                           'description': 'Succulent Minced '\n",
      "                                                          'Lamb Kebabs In The '\n",
      "                                                          'True Lahori Street '\n",
      "                                                          'Food Style',\n",
      "                                           'name': 'LAHORI SEEKH KEBAB',\n",
      "                                           'price': '370'},\n",
      "                                          {'_id': {'$oid': '5e75dc6ebd417b6b2aec35c9'},\n",
      "                                           'description': 'With Bone Mutton '\n",
      "                                                          'Cooked In Rich '\n",
      "                                                          'Indian Spices, As '\n",
      "                                                          'Served In The '\n",
      "                                                          'Railway Canteen Of '\n",
      "                                                          'The British Raj',\n",
      "                                           'name': 'RAILWAY MUTTON DRY',\n",
      "                                           'price': '350'}],\n",
      "                             'name': 'LAMB STARTERS'},\n",
      "                            {'_id': {'$oid': '5e75dc6ebd417b6b2aec35ce'},\n",
      "                             'description': '',\n",
      "                             'foodlist': [{'_id': {'$oid': '5e75dc6ebd417b6b2aec35cb'},\n",
      "                                           'description': 'Desi Style '\n",
      "                                                          'Scrambled Eggs',\n",
      "                                           'name': 'EGG BHURJI',\n",
      "                                           'price': '170'},\n",
      "                                          {'_id': {'$oid': '5e75dc6ebd417b6b2aec35cc'},\n",
      "                                           'description': 'Slow Cooked Egg '\n",
      "                                                          'Omlet With Masala',\n",
      "                                           'name': 'SPICY MASALA OMELETTE',\n",
      "                                           'price': '180'},\n",
      "                                          {'_id': {'$oid': '5e75dc6ebd417b6b2aec35cd'},\n",
      "                                           'description': 'Spicy Boiled Egg '\n",
      "                                                          'With Chilli Fry',\n",
      "                                           'name': 'EGG CHILLI',\n",
      "                                           'price': '210'}],\n",
      "                             'name': 'EGG STARTERS'},\n",
      "                            {'_id': {'$oid': '5e75dc6ebd417b6b2aec35d4'},\n",
      "                             'description': '',\n",
      "                             'foodlist': [{'_id': {'$oid': '5e75dc6ebd417b6b2aec35cf'},\n",
      "                                           'description': 'Peri Peri Basted '\n",
      "                                                          'Paneer / Chicken '\n",
      "                                                          'Cubes Served With '\n",
      "                                                          'Tzatziki Dip',\n",
      "                                           'name': 'PERI PERI PANEER',\n",
      "                                           'price': '260'},\n",
      "                                          {'_id': {'$oid': '5e75dc6ebd417b6b2aec35d0'},\n",
      "                                           'description': 'Peri Peri Basted '\n",
      "                                                          'Paneer / Chicken '\n",
      "                                                          'Cubes Served With '\n",
      "                                                          'Tzatziki Dip',\n",
      "                                           'name': 'PERI PERI CHICKEN',\n",
      "                                           'price': '280'},\n",
      "                                          {'_id': {'$oid': '5e75dc6ebd417b6b2aec35d1'},\n",
      "                                           'description': 'Delicately Grilled '\n",
      "                                                          'Fish With Basil '\n",
      "                                                          'Flavour And Served '\n",
      "                                                          'Hot',\n",
      "                                           'name': 'THAI GRILLED FISH IN '\n",
      "                                                   'BANANA LEAF',\n",
      "                                           'price': '330'},\n",
      "                                          {'_id': {'$oid': '5e75dc6ebd417b6b2aec35d2'},\n",
      "                                           'description': 'Fish Marinated In A '\n",
      "                                                          'Spicy Tunisian '\n",
      "                                                          'Harissa Sauce And '\n",
      "                                                          'Grilled To '\n",
      "                                                          'Perfection',\n",
      "                                           'name': 'HARISSA GRILLED FISH',\n",
      "                                           'price': '330'},\n",
      "                                          {'_id': {'$oid': '5e75dc6ebd417b6b2aec35d3'},\n",
      "                                           'description': 'Boneless Chicken '\n",
      "                                                          'Marinated With Thai '\n",
      "                                                          'Spices And Grilled',\n",
      "                                           'name': 'THAI GRILLED CHICKEN',\n",
      "                                           'price': '270'}],\n",
      "                             'name': 'FROM THE GRILL'}]}],\n",
      " 'name': 'House of Commons',\n",
      " 'restaurant_id': 'BNGHSR0001'}\n"
     ]
    }
   ],
   "source": [
    "pprint(json.loads(Restaurant.objects[0].to_json()))"
   ]
  },
  {
   "cell_type": "code",
   "execution_count": 111,
   "metadata": {
    "scrolled": false
   },
   "outputs": [
    {
     "data": {
      "text/plain": [
       "main_category                                     NON-VEG STARTERS\n",
       "sub_category                                    FROM THE CLAY OVEN\n",
       "name                                    TANDOORI MURGH (HALF/FULL)\n",
       "description      Chicken Marinated In Aromatic Indian Spices & ...\n",
       "price                                                          480\n",
       "Name: 45, dtype: object"
      ]
     },
     "execution_count": 111,
     "metadata": {},
     "output_type": "execute_result"
    }
   ],
   "source": [
    "str_menu.loc[45,:]"
   ]
  },
  {
   "cell_type": "code",
   "execution_count": 169,
   "metadata": {},
   "outputs": [],
   "source": [
    "classes_json=json.loads(Restaurant.objects[0].to_json())"
   ]
  },
  {
   "cell_type": "code",
   "execution_count": 170,
   "metadata": {},
   "outputs": [],
   "source": [
    "with open('json_with_class.json','w') as f:\n",
    "    f.write(str(classes_json))"
   ]
  },
  {
   "cell_type": "code",
   "execution_count": 140,
   "metadata": {},
   "outputs": [
    {
     "data": {
      "text/plain": [
       "{'HALF': '250', 'FULL': '480'}"
      ]
     },
     "execution_count": 140,
     "metadata": {},
     "output_type": "execute_result"
    }
   ],
   "source": [
    "FoodItem.objects.filter(name=\"TANDOORI MURGH (HALF/FULL)\")[0].foodoptions.size_field"
   ]
  },
  {
   "cell_type": "code",
   "execution_count": 137,
   "metadata": {
    "scrolled": true
   },
   "outputs": [
    {
     "data": {
      "text/plain": [
       "1"
      ]
     },
     "execution_count": 137,
     "metadata": {},
     "output_type": "execute_result"
    }
   ],
   "source": [
    "FoodItem.objects.filter(name=\"TANDOORI MURGH (HALF/FULL)\")[0].update(set__foodoptions=FoodOptions(size_field={'HALF':'250','FULL':'480'}).save())"
   ]
  },
  {
   "cell_type": "code",
   "execution_count": 168,
   "metadata": {
    "scrolled": false
   },
   "outputs": [
    {
     "data": {
      "text/plain": [
       "1"
      ]
     },
     "execution_count": 168,
     "metadata": {},
     "output_type": "execute_result"
    }
   ],
   "source": [
    "FoodItem.drop_collection()\n",
    "SubCategory.drop_collection()\n",
    "FoodOptions.drop_collection()\n",
    "MainCategory.drop_collection()\n",
    "Restaurant.drop_collection()\n",
    "\n",
    "\n",
    "main_cat_list = []\n",
    "for p,main_cat in enumerate(final_list_json):\n",
    "    sub_cat_list = []\n",
    "    for q,sub_cat in enumerate(main_cat['sub_category']):\n",
    "        food_list = []\n",
    "        for r,food in enumerate(sub_cat['foodlist']):\n",
    "            food_list.append(FoodItem(name=food['name'],description = food['description'],price=food['price']).save())\n",
    "        sub_cat_list.append(SubCategory(name=sub_cat['name'],description=sub_cat['description'],foodlist = food_list).save())\n",
    "    main_cat_list.append(MainCategory(name=main_cat['name'],description = main_cat['description'],sub_category = sub_cat_list).save())\n",
    "\n",
    "houseofcommons=Restaurant(name = 'House of Commons',restaurant_id='BNGHSR0001',menu = main_cat_list,address='')\n",
    "houseofcommons.save()\n",
    "\n",
    "FoodItem.objects.filter(name=\"TANDOORI MURGH (HALF/FULL)\")[0].update(set__foodoptions=FoodOptions(size_field={'HALF':'250','FULL':'480'}).save())"
   ]
  },
  {
   "cell_type": "markdown",
   "metadata": {
    "heading_collapsed": true
   },
   "source": [
    "# Pages"
   ]
  },
  {
   "cell_type": "code",
   "execution_count": 14,
   "metadata": {
    "hidden": true
   },
   "outputs": [],
   "source": [
    "pages={}"
   ]
  },
  {
   "cell_type": "code",
   "execution_count": 15,
   "metadata": {
    "hidden": true,
    "scrolled": true
   },
   "outputs": [],
   "source": [
    "pages[0]=\"\"\"$BAR BITES\n",
    "\n",
    "NACHOS (Veg/Chicken)\n",
    "\n",
    "Crispy Corn Tortillas Topped With Spicy Baked Bean Salsa and Sour Cream \n",
    "\n",
    "190/230\n",
    "\n",
    "CHEESE MASALA PAPAD\n",
    "\n",
    "Crispy fried Mini Papads Topped With A Tangy Masala Mixture And Grated Cheese\n",
    "\n",
    "160\n",
    "\n",
    "H.O.C SIGNATURE MASALA PEANUTS\n",
    "\n",
    "A Favorful Version Of Regular Peanuts Tossed In A Variety of Spices \n",
    "\n",
    "160\n",
    "\n",
    "SPICY TRICOLOUR CHAAT\n",
    "\n",
    "Fresh Peas, Corn Kernels & Black Gram Tossed With Chillies & Sirka onions\n",
    "\n",
    "180\n",
    "\n",
    "CHATPATA CHANA CHAAT\n",
    "\n",
    "A Delectable Blend Of Bengal Gram And A Tangy Mixture\n",
    "\n",
    "160\n",
    "\n",
    "TANDOORI CHICKEN CHAAT\n",
    "\n",
    "Clay Oven Roasted Chicken Blended With Classic Spices\n",
    "\n",
    "220\n",
    "\n",
    "CHEESE DYNABITES\n",
    "\n",
    "Classic Cheese Balls Served with New Orleans Dip\n",
    "\n",
    "220\n",
    "\n",
    "$SALADS\n",
    "\n",
    "GREEN SALAD\n",
    "\n",
    "Traditional Green Cuts With Mint Yoghurt Dip\n",
    "\n",
    "170\n",
    "\n",
    "HOC SALAD (Veg/Chicken)\n",
    "\n",
    "Melange Of Crunchy Lettuce, Bell Peppers And Olives With Our Homemade Dressing\n",
    "\n",
    "180/210\n",
    "\n",
    "WATERMELON & FETA\n",
    "\n",
    "An All Time Classic - With Balsamic Glaze\n",
    "\n",
    "210\n",
    "\n",
    "CAESAR SALAD (Veg/Chicken)\n",
    "\n",
    "Crunchy Ice Berg Lettuce, Parmesan With the Classic Caesar Dressing\n",
    "\n",
    "190/230\"\"\""
   ]
  },
  {
   "cell_type": "code",
   "execution_count": 16,
   "metadata": {
    "hidden": true
   },
   "outputs": [],
   "source": [
    "pages[1]=\"\"\"$VEG STARTERS\n",
    "\n",
    "CHEESE & CORN TRIANGLE (new)\n",
    "\n",
    "Shredded Cheese, Corn & Seasonings Wrapped In Wonton Sheet & Deep Fried\n",
    "\n",
    "220\n",
    "\n",
    "CHAMPIGNONS FARCIS (new)\n",
    "\n",
    "Sauteed Button Mushroom Stuffed With Cheese & Herbs\n",
    "\n",
    "230\n",
    "\n",
    "CHILLI CHEESE CIGARA (new)\n",
    "\n",
    "Deep Fried Rolls With Cheese, Chill & Herbs\n",
    "\n",
    "220\n",
    "\n",
    "HOC CHIP & DIP BASKET\n",
    "\n",
    "Combination Of Onion Rings, Jalapeno Cheese Balls, Greek Potato Wedges, Habanero Green Chili Fries\n",
    "\n",
    "390\n",
    "\n",
    "FRENCH FRIES\n",
    "\n",
    "French Fries Tossed With Hoc Signature Cajun Spice Seasoning\n",
    "\n",
    "190\n",
    "\n",
    "ONION RINGS\n",
    "\n",
    "Extra Crispy Onion Rings With A Spicy Salsa\n",
    "\n",
    "190\n",
    "\n",
    "MUSHROOM LOADED FRIES\n",
    "\n",
    "Cheesy French Fries Topped With Mushrooms And Herbs\n",
    "\n",
    "230\n",
    "\n",
    "GARLIC BREAD\n",
    "\n",
    "Garlic Butter Flavoured Bread Topped With Cheese\n",
    "\n",
    "190\n",
    "\n",
    "CHEESE CORN TIKKI\n",
    "\n",
    "American Com & Cottage Cheese Patty Served with Mint Chutney\n",
    "\n",
    "220\n",
    "\n",
    "CRISPY CHILLY MUSHROOM\n",
    "\n",
    "Crispy Fried Mushrooms Tossed With Oriental Spices\n",
    "\n",
    "220\n",
    "\n",
    "CRISPY CHILLY BABY CORN\n",
    "\n",
    "Crispy Fried Babycom Tossed With Oriental Spices\n",
    "\n",
    "190\n",
    "\n",
    "CRISPY CORN CHILLY PEPPER\n",
    "\n",
    "Fred Undi Lightly Crispy & Seasoned With Lime Juice, Salt, Chilli & Pepper\n",
    "\n",
    "240\n",
    "\n",
    "HONEY CHILLY POTATO\n",
    "\n",
    "Crispy Fried Potatoes Tossed With Chilli And Honey\n",
    "\n",
    "190\"\"\""
   ]
  },
  {
   "cell_type": "code",
   "execution_count": 17,
   "metadata": {
    "hidden": true
   },
   "outputs": [],
   "source": [
    "pages[2]=\"\"\"$VEG STARTERS\n",
    "\n",
    "SESAME CHILLI PANEER\n",
    "\n",
    "Cottage Cheese Cubes Tossed In A Sweet & Spicy Sauce, Finished With Sesame Seeds\n",
    "\n",
    "270\n",
    "\n",
    "PANDAN LEAF COTTAGE CHEESE\n",
    "\n",
    "Tender Cottage Cheese Wrapped In Fragrant Pandan Leaves, With Chilli Coriander Sauce\n",
    "\n",
    "280\n",
    "\n",
    "MEZZE BASKET\n",
    "\n",
    "A Combination Of Hummus, Mutabal & Labneh, Served With Pita Bread\n",
    "\n",
    "340\n",
    "\n",
    "$FROM THE CLAY OVEN\n",
    "\n",
    "MAKHMALI PANEER TIKKA\n",
    "\n",
    "Mouth Melting Paneer Cubes Marinated With A Cheese Curd Mixture, Cream And Mild Spices\n",
    "\n",
    "270\n",
    "\n",
    "ANGARI PANEER TIKKA\n",
    "\n",
    "Clay Oven Roasted Spicy Morsels Of Cottage Cheese\n",
    "\n",
    "270\n",
    "\n",
    "TANDOORI STUFFED MUSHROOMS\n",
    "\n",
    "Mushrooms Filled With A Blend Of Indian Spices And Tangy Stuffing Mix, Adding A Unique Taste On The Bite\n",
    "\n",
    "250\n",
    "\n",
    "TANDOORI VEG MOMOS\n",
    "\n",
    "Soft And Juicy Vegetable Momos Marinated With Tandoori Masala And Char Grilled\n",
    "\n",
    "220\n",
    "\n",
    "$CHICKEN STARTERS\n",
    "\n",
    "CHICKEN LOADED FRIES\n",
    "\n",
    "Cheesy French Fries Topped With Chicken & Herbs\n",
    "\n",
    "260\n",
    "\n",
    "SHANG DONG CHICKEN LOLLY POP\n",
    "\n",
    "Crispy Lolly pops Crunched To Perfection & Tossed in our Signature Shang Dong Drip\n",
    "\n",
    "260\"\"\""
   ]
  },
  {
   "cell_type": "code",
   "execution_count": 18,
   "metadata": {
    "hidden": true
   },
   "outputs": [],
   "source": [
    "pages[3]=\"\"\"$CHICKEN STARTERS\n",
    "\n",
    "HOC SIGNATURE CHICKEN WINGS\n",
    "\n",
    "Sweet Chilly / Spiced Szechuan\n",
    "\n",
    "260\n",
    "\n",
    "PEPPER GARLIC CHICKEN\n",
    "\n",
    "Cubes Of Chicken Tossed With Garlic And Pepper In Oriental Style\n",
    "\n",
    "260\n",
    "\n",
    "GUNTUR JUNCTION CHICKEN\n",
    "\n",
    "Chicken Cubes Tossed With Freshly Ground Red Spices And Finished In South Indian Style\n",
    "\n",
    "270\n",
    "\n",
    "ANDHRA CHILLI CHICKEN *VERY HOT*\n",
    "\n",
    "All Time Favourite Andhra Style Chicken Cooked With Coriander And Green Chilli Paste And Fresh Green Chillies\n",
    "\n",
    "270\n",
    "\n",
    "LEMON PEPPER CHICKEN\n",
    "\n",
    "Slice Chicken Wok Tossed, Finished With Pepper Garlic & Lime\n",
    "\n",
    "260\n",
    "\n",
    "JIANG CHILLI CHICKEN\n",
    "\n",
    "Chicken Tossed With Shredded Ginger And Chilli In Jiang Style\n",
    "\n",
    "260\n",
    "\n",
    "CHICKEN GHEE ROAST\n",
    "\n",
    "Chicken Roasted With A Fiery Red, Tangy And Spicy With The Flavour Of Ghee\n",
    "\n",
    "280\n",
    "\n",
    "MASALA FRY CHICKEN (new)\n",
    "\n",
    "Classic Indian Style With Bone Deep fried Chicken Served With Mint Chutney\n",
    "\n",
    "250\n",
    "\n",
    "$FROM THE CLAY OVEN\n",
    "\n",
    "JAIPURI MURGH KA SOOLA\n",
    "\n",
    "Succulent Pieces Of Chicken Zapped With Red Spices, Cinnamon Flavour & Finished In Tandoor\n",
    "\n",
    "270\n",
    "\n",
    "TANDOORI MURGH (HALF/FULL)\n",
    "\n",
    "Chicken Marinated In Aromatic Indian Spices & Then Cooked In Tandoor\n",
    "\n",
    "250/480\n",
    "\n",
    "TANDOORI POMFRET\n",
    "\n",
    "Indian Spices Marinated Whole Pomfret Skewered And Finished In Clay Oven\n",
    "\n",
    "590\"\"\""
   ]
  },
  {
   "cell_type": "code",
   "execution_count": 19,
   "metadata": {
    "hidden": true
   },
   "outputs": [],
   "source": [
    "pages[4]=\"\"\"$FROM THE CLAY OVEN\n",
    "\n",
    "FISH TIKKA KALIMIRCH\n",
    "\n",
    "Fresh Cubes Of Basa Fish Marinated With Crushed Black Pepper & Indian Spices, Finished In Clay Oven\n",
    "\n",
    "320\n",
    "\n",
    "AMRITSAR FISH TIKKA\n",
    "\n",
    "Spicy Fish Tikka Marinated In Traditional Spices And Char Grilled\n",
    "\n",
    "320\n",
    "\n",
    "KALMI KEBAB (3pcs)\n",
    "\n",
    "Clay Oven Roasted Chicken Drumsticks\n",
    "\n",
    "260\n",
    "\n",
    "ANGARI MURGH TIKKA\n",
    "\n",
    "Clay Oven Roasted Spicy Morsels Of Chicken\n",
    "\n",
    "260\n",
    "\n",
    "TANDOORI LOLLIPOPS\n",
    "\n",
    "Chicken Lollipops Marinated With Aromatic Indian Spices And Cooked In The Tandoor\n",
    "\n",
    "270\n",
    "\n",
    "MURGH MALAI TIKKA\n",
    "\n",
    "Clay Oven Roasted Creamy Chunks Of Chicken\n",
    "\n",
    "260\n",
    "\n",
    "MURGH KASTURI KEBAB\n",
    "\n",
    "Boneless Charcoal Smoked Chicken Tikka With Kasturi Methi Flavoured\n",
    "\n",
    "260\n",
    "\n",
    "TANDOORI CHICKEN MOMOS\n",
    "\n",
    "Soft And Juicy Chicken Momos Marinated With Tandoori Masala And Char Grilled\n",
    "\n",
    "260\n",
    "\n",
    "TANDOORI KING PRAWNS\n",
    "\n",
    "King Prawns Marinated With Yogurt, Lime Juice, Bhatti Spices And Slowly Cooked In Tandoor\n",
    "\n",
    "499\n",
    "\n",
    "$LAMB STARTERS\n",
    "\n",
    "ANDHRA LAMB PEPPER FRY\n",
    "\n",
    "Tender Mutton Pieces Tossed In South Indian Spices\n",
    "\n",
    "350\n",
    "\n",
    "MUTTON GHEE ROAST\n",
    "\n",
    "Mutton Roasted With A Fiery Red And Spicy With The Flavour Of Ghee\n",
    "\n",
    "370\"\"\""
   ]
  },
  {
   "cell_type": "code",
   "execution_count": 20,
   "metadata": {
    "hidden": true
   },
   "outputs": [],
   "source": [
    "pages[5]=\"\"\"$LAMB STARTERS\n",
    "\n",
    "LAHORI SEEKH KEBAB\n",
    "\n",
    "Succulent Minced Lamb Kebabs In The True Lahori Street Food Style\n",
    "\n",
    "370\n",
    "\n",
    "RAILWAY MUTTON DRY\n",
    "\n",
    "With Bone Mutton Cooked In Rich Indian Spices, As Served In The Railway Canteen Of The British Raj\n",
    "\n",
    "350\n",
    "\n",
    "$EGG STARTERS\n",
    "\n",
    "EGG BHURJI\n",
    "\n",
    "Desi Style Scrambled Eggs\n",
    "\n",
    "170\n",
    "\n",
    "SPICY MASALA OMELETTE\n",
    "\n",
    "Slow Cooked Egg Omlet With Masala\n",
    "\n",
    "180\n",
    "\n",
    "EGG CHILLI \n",
    "\n",
    "Spicy Boiled Egg With Chilli Fry\n",
    "\n",
    "210\n",
    "\n",
    "$FROM THE GRILL\n",
    "\n",
    "PERI PERI PANEER/CHICKEN\n",
    "\n",
    "Peri Peri Basted Paneer / Chicken Cubes Served With Tzatziki Dip\n",
    "\n",
    "260/280\n",
    "\n",
    "THAI GRILLED FISH IN BANANA LEAF\n",
    "\n",
    "Delicately Grilled Fish With Basil Flavour And Served Hot\n",
    "\n",
    "330\n",
    "\n",
    "HARISSA GRILLED FISH\n",
    "\n",
    "Fish Marinated In A Spicy Tunisian Harissa Sauce And Grilled To Perfection\n",
    "\n",
    "330\n",
    "\n",
    "THAI GRILLED CHICKEN\n",
    "\n",
    "Boneless Chicken Marinated With Thai Spices And Grilled\n",
    "\n",
    "270\"\"\""
   ]
  },
  {
   "cell_type": "markdown",
   "metadata": {
    "heading_collapsed": true
   },
   "source": [
    "# Consolidating"
   ]
  },
  {
   "cell_type": "markdown",
   "metadata": {
    "heading_collapsed": true,
    "hidden": true
   },
   "source": [
    "## Pages to DF"
   ]
  },
  {
   "cell_type": "code",
   "execution_count": 21,
   "metadata": {
    "hidden": true
   },
   "outputs": [],
   "source": [
    "half_the_menu=[]\n",
    "\n",
    "for i in range(6):\n",
    "    half_the_menu.append(pages[i])\n",
    "\n",
    "half_menu_text=\"\\n\\n\".join(half_the_menu)"
   ]
  },
  {
   "cell_type": "code",
   "execution_count": 22,
   "metadata": {
    "hidden": true
   },
   "outputs": [],
   "source": [
    "str_menu = pd.DataFrame(columns=['sub_category','name','description','price'])"
   ]
  },
  {
   "cell_type": "code",
   "execution_count": 23,
   "metadata": {
    "hidden": true
   },
   "outputs": [],
   "source": [
    "description=dish_name=price=subcat=''\n",
    "counter=0\n",
    "for line in half_menu_text.split(\"\\n\\n\"):\n",
    "    if(re.search(\"^[\\$]\",line)):\n",
    "        subcat = line[1:].strip()\n",
    "    else:\n",
    "        if(counter%3==0):\n",
    "            dish_name = line.strip()\n",
    "        elif(counter%3==1):\n",
    "            description = line.strip()\n",
    "        elif(counter%3==2):\n",
    "            price = line.strip()\n",
    "            str_menu.loc[str_menu.shape[0]]=[subcat,dish_name,description,price]\n",
    "        counter+=1"
   ]
  },
  {
   "cell_type": "markdown",
   "metadata": {
    "heading_collapsed": true,
    "hidden": true
   },
   "source": [
    "## creating main categories"
   ]
  },
  {
   "cell_type": "code",
   "execution_count": 24,
   "metadata": {
    "hidden": true
   },
   "outputs": [],
   "source": [
    "main_category={\"BAR BITES\":\"BAR BITES\",\"SALADS\":\"SALADS\",\"VEG STARTERS\":\"VEG STARTERS\",\"CHICKEN STARTERS\":\"NON-VEG STARTERS\",\"LAMB STARTERS\":\"NON-VEG STARTERS\",\"EGG STARTERS\":\"NON-VEG STARTERS\",\"FROM THE GRILL\":\"NON-VEG STARTERS\",\"FROM THE CLAY OVEN\":\"CHANGE\"}"
   ]
  },
  {
   "cell_type": "code",
   "execution_count": 25,
   "metadata": {
    "hidden": true
   },
   "outputs": [],
   "source": [
    "str_menu.loc[:,\"main_category\"]=str_menu['sub_category'].apply(lambda x: main_category[x])"
   ]
  },
  {
   "cell_type": "code",
   "execution_count": 26,
   "metadata": {
    "hidden": true
   },
   "outputs": [],
   "source": [
    "str_menu.loc[27,\"main_category\"]=\"VEG STARTERS\"\n",
    "\n",
    "str_menu.loc[28,\"main_category\"]=\"VEG STARTERS\"\n",
    "\n",
    "str_menu.loc[29,\"main_category\"]=\"VEG STARTERS\"\n",
    "\n",
    "str_menu.loc[30,\"main_category\"]=\"VEG STARTERS\""
   ]
  },
  {
   "cell_type": "code",
   "execution_count": 27,
   "metadata": {
    "hidden": true
   },
   "outputs": [],
   "source": [
    "str_menu.loc[str_menu['main_category']=='CHANGE',\"main_category\"]=\"NON-VEG STARTERS\""
   ]
  },
  {
   "cell_type": "code",
   "execution_count": 28,
   "metadata": {
    "hidden": true,
    "scrolled": true
   },
   "outputs": [
    {
     "data": {
      "text/plain": [
       "Index(['sub_category', 'name', 'description', 'price', 'main_category'], dtype='object')"
      ]
     },
     "execution_count": 28,
     "metadata": {},
     "output_type": "execute_result"
    }
   ],
   "source": [
    "str_menu.columns"
   ]
  },
  {
   "cell_type": "code",
   "execution_count": 30,
   "metadata": {
    "hidden": true
   },
   "outputs": [],
   "source": [
    "str_menu=str_menu[['main_category','sub_category', 'name', 'description', 'price']]"
   ]
  },
  {
   "cell_type": "markdown",
   "metadata": {
    "heading_collapsed": true,
    "hidden": true
   },
   "source": [
    "## Taking care of multiple prices"
   ]
  },
  {
   "cell_type": "code",
   "execution_count": 44,
   "metadata": {
    "hidden": true
   },
   "outputs": [],
   "source": [
    "lengths = str_menu['price'].str.split('/').map(len)"
   ]
  },
  {
   "cell_type": "code",
   "execution_count": 59,
   "metadata": {
    "hidden": true
   },
   "outputs": [],
   "source": [
    "str_menu = pd.DataFrame({'main_category': np.repeat(str_menu['main_category'], lengths),\n",
    "                    'sub_category': np.repeat(str_menu['sub_category'], lengths),\n",
    "                    'name': np.repeat(str_menu['name'],lengths),\n",
    "                    'description': np.repeat(str_menu['description'],lengths),\n",
    "                    'price': chainer(str_menu['price'])})"
   ]
  },
  {
   "cell_type": "code",
   "execution_count": 81,
   "metadata": {
    "hidden": true,
    "scrolled": false
   },
   "outputs": [],
   "source": [
    "str_menu.reset_index(inplace=True,drop=True)"
   ]
  },
  {
   "cell_type": "code",
   "execution_count": 165,
   "metadata": {
    "hidden": true
   },
   "outputs": [],
   "source": [
    "str_menu.loc[45,'price']=\"250\""
   ]
  },
  {
   "cell_type": "code",
   "execution_count": 83,
   "metadata": {
    "hidden": true
   },
   "outputs": [],
   "source": [
    "pickle.dump(str_menu,open('half_menu_main.pkl','wb'))"
   ]
  },
  {
   "cell_type": "code",
   "execution_count": 32,
   "metadata": {
    "hidden": true
   },
   "outputs": [],
   "source": [
    "str_menu=pickle.load(open('half_menu_main.pkl','rb'))"
   ]
  },
  {
   "cell_type": "markdown",
   "metadata": {
    "heading_collapsed": true,
    "hidden": true
   },
   "source": [
    "## COnverting into json"
   ]
  },
  {
   "cell_type": "code",
   "execution_count": 33,
   "metadata": {
    "hidden": true
   },
   "outputs": [],
   "source": [
    "final_list_json=[]"
   ]
  },
  {
   "cell_type": "code",
   "execution_count": 35,
   "metadata": {
    "hidden": true
   },
   "outputs": [],
   "source": [
    "\n",
    "for n,main_cat_name in enumerate(str_menu.loc[:,'main_category'].unique()):\n",
    "    final_list_json.append({})\n",
    "    final_list_json[n]['name']=main_cat_name\n",
    "    final_list_json[n]['description'] = ''\n",
    "    final_list_json[n]['sub_category'] = []\n",
    "    for p,sub_cat_name in enumerate(str_menu[str_menu['main_category'].loc[:'sub_category']==main_cat_name].loc[:,'sub_category'].unique()):\n",
    "        final_list_json[n]['sub_category'].append({})\n",
    "        final_list_json[n]['sub_category'][p]['name']=sub_cat_name\n",
    "        final_list_json[n]['sub_category'][p]['description']=''\n",
    "        final_list_json[n]['sub_category'][p]['priority']=''\n",
    "        final_list_json[n]['sub_category'][p]['foodlist']=[]\n",
    "        for q,food_dict in enumerate(str_menu[str_menu['main_category'].loc[:'sub_category']==main_cat_name][str_menu[str_menu['main_category'].loc[:'sub_category']==main_cat_name].loc[:,'sub_category']==sub_cat_name].iterrows()):\n",
    "            final_list_json[n]['sub_category'][p]['foodlist'].append({})\n",
    "            final_list_json[n]['sub_category'][p]['foodlist'][q]['name']= food_dict[1]['name']\n",
    "            final_list_json[n]['sub_category'][p]['foodlist'][q]['description']=food_dict[1]['description']\n",
    "            final_list_json[n]['sub_category'][p]['foodlist'][q]['price']=food_dict[1]['price']\n",
    "        \n",
    "        "
   ]
  },
  {
   "cell_type": "code",
   "execution_count": 4,
   "metadata": {
    "hidden": true
   },
   "outputs": [],
   "source": [
    "str_menu=pickle.load(open('half_menu_main.pkl','rb'))"
   ]
  },
  {
   "cell_type": "code",
   "execution_count": 9,
   "metadata": {
    "hidden": true
   },
   "outputs": [],
   "source": [
    "from pprint import pprint"
   ]
  },
  {
   "cell_type": "code",
   "execution_count": 1,
   "metadata": {
    "hidden": true,
    "scrolled": true
   },
   "outputs": [
    {
     "ename": "NameError",
     "evalue": "name 'Restaurant' is not defined",
     "output_type": "error",
     "traceback": [
      "\u001b[0;31m---------------------------------------------------------------------------\u001b[0m",
      "\u001b[0;31mNameError\u001b[0m                                 Traceback (most recent call last)",
      "\u001b[0;32m<ipython-input-1-49ae841a5331>\u001b[0m in \u001b[0;36m<module>\u001b[0;34m\u001b[0m\n\u001b[0;32m----> 1\u001b[0;31m \u001b[0mjson\u001b[0m\u001b[0;34m.\u001b[0m\u001b[0mload\u001b[0m\u001b[0;34m(\u001b[0m\u001b[0mRestaurant\u001b[0m\u001b[0;34m.\u001b[0m\u001b[0mobjects\u001b[0m\u001b[0;34m[\u001b[0m\u001b[0;36m0\u001b[0m\u001b[0;34m]\u001b[0m\u001b[0;34m.\u001b[0m\u001b[0mto_json\u001b[0m\u001b[0;34m(\u001b[0m\u001b[0;34m)\u001b[0m\u001b[0;34m)\u001b[0m\u001b[0;34m\u001b[0m\u001b[0;34m\u001b[0m\u001b[0m\n\u001b[0m",
      "\u001b[0;31mNameError\u001b[0m: name 'Restaurant' is not defined"
     ]
    }
   ],
   "source": [
    "json.load(Restaurant.objects[0].to_json())"
   ]
  },
  {
   "cell_type": "markdown",
   "metadata": {
    "heading_collapsed": true
   },
   "source": [
    "# js.data"
   ]
  },
  {
   "cell_type": "code",
   "execution_count": 17,
   "metadata": {
    "hidden": true
   },
   "outputs": [],
   "source": [
    "pickle.dump(final_json,open('jason.pkl','wb'))"
   ]
  },
  {
   "cell_type": "code",
   "execution_count": 11,
   "metadata": {
    "hidden": true
   },
   "outputs": [],
   "source": [
    "pickle.dump(final_list_json,open('jason.pkl','wb'))"
   ]
  }
 ],
 "metadata": {
  "kernelspec": {
   "display_name": "Python 3",
   "language": "python",
   "name": "python3"
  },
  "language_info": {
   "codemirror_mode": {
    "name": "ipython",
    "version": 3
   },
   "file_extension": ".py",
   "mimetype": "text/x-python",
   "name": "python",
   "nbconvert_exporter": "python",
   "pygments_lexer": "ipython3",
   "version": "3.7.4"
  }
 },
 "nbformat": 4,
 "nbformat_minor": 4
}
