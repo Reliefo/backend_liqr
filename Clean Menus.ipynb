{
 "cells": [
  {
   "cell_type": "code",
   "execution_count": 1,
   "metadata": {},
   "outputs": [],
   "source": [
    "pages=[]"
   ]
  },
  {
   "cell_type": "code",
   "execution_count": 6,
   "metadata": {
    "scrolled": true
   },
   "outputs": [],
   "source": [
    "pages[0]=\"\"\"$BAR BITES\n",
    "\n",
    "NACHOS (Veg/Chicken)\n",
    "\n",
    "Crispy Corn Tortillas Topped With Spicy Baked Bean Salsa and Sour Cream \n",
    "\n",
    "190/230\n",
    "\n",
    "CHEESE MASALA PAPAD\n",
    "\n",
    "Crispy fried Mini Papads Topped With A Tangy Masala Mixture And Grated Cheese\n",
    "\n",
    "160\n",
    "\n",
    "H.O.C SIGNATURE MASALA PEANUTS\n",
    "\n",
    "A Favorful Version Of Regular Peanuts Tossed In A Variety of Spices \n",
    "\n",
    "160\n",
    "\n",
    "SPICY TRICOLOUR CHAAT\n",
    "\n",
    "Fresh Peas, Corn Kernels & Black Gram Tossed With Chillies & Sirka onions\n",
    "\n",
    "180\n",
    "\n",
    "CHATPATA CHANA CHAAT\n",
    "\n",
    "A Delectable Blend Of Bengal Gram And A Tangy Mixture\n",
    "\n",
    "160\n",
    "\n",
    "TANDOORI CHICKEN CHAAT\n",
    "\n",
    "Clay Oven Roasted Chicken Blended With Classic Spices\n",
    "\n",
    "220\n",
    "\n",
    "CHEESE DYNABITES\n",
    "\n",
    "Classic Cheese Balls Served with New Orleans Dip\n",
    "\n",
    "220\n",
    "\n",
    "$SALADS\n",
    "\n",
    "GREEN SALAD\n",
    "\n",
    "Traditional Green Cuts With Mint Yoghurt Dip\n",
    "\n",
    "170\n",
    "\n",
    "HOC SALAD (Veg/Chicken)\n",
    "\n",
    "Melange Of Crunchy Lettuce, Bell Peppers And Olives With Our Homemade Dressing\n",
    "\n",
    "180/210\n",
    "\n",
    "WATERMELON & FETA\n",
    "\n",
    "An All Time Classic - With Balsamic Glaze\n",
    "\n",
    "210\n",
    "\n",
    "CAESAR SALAD (Veg/Chicken)\n",
    "\n",
    "Crunchy Ice Berg Lettuce, Parmesan With the Classic Caesar Dressing\n",
    "\n",
    "190/230\"\"\""
   ]
  },
  {
   "cell_type": "code",
   "execution_count": 9,
   "metadata": {
    "collapsed": true
   },
   "outputs": [
    {
     "name": "stdout",
     "output_type": "stream",
     "text": [
      "$BAR BITES\n",
      "NACHOS (Veg/Chicken)\n",
      "Crispy Corn Tortillas Topped With Spicy Baked Bean Salsa and Sour Cream \n",
      "190/230\n",
      "CHEESE MASALA PAPAD\n",
      "Crispy fried Mini Papads Topped With A Tangy Masala Mixture And Grated Cheese\n",
      "160\n",
      "H.O.C SIGNATURE MASALA PEANUTS\n",
      "A Favorful Version Of Regular Peanuts Tossed In A Variety of Spices \n",
      "160\n",
      "SPICY TRICOLOUR CHAAT\n",
      "Fresh Peas, Corn Kernels & Black Gram Tossed With Chillies & Sirka onions\n",
      "180\n",
      "CHATPATA CHANA CHAAT\n",
      "A Delectable Blend Of Bengal Gram And A Tangy Mixture\n",
      "160\n",
      "TANDOORI CHICKEN CHAAT\n",
      "Clay Oven Roasted Chicken Blended With Classic Spices\n",
      "220\n",
      "CHEESE DYNABITES\n",
      "Classic Cheese Balls Served with New Orleans Dip\n",
      "220\n",
      "$SALADS\n",
      "GREEN SALAD\n",
      "Traditional Green Cuts With Mint Yoghurt Dip\n",
      "170\n",
      "HOC SALAD (Veg/Chicken)\n",
      "Melange Of Crunchy Lettuce, Bell Peppers And Olives With Our Homemade Dressing\n",
      "180/210\n",
      "WATERMELON & FETA\n",
      "An All Time Classic - With Balsamic Glaze\n",
      "210\n",
      "CAESAR SALAD (Veg/Chicken)\n",
      "Crunchy Ice Berg Lettuce, Parmesan With the Classic Caesar Dressing\n",
      "190/230\n"
     ]
    }
   ],
   "source": [
    "for line in pages[0].split('\\n\\n'):\n",
    "    print(line)"
   ]
  },
  {
   "cell_type": "code",
   "execution_count": 10,
   "metadata": {
    "collapsed": true
   },
   "outputs": [
    {
     "ename": "ModuleNotFoundError",
     "evalue": "No module named 'pandas'",
     "output_type": "error",
     "traceback": [
      "\u001b[0;31m---------------------------------------------------------------------------\u001b[0m",
      "\u001b[0;31mModuleNotFoundError\u001b[0m                       Traceback (most recent call last)",
      "\u001b[0;32m<ipython-input-10-7dd3504c366f>\u001b[0m in \u001b[0;36m<module>\u001b[0;34m\u001b[0m\n\u001b[0;32m----> 1\u001b[0;31m \u001b[0;32mimport\u001b[0m \u001b[0mpandas\u001b[0m \u001b[0;32mas\u001b[0m \u001b[0mpd\u001b[0m\u001b[0;34m\u001b[0m\u001b[0;34m\u001b[0m\u001b[0m\n\u001b[0m",
      "\u001b[0;31mModuleNotFoundError\u001b[0m: No module named 'pandas'"
     ]
    }
   ],
   "source": [
    "import pandas as pd"
   ]
  },
  {
   "cell_type": "code",
   "execution_count": null,
   "metadata": {},
   "outputs": [],
   "source": []
  }
 ],
 "metadata": {
  "kernelspec": {
   "display_name": "Python 3",
   "language": "python",
   "name": "python3"
  },
  "language_info": {
   "codemirror_mode": {
    "name": "ipython",
    "version": 3
   },
   "file_extension": ".py",
   "mimetype": "text/x-python",
   "name": "python",
   "nbconvert_exporter": "python",
   "pygments_lexer": "ipython3",
   "version": "3.7.4"
  }
 },
 "nbformat": 4,
 "nbformat_minor": 4
}
